{
 "cells": [
  {
   "cell_type": "markdown",
   "metadata": {},
   "source": [
    "# Analysis using R in jupyter notebook"
   ]
  },
  {
   "cell_type": "markdown",
   "metadata": {},
   "source": [
    "#Packages required"
   ]
  },
  {
   "cell_type": "code",
   "execution_count": 4,
   "metadata": {},
   "outputs": [],
   "source": [
    "library(dplyr)\n",
    "library(ggplot2)\n",
    "library(rpart)\n",
    "library(rpart.plot)\n",
    "library(pROC)\n",
    "library(lattice)\n",
    "library(rattle)\n",
    "library(ROCR)\n",
    "library(klaR)\n",
    "library(caret)\n",
    "library(pastecs)\n",
    "library(Boruta)\n",
    "library(Hmisc)\n",
    "options(warn=-1)\n"
   ]
  },
  {
   "cell_type": "markdown",
   "metadata": {},
   "source": [
    "#Reading Data file"
   ]
  },
  {
   "cell_type": "code",
   "execution_count": 5,
   "metadata": {},
   "outputs": [
    {
     "data": {
      "text/html": [
       "<ol class=list-inline>\n",
       "\t<li>'V1'</li>\n",
       "\t<li>'V2'</li>\n",
       "\t<li>'V3'</li>\n",
       "\t<li>'V4'</li>\n",
       "\t<li>'V5'</li>\n",
       "\t<li>'V6'</li>\n",
       "\t<li>'V7'</li>\n",
       "\t<li>'V8'</li>\n",
       "\t<li>'V9'</li>\n",
       "\t<li>'V10'</li>\n",
       "\t<li>'V11'</li>\n",
       "\t<li>'V12'</li>\n",
       "\t<li>'V13'</li>\n",
       "\t<li>'V14'</li>\n",
       "\t<li>'V15'</li>\n",
       "\t<li>'V16'</li>\n",
       "\t<li>'V17'</li>\n",
       "\t<li>'V18'</li>\n",
       "\t<li>'V19'</li>\n",
       "\t<li>'V20'</li>\n",
       "\t<li>'V21'</li>\n",
       "\t<li>'V22'</li>\n",
       "\t<li>'V23'</li>\n",
       "\t<li>'V24'</li>\n",
       "\t<li>'V25'</li>\n",
       "\t<li>'V26'</li>\n",
       "\t<li>'V27'</li>\n",
       "\t<li>'V28'</li>\n",
       "\t<li>'V29'</li>\n",
       "\t<li>'V30'</li>\n",
       "\t<li>'V31'</li>\n",
       "\t<li>'V32'</li>\n",
       "</ol>\n"
      ],
      "text/latex": [
       "\\begin{enumerate*}\n",
       "\\item 'V1'\n",
       "\\item 'V2'\n",
       "\\item 'V3'\n",
       "\\item 'V4'\n",
       "\\item 'V5'\n",
       "\\item 'V6'\n",
       "\\item 'V7'\n",
       "\\item 'V8'\n",
       "\\item 'V9'\n",
       "\\item 'V10'\n",
       "\\item 'V11'\n",
       "\\item 'V12'\n",
       "\\item 'V13'\n",
       "\\item 'V14'\n",
       "\\item 'V15'\n",
       "\\item 'V16'\n",
       "\\item 'V17'\n",
       "\\item 'V18'\n",
       "\\item 'V19'\n",
       "\\item 'V20'\n",
       "\\item 'V21'\n",
       "\\item 'V22'\n",
       "\\item 'V23'\n",
       "\\item 'V24'\n",
       "\\item 'V25'\n",
       "\\item 'V26'\n",
       "\\item 'V27'\n",
       "\\item 'V28'\n",
       "\\item 'V29'\n",
       "\\item 'V30'\n",
       "\\item 'V31'\n",
       "\\item 'V32'\n",
       "\\end{enumerate*}\n"
      ],
      "text/markdown": [
       "1. 'V1'\n",
       "2. 'V2'\n",
       "3. 'V3'\n",
       "4. 'V4'\n",
       "5. 'V5'\n",
       "6. 'V6'\n",
       "7. 'V7'\n",
       "8. 'V8'\n",
       "9. 'V9'\n",
       "10. 'V10'\n",
       "11. 'V11'\n",
       "12. 'V12'\n",
       "13. 'V13'\n",
       "14. 'V14'\n",
       "15. 'V15'\n",
       "16. 'V16'\n",
       "17. 'V17'\n",
       "18. 'V18'\n",
       "19. 'V19'\n",
       "20. 'V20'\n",
       "21. 'V21'\n",
       "22. 'V22'\n",
       "23. 'V23'\n",
       "24. 'V24'\n",
       "25. 'V25'\n",
       "26. 'V26'\n",
       "27. 'V27'\n",
       "28. 'V28'\n",
       "29. 'V29'\n",
       "30. 'V30'\n",
       "31. 'V31'\n",
       "32. 'V32'\n",
       "\n",
       "\n"
      ],
      "text/plain": [
       " [1] \"V1\"  \"V2\"  \"V3\"  \"V4\"  \"V5\"  \"V6\"  \"V7\"  \"V8\"  \"V9\"  \"V10\" \"V11\" \"V12\"\n",
       "[13] \"V13\" \"V14\" \"V15\" \"V16\" \"V17\" \"V18\" \"V19\" \"V20\" \"V21\" \"V22\" \"V23\" \"V24\"\n",
       "[25] \"V25\" \"V26\" \"V27\" \"V28\" \"V29\" \"V30\" \"V31\" \"V32\""
      ]
     },
     "metadata": {},
     "output_type": "display_data"
    }
   ],
   "source": [
    "wdbc<-read.csv(file=\"wdbc.csv\", header = F,sep=\",\")\n",
    "names(wdbc)\n"
   ]
  },
  {
   "cell_type": "markdown",
   "metadata": {},
   "source": [
    "#The columns were named with the information provided in wdbc.names file"
   ]
  },
  {
   "cell_type": "code",
   "execution_count": 6,
   "metadata": {},
   "outputs": [],
   "source": [
    "features <- c(\"radius_\", \"texture_\", \"perimeter_\", \"area_\", \"smoothness_\", \"compactness_\", \"concavity_\", \"concave_points_\", \"symmetry_\", \"fractal_dimension_\")\n",
    "names(wdbc) <- c(\"ID\", \"Diagnosis\", paste0(features,\"mean\"), paste0(features,\"se\"), paste0(features,\"worst\"))\n",
    "\n"
   ]
  },
  {
   "cell_type": "markdown",
   "metadata": {},
   "source": [
    "#Understanding the data"
   ]
  },
  {
   "cell_type": "code",
   "execution_count": 7,
   "metadata": {},
   "outputs": [
    {
     "data": {
      "text/html": [
       "<ol class=list-inline>\n",
       "\t<li>'area_mean'</li>\n",
       "\t<li>'area_se'</li>\n",
       "\t<li>'area_worst'</li>\n",
       "\t<li>'compactness_mean'</li>\n",
       "\t<li>'compactness_se'</li>\n",
       "\t<li>'compactness_worst'</li>\n",
       "\t<li>'concave_points_mean'</li>\n",
       "\t<li>'concave_points_se'</li>\n",
       "\t<li>'concave_points_worst'</li>\n",
       "\t<li>'concavity_mean'</li>\n",
       "\t<li>'concavity_se'</li>\n",
       "\t<li>'concavity_worst'</li>\n",
       "\t<li>'Diagnosis'</li>\n",
       "\t<li>'fractal_dimension_mean'</li>\n",
       "\t<li>'fractal_dimension_se'</li>\n",
       "\t<li>'fractal_dimension_worst'</li>\n",
       "\t<li>'ID'</li>\n",
       "\t<li>'perimeter_mean'</li>\n",
       "\t<li>'perimeter_se'</li>\n",
       "\t<li>'perimeter_worst'</li>\n",
       "\t<li>'radius_mean'</li>\n",
       "\t<li>'radius_se'</li>\n",
       "\t<li>'radius_worst'</li>\n",
       "\t<li>'smoothness_mean'</li>\n",
       "\t<li>'smoothness_se'</li>\n",
       "\t<li>'smoothness_worst'</li>\n",
       "\t<li>'symmetry_mean'</li>\n",
       "\t<li>'symmetry_se'</li>\n",
       "\t<li>'symmetry_worst'</li>\n",
       "\t<li>'texture_mean'</li>\n",
       "\t<li>'texture_se'</li>\n",
       "\t<li>'texture_worst'</li>\n",
       "</ol>\n"
      ],
      "text/latex": [
       "\\begin{enumerate*}\n",
       "\\item 'area\\_mean'\n",
       "\\item 'area\\_se'\n",
       "\\item 'area\\_worst'\n",
       "\\item 'compactness\\_mean'\n",
       "\\item 'compactness\\_se'\n",
       "\\item 'compactness\\_worst'\n",
       "\\item 'concave\\_points\\_mean'\n",
       "\\item 'concave\\_points\\_se'\n",
       "\\item 'concave\\_points\\_worst'\n",
       "\\item 'concavity\\_mean'\n",
       "\\item 'concavity\\_se'\n",
       "\\item 'concavity\\_worst'\n",
       "\\item 'Diagnosis'\n",
       "\\item 'fractal\\_dimension\\_mean'\n",
       "\\item 'fractal\\_dimension\\_se'\n",
       "\\item 'fractal\\_dimension\\_worst'\n",
       "\\item 'ID'\n",
       "\\item 'perimeter\\_mean'\n",
       "\\item 'perimeter\\_se'\n",
       "\\item 'perimeter\\_worst'\n",
       "\\item 'radius\\_mean'\n",
       "\\item 'radius\\_se'\n",
       "\\item 'radius\\_worst'\n",
       "\\item 'smoothness\\_mean'\n",
       "\\item 'smoothness\\_se'\n",
       "\\item 'smoothness\\_worst'\n",
       "\\item 'symmetry\\_mean'\n",
       "\\item 'symmetry\\_se'\n",
       "\\item 'symmetry\\_worst'\n",
       "\\item 'texture\\_mean'\n",
       "\\item 'texture\\_se'\n",
       "\\item 'texture\\_worst'\n",
       "\\end{enumerate*}\n"
      ],
      "text/markdown": [
       "1. 'area_mean'\n",
       "2. 'area_se'\n",
       "3. 'area_worst'\n",
       "4. 'compactness_mean'\n",
       "5. 'compactness_se'\n",
       "6. 'compactness_worst'\n",
       "7. 'concave_points_mean'\n",
       "8. 'concave_points_se'\n",
       "9. 'concave_points_worst'\n",
       "10. 'concavity_mean'\n",
       "11. 'concavity_se'\n",
       "12. 'concavity_worst'\n",
       "13. 'Diagnosis'\n",
       "14. 'fractal_dimension_mean'\n",
       "15. 'fractal_dimension_se'\n",
       "16. 'fractal_dimension_worst'\n",
       "17. 'ID'\n",
       "18. 'perimeter_mean'\n",
       "19. 'perimeter_se'\n",
       "20. 'perimeter_worst'\n",
       "21. 'radius_mean'\n",
       "22. 'radius_se'\n",
       "23. 'radius_worst'\n",
       "24. 'smoothness_mean'\n",
       "25. 'smoothness_se'\n",
       "26. 'smoothness_worst'\n",
       "27. 'symmetry_mean'\n",
       "28. 'symmetry_se'\n",
       "29. 'symmetry_worst'\n",
       "30. 'texture_mean'\n",
       "31. 'texture_se'\n",
       "32. 'texture_worst'\n",
       "\n",
       "\n"
      ],
      "text/plain": [
       " [1] \"area_mean\"               \"area_se\"                \n",
       " [3] \"area_worst\"              \"compactness_mean\"       \n",
       " [5] \"compactness_se\"          \"compactness_worst\"      \n",
       " [7] \"concave_points_mean\"     \"concave_points_se\"      \n",
       " [9] \"concave_points_worst\"    \"concavity_mean\"         \n",
       "[11] \"concavity_se\"            \"concavity_worst\"        \n",
       "[13] \"Diagnosis\"               \"fractal_dimension_mean\" \n",
       "[15] \"fractal_dimension_se\"    \"fractal_dimension_worst\"\n",
       "[17] \"ID\"                      \"perimeter_mean\"         \n",
       "[19] \"perimeter_se\"            \"perimeter_worst\"        \n",
       "[21] \"radius_mean\"             \"radius_se\"              \n",
       "[23] \"radius_worst\"            \"smoothness_mean\"        \n",
       "[25] \"smoothness_se\"           \"smoothness_worst\"       \n",
       "[27] \"symmetry_mean\"           \"symmetry_se\"            \n",
       "[29] \"symmetry_worst\"          \"texture_mean\"           \n",
       "[31] \"texture_se\"              \"texture_worst\"          "
      ]
     },
     "metadata": {},
     "output_type": "display_data"
    },
    {
     "data": {
      "text/html": [
       "<table>\n",
       "<thead><tr><th scope=col>ID</th><th scope=col>Diagnosis</th><th scope=col>radius_mean</th><th scope=col>texture_mean</th><th scope=col>perimeter_mean</th><th scope=col>area_mean</th><th scope=col>smoothness_mean</th><th scope=col>compactness_mean</th><th scope=col>concavity_mean</th><th scope=col>concave_points_mean</th><th scope=col>...</th><th scope=col>radius_worst</th><th scope=col>texture_worst</th><th scope=col>perimeter_worst</th><th scope=col>area_worst</th><th scope=col>smoothness_worst</th><th scope=col>compactness_worst</th><th scope=col>concavity_worst</th><th scope=col>concave_points_worst</th><th scope=col>symmetry_worst</th><th scope=col>fractal_dimension_worst</th></tr></thead>\n",
       "<tbody>\n",
       "\t<tr><td>  842302</td><td>M       </td><td>17.99   </td><td>10.38   </td><td>122.80  </td><td>1001.0  </td><td>0.11840 </td><td>0.27760 </td><td>0.3001  </td><td>0.14710 </td><td>...     </td><td>25.38   </td><td>17.33   </td><td>184.60  </td><td>2019.0  </td><td>0.1622  </td><td>0.6656  </td><td>0.7119  </td><td>0.2654  </td><td>0.4601  </td><td>0.11890 </td></tr>\n",
       "\t<tr><td>  842517</td><td>M       </td><td>20.57   </td><td>17.77   </td><td>132.90  </td><td>1326.0  </td><td>0.08474 </td><td>0.07864 </td><td>0.0869  </td><td>0.07017 </td><td>...     </td><td>24.99   </td><td>23.41   </td><td>158.80  </td><td>1956.0  </td><td>0.1238  </td><td>0.1866  </td><td>0.2416  </td><td>0.1860  </td><td>0.2750  </td><td>0.08902 </td></tr>\n",
       "\t<tr><td>84300903</td><td>M       </td><td>19.69   </td><td>21.25   </td><td>130.00  </td><td>1203.0  </td><td>0.10960 </td><td>0.15990 </td><td>0.1974  </td><td>0.12790 </td><td>...     </td><td>23.57   </td><td>25.53   </td><td>152.50  </td><td>1709.0  </td><td>0.1444  </td><td>0.4245  </td><td>0.4504  </td><td>0.2430  </td><td>0.3613  </td><td>0.08758 </td></tr>\n",
       "\t<tr><td>84348301</td><td>M       </td><td>11.42   </td><td>20.38   </td><td> 77.58  </td><td> 386.1  </td><td>0.14250 </td><td>0.28390 </td><td>0.2414  </td><td>0.10520 </td><td>...     </td><td>14.91   </td><td>26.50   </td><td> 98.87  </td><td> 567.7  </td><td>0.2098  </td><td>0.8663  </td><td>0.6869  </td><td>0.2575  </td><td>0.6638  </td><td>0.17300 </td></tr>\n",
       "\t<tr><td>84358402</td><td>M       </td><td>20.29   </td><td>14.34   </td><td>135.10  </td><td>1297.0  </td><td>0.10030 </td><td>0.13280 </td><td>0.1980  </td><td>0.10430 </td><td>...     </td><td>22.54   </td><td>16.67   </td><td>152.20  </td><td>1575.0  </td><td>0.1374  </td><td>0.2050  </td><td>0.4000  </td><td>0.1625  </td><td>0.2364  </td><td>0.07678 </td></tr>\n",
       "\t<tr><td>  843786</td><td>M       </td><td>12.45   </td><td>15.70   </td><td> 82.57  </td><td> 477.1  </td><td>0.12780 </td><td>0.17000 </td><td>0.1578  </td><td>0.08089 </td><td>...     </td><td>15.47   </td><td>23.75   </td><td>103.40  </td><td> 741.6  </td><td>0.1791  </td><td>0.5249  </td><td>0.5355  </td><td>0.1741  </td><td>0.3985  </td><td>0.12440 </td></tr>\n",
       "</tbody>\n",
       "</table>\n"
      ],
      "text/latex": [
       "\\begin{tabular}{r|llllllllllllllllllllllllllllllll}\n",
       " ID & Diagnosis & radius\\_mean & texture\\_mean & perimeter\\_mean & area\\_mean & smoothness\\_mean & compactness\\_mean & concavity\\_mean & concave\\_points\\_mean & ... & radius\\_worst & texture\\_worst & perimeter\\_worst & area\\_worst & smoothness\\_worst & compactness\\_worst & concavity\\_worst & concave\\_points\\_worst & symmetry\\_worst & fractal\\_dimension\\_worst\\\\\n",
       "\\hline\n",
       "\t   842302 & M        & 17.99    & 10.38    & 122.80   & 1001.0   & 0.11840  & 0.27760  & 0.3001   & 0.14710  & ...      & 25.38    & 17.33    & 184.60   & 2019.0   & 0.1622   & 0.6656   & 0.7119   & 0.2654   & 0.4601   & 0.11890 \\\\\n",
       "\t   842517 & M        & 20.57    & 17.77    & 132.90   & 1326.0   & 0.08474  & 0.07864  & 0.0869   & 0.07017  & ...      & 24.99    & 23.41    & 158.80   & 1956.0   & 0.1238   & 0.1866   & 0.2416   & 0.1860   & 0.2750   & 0.08902 \\\\\n",
       "\t 84300903 & M        & 19.69    & 21.25    & 130.00   & 1203.0   & 0.10960  & 0.15990  & 0.1974   & 0.12790  & ...      & 23.57    & 25.53    & 152.50   & 1709.0   & 0.1444   & 0.4245   & 0.4504   & 0.2430   & 0.3613   & 0.08758 \\\\\n",
       "\t 84348301 & M        & 11.42    & 20.38    &  77.58   &  386.1   & 0.14250  & 0.28390  & 0.2414   & 0.10520  & ...      & 14.91    & 26.50    &  98.87   &  567.7   & 0.2098   & 0.8663   & 0.6869   & 0.2575   & 0.6638   & 0.17300 \\\\\n",
       "\t 84358402 & M        & 20.29    & 14.34    & 135.10   & 1297.0   & 0.10030  & 0.13280  & 0.1980   & 0.10430  & ...      & 22.54    & 16.67    & 152.20   & 1575.0   & 0.1374   & 0.2050   & 0.4000   & 0.1625   & 0.2364   & 0.07678 \\\\\n",
       "\t   843786 & M        & 12.45    & 15.70    &  82.57   &  477.1   & 0.12780  & 0.17000  & 0.1578   & 0.08089  & ...      & 15.47    & 23.75    & 103.40   &  741.6   & 0.1791   & 0.5249   & 0.5355   & 0.1741   & 0.3985   & 0.12440 \\\\\n",
       "\\end{tabular}\n"
      ],
      "text/markdown": [
       "\n",
       "ID | Diagnosis | radius_mean | texture_mean | perimeter_mean | area_mean | smoothness_mean | compactness_mean | concavity_mean | concave_points_mean | ... | radius_worst | texture_worst | perimeter_worst | area_worst | smoothness_worst | compactness_worst | concavity_worst | concave_points_worst | symmetry_worst | fractal_dimension_worst | \n",
       "|---|---|---|---|---|---|\n",
       "|   842302 | M        | 17.99    | 10.38    | 122.80   | 1001.0   | 0.11840  | 0.27760  | 0.3001   | 0.14710  | ...      | 25.38    | 17.33    | 184.60   | 2019.0   | 0.1622   | 0.6656   | 0.7119   | 0.2654   | 0.4601   | 0.11890  | \n",
       "|   842517 | M        | 20.57    | 17.77    | 132.90   | 1326.0   | 0.08474  | 0.07864  | 0.0869   | 0.07017  | ...      | 24.99    | 23.41    | 158.80   | 1956.0   | 0.1238   | 0.1866   | 0.2416   | 0.1860   | 0.2750   | 0.08902  | \n",
       "| 84300903 | M        | 19.69    | 21.25    | 130.00   | 1203.0   | 0.10960  | 0.15990  | 0.1974   | 0.12790  | ...      | 23.57    | 25.53    | 152.50   | 1709.0   | 0.1444   | 0.4245   | 0.4504   | 0.2430   | 0.3613   | 0.08758  | \n",
       "| 84348301 | M        | 11.42    | 20.38    |  77.58   |  386.1   | 0.14250  | 0.28390  | 0.2414   | 0.10520  | ...      | 14.91    | 26.50    |  98.87   |  567.7   | 0.2098   | 0.8663   | 0.6869   | 0.2575   | 0.6638   | 0.17300  | \n",
       "| 84358402 | M        | 20.29    | 14.34    | 135.10   | 1297.0   | 0.10030  | 0.13280  | 0.1980   | 0.10430  | ...      | 22.54    | 16.67    | 152.20   | 1575.0   | 0.1374   | 0.2050   | 0.4000   | 0.1625   | 0.2364   | 0.07678  | \n",
       "|   843786 | M        | 12.45    | 15.70    |  82.57   |  477.1   | 0.12780  | 0.17000  | 0.1578   | 0.08089  | ...      | 15.47    | 23.75    | 103.40   |  741.6   | 0.1791   | 0.5249   | 0.5355   | 0.1741   | 0.3985   | 0.12440  | \n",
       "\n",
       "\n"
      ],
      "text/plain": [
       "  ID       Diagnosis radius_mean texture_mean perimeter_mean area_mean\n",
       "1   842302 M         17.99       10.38        122.80         1001.0   \n",
       "2   842517 M         20.57       17.77        132.90         1326.0   \n",
       "3 84300903 M         19.69       21.25        130.00         1203.0   \n",
       "4 84348301 M         11.42       20.38         77.58          386.1   \n",
       "5 84358402 M         20.29       14.34        135.10         1297.0   \n",
       "6   843786 M         12.45       15.70         82.57          477.1   \n",
       "  smoothness_mean compactness_mean concavity_mean concave_points_mean ...\n",
       "1 0.11840         0.27760          0.3001         0.14710             ...\n",
       "2 0.08474         0.07864          0.0869         0.07017             ...\n",
       "3 0.10960         0.15990          0.1974         0.12790             ...\n",
       "4 0.14250         0.28390          0.2414         0.10520             ...\n",
       "5 0.10030         0.13280          0.1980         0.10430             ...\n",
       "6 0.12780         0.17000          0.1578         0.08089             ...\n",
       "  radius_worst texture_worst perimeter_worst area_worst smoothness_worst\n",
       "1 25.38        17.33         184.60          2019.0     0.1622          \n",
       "2 24.99        23.41         158.80          1956.0     0.1238          \n",
       "3 23.57        25.53         152.50          1709.0     0.1444          \n",
       "4 14.91        26.50          98.87           567.7     0.2098          \n",
       "5 22.54        16.67         152.20          1575.0     0.1374          \n",
       "6 15.47        23.75         103.40           741.6     0.1791          \n",
       "  compactness_worst concavity_worst concave_points_worst symmetry_worst\n",
       "1 0.6656            0.7119          0.2654               0.4601        \n",
       "2 0.1866            0.2416          0.1860               0.2750        \n",
       "3 0.4245            0.4504          0.2430               0.3613        \n",
       "4 0.8663            0.6869          0.2575               0.6638        \n",
       "5 0.2050            0.4000          0.1625               0.2364        \n",
       "6 0.5249            0.5355          0.1741               0.3985        \n",
       "  fractal_dimension_worst\n",
       "1 0.11890                \n",
       "2 0.08902                \n",
       "3 0.08758                \n",
       "4 0.17300                \n",
       "5 0.07678                \n",
       "6 0.12440                "
      ]
     },
     "metadata": {},
     "output_type": "display_data"
    },
    {
     "data": {
      "text/html": [
       "<table>\n",
       "<thead><tr><th></th><th scope=col>ID</th><th scope=col>Diagnosis</th><th scope=col>radius_mean</th><th scope=col>texture_mean</th><th scope=col>perimeter_mean</th><th scope=col>area_mean</th><th scope=col>smoothness_mean</th><th scope=col>compactness_mean</th><th scope=col>concavity_mean</th><th scope=col>concave_points_mean</th><th scope=col>...</th><th scope=col>radius_worst</th><th scope=col>texture_worst</th><th scope=col>perimeter_worst</th><th scope=col>area_worst</th><th scope=col>smoothness_worst</th><th scope=col>compactness_worst</th><th scope=col>concavity_worst</th><th scope=col>concave_points_worst</th><th scope=col>symmetry_worst</th><th scope=col>fractal_dimension_worst</th></tr></thead>\n",
       "<tbody>\n",
       "\t<tr><th scope=row>564</th><td>926125 </td><td>M      </td><td>20.92  </td><td>25.09  </td><td>143.00 </td><td>1347.0 </td><td>0.10990</td><td>0.22360</td><td>0.31740</td><td>0.14740</td><td>...    </td><td>24.290 </td><td>29.41  </td><td>179.10 </td><td>1819.0 </td><td>0.14070</td><td>0.41860</td><td>0.6599 </td><td>0.2542 </td><td>0.2929 </td><td>0.09873</td></tr>\n",
       "\t<tr><th scope=row>565</th><td>926424 </td><td>M      </td><td>21.56  </td><td>22.39  </td><td>142.00 </td><td>1479.0 </td><td>0.11100</td><td>0.11590</td><td>0.24390</td><td>0.13890</td><td>...    </td><td>25.450 </td><td>26.40  </td><td>166.10 </td><td>2027.0 </td><td>0.14100</td><td>0.21130</td><td>0.4107 </td><td>0.2216 </td><td>0.2060 </td><td>0.07115</td></tr>\n",
       "\t<tr><th scope=row>566</th><td>926682 </td><td>M      </td><td>20.13  </td><td>28.25  </td><td>131.20 </td><td>1261.0 </td><td>0.09780</td><td>0.10340</td><td>0.14400</td><td>0.09791</td><td>...    </td><td>23.690 </td><td>38.25  </td><td>155.00 </td><td>1731.0 </td><td>0.11660</td><td>0.19220</td><td>0.3215 </td><td>0.1628 </td><td>0.2572 </td><td>0.06637</td></tr>\n",
       "\t<tr><th scope=row>567</th><td>926954 </td><td>M      </td><td>16.60  </td><td>28.08  </td><td>108.30 </td><td> 858.1 </td><td>0.08455</td><td>0.10230</td><td>0.09251</td><td>0.05302</td><td>...    </td><td>18.980 </td><td>34.12  </td><td>126.70 </td><td>1124.0 </td><td>0.11390</td><td>0.30940</td><td>0.3403 </td><td>0.1418 </td><td>0.2218 </td><td>0.07820</td></tr>\n",
       "\t<tr><th scope=row>568</th><td>927241 </td><td>M      </td><td>20.60  </td><td>29.33  </td><td>140.10 </td><td>1265.0 </td><td>0.11780</td><td>0.27700</td><td>0.35140</td><td>0.15200</td><td>...    </td><td>25.740 </td><td>39.42  </td><td>184.60 </td><td>1821.0 </td><td>0.16500</td><td>0.86810</td><td>0.9387 </td><td>0.2650 </td><td>0.4087 </td><td>0.12400</td></tr>\n",
       "\t<tr><th scope=row>569</th><td> 92751 </td><td>B      </td><td> 7.76  </td><td>24.54  </td><td> 47.92 </td><td> 181.0 </td><td>0.05263</td><td>0.04362</td><td>0.00000</td><td>0.00000</td><td>...    </td><td> 9.456 </td><td>30.37  </td><td> 59.16 </td><td> 268.6 </td><td>0.08996</td><td>0.06444</td><td>0.0000 </td><td>0.0000 </td><td>0.2871 </td><td>0.07039</td></tr>\n",
       "</tbody>\n",
       "</table>\n"
      ],
      "text/latex": [
       "\\begin{tabular}{r|llllllllllllllllllllllllllllllll}\n",
       "  & ID & Diagnosis & radius\\_mean & texture\\_mean & perimeter\\_mean & area\\_mean & smoothness\\_mean & compactness\\_mean & concavity\\_mean & concave\\_points\\_mean & ... & radius\\_worst & texture\\_worst & perimeter\\_worst & area\\_worst & smoothness\\_worst & compactness\\_worst & concavity\\_worst & concave\\_points\\_worst & symmetry\\_worst & fractal\\_dimension\\_worst\\\\\n",
       "\\hline\n",
       "\t564 & 926125  & M       & 20.92   & 25.09   & 143.00  & 1347.0  & 0.10990 & 0.22360 & 0.31740 & 0.14740 & ...     & 24.290  & 29.41   & 179.10  & 1819.0  & 0.14070 & 0.41860 & 0.6599  & 0.2542  & 0.2929  & 0.09873\\\\\n",
       "\t565 & 926424  & M       & 21.56   & 22.39   & 142.00  & 1479.0  & 0.11100 & 0.11590 & 0.24390 & 0.13890 & ...     & 25.450  & 26.40   & 166.10  & 2027.0  & 0.14100 & 0.21130 & 0.4107  & 0.2216  & 0.2060  & 0.07115\\\\\n",
       "\t566 & 926682  & M       & 20.13   & 28.25   & 131.20  & 1261.0  & 0.09780 & 0.10340 & 0.14400 & 0.09791 & ...     & 23.690  & 38.25   & 155.00  & 1731.0  & 0.11660 & 0.19220 & 0.3215  & 0.1628  & 0.2572  & 0.06637\\\\\n",
       "\t567 & 926954  & M       & 16.60   & 28.08   & 108.30  &  858.1  & 0.08455 & 0.10230 & 0.09251 & 0.05302 & ...     & 18.980  & 34.12   & 126.70  & 1124.0  & 0.11390 & 0.30940 & 0.3403  & 0.1418  & 0.2218  & 0.07820\\\\\n",
       "\t568 & 927241  & M       & 20.60   & 29.33   & 140.10  & 1265.0  & 0.11780 & 0.27700 & 0.35140 & 0.15200 & ...     & 25.740  & 39.42   & 184.60  & 1821.0  & 0.16500 & 0.86810 & 0.9387  & 0.2650  & 0.4087  & 0.12400\\\\\n",
       "\t569 &  92751  & B       &  7.76   & 24.54   &  47.92  &  181.0  & 0.05263 & 0.04362 & 0.00000 & 0.00000 & ...     &  9.456  & 30.37   &  59.16  &  268.6  & 0.08996 & 0.06444 & 0.0000  & 0.0000  & 0.2871  & 0.07039\\\\\n",
       "\\end{tabular}\n"
      ],
      "text/markdown": [
       "\n",
       "| <!--/--> | ID | Diagnosis | radius_mean | texture_mean | perimeter_mean | area_mean | smoothness_mean | compactness_mean | concavity_mean | concave_points_mean | ... | radius_worst | texture_worst | perimeter_worst | area_worst | smoothness_worst | compactness_worst | concavity_worst | concave_points_worst | symmetry_worst | fractal_dimension_worst | \n",
       "|---|---|---|---|---|---|\n",
       "| 564 | 926125  | M       | 20.92   | 25.09   | 143.00  | 1347.0  | 0.10990 | 0.22360 | 0.31740 | 0.14740 | ...     | 24.290  | 29.41   | 179.10  | 1819.0  | 0.14070 | 0.41860 | 0.6599  | 0.2542  | 0.2929  | 0.09873 | \n",
       "| 565 | 926424  | M       | 21.56   | 22.39   | 142.00  | 1479.0  | 0.11100 | 0.11590 | 0.24390 | 0.13890 | ...     | 25.450  | 26.40   | 166.10  | 2027.0  | 0.14100 | 0.21130 | 0.4107  | 0.2216  | 0.2060  | 0.07115 | \n",
       "| 566 | 926682  | M       | 20.13   | 28.25   | 131.20  | 1261.0  | 0.09780 | 0.10340 | 0.14400 | 0.09791 | ...     | 23.690  | 38.25   | 155.00  | 1731.0  | 0.11660 | 0.19220 | 0.3215  | 0.1628  | 0.2572  | 0.06637 | \n",
       "| 567 | 926954  | M       | 16.60   | 28.08   | 108.30  |  858.1  | 0.08455 | 0.10230 | 0.09251 | 0.05302 | ...     | 18.980  | 34.12   | 126.70  | 1124.0  | 0.11390 | 0.30940 | 0.3403  | 0.1418  | 0.2218  | 0.07820 | \n",
       "| 568 | 927241  | M       | 20.60   | 29.33   | 140.10  | 1265.0  | 0.11780 | 0.27700 | 0.35140 | 0.15200 | ...     | 25.740  | 39.42   | 184.60  | 1821.0  | 0.16500 | 0.86810 | 0.9387  | 0.2650  | 0.4087  | 0.12400 | \n",
       "| 569 |  92751  | B       |  7.76   | 24.54   |  47.92  |  181.0  | 0.05263 | 0.04362 | 0.00000 | 0.00000 | ...     |  9.456  | 30.37   |  59.16  |  268.6  | 0.08996 | 0.06444 | 0.0000  | 0.0000  | 0.2871  | 0.07039 | \n",
       "\n",
       "\n"
      ],
      "text/plain": [
       "    ID     Diagnosis radius_mean texture_mean perimeter_mean area_mean\n",
       "564 926125 M         20.92       25.09        143.00         1347.0   \n",
       "565 926424 M         21.56       22.39        142.00         1479.0   \n",
       "566 926682 M         20.13       28.25        131.20         1261.0   \n",
       "567 926954 M         16.60       28.08        108.30          858.1   \n",
       "568 927241 M         20.60       29.33        140.10         1265.0   \n",
       "569  92751 B          7.76       24.54         47.92          181.0   \n",
       "    smoothness_mean compactness_mean concavity_mean concave_points_mean ...\n",
       "564 0.10990         0.22360          0.31740        0.14740             ...\n",
       "565 0.11100         0.11590          0.24390        0.13890             ...\n",
       "566 0.09780         0.10340          0.14400        0.09791             ...\n",
       "567 0.08455         0.10230          0.09251        0.05302             ...\n",
       "568 0.11780         0.27700          0.35140        0.15200             ...\n",
       "569 0.05263         0.04362          0.00000        0.00000             ...\n",
       "    radius_worst texture_worst perimeter_worst area_worst smoothness_worst\n",
       "564 24.290       29.41         179.10          1819.0     0.14070         \n",
       "565 25.450       26.40         166.10          2027.0     0.14100         \n",
       "566 23.690       38.25         155.00          1731.0     0.11660         \n",
       "567 18.980       34.12         126.70          1124.0     0.11390         \n",
       "568 25.740       39.42         184.60          1821.0     0.16500         \n",
       "569  9.456       30.37          59.16           268.6     0.08996         \n",
       "    compactness_worst concavity_worst concave_points_worst symmetry_worst\n",
       "564 0.41860           0.6599          0.2542               0.2929        \n",
       "565 0.21130           0.4107          0.2216               0.2060        \n",
       "566 0.19220           0.3215          0.1628               0.2572        \n",
       "567 0.30940           0.3403          0.1418               0.2218        \n",
       "568 0.86810           0.9387          0.2650               0.4087        \n",
       "569 0.06444           0.0000          0.0000               0.2871        \n",
       "    fractal_dimension_worst\n",
       "564 0.09873                \n",
       "565 0.07115                \n",
       "566 0.06637                \n",
       "567 0.07820                \n",
       "568 0.12400                \n",
       "569 0.07039                "
      ]
     },
     "metadata": {},
     "output_type": "display_data"
    },
    {
     "name": "stdout",
     "output_type": "stream",
     "text": [
      "'data.frame':\t569 obs. of  32 variables:\n",
      " $ ID                     : int  842302 842517 84300903 84348301 84358402 843786 844359 84458202 844981 84501001 ...\n",
      " $ Diagnosis              : Factor w/ 2 levels \"B\",\"M\": 2 2 2 2 2 2 2 2 2 2 ...\n",
      " $ radius_mean            : num  18 20.6 19.7 11.4 20.3 ...\n",
      " $ texture_mean           : num  10.4 17.8 21.2 20.4 14.3 ...\n",
      " $ perimeter_mean         : num  122.8 132.9 130 77.6 135.1 ...\n",
      " $ area_mean              : num  1001 1326 1203 386 1297 ...\n",
      " $ smoothness_mean        : num  0.1184 0.0847 0.1096 0.1425 0.1003 ...\n",
      " $ compactness_mean       : num  0.2776 0.0786 0.1599 0.2839 0.1328 ...\n",
      " $ concavity_mean         : num  0.3001 0.0869 0.1974 0.2414 0.198 ...\n",
      " $ concave_points_mean    : num  0.1471 0.0702 0.1279 0.1052 0.1043 ...\n",
      " $ symmetry_mean          : num  0.242 0.181 0.207 0.26 0.181 ...\n",
      " $ fractal_dimension_mean : num  0.0787 0.0567 0.06 0.0974 0.0588 ...\n",
      " $ radius_se              : num  1.095 0.543 0.746 0.496 0.757 ...\n",
      " $ texture_se             : num  0.905 0.734 0.787 1.156 0.781 ...\n",
      " $ perimeter_se           : num  8.59 3.4 4.58 3.44 5.44 ...\n",
      " $ area_se                : num  153.4 74.1 94 27.2 94.4 ...\n",
      " $ smoothness_se          : num  0.0064 0.00522 0.00615 0.00911 0.01149 ...\n",
      " $ compactness_se         : num  0.049 0.0131 0.0401 0.0746 0.0246 ...\n",
      " $ concavity_se           : num  0.0537 0.0186 0.0383 0.0566 0.0569 ...\n",
      " $ concave_points_se      : num  0.0159 0.0134 0.0206 0.0187 0.0188 ...\n",
      " $ symmetry_se            : num  0.03 0.0139 0.0225 0.0596 0.0176 ...\n",
      " $ fractal_dimension_se   : num  0.00619 0.00353 0.00457 0.00921 0.00511 ...\n",
      " $ radius_worst           : num  25.4 25 23.6 14.9 22.5 ...\n",
      " $ texture_worst          : num  17.3 23.4 25.5 26.5 16.7 ...\n",
      " $ perimeter_worst        : num  184.6 158.8 152.5 98.9 152.2 ...\n",
      " $ area_worst             : num  2019 1956 1709 568 1575 ...\n",
      " $ smoothness_worst       : num  0.162 0.124 0.144 0.21 0.137 ...\n",
      " $ compactness_worst      : num  0.666 0.187 0.424 0.866 0.205 ...\n",
      " $ concavity_worst        : num  0.712 0.242 0.45 0.687 0.4 ...\n",
      " $ concave_points_worst   : num  0.265 0.186 0.243 0.258 0.163 ...\n",
      " $ symmetry_worst         : num  0.46 0.275 0.361 0.664 0.236 ...\n",
      " $ fractal_dimension_worst: num  0.1189 0.089 0.0876 0.173 0.0768 ...\n"
     ]
    },
    {
     "data": {
      "text/html": [
       "<ol class=list-inline>\n",
       "\t<li>569</li>\n",
       "\t<li>32</li>\n",
       "</ol>\n"
      ],
      "text/latex": [
       "\\begin{enumerate*}\n",
       "\\item 569\n",
       "\\item 32\n",
       "\\end{enumerate*}\n"
      ],
      "text/markdown": [
       "1. 569\n",
       "2. 32\n",
       "\n",
       "\n"
      ],
      "text/plain": [
       "[1] 569  32"
      ]
     },
     "metadata": {},
     "output_type": "display_data"
    },
    {
     "data": {
      "text/html": [
       "'data.frame'"
      ],
      "text/latex": [
       "'data.frame'"
      ],
      "text/markdown": [
       "'data.frame'"
      ],
      "text/plain": [
       "[1] \"data.frame\""
      ]
     },
     "metadata": {},
     "output_type": "display_data"
    },
    {
     "data": {
      "text/html": [
       "<table>\n",
       "<thead><tr><th></th><th scope=col>ID</th><th scope=col>Diagnosis</th><th scope=col>radius_mean</th><th scope=col>texture_mean</th><th scope=col>perimeter_mean</th><th scope=col>area_mean</th><th scope=col>smoothness_mean</th><th scope=col>compactness_mean</th><th scope=col>concavity_mean</th><th scope=col>concave_points_mean</th><th scope=col>...</th><th scope=col>radius_worst</th><th scope=col>texture_worst</th><th scope=col>perimeter_worst</th><th scope=col>area_worst</th><th scope=col>smoothness_worst</th><th scope=col>compactness_worst</th><th scope=col>concavity_worst</th><th scope=col>concave_points_worst</th><th scope=col>symmetry_worst</th><th scope=col>fractal_dimension_worst</th></tr></thead>\n",
       "<tbody>\n",
       "\t<tr><th scope=row>nbr.val</th><td>5.690000e+02</td><td>NA          </td><td> 569.0000000</td><td>5.690000e+02</td><td>5.690000e+02</td><td>5.690000e+02</td><td>5.690000e+02</td><td>5.690000e+02</td><td>5.690000e+02</td><td>5.690000e+02</td><td>...         </td><td> 569.0000000</td><td>5.690000e+02</td><td>5.690000e+02</td><td>5.690000e+02</td><td>5.690000e+02</td><td>5.690000e+02</td><td>5.690000e+02</td><td>5.690000e+02</td><td>5.690000e+02</td><td>5.690000e+02</td></tr>\n",
       "\t<tr><th scope=row>nbr.null</th><td>0.000000e+00</td><td>NA          </td><td>   0.0000000</td><td>0.000000e+00</td><td>0.000000e+00</td><td>0.000000e+00</td><td>0.000000e+00</td><td>0.000000e+00</td><td>1.300000e+01</td><td>1.300000e+01</td><td>...         </td><td>   0.0000000</td><td>0.000000e+00</td><td>0.000000e+00</td><td>0.000000e+00</td><td>0.000000e+00</td><td>0.000000e+00</td><td>1.300000e+01</td><td>1.300000e+01</td><td>0.000000e+00</td><td>0.000000e+00</td></tr>\n",
       "\t<tr><th scope=row>nbr.na</th><td>0.000000e+00</td><td>NA          </td><td>   0.0000000</td><td>0.000000e+00</td><td>0.000000e+00</td><td>0.000000e+00</td><td>0.000000e+00</td><td>0.000000e+00</td><td>0.000000e+00</td><td>0.000000e+00</td><td>...         </td><td>   0.0000000</td><td>0.000000e+00</td><td>0.000000e+00</td><td>0.000000e+00</td><td>0.000000e+00</td><td>0.000000e+00</td><td>0.000000e+00</td><td>0.000000e+00</td><td>0.000000e+00</td><td>0.000000e+00</td></tr>\n",
       "\t<tr><th scope=row>min</th><td>8.670000e+03</td><td>NA          </td><td>   6.9810000</td><td>9.710000e+00</td><td>4.379000e+01</td><td>1.435000e+02</td><td>5.263000e-02</td><td>1.938000e-02</td><td>0.000000e+00</td><td>0.000000e+00</td><td>...         </td><td>   7.9300000</td><td>1.202000e+01</td><td>5.041000e+01</td><td>1.852000e+02</td><td>7.117000e-02</td><td>2.729000e-02</td><td>0.000000e+00</td><td>0.000000e+00</td><td>1.565000e-01</td><td>5.504000e-02</td></tr>\n",
       "\t<tr><th scope=row>max</th><td>9.113205e+08</td><td>NA          </td><td>  28.1100000</td><td>3.928000e+01</td><td>1.885000e+02</td><td>2.501000e+03</td><td>1.634000e-01</td><td>3.454000e-01</td><td>4.268000e-01</td><td>2.012000e-01</td><td>...         </td><td>  36.0400000</td><td>4.954000e+01</td><td>2.512000e+02</td><td>4.254000e+03</td><td>2.226000e-01</td><td>1.058000e+00</td><td>1.252000e+00</td><td>2.910000e-01</td><td>6.638000e-01</td><td>2.075000e-01</td></tr>\n",
       "\t<tr><th scope=row>range</th><td>9.113118e+08</td><td>NA          </td><td>  21.1290000</td><td>2.957000e+01</td><td>1.447100e+02</td><td>2.357500e+03</td><td>1.107700e-01</td><td>3.260200e-01</td><td>4.268000e-01</td><td>2.012000e-01</td><td>...         </td><td>  28.1100000</td><td>3.752000e+01</td><td>2.007900e+02</td><td>4.068800e+03</td><td>1.514300e-01</td><td>1.030710e+00</td><td>1.252000e+00</td><td>2.910000e-01</td><td>5.073000e-01</td><td>1.524600e-01</td></tr>\n",
       "\t<tr><th scope=row>sum</th><td>1.728157e+10</td><td>NA          </td><td>8038.4290000</td><td>1.097581e+04</td><td>5.233038e+04</td><td>3.726319e+05</td><td>5.482900e+01</td><td>5.937002e+01</td><td>5.052681e+01</td><td>2.783499e+01</td><td>...         </td><td>9257.1690000</td><td>1.461034e+04</td><td>6.103163e+04</td><td>5.010518e+05</td><td>7.531773e+01</td><td>1.446768e+02</td><td>1.548752e+02</td><td>6.521094e+01</td><td>1.650530e+02</td><td>4.776517e+01</td></tr>\n",
       "\t<tr><th scope=row>median</th><td>9.060240e+05</td><td>NA          </td><td>  13.3700000</td><td>1.884000e+01</td><td>8.624000e+01</td><td>5.511000e+02</td><td>9.587000e-02</td><td>9.263000e-02</td><td>6.154000e-02</td><td>3.350000e-02</td><td>...         </td><td>  14.9700000</td><td>2.541000e+01</td><td>9.766000e+01</td><td>6.865000e+02</td><td>1.313000e-01</td><td>2.119000e-01</td><td>2.267000e-01</td><td>9.993000e-02</td><td>2.822000e-01</td><td>8.004000e-02</td></tr>\n",
       "\t<tr><th scope=row>mean</th><td>3.037183e+07</td><td>NA          </td><td>  14.1272917</td><td>1.928965e+01</td><td>9.196903e+01</td><td>6.548891e+02</td><td>9.636028e-02</td><td>1.043410e-01</td><td>8.879932e-02</td><td>4.891915e-02</td><td>...         </td><td>  16.2691898</td><td>2.567722e+01</td><td>1.072612e+02</td><td>8.805831e+02</td><td>1.323686e-01</td><td>2.542650e-01</td><td>2.721885e-01</td><td>1.146062e-01</td><td>2.900756e-01</td><td>8.394582e-02</td></tr>\n",
       "\t<tr><th scope=row>SE.mean</th><td>5.241136e+06</td><td>NA          </td><td>   0.1477358</td><td>1.803088e-01</td><td>1.018666e+00</td><td>1.475301e+01</td><td>5.895989e-04</td><td>2.214026e-03</td><td>3.342028e-03</td><td>1.626700e-03</td><td>...         </td><td>   0.2026200</td><td>2.576645e-01</td><td>1.408692e+00</td><td>2.386869e+01</td><td>9.571852e-04</td><td>6.595889e-03</td><td>8.745985e-03</td><td>2.755643e-03</td><td>2.593619e-03</td><td>7.571677e-04</td></tr>\n",
       "\t<tr><th scope=row>CI.mean.0.95</th><td>1.029437e+07</td><td>NA          </td><td>   0.2901752</td><td>3.541534e-01</td><td>2.000813e+00</td><td>2.897711e+01</td><td>1.158060e-03</td><td>4.348678e-03</td><td>6.564242e-03</td><td>3.195081e-03</td><td>...         </td><td>   0.3979760</td><td>5.060916e-01</td><td>2.766881e+00</td><td>4.688166e+01</td><td>1.880055e-03</td><td>1.295531e-02</td><td>1.717842e-02</td><td>5.412494e-03</td><td>5.094255e-03</td><td>1.487190e-03</td></tr>\n",
       "\t<tr><th scope=row>var</th><td>1.563015e+16</td><td>NA          </td><td>  12.4189201</td><td>1.849891e+01</td><td>5.904405e+02</td><td>1.238436e+05</td><td>1.977997e-04</td><td>2.789187e-03</td><td>6.355248e-03</td><td>1.505661e-03</td><td>...         </td><td>  23.3602242</td><td>3.777648e+01</td><td>1.129131e+03</td><td>3.241674e+05</td><td>5.213198e-04</td><td>2.475477e-02</td><td>4.352409e-02</td><td>4.320741e-03</td><td>3.827584e-03</td><td>3.262094e-04</td></tr>\n",
       "\t<tr><th scope=row>std.dev</th><td>1.250206e+08</td><td>NA          </td><td>   3.5240488</td><td>4.301036e+00</td><td>2.429898e+01</td><td>3.519141e+02</td><td>1.406413e-02</td><td>5.281276e-02</td><td>7.971981e-02</td><td>3.880284e-02</td><td>...         </td><td>   4.8332416</td><td>6.146258e+00</td><td>3.360254e+01</td><td>5.693570e+02</td><td>2.283243e-02</td><td>1.573365e-01</td><td>2.086243e-01</td><td>6.573234e-02</td><td>6.186747e-02</td><td>1.806127e-02</td></tr>\n",
       "\t<tr><th scope=row>coef.var</th><td>4.116333e+00</td><td>NA          </td><td>   0.2494497</td><td>2.229712e-01</td><td>2.642083e-01</td><td>5.373645e-01</td><td>1.459536e-01</td><td>5.061555e-01</td><td>8.977525e-01</td><td>7.932036e-01</td><td>...         </td><td>   0.2970794</td><td>2.393661e-01</td><td>3.132777e-01</td><td>6.465681e-01</td><td>1.724913e-01</td><td>6.187893e-01</td><td>7.664699e-01</td><td>5.735495e-01</td><td>2.132805e-01</td><td>2.151539e-01</td></tr>\n",
       "</tbody>\n",
       "</table>\n"
      ],
      "text/latex": [
       "\\begin{tabular}{r|llllllllllllllllllllllllllllllll}\n",
       "  & ID & Diagnosis & radius\\_mean & texture\\_mean & perimeter\\_mean & area\\_mean & smoothness\\_mean & compactness\\_mean & concavity\\_mean & concave\\_points\\_mean & ... & radius\\_worst & texture\\_worst & perimeter\\_worst & area\\_worst & smoothness\\_worst & compactness\\_worst & concavity\\_worst & concave\\_points\\_worst & symmetry\\_worst & fractal\\_dimension\\_worst\\\\\n",
       "\\hline\n",
       "\tnbr.val & 5.690000e+02 & NA           &  569.0000000 & 5.690000e+02 & 5.690000e+02 & 5.690000e+02 & 5.690000e+02 & 5.690000e+02 & 5.690000e+02 & 5.690000e+02 & ...          &  569.0000000 & 5.690000e+02 & 5.690000e+02 & 5.690000e+02 & 5.690000e+02 & 5.690000e+02 & 5.690000e+02 & 5.690000e+02 & 5.690000e+02 & 5.690000e+02\\\\\n",
       "\tnbr.null & 0.000000e+00 & NA           &    0.0000000 & 0.000000e+00 & 0.000000e+00 & 0.000000e+00 & 0.000000e+00 & 0.000000e+00 & 1.300000e+01 & 1.300000e+01 & ...          &    0.0000000 & 0.000000e+00 & 0.000000e+00 & 0.000000e+00 & 0.000000e+00 & 0.000000e+00 & 1.300000e+01 & 1.300000e+01 & 0.000000e+00 & 0.000000e+00\\\\\n",
       "\tnbr.na & 0.000000e+00 & NA           &    0.0000000 & 0.000000e+00 & 0.000000e+00 & 0.000000e+00 & 0.000000e+00 & 0.000000e+00 & 0.000000e+00 & 0.000000e+00 & ...          &    0.0000000 & 0.000000e+00 & 0.000000e+00 & 0.000000e+00 & 0.000000e+00 & 0.000000e+00 & 0.000000e+00 & 0.000000e+00 & 0.000000e+00 & 0.000000e+00\\\\\n",
       "\tmin & 8.670000e+03 & NA           &    6.9810000 & 9.710000e+00 & 4.379000e+01 & 1.435000e+02 & 5.263000e-02 & 1.938000e-02 & 0.000000e+00 & 0.000000e+00 & ...          &    7.9300000 & 1.202000e+01 & 5.041000e+01 & 1.852000e+02 & 7.117000e-02 & 2.729000e-02 & 0.000000e+00 & 0.000000e+00 & 1.565000e-01 & 5.504000e-02\\\\\n",
       "\tmax & 9.113205e+08 & NA           &   28.1100000 & 3.928000e+01 & 1.885000e+02 & 2.501000e+03 & 1.634000e-01 & 3.454000e-01 & 4.268000e-01 & 2.012000e-01 & ...          &   36.0400000 & 4.954000e+01 & 2.512000e+02 & 4.254000e+03 & 2.226000e-01 & 1.058000e+00 & 1.252000e+00 & 2.910000e-01 & 6.638000e-01 & 2.075000e-01\\\\\n",
       "\trange & 9.113118e+08 & NA           &   21.1290000 & 2.957000e+01 & 1.447100e+02 & 2.357500e+03 & 1.107700e-01 & 3.260200e-01 & 4.268000e-01 & 2.012000e-01 & ...          &   28.1100000 & 3.752000e+01 & 2.007900e+02 & 4.068800e+03 & 1.514300e-01 & 1.030710e+00 & 1.252000e+00 & 2.910000e-01 & 5.073000e-01 & 1.524600e-01\\\\\n",
       "\tsum & 1.728157e+10 & NA           & 8038.4290000 & 1.097581e+04 & 5.233038e+04 & 3.726319e+05 & 5.482900e+01 & 5.937002e+01 & 5.052681e+01 & 2.783499e+01 & ...          & 9257.1690000 & 1.461034e+04 & 6.103163e+04 & 5.010518e+05 & 7.531773e+01 & 1.446768e+02 & 1.548752e+02 & 6.521094e+01 & 1.650530e+02 & 4.776517e+01\\\\\n",
       "\tmedian & 9.060240e+05 & NA           &   13.3700000 & 1.884000e+01 & 8.624000e+01 & 5.511000e+02 & 9.587000e-02 & 9.263000e-02 & 6.154000e-02 & 3.350000e-02 & ...          &   14.9700000 & 2.541000e+01 & 9.766000e+01 & 6.865000e+02 & 1.313000e-01 & 2.119000e-01 & 2.267000e-01 & 9.993000e-02 & 2.822000e-01 & 8.004000e-02\\\\\n",
       "\tmean & 3.037183e+07 & NA           &   14.1272917 & 1.928965e+01 & 9.196903e+01 & 6.548891e+02 & 9.636028e-02 & 1.043410e-01 & 8.879932e-02 & 4.891915e-02 & ...          &   16.2691898 & 2.567722e+01 & 1.072612e+02 & 8.805831e+02 & 1.323686e-01 & 2.542650e-01 & 2.721885e-01 & 1.146062e-01 & 2.900756e-01 & 8.394582e-02\\\\\n",
       "\tSE.mean & 5.241136e+06 & NA           &    0.1477358 & 1.803088e-01 & 1.018666e+00 & 1.475301e+01 & 5.895989e-04 & 2.214026e-03 & 3.342028e-03 & 1.626700e-03 & ...          &    0.2026200 & 2.576645e-01 & 1.408692e+00 & 2.386869e+01 & 9.571852e-04 & 6.595889e-03 & 8.745985e-03 & 2.755643e-03 & 2.593619e-03 & 7.571677e-04\\\\\n",
       "\tCI.mean.0.95 & 1.029437e+07 & NA           &    0.2901752 & 3.541534e-01 & 2.000813e+00 & 2.897711e+01 & 1.158060e-03 & 4.348678e-03 & 6.564242e-03 & 3.195081e-03 & ...          &    0.3979760 & 5.060916e-01 & 2.766881e+00 & 4.688166e+01 & 1.880055e-03 & 1.295531e-02 & 1.717842e-02 & 5.412494e-03 & 5.094255e-03 & 1.487190e-03\\\\\n",
       "\tvar & 1.563015e+16 & NA           &   12.4189201 & 1.849891e+01 & 5.904405e+02 & 1.238436e+05 & 1.977997e-04 & 2.789187e-03 & 6.355248e-03 & 1.505661e-03 & ...          &   23.3602242 & 3.777648e+01 & 1.129131e+03 & 3.241674e+05 & 5.213198e-04 & 2.475477e-02 & 4.352409e-02 & 4.320741e-03 & 3.827584e-03 & 3.262094e-04\\\\\n",
       "\tstd.dev & 1.250206e+08 & NA           &    3.5240488 & 4.301036e+00 & 2.429898e+01 & 3.519141e+02 & 1.406413e-02 & 5.281276e-02 & 7.971981e-02 & 3.880284e-02 & ...          &    4.8332416 & 6.146258e+00 & 3.360254e+01 & 5.693570e+02 & 2.283243e-02 & 1.573365e-01 & 2.086243e-01 & 6.573234e-02 & 6.186747e-02 & 1.806127e-02\\\\\n",
       "\tcoef.var & 4.116333e+00 & NA           &    0.2494497 & 2.229712e-01 & 2.642083e-01 & 5.373645e-01 & 1.459536e-01 & 5.061555e-01 & 8.977525e-01 & 7.932036e-01 & ...          &    0.2970794 & 2.393661e-01 & 3.132777e-01 & 6.465681e-01 & 1.724913e-01 & 6.187893e-01 & 7.664699e-01 & 5.735495e-01 & 2.132805e-01 & 2.151539e-01\\\\\n",
       "\\end{tabular}\n"
      ],
      "text/markdown": [
       "\n",
       "| <!--/--> | ID | Diagnosis | radius_mean | texture_mean | perimeter_mean | area_mean | smoothness_mean | compactness_mean | concavity_mean | concave_points_mean | ... | radius_worst | texture_worst | perimeter_worst | area_worst | smoothness_worst | compactness_worst | concavity_worst | concave_points_worst | symmetry_worst | fractal_dimension_worst | \n",
       "|---|---|---|---|---|---|---|---|---|---|---|---|---|---|\n",
       "| nbr.val | 5.690000e+02 | NA           |  569.0000000 | 5.690000e+02 | 5.690000e+02 | 5.690000e+02 | 5.690000e+02 | 5.690000e+02 | 5.690000e+02 | 5.690000e+02 | ...          |  569.0000000 | 5.690000e+02 | 5.690000e+02 | 5.690000e+02 | 5.690000e+02 | 5.690000e+02 | 5.690000e+02 | 5.690000e+02 | 5.690000e+02 | 5.690000e+02 | \n",
       "| nbr.null | 0.000000e+00 | NA           |    0.0000000 | 0.000000e+00 | 0.000000e+00 | 0.000000e+00 | 0.000000e+00 | 0.000000e+00 | 1.300000e+01 | 1.300000e+01 | ...          |    0.0000000 | 0.000000e+00 | 0.000000e+00 | 0.000000e+00 | 0.000000e+00 | 0.000000e+00 | 1.300000e+01 | 1.300000e+01 | 0.000000e+00 | 0.000000e+00 | \n",
       "| nbr.na | 0.000000e+00 | NA           |    0.0000000 | 0.000000e+00 | 0.000000e+00 | 0.000000e+00 | 0.000000e+00 | 0.000000e+00 | 0.000000e+00 | 0.000000e+00 | ...          |    0.0000000 | 0.000000e+00 | 0.000000e+00 | 0.000000e+00 | 0.000000e+00 | 0.000000e+00 | 0.000000e+00 | 0.000000e+00 | 0.000000e+00 | 0.000000e+00 | \n",
       "| min | 8.670000e+03 | NA           |    6.9810000 | 9.710000e+00 | 4.379000e+01 | 1.435000e+02 | 5.263000e-02 | 1.938000e-02 | 0.000000e+00 | 0.000000e+00 | ...          |    7.9300000 | 1.202000e+01 | 5.041000e+01 | 1.852000e+02 | 7.117000e-02 | 2.729000e-02 | 0.000000e+00 | 0.000000e+00 | 1.565000e-01 | 5.504000e-02 | \n",
       "| max | 9.113205e+08 | NA           |   28.1100000 | 3.928000e+01 | 1.885000e+02 | 2.501000e+03 | 1.634000e-01 | 3.454000e-01 | 4.268000e-01 | 2.012000e-01 | ...          |   36.0400000 | 4.954000e+01 | 2.512000e+02 | 4.254000e+03 | 2.226000e-01 | 1.058000e+00 | 1.252000e+00 | 2.910000e-01 | 6.638000e-01 | 2.075000e-01 | \n",
       "| range | 9.113118e+08 | NA           |   21.1290000 | 2.957000e+01 | 1.447100e+02 | 2.357500e+03 | 1.107700e-01 | 3.260200e-01 | 4.268000e-01 | 2.012000e-01 | ...          |   28.1100000 | 3.752000e+01 | 2.007900e+02 | 4.068800e+03 | 1.514300e-01 | 1.030710e+00 | 1.252000e+00 | 2.910000e-01 | 5.073000e-01 | 1.524600e-01 | \n",
       "| sum | 1.728157e+10 | NA           | 8038.4290000 | 1.097581e+04 | 5.233038e+04 | 3.726319e+05 | 5.482900e+01 | 5.937002e+01 | 5.052681e+01 | 2.783499e+01 | ...          | 9257.1690000 | 1.461034e+04 | 6.103163e+04 | 5.010518e+05 | 7.531773e+01 | 1.446768e+02 | 1.548752e+02 | 6.521094e+01 | 1.650530e+02 | 4.776517e+01 | \n",
       "| median | 9.060240e+05 | NA           |   13.3700000 | 1.884000e+01 | 8.624000e+01 | 5.511000e+02 | 9.587000e-02 | 9.263000e-02 | 6.154000e-02 | 3.350000e-02 | ...          |   14.9700000 | 2.541000e+01 | 9.766000e+01 | 6.865000e+02 | 1.313000e-01 | 2.119000e-01 | 2.267000e-01 | 9.993000e-02 | 2.822000e-01 | 8.004000e-02 | \n",
       "| mean | 3.037183e+07 | NA           |   14.1272917 | 1.928965e+01 | 9.196903e+01 | 6.548891e+02 | 9.636028e-02 | 1.043410e-01 | 8.879932e-02 | 4.891915e-02 | ...          |   16.2691898 | 2.567722e+01 | 1.072612e+02 | 8.805831e+02 | 1.323686e-01 | 2.542650e-01 | 2.721885e-01 | 1.146062e-01 | 2.900756e-01 | 8.394582e-02 | \n",
       "| SE.mean | 5.241136e+06 | NA           |    0.1477358 | 1.803088e-01 | 1.018666e+00 | 1.475301e+01 | 5.895989e-04 | 2.214026e-03 | 3.342028e-03 | 1.626700e-03 | ...          |    0.2026200 | 2.576645e-01 | 1.408692e+00 | 2.386869e+01 | 9.571852e-04 | 6.595889e-03 | 8.745985e-03 | 2.755643e-03 | 2.593619e-03 | 7.571677e-04 | \n",
       "| CI.mean.0.95 | 1.029437e+07 | NA           |    0.2901752 | 3.541534e-01 | 2.000813e+00 | 2.897711e+01 | 1.158060e-03 | 4.348678e-03 | 6.564242e-03 | 3.195081e-03 | ...          |    0.3979760 | 5.060916e-01 | 2.766881e+00 | 4.688166e+01 | 1.880055e-03 | 1.295531e-02 | 1.717842e-02 | 5.412494e-03 | 5.094255e-03 | 1.487190e-03 | \n",
       "| var | 1.563015e+16 | NA           |   12.4189201 | 1.849891e+01 | 5.904405e+02 | 1.238436e+05 | 1.977997e-04 | 2.789187e-03 | 6.355248e-03 | 1.505661e-03 | ...          |   23.3602242 | 3.777648e+01 | 1.129131e+03 | 3.241674e+05 | 5.213198e-04 | 2.475477e-02 | 4.352409e-02 | 4.320741e-03 | 3.827584e-03 | 3.262094e-04 | \n",
       "| std.dev | 1.250206e+08 | NA           |    3.5240488 | 4.301036e+00 | 2.429898e+01 | 3.519141e+02 | 1.406413e-02 | 5.281276e-02 | 7.971981e-02 | 3.880284e-02 | ...          |    4.8332416 | 6.146258e+00 | 3.360254e+01 | 5.693570e+02 | 2.283243e-02 | 1.573365e-01 | 2.086243e-01 | 6.573234e-02 | 6.186747e-02 | 1.806127e-02 | \n",
       "| coef.var | 4.116333e+00 | NA           |    0.2494497 | 2.229712e-01 | 2.642083e-01 | 5.373645e-01 | 1.459536e-01 | 5.061555e-01 | 8.977525e-01 | 7.932036e-01 | ...          |    0.2970794 | 2.393661e-01 | 3.132777e-01 | 6.465681e-01 | 1.724913e-01 | 6.187893e-01 | 7.664699e-01 | 5.735495e-01 | 2.132805e-01 | 2.151539e-01 | \n",
       "\n",
       "\n"
      ],
      "text/plain": [
       "             ID           Diagnosis radius_mean  texture_mean perimeter_mean\n",
       "nbr.val      5.690000e+02 NA         569.0000000 5.690000e+02 5.690000e+02  \n",
       "nbr.null     0.000000e+00 NA           0.0000000 0.000000e+00 0.000000e+00  \n",
       "nbr.na       0.000000e+00 NA           0.0000000 0.000000e+00 0.000000e+00  \n",
       "min          8.670000e+03 NA           6.9810000 9.710000e+00 4.379000e+01  \n",
       "max          9.113205e+08 NA          28.1100000 3.928000e+01 1.885000e+02  \n",
       "range        9.113118e+08 NA          21.1290000 2.957000e+01 1.447100e+02  \n",
       "sum          1.728157e+10 NA        8038.4290000 1.097581e+04 5.233038e+04  \n",
       "median       9.060240e+05 NA          13.3700000 1.884000e+01 8.624000e+01  \n",
       "mean         3.037183e+07 NA          14.1272917 1.928965e+01 9.196903e+01  \n",
       "SE.mean      5.241136e+06 NA           0.1477358 1.803088e-01 1.018666e+00  \n",
       "CI.mean.0.95 1.029437e+07 NA           0.2901752 3.541534e-01 2.000813e+00  \n",
       "var          1.563015e+16 NA          12.4189201 1.849891e+01 5.904405e+02  \n",
       "std.dev      1.250206e+08 NA           3.5240488 4.301036e+00 2.429898e+01  \n",
       "coef.var     4.116333e+00 NA           0.2494497 2.229712e-01 2.642083e-01  \n",
       "             area_mean    smoothness_mean compactness_mean concavity_mean\n",
       "nbr.val      5.690000e+02 5.690000e+02    5.690000e+02     5.690000e+02  \n",
       "nbr.null     0.000000e+00 0.000000e+00    0.000000e+00     1.300000e+01  \n",
       "nbr.na       0.000000e+00 0.000000e+00    0.000000e+00     0.000000e+00  \n",
       "min          1.435000e+02 5.263000e-02    1.938000e-02     0.000000e+00  \n",
       "max          2.501000e+03 1.634000e-01    3.454000e-01     4.268000e-01  \n",
       "range        2.357500e+03 1.107700e-01    3.260200e-01     4.268000e-01  \n",
       "sum          3.726319e+05 5.482900e+01    5.937002e+01     5.052681e+01  \n",
       "median       5.511000e+02 9.587000e-02    9.263000e-02     6.154000e-02  \n",
       "mean         6.548891e+02 9.636028e-02    1.043410e-01     8.879932e-02  \n",
       "SE.mean      1.475301e+01 5.895989e-04    2.214026e-03     3.342028e-03  \n",
       "CI.mean.0.95 2.897711e+01 1.158060e-03    4.348678e-03     6.564242e-03  \n",
       "var          1.238436e+05 1.977997e-04    2.789187e-03     6.355248e-03  \n",
       "std.dev      3.519141e+02 1.406413e-02    5.281276e-02     7.971981e-02  \n",
       "coef.var     5.373645e-01 1.459536e-01    5.061555e-01     8.977525e-01  \n",
       "             concave_points_mean ... radius_worst texture_worst perimeter_worst\n",
       "nbr.val      5.690000e+02        ...  569.0000000 5.690000e+02  5.690000e+02   \n",
       "nbr.null     1.300000e+01        ...    0.0000000 0.000000e+00  0.000000e+00   \n",
       "nbr.na       0.000000e+00        ...    0.0000000 0.000000e+00  0.000000e+00   \n",
       "min          0.000000e+00        ...    7.9300000 1.202000e+01  5.041000e+01   \n",
       "max          2.012000e-01        ...   36.0400000 4.954000e+01  2.512000e+02   \n",
       "range        2.012000e-01        ...   28.1100000 3.752000e+01  2.007900e+02   \n",
       "sum          2.783499e+01        ... 9257.1690000 1.461034e+04  6.103163e+04   \n",
       "median       3.350000e-02        ...   14.9700000 2.541000e+01  9.766000e+01   \n",
       "mean         4.891915e-02        ...   16.2691898 2.567722e+01  1.072612e+02   \n",
       "SE.mean      1.626700e-03        ...    0.2026200 2.576645e-01  1.408692e+00   \n",
       "CI.mean.0.95 3.195081e-03        ...    0.3979760 5.060916e-01  2.766881e+00   \n",
       "var          1.505661e-03        ...   23.3602242 3.777648e+01  1.129131e+03   \n",
       "std.dev      3.880284e-02        ...    4.8332416 6.146258e+00  3.360254e+01   \n",
       "coef.var     7.932036e-01        ...    0.2970794 2.393661e-01  3.132777e-01   \n",
       "             area_worst   smoothness_worst compactness_worst concavity_worst\n",
       "nbr.val      5.690000e+02 5.690000e+02     5.690000e+02      5.690000e+02   \n",
       "nbr.null     0.000000e+00 0.000000e+00     0.000000e+00      1.300000e+01   \n",
       "nbr.na       0.000000e+00 0.000000e+00     0.000000e+00      0.000000e+00   \n",
       "min          1.852000e+02 7.117000e-02     2.729000e-02      0.000000e+00   \n",
       "max          4.254000e+03 2.226000e-01     1.058000e+00      1.252000e+00   \n",
       "range        4.068800e+03 1.514300e-01     1.030710e+00      1.252000e+00   \n",
       "sum          5.010518e+05 7.531773e+01     1.446768e+02      1.548752e+02   \n",
       "median       6.865000e+02 1.313000e-01     2.119000e-01      2.267000e-01   \n",
       "mean         8.805831e+02 1.323686e-01     2.542650e-01      2.721885e-01   \n",
       "SE.mean      2.386869e+01 9.571852e-04     6.595889e-03      8.745985e-03   \n",
       "CI.mean.0.95 4.688166e+01 1.880055e-03     1.295531e-02      1.717842e-02   \n",
       "var          3.241674e+05 5.213198e-04     2.475477e-02      4.352409e-02   \n",
       "std.dev      5.693570e+02 2.283243e-02     1.573365e-01      2.086243e-01   \n",
       "coef.var     6.465681e-01 1.724913e-01     6.187893e-01      7.664699e-01   \n",
       "             concave_points_worst symmetry_worst fractal_dimension_worst\n",
       "nbr.val      5.690000e+02         5.690000e+02   5.690000e+02           \n",
       "nbr.null     1.300000e+01         0.000000e+00   0.000000e+00           \n",
       "nbr.na       0.000000e+00         0.000000e+00   0.000000e+00           \n",
       "min          0.000000e+00         1.565000e-01   5.504000e-02           \n",
       "max          2.910000e-01         6.638000e-01   2.075000e-01           \n",
       "range        2.910000e-01         5.073000e-01   1.524600e-01           \n",
       "sum          6.521094e+01         1.650530e+02   4.776517e+01           \n",
       "median       9.993000e-02         2.822000e-01   8.004000e-02           \n",
       "mean         1.146062e-01         2.900756e-01   8.394582e-02           \n",
       "SE.mean      2.755643e-03         2.593619e-03   7.571677e-04           \n",
       "CI.mean.0.95 5.412494e-03         5.094255e-03   1.487190e-03           \n",
       "var          4.320741e-03         3.827584e-03   3.262094e-04           \n",
       "std.dev      6.573234e-02         6.186747e-02   1.806127e-02           \n",
       "coef.var     5.735495e-01         2.132805e-01   2.151539e-01           "
      ]
     },
     "metadata": {},
     "output_type": "display_data"
    }
   ],
   "source": [
    "ls(wdbc)\n",
    "head(wdbc)\n",
    "tail(wdbc)\n",
    "str(wdbc)\n",
    "dim(wdbc)\n",
    "class(wdbc)\n",
    "stat.desc(wdbc)"
   ]
  },
  {
   "cell_type": "markdown",
   "metadata": {},
   "source": [
    "#Checking missing values"
   ]
  },
  {
   "cell_type": "code",
   "execution_count": 8,
   "metadata": {},
   "outputs": [
    {
     "data": {
      "text/html": [
       "<dl class=dl-horizontal>\n",
       "\t<dt>ID</dt>\n",
       "\t\t<dd>0</dd>\n",
       "\t<dt>Diagnosis</dt>\n",
       "\t\t<dd>0</dd>\n",
       "\t<dt>radius_mean</dt>\n",
       "\t\t<dd>0</dd>\n",
       "\t<dt>texture_mean</dt>\n",
       "\t\t<dd>0</dd>\n",
       "\t<dt>perimeter_mean</dt>\n",
       "\t\t<dd>0</dd>\n",
       "\t<dt>area_mean</dt>\n",
       "\t\t<dd>0</dd>\n",
       "\t<dt>smoothness_mean</dt>\n",
       "\t\t<dd>0</dd>\n",
       "\t<dt>compactness_mean</dt>\n",
       "\t\t<dd>0</dd>\n",
       "\t<dt>concavity_mean</dt>\n",
       "\t\t<dd>0</dd>\n",
       "\t<dt>concave_points_mean</dt>\n",
       "\t\t<dd>0</dd>\n",
       "\t<dt>symmetry_mean</dt>\n",
       "\t\t<dd>0</dd>\n",
       "\t<dt>fractal_dimension_mean</dt>\n",
       "\t\t<dd>0</dd>\n",
       "\t<dt>radius_se</dt>\n",
       "\t\t<dd>0</dd>\n",
       "\t<dt>texture_se</dt>\n",
       "\t\t<dd>0</dd>\n",
       "\t<dt>perimeter_se</dt>\n",
       "\t\t<dd>0</dd>\n",
       "\t<dt>area_se</dt>\n",
       "\t\t<dd>0</dd>\n",
       "\t<dt>smoothness_se</dt>\n",
       "\t\t<dd>0</dd>\n",
       "\t<dt>compactness_se</dt>\n",
       "\t\t<dd>0</dd>\n",
       "\t<dt>concavity_se</dt>\n",
       "\t\t<dd>0</dd>\n",
       "\t<dt>concave_points_se</dt>\n",
       "\t\t<dd>0</dd>\n",
       "\t<dt>symmetry_se</dt>\n",
       "\t\t<dd>0</dd>\n",
       "\t<dt>fractal_dimension_se</dt>\n",
       "\t\t<dd>0</dd>\n",
       "\t<dt>radius_worst</dt>\n",
       "\t\t<dd>0</dd>\n",
       "\t<dt>texture_worst</dt>\n",
       "\t\t<dd>0</dd>\n",
       "\t<dt>perimeter_worst</dt>\n",
       "\t\t<dd>0</dd>\n",
       "\t<dt>area_worst</dt>\n",
       "\t\t<dd>0</dd>\n",
       "\t<dt>smoothness_worst</dt>\n",
       "\t\t<dd>0</dd>\n",
       "\t<dt>compactness_worst</dt>\n",
       "\t\t<dd>0</dd>\n",
       "\t<dt>concavity_worst</dt>\n",
       "\t\t<dd>0</dd>\n",
       "\t<dt>concave_points_worst</dt>\n",
       "\t\t<dd>0</dd>\n",
       "\t<dt>symmetry_worst</dt>\n",
       "\t\t<dd>0</dd>\n",
       "\t<dt>fractal_dimension_worst</dt>\n",
       "\t\t<dd>0</dd>\n",
       "</dl>\n"
      ],
      "text/latex": [
       "\\begin{description*}\n",
       "\\item[ID] 0\n",
       "\\item[Diagnosis] 0\n",
       "\\item[radius\\textbackslash{}\\_mean] 0\n",
       "\\item[texture\\textbackslash{}\\_mean] 0\n",
       "\\item[perimeter\\textbackslash{}\\_mean] 0\n",
       "\\item[area\\textbackslash{}\\_mean] 0\n",
       "\\item[smoothness\\textbackslash{}\\_mean] 0\n",
       "\\item[compactness\\textbackslash{}\\_mean] 0\n",
       "\\item[concavity\\textbackslash{}\\_mean] 0\n",
       "\\item[concave\\textbackslash{}\\_points\\textbackslash{}\\_mean] 0\n",
       "\\item[symmetry\\textbackslash{}\\_mean] 0\n",
       "\\item[fractal\\textbackslash{}\\_dimension\\textbackslash{}\\_mean] 0\n",
       "\\item[radius\\textbackslash{}\\_se] 0\n",
       "\\item[texture\\textbackslash{}\\_se] 0\n",
       "\\item[perimeter\\textbackslash{}\\_se] 0\n",
       "\\item[area\\textbackslash{}\\_se] 0\n",
       "\\item[smoothness\\textbackslash{}\\_se] 0\n",
       "\\item[compactness\\textbackslash{}\\_se] 0\n",
       "\\item[concavity\\textbackslash{}\\_se] 0\n",
       "\\item[concave\\textbackslash{}\\_points\\textbackslash{}\\_se] 0\n",
       "\\item[symmetry\\textbackslash{}\\_se] 0\n",
       "\\item[fractal\\textbackslash{}\\_dimension\\textbackslash{}\\_se] 0\n",
       "\\item[radius\\textbackslash{}\\_worst] 0\n",
       "\\item[texture\\textbackslash{}\\_worst] 0\n",
       "\\item[perimeter\\textbackslash{}\\_worst] 0\n",
       "\\item[area\\textbackslash{}\\_worst] 0\n",
       "\\item[smoothness\\textbackslash{}\\_worst] 0\n",
       "\\item[compactness\\textbackslash{}\\_worst] 0\n",
       "\\item[concavity\\textbackslash{}\\_worst] 0\n",
       "\\item[concave\\textbackslash{}\\_points\\textbackslash{}\\_worst] 0\n",
       "\\item[symmetry\\textbackslash{}\\_worst] 0\n",
       "\\item[fractal\\textbackslash{}\\_dimension\\textbackslash{}\\_worst] 0\n",
       "\\end{description*}\n"
      ],
      "text/markdown": [
       "ID\n",
       ":   0Diagnosis\n",
       ":   0radius_mean\n",
       ":   0texture_mean\n",
       ":   0perimeter_mean\n",
       ":   0area_mean\n",
       ":   0smoothness_mean\n",
       ":   0compactness_mean\n",
       ":   0concavity_mean\n",
       ":   0concave_points_mean\n",
       ":   0symmetry_mean\n",
       ":   0fractal_dimension_mean\n",
       ":   0radius_se\n",
       ":   0texture_se\n",
       ":   0perimeter_se\n",
       ":   0area_se\n",
       ":   0smoothness_se\n",
       ":   0compactness_se\n",
       ":   0concavity_se\n",
       ":   0concave_points_se\n",
       ":   0symmetry_se\n",
       ":   0fractal_dimension_se\n",
       ":   0radius_worst\n",
       ":   0texture_worst\n",
       ":   0perimeter_worst\n",
       ":   0area_worst\n",
       ":   0smoothness_worst\n",
       ":   0compactness_worst\n",
       ":   0concavity_worst\n",
       ":   0concave_points_worst\n",
       ":   0symmetry_worst\n",
       ":   0fractal_dimension_worst\n",
       ":   0\n",
       "\n"
      ],
      "text/plain": [
       "                     ID               Diagnosis             radius_mean \n",
       "                      0                       0                       0 \n",
       "           texture_mean          perimeter_mean               area_mean \n",
       "                      0                       0                       0 \n",
       "        smoothness_mean        compactness_mean          concavity_mean \n",
       "                      0                       0                       0 \n",
       "    concave_points_mean           symmetry_mean  fractal_dimension_mean \n",
       "                      0                       0                       0 \n",
       "              radius_se              texture_se            perimeter_se \n",
       "                      0                       0                       0 \n",
       "                area_se           smoothness_se          compactness_se \n",
       "                      0                       0                       0 \n",
       "           concavity_se       concave_points_se             symmetry_se \n",
       "                      0                       0                       0 \n",
       "   fractal_dimension_se            radius_worst           texture_worst \n",
       "                      0                       0                       0 \n",
       "        perimeter_worst              area_worst        smoothness_worst \n",
       "                      0                       0                       0 \n",
       "      compactness_worst         concavity_worst    concave_points_worst \n",
       "                      0                       0                       0 \n",
       "         symmetry_worst fractal_dimension_worst \n",
       "                      0                       0 "
      ]
     },
     "metadata": {},
     "output_type": "display_data"
    }
   ],
   "source": [
    "sapply(wdbc, function(y) sum(is.na(y)))"
   ]
  },
  {
   "cell_type": "markdown",
   "metadata": {},
   "source": [
    "#Exploratory Analysis\n",
    "#Proportion of the classes of target variable in the data"
   ]
  },
  {
   "cell_type": "code",
   "execution_count": 9,
   "metadata": {},
   "outputs": [
    {
     "data": {},
     "metadata": {},
     "output_type": "display_data"
    },
    {
     "data": {
      "image/png": "[encoded data removed]",
      "text/plain": [
       "plot without title"
      ]
     },
     "metadata": {},
     "output_type": "display_data"
    }
   ],
   "source": [
    "ggplot(data = wdbc) +\n",
    "  ggtitle(\"Count of Tumor classes\") +\n",
    "  geom_bar(mapping = aes(x = Diagnosis,color=\"darkred\"))"
   ]
  },
  {
   "cell_type": "markdown",
   "metadata": {},
   "source": [
    "#Understanding the nature of Benign and Malignant tumours with repect to radius and smoothness"
   ]
  },
  {
   "cell_type": "code",
   "execution_count": 10,
   "metadata": {},
   "outputs": [
    {
     "data": {},
     "metadata": {},
     "output_type": "display_data"
    },
    {
     "data": {
      "image/png": "[encoded data removed]",
      "text/plain": [
       "plot without title"
      ]
     },
     "metadata": {},
     "output_type": "display_data"
    }
   ],
   "source": [
    "ggplot(wdbc, aes(x = perimeter_mean, y = smoothness_mean)) +\n",
    "    geom_text(aes(label = Diagnosis), size = 4) +\n",
    "    ggtitle(\"Scatterplot With Data Labels\") +\n",
    "    theme(plot.title = element_text(hjust = 0.5))"
   ]
  },
  {
   "cell_type": "markdown",
   "metadata": {},
   "source": [
    "#Correlation matrix of data"
   ]
  },
  {
   "cell_type": "code",
   "execution_count": 11,
   "metadata": {},
   "outputs": [
    {
     "data": {
      "text/html": [
       "<table>\n",
       "<thead><tr><th></th><th scope=col>radius_mean</th><th scope=col>texture_mean</th><th scope=col>perimeter_mean</th><th scope=col>area_mean</th><th scope=col>smoothness_mean</th><th scope=col>compactness_mean</th><th scope=col>concavity_mean</th><th scope=col>concave_points_mean</th><th scope=col>symmetry_mean</th><th scope=col>fractal_dimension_mean</th><th scope=col>...</th><th scope=col>radius_worst</th><th scope=col>texture_worst</th><th scope=col>perimeter_worst</th><th scope=col>area_worst</th><th scope=col>smoothness_worst</th><th scope=col>compactness_worst</th><th scope=col>concavity_worst</th><th scope=col>concave_points_worst</th><th scope=col>symmetry_worst</th><th scope=col>fractal_dimension_worst</th></tr></thead>\n",
       "<tbody>\n",
       "\t<tr><th scope=row>radius_mean</th><td> 1.00</td><td> 0.32</td><td> 1.00</td><td> 0.99</td><td> 0.17</td><td>0.51 </td><td>0.68 </td><td>0.82 </td><td>0.15 </td><td>-0.31</td><td>...  </td><td> 0.97</td><td> 0.30</td><td> 0.97</td><td> 0.94</td><td> 0.12</td><td> 0.41</td><td> 0.53</td><td> 0.74</td><td> 0.16</td><td> 0.01</td></tr>\n",
       "\t<tr><th scope=row>texture_mean</th><td> 0.32</td><td> 1.00</td><td> 0.33</td><td> 0.32</td><td>-0.02</td><td>0.24 </td><td>0.30 </td><td>0.29 </td><td>0.07 </td><td>-0.08</td><td>...  </td><td> 0.35</td><td> 0.91</td><td> 0.36</td><td> 0.34</td><td> 0.08</td><td> 0.28</td><td> 0.30</td><td> 0.30</td><td> 0.11</td><td> 0.12</td></tr>\n",
       "\t<tr><th scope=row>perimeter_mean</th><td> 1.00</td><td> 0.33</td><td> 1.00</td><td> 0.99</td><td> 0.21</td><td>0.56 </td><td>0.72 </td><td>0.85 </td><td>0.18 </td><td>-0.26</td><td>...  </td><td> 0.97</td><td> 0.30</td><td> 0.97</td><td> 0.94</td><td> 0.15</td><td> 0.46</td><td> 0.56</td><td> 0.77</td><td> 0.19</td><td> 0.05</td></tr>\n",
       "\t<tr><th scope=row>area_mean</th><td> 0.99</td><td> 0.32</td><td> 0.99</td><td> 1.00</td><td> 0.18</td><td>0.50 </td><td>0.69 </td><td>0.82 </td><td>0.15 </td><td>-0.28</td><td>...  </td><td> 0.96</td><td> 0.29</td><td> 0.96</td><td> 0.96</td><td> 0.12</td><td> 0.39</td><td> 0.51</td><td> 0.72</td><td> 0.14</td><td> 0.00</td></tr>\n",
       "\t<tr><th scope=row>smoothness_mean</th><td> 0.17</td><td>-0.02</td><td> 0.21</td><td> 0.18</td><td> 1.00</td><td>0.66 </td><td>0.52 </td><td>0.55 </td><td>0.56 </td><td> 0.58</td><td>...  </td><td> 0.21</td><td> 0.04</td><td> 0.24</td><td> 0.21</td><td> 0.81</td><td> 0.47</td><td> 0.43</td><td> 0.50</td><td> 0.39</td><td> 0.50</td></tr>\n",
       "\t<tr><th scope=row>compactness_mean</th><td> 0.51</td><td> 0.24</td><td> 0.56</td><td> 0.50</td><td> 0.66</td><td>1.00 </td><td>0.88 </td><td>0.83 </td><td>0.60 </td><td> 0.57</td><td>...  </td><td> 0.54</td><td> 0.25</td><td> 0.59</td><td> 0.51</td><td> 0.57</td><td> 0.87</td><td> 0.82</td><td> 0.82</td><td> 0.51</td><td> 0.69</td></tr>\n",
       "\t<tr><th scope=row>concavity_mean</th><td> 0.68</td><td> 0.30</td><td> 0.72</td><td> 0.69</td><td> 0.52</td><td>0.88 </td><td>1.00 </td><td>0.92 </td><td>0.50 </td><td> 0.34</td><td>...  </td><td> 0.69</td><td> 0.30</td><td> 0.73</td><td> 0.68</td><td> 0.45</td><td> 0.75</td><td> 0.88</td><td> 0.86</td><td> 0.41</td><td> 0.51</td></tr>\n",
       "\t<tr><th scope=row>concave_points_mean</th><td> 0.82</td><td> 0.29</td><td> 0.85</td><td> 0.82</td><td> 0.55</td><td>0.83 </td><td>0.92 </td><td>1.00 </td><td>0.46 </td><td> 0.17</td><td>...  </td><td> 0.83</td><td> 0.29</td><td> 0.86</td><td> 0.81</td><td> 0.45</td><td> 0.67</td><td> 0.75</td><td> 0.91</td><td> 0.38</td><td> 0.37</td></tr>\n",
       "\t<tr><th scope=row>symmetry_mean</th><td> 0.15</td><td> 0.07</td><td> 0.18</td><td> 0.15</td><td> 0.56</td><td>0.60 </td><td>0.50 </td><td>0.46 </td><td>1.00 </td><td> 0.48</td><td>...  </td><td> 0.19</td><td> 0.09</td><td> 0.22</td><td> 0.18</td><td> 0.43</td><td> 0.47</td><td> 0.43</td><td> 0.43</td><td> 0.70</td><td> 0.44</td></tr>\n",
       "\t<tr><th scope=row>fractal_dimension_mean</th><td>-0.31</td><td>-0.08</td><td>-0.26</td><td>-0.28</td><td> 0.58</td><td>0.57 </td><td>0.34 </td><td>0.17 </td><td>0.48 </td><td> 1.00</td><td>...  </td><td>-0.25</td><td>-0.05</td><td>-0.21</td><td>-0.23</td><td> 0.50</td><td> 0.46</td><td> 0.35</td><td> 0.18</td><td> 0.33</td><td> 0.77</td></tr>\n",
       "\t<tr><th scope=row>radius_se</th><td> 0.68</td><td> 0.28</td><td> 0.69</td><td> 0.73</td><td> 0.30</td><td>0.50 </td><td>0.63 </td><td>0.70 </td><td>0.30 </td><td> 0.00</td><td>...  </td><td> 0.72</td><td> 0.19</td><td> 0.72</td><td> 0.75</td><td> 0.14</td><td> 0.29</td><td> 0.38</td><td> 0.53</td><td> 0.09</td><td> 0.05</td></tr>\n",
       "\t<tr><th scope=row>texture_se</th><td>-0.10</td><td> 0.39</td><td>-0.09</td><td>-0.07</td><td> 0.07</td><td>0.05 </td><td>0.08 </td><td>0.02 </td><td>0.13 </td><td> 0.16</td><td>...  </td><td>-0.11</td><td> 0.41</td><td>-0.10</td><td>-0.08</td><td>-0.07</td><td>-0.09</td><td>-0.07</td><td>-0.12</td><td>-0.13</td><td>-0.05</td></tr>\n",
       "\t<tr><th scope=row>perimeter_se</th><td> 0.67</td><td> 0.28</td><td> 0.69</td><td> 0.73</td><td> 0.30</td><td>0.55 </td><td>0.66 </td><td>0.71 </td><td>0.31 </td><td> 0.04</td><td>...  </td><td> 0.70</td><td> 0.20</td><td> 0.72</td><td> 0.73</td><td> 0.13</td><td> 0.34</td><td> 0.42</td><td> 0.55</td><td> 0.11</td><td> 0.09</td></tr>\n",
       "\t<tr><th scope=row>area_se</th><td> 0.74</td><td> 0.26</td><td> 0.74</td><td> 0.80</td><td> 0.25</td><td>0.46 </td><td>0.62 </td><td>0.69 </td><td>0.22 </td><td>-0.09</td><td>...  </td><td> 0.76</td><td> 0.20</td><td> 0.76</td><td> 0.81</td><td> 0.13</td><td> 0.28</td><td> 0.39</td><td> 0.54</td><td> 0.07</td><td> 0.02</td></tr>\n",
       "\t<tr><th scope=row>smoothness_se</th><td>-0.22</td><td> 0.01</td><td>-0.20</td><td>-0.17</td><td> 0.33</td><td>0.14 </td><td>0.10 </td><td>0.03 </td><td>0.19 </td><td> 0.40</td><td>...  </td><td>-0.23</td><td>-0.07</td><td>-0.22</td><td>-0.18</td><td> 0.31</td><td>-0.06</td><td>-0.06</td><td>-0.10</td><td>-0.11</td><td> 0.10</td></tr>\n",
       "\t<tr><th scope=row>compactness_se</th><td> 0.21</td><td> 0.19</td><td> 0.25</td><td> 0.21</td><td> 0.32</td><td>0.74 </td><td>0.67 </td><td>0.49 </td><td>0.42 </td><td> 0.56</td><td>...  </td><td> 0.20</td><td> 0.14</td><td> 0.26</td><td> 0.20</td><td> 0.23</td><td> 0.68</td><td> 0.64</td><td> 0.48</td><td> 0.28</td><td> 0.59</td></tr>\n",
       "\t<tr><th scope=row>concavity_se</th><td> 0.19</td><td> 0.14</td><td> 0.23</td><td> 0.21</td><td> 0.25</td><td>0.57 </td><td>0.69 </td><td>0.44 </td><td>0.34 </td><td> 0.45</td><td>...  </td><td> 0.19</td><td> 0.10</td><td> 0.23</td><td> 0.19</td><td> 0.17</td><td> 0.48</td><td> 0.66</td><td> 0.44</td><td> 0.20</td><td> 0.44</td></tr>\n",
       "\t<tr><th scope=row>concave_points_se</th><td> 0.38</td><td> 0.16</td><td> 0.41</td><td> 0.37</td><td> 0.38</td><td>0.64 </td><td>0.68 </td><td>0.62 </td><td>0.39 </td><td> 0.34</td><td>...  </td><td> 0.36</td><td> 0.09</td><td> 0.39</td><td> 0.34</td><td> 0.22</td><td> 0.45</td><td> 0.55</td><td> 0.60</td><td> 0.14</td><td> 0.31</td></tr>\n",
       "\t<tr><th scope=row>symmetry_se</th><td>-0.10</td><td> 0.01</td><td>-0.08</td><td>-0.07</td><td> 0.20</td><td>0.23 </td><td>0.18 </td><td>0.10 </td><td>0.45 </td><td> 0.35</td><td>...  </td><td>-0.13</td><td>-0.08</td><td>-0.10</td><td>-0.11</td><td>-0.01</td><td> 0.06</td><td> 0.04</td><td>-0.03</td><td> 0.39</td><td> 0.08</td></tr>\n",
       "\t<tr><th scope=row>fractal_dimension_se</th><td>-0.04</td><td> 0.05</td><td>-0.01</td><td>-0.02</td><td> 0.28</td><td>0.51 </td><td>0.45 </td><td>0.26 </td><td>0.33 </td><td> 0.69</td><td>...  </td><td>-0.04</td><td> 0.00</td><td> 0.00</td><td>-0.02</td><td> 0.17</td><td> 0.39</td><td> 0.38</td><td> 0.22</td><td> 0.11</td><td> 0.59</td></tr>\n",
       "\t<tr><th scope=row>radius_worst</th><td> 0.97</td><td> 0.35</td><td> 0.97</td><td> 0.96</td><td> 0.21</td><td>0.54 </td><td>0.69 </td><td>0.83 </td><td>0.19 </td><td>-0.25</td><td>...  </td><td> 1.00</td><td> 0.36</td><td> 0.99</td><td> 0.98</td><td> 0.22</td><td> 0.48</td><td> 0.57</td><td> 0.79</td><td> 0.24</td><td> 0.09</td></tr>\n",
       "\t<tr><th scope=row>texture_worst</th><td> 0.30</td><td> 0.91</td><td> 0.30</td><td> 0.29</td><td> 0.04</td><td>0.25 </td><td>0.30 </td><td>0.29 </td><td>0.09 </td><td>-0.05</td><td>...  </td><td> 0.36</td><td> 1.00</td><td> 0.37</td><td> 0.35</td><td> 0.23</td><td> 0.36</td><td> 0.37</td><td> 0.36</td><td> 0.23</td><td> 0.22</td></tr>\n",
       "\t<tr><th scope=row>perimeter_worst</th><td> 0.97</td><td> 0.36</td><td> 0.97</td><td> 0.96</td><td> 0.24</td><td>0.59 </td><td>0.73 </td><td>0.86 </td><td>0.22 </td><td>-0.21</td><td>...  </td><td> 0.99</td><td> 0.37</td><td> 1.00</td><td> 0.98</td><td> 0.24</td><td> 0.53</td><td> 0.62</td><td> 0.82</td><td> 0.27</td><td> 0.14</td></tr>\n",
       "\t<tr><th scope=row>area_worst</th><td> 0.94</td><td> 0.34</td><td> 0.94</td><td> 0.96</td><td> 0.21</td><td>0.51 </td><td>0.68 </td><td>0.81 </td><td>0.18 </td><td>-0.23</td><td>...  </td><td> 0.98</td><td> 0.35</td><td> 0.98</td><td> 1.00</td><td> 0.21</td><td> 0.44</td><td> 0.54</td><td> 0.75</td><td> 0.21</td><td> 0.08</td></tr>\n",
       "\t<tr><th scope=row>smoothness_worst</th><td> 0.12</td><td> 0.08</td><td> 0.15</td><td> 0.12</td><td> 0.81</td><td>0.57 </td><td>0.45 </td><td>0.45 </td><td>0.43 </td><td> 0.50</td><td>...  </td><td> 0.22</td><td> 0.23</td><td> 0.24</td><td> 0.21</td><td> 1.00</td><td> 0.57</td><td> 0.52</td><td> 0.55</td><td> 0.49</td><td> 0.62</td></tr>\n",
       "\t<tr><th scope=row>compactness_worst</th><td> 0.41</td><td> 0.28</td><td> 0.46</td><td> 0.39</td><td> 0.47</td><td>0.87 </td><td>0.75 </td><td>0.67 </td><td>0.47 </td><td> 0.46</td><td>...  </td><td> 0.48</td><td> 0.36</td><td> 0.53</td><td> 0.44</td><td> 0.57</td><td> 1.00</td><td> 0.89</td><td> 0.80</td><td> 0.61</td><td> 0.81</td></tr>\n",
       "\t<tr><th scope=row>concavity_worst</th><td> 0.53</td><td> 0.30</td><td> 0.56</td><td> 0.51</td><td> 0.43</td><td>0.82 </td><td>0.88 </td><td>0.75 </td><td>0.43 </td><td> 0.35</td><td>...  </td><td> 0.57</td><td> 0.37</td><td> 0.62</td><td> 0.54</td><td> 0.52</td><td> 0.89</td><td> 1.00</td><td> 0.86</td><td> 0.53</td><td> 0.69</td></tr>\n",
       "\t<tr><th scope=row>concave_points_worst</th><td> 0.74</td><td> 0.30</td><td> 0.77</td><td> 0.72</td><td> 0.50</td><td>0.82 </td><td>0.86 </td><td>0.91 </td><td>0.43 </td><td> 0.18</td><td>...  </td><td> 0.79</td><td> 0.36</td><td> 0.82</td><td> 0.75</td><td> 0.55</td><td> 0.80</td><td> 0.86</td><td> 1.00</td><td> 0.50</td><td> 0.51</td></tr>\n",
       "\t<tr><th scope=row>symmetry_worst</th><td> 0.16</td><td> 0.11</td><td> 0.19</td><td> 0.14</td><td> 0.39</td><td>0.51 </td><td>0.41 </td><td>0.38 </td><td>0.70 </td><td> 0.33</td><td>...  </td><td> 0.24</td><td> 0.23</td><td> 0.27</td><td> 0.21</td><td> 0.49</td><td> 0.61</td><td> 0.53</td><td> 0.50</td><td> 1.00</td><td> 0.54</td></tr>\n",
       "\t<tr><th scope=row>fractal_dimension_worst</th><td> 0.01</td><td> 0.12</td><td> 0.05</td><td> 0.00</td><td> 0.50</td><td>0.69 </td><td>0.51 </td><td>0.37 </td><td>0.44 </td><td> 0.77</td><td>...  </td><td> 0.09</td><td> 0.22</td><td> 0.14</td><td> 0.08</td><td> 0.62</td><td> 0.81</td><td> 0.69</td><td> 0.51</td><td> 0.54</td><td> 1.00</td></tr>\n",
       "</tbody>\n",
       "</table>\n"
      ],
      "text/latex": [
       "\\begin{tabular}{r|llllllllllllllllllllllllllllll}\n",
       "  & radius\\_mean & texture\\_mean & perimeter\\_mean & area\\_mean & smoothness\\_mean & compactness\\_mean & concavity\\_mean & concave\\_points\\_mean & symmetry\\_mean & fractal\\_dimension\\_mean & ... & radius\\_worst & texture\\_worst & perimeter\\_worst & area\\_worst & smoothness\\_worst & compactness\\_worst & concavity\\_worst & concave\\_points\\_worst & symmetry\\_worst & fractal\\_dimension\\_worst\\\\\n",
       "\\hline\n",
       "\tradius\\_mean &  1.00 &  0.32 &  1.00 &  0.99 &  0.17 & 0.51  & 0.68  & 0.82  & 0.15  & -0.31 & ...   &  0.97 &  0.30 &  0.97 &  0.94 &  0.12 &  0.41 &  0.53 &  0.74 &  0.16 &  0.01\\\\\n",
       "\ttexture\\_mean &  0.32 &  1.00 &  0.33 &  0.32 & -0.02 & 0.24  & 0.30  & 0.29  & 0.07  & -0.08 & ...   &  0.35 &  0.91 &  0.36 &  0.34 &  0.08 &  0.28 &  0.30 &  0.30 &  0.11 &  0.12\\\\\n",
       "\tperimeter\\_mean &  1.00 &  0.33 &  1.00 &  0.99 &  0.21 & 0.56  & 0.72  & 0.85  & 0.18  & -0.26 & ...   &  0.97 &  0.30 &  0.97 &  0.94 &  0.15 &  0.46 &  0.56 &  0.77 &  0.19 &  0.05\\\\\n",
       "\tarea\\_mean &  0.99 &  0.32 &  0.99 &  1.00 &  0.18 & 0.50  & 0.69  & 0.82  & 0.15  & -0.28 & ...   &  0.96 &  0.29 &  0.96 &  0.96 &  0.12 &  0.39 &  0.51 &  0.72 &  0.14 &  0.00\\\\\n",
       "\tsmoothness\\_mean &  0.17 & -0.02 &  0.21 &  0.18 &  1.00 & 0.66  & 0.52  & 0.55  & 0.56  &  0.58 & ...   &  0.21 &  0.04 &  0.24 &  0.21 &  0.81 &  0.47 &  0.43 &  0.50 &  0.39 &  0.50\\\\\n",
       "\tcompactness\\_mean &  0.51 &  0.24 &  0.56 &  0.50 &  0.66 & 1.00  & 0.88  & 0.83  & 0.60  &  0.57 & ...   &  0.54 &  0.25 &  0.59 &  0.51 &  0.57 &  0.87 &  0.82 &  0.82 &  0.51 &  0.69\\\\\n",
       "\tconcavity\\_mean &  0.68 &  0.30 &  0.72 &  0.69 &  0.52 & 0.88  & 1.00  & 0.92  & 0.50  &  0.34 & ...   &  0.69 &  0.30 &  0.73 &  0.68 &  0.45 &  0.75 &  0.88 &  0.86 &  0.41 &  0.51\\\\\n",
       "\tconcave\\_points\\_mean &  0.82 &  0.29 &  0.85 &  0.82 &  0.55 & 0.83  & 0.92  & 1.00  & 0.46  &  0.17 & ...   &  0.83 &  0.29 &  0.86 &  0.81 &  0.45 &  0.67 &  0.75 &  0.91 &  0.38 &  0.37\\\\\n",
       "\tsymmetry\\_mean &  0.15 &  0.07 &  0.18 &  0.15 &  0.56 & 0.60  & 0.50  & 0.46  & 1.00  &  0.48 & ...   &  0.19 &  0.09 &  0.22 &  0.18 &  0.43 &  0.47 &  0.43 &  0.43 &  0.70 &  0.44\\\\\n",
       "\tfractal\\_dimension\\_mean & -0.31 & -0.08 & -0.26 & -0.28 &  0.58 & 0.57  & 0.34  & 0.17  & 0.48  &  1.00 & ...   & -0.25 & -0.05 & -0.21 & -0.23 &  0.50 &  0.46 &  0.35 &  0.18 &  0.33 &  0.77\\\\\n",
       "\tradius\\_se &  0.68 &  0.28 &  0.69 &  0.73 &  0.30 & 0.50  & 0.63  & 0.70  & 0.30  &  0.00 & ...   &  0.72 &  0.19 &  0.72 &  0.75 &  0.14 &  0.29 &  0.38 &  0.53 &  0.09 &  0.05\\\\\n",
       "\ttexture\\_se & -0.10 &  0.39 & -0.09 & -0.07 &  0.07 & 0.05  & 0.08  & 0.02  & 0.13  &  0.16 & ...   & -0.11 &  0.41 & -0.10 & -0.08 & -0.07 & -0.09 & -0.07 & -0.12 & -0.13 & -0.05\\\\\n",
       "\tperimeter\\_se &  0.67 &  0.28 &  0.69 &  0.73 &  0.30 & 0.55  & 0.66  & 0.71  & 0.31  &  0.04 & ...   &  0.70 &  0.20 &  0.72 &  0.73 &  0.13 &  0.34 &  0.42 &  0.55 &  0.11 &  0.09\\\\\n",
       "\tarea\\_se &  0.74 &  0.26 &  0.74 &  0.80 &  0.25 & 0.46  & 0.62  & 0.69  & 0.22  & -0.09 & ...   &  0.76 &  0.20 &  0.76 &  0.81 &  0.13 &  0.28 &  0.39 &  0.54 &  0.07 &  0.02\\\\\n",
       "\tsmoothness\\_se & -0.22 &  0.01 & -0.20 & -0.17 &  0.33 & 0.14  & 0.10  & 0.03  & 0.19  &  0.40 & ...   & -0.23 & -0.07 & -0.22 & -0.18 &  0.31 & -0.06 & -0.06 & -0.10 & -0.11 &  0.10\\\\\n",
       "\tcompactness\\_se &  0.21 &  0.19 &  0.25 &  0.21 &  0.32 & 0.74  & 0.67  & 0.49  & 0.42  &  0.56 & ...   &  0.20 &  0.14 &  0.26 &  0.20 &  0.23 &  0.68 &  0.64 &  0.48 &  0.28 &  0.59\\\\\n",
       "\tconcavity\\_se &  0.19 &  0.14 &  0.23 &  0.21 &  0.25 & 0.57  & 0.69  & 0.44  & 0.34  &  0.45 & ...   &  0.19 &  0.10 &  0.23 &  0.19 &  0.17 &  0.48 &  0.66 &  0.44 &  0.20 &  0.44\\\\\n",
       "\tconcave\\_points\\_se &  0.38 &  0.16 &  0.41 &  0.37 &  0.38 & 0.64  & 0.68  & 0.62  & 0.39  &  0.34 & ...   &  0.36 &  0.09 &  0.39 &  0.34 &  0.22 &  0.45 &  0.55 &  0.60 &  0.14 &  0.31\\\\\n",
       "\tsymmetry\\_se & -0.10 &  0.01 & -0.08 & -0.07 &  0.20 & 0.23  & 0.18  & 0.10  & 0.45  &  0.35 & ...   & -0.13 & -0.08 & -0.10 & -0.11 & -0.01 &  0.06 &  0.04 & -0.03 &  0.39 &  0.08\\\\\n",
       "\tfractal\\_dimension\\_se & -0.04 &  0.05 & -0.01 & -0.02 &  0.28 & 0.51  & 0.45  & 0.26  & 0.33  &  0.69 & ...   & -0.04 &  0.00 &  0.00 & -0.02 &  0.17 &  0.39 &  0.38 &  0.22 &  0.11 &  0.59\\\\\n",
       "\tradius\\_worst &  0.97 &  0.35 &  0.97 &  0.96 &  0.21 & 0.54  & 0.69  & 0.83  & 0.19  & -0.25 & ...   &  1.00 &  0.36 &  0.99 &  0.98 &  0.22 &  0.48 &  0.57 &  0.79 &  0.24 &  0.09\\\\\n",
       "\ttexture\\_worst &  0.30 &  0.91 &  0.30 &  0.29 &  0.04 & 0.25  & 0.30  & 0.29  & 0.09  & -0.05 & ...   &  0.36 &  1.00 &  0.37 &  0.35 &  0.23 &  0.36 &  0.37 &  0.36 &  0.23 &  0.22\\\\\n",
       "\tperimeter\\_worst &  0.97 &  0.36 &  0.97 &  0.96 &  0.24 & 0.59  & 0.73  & 0.86  & 0.22  & -0.21 & ...   &  0.99 &  0.37 &  1.00 &  0.98 &  0.24 &  0.53 &  0.62 &  0.82 &  0.27 &  0.14\\\\\n",
       "\tarea\\_worst &  0.94 &  0.34 &  0.94 &  0.96 &  0.21 & 0.51  & 0.68  & 0.81  & 0.18  & -0.23 & ...   &  0.98 &  0.35 &  0.98 &  1.00 &  0.21 &  0.44 &  0.54 &  0.75 &  0.21 &  0.08\\\\\n",
       "\tsmoothness\\_worst &  0.12 &  0.08 &  0.15 &  0.12 &  0.81 & 0.57  & 0.45  & 0.45  & 0.43  &  0.50 & ...   &  0.22 &  0.23 &  0.24 &  0.21 &  1.00 &  0.57 &  0.52 &  0.55 &  0.49 &  0.62\\\\\n",
       "\tcompactness\\_worst &  0.41 &  0.28 &  0.46 &  0.39 &  0.47 & 0.87  & 0.75  & 0.67  & 0.47  &  0.46 & ...   &  0.48 &  0.36 &  0.53 &  0.44 &  0.57 &  1.00 &  0.89 &  0.80 &  0.61 &  0.81\\\\\n",
       "\tconcavity\\_worst &  0.53 &  0.30 &  0.56 &  0.51 &  0.43 & 0.82  & 0.88  & 0.75  & 0.43  &  0.35 & ...   &  0.57 &  0.37 &  0.62 &  0.54 &  0.52 &  0.89 &  1.00 &  0.86 &  0.53 &  0.69\\\\\n",
       "\tconcave\\_points\\_worst &  0.74 &  0.30 &  0.77 &  0.72 &  0.50 & 0.82  & 0.86  & 0.91  & 0.43  &  0.18 & ...   &  0.79 &  0.36 &  0.82 &  0.75 &  0.55 &  0.80 &  0.86 &  1.00 &  0.50 &  0.51\\\\\n",
       "\tsymmetry\\_worst &  0.16 &  0.11 &  0.19 &  0.14 &  0.39 & 0.51  & 0.41  & 0.38  & 0.70  &  0.33 & ...   &  0.24 &  0.23 &  0.27 &  0.21 &  0.49 &  0.61 &  0.53 &  0.50 &  1.00 &  0.54\\\\\n",
       "\tfractal\\_dimension\\_worst &  0.01 &  0.12 &  0.05 &  0.00 &  0.50 & 0.69  & 0.51  & 0.37  & 0.44  &  0.77 & ...   &  0.09 &  0.22 &  0.14 &  0.08 &  0.62 &  0.81 &  0.69 &  0.51 &  0.54 &  1.00\\\\\n",
       "\\end{tabular}\n"
      ],
      "text/markdown": [
       "\n",
       "| <!--/--> | radius_mean | texture_mean | perimeter_mean | area_mean | smoothness_mean | compactness_mean | concavity_mean | concave_points_mean | symmetry_mean | fractal_dimension_mean | ... | radius_worst | texture_worst | perimeter_worst | area_worst | smoothness_worst | compactness_worst | concavity_worst | concave_points_worst | symmetry_worst | fractal_dimension_worst | \n",
       "|---|---|---|---|---|---|---|---|---|---|---|---|---|---|---|---|---|---|---|---|---|---|---|---|---|---|---|---|---|---|\n",
       "| radius_mean |  1.00 |  0.32 |  1.00 |  0.99 |  0.17 | 0.51  | 0.68  | 0.82  | 0.15  | -0.31 | ...   |  0.97 |  0.30 |  0.97 |  0.94 |  0.12 |  0.41 |  0.53 |  0.74 |  0.16 |  0.01 | \n",
       "| texture_mean |  0.32 |  1.00 |  0.33 |  0.32 | -0.02 | 0.24  | 0.30  | 0.29  | 0.07  | -0.08 | ...   |  0.35 |  0.91 |  0.36 |  0.34 |  0.08 |  0.28 |  0.30 |  0.30 |  0.11 |  0.12 | \n",
       "| perimeter_mean |  1.00 |  0.33 |  1.00 |  0.99 |  0.21 | 0.56  | 0.72  | 0.85  | 0.18  | -0.26 | ...   |  0.97 |  0.30 |  0.97 |  0.94 |  0.15 |  0.46 |  0.56 |  0.77 |  0.19 |  0.05 | \n",
       "| area_mean |  0.99 |  0.32 |  0.99 |  1.00 |  0.18 | 0.50  | 0.69  | 0.82  | 0.15  | -0.28 | ...   |  0.96 |  0.29 |  0.96 |  0.96 |  0.12 |  0.39 |  0.51 |  0.72 |  0.14 |  0.00 | \n",
       "| smoothness_mean |  0.17 | -0.02 |  0.21 |  0.18 |  1.00 | 0.66  | 0.52  | 0.55  | 0.56  |  0.58 | ...   |  0.21 |  0.04 |  0.24 |  0.21 |  0.81 |  0.47 |  0.43 |  0.50 |  0.39 |  0.50 | \n",
       "| compactness_mean |  0.51 |  0.24 |  0.56 |  0.50 |  0.66 | 1.00  | 0.88  | 0.83  | 0.60  |  0.57 | ...   |  0.54 |  0.25 |  0.59 |  0.51 |  0.57 |  0.87 |  0.82 |  0.82 |  0.51 |  0.69 | \n",
       "| concavity_mean |  0.68 |  0.30 |  0.72 |  0.69 |  0.52 | 0.88  | 1.00  | 0.92  | 0.50  |  0.34 | ...   |  0.69 |  0.30 |  0.73 |  0.68 |  0.45 |  0.75 |  0.88 |  0.86 |  0.41 |  0.51 | \n",
       "| concave_points_mean |  0.82 |  0.29 |  0.85 |  0.82 |  0.55 | 0.83  | 0.92  | 1.00  | 0.46  |  0.17 | ...   |  0.83 |  0.29 |  0.86 |  0.81 |  0.45 |  0.67 |  0.75 |  0.91 |  0.38 |  0.37 | \n",
       "| symmetry_mean |  0.15 |  0.07 |  0.18 |  0.15 |  0.56 | 0.60  | 0.50  | 0.46  | 1.00  |  0.48 | ...   |  0.19 |  0.09 |  0.22 |  0.18 |  0.43 |  0.47 |  0.43 |  0.43 |  0.70 |  0.44 | \n",
       "| fractal_dimension_mean | -0.31 | -0.08 | -0.26 | -0.28 |  0.58 | 0.57  | 0.34  | 0.17  | 0.48  |  1.00 | ...   | -0.25 | -0.05 | -0.21 | -0.23 |  0.50 |  0.46 |  0.35 |  0.18 |  0.33 |  0.77 | \n",
       "| radius_se |  0.68 |  0.28 |  0.69 |  0.73 |  0.30 | 0.50  | 0.63  | 0.70  | 0.30  |  0.00 | ...   |  0.72 |  0.19 |  0.72 |  0.75 |  0.14 |  0.29 |  0.38 |  0.53 |  0.09 |  0.05 | \n",
       "| texture_se | -0.10 |  0.39 | -0.09 | -0.07 |  0.07 | 0.05  | 0.08  | 0.02  | 0.13  |  0.16 | ...   | -0.11 |  0.41 | -0.10 | -0.08 | -0.07 | -0.09 | -0.07 | -0.12 | -0.13 | -0.05 | \n",
       "| perimeter_se |  0.67 |  0.28 |  0.69 |  0.73 |  0.30 | 0.55  | 0.66  | 0.71  | 0.31  |  0.04 | ...   |  0.70 |  0.20 |  0.72 |  0.73 |  0.13 |  0.34 |  0.42 |  0.55 |  0.11 |  0.09 | \n",
       "| area_se |  0.74 |  0.26 |  0.74 |  0.80 |  0.25 | 0.46  | 0.62  | 0.69  | 0.22  | -0.09 | ...   |  0.76 |  0.20 |  0.76 |  0.81 |  0.13 |  0.28 |  0.39 |  0.54 |  0.07 |  0.02 | \n",
       "| smoothness_se | -0.22 |  0.01 | -0.20 | -0.17 |  0.33 | 0.14  | 0.10  | 0.03  | 0.19  |  0.40 | ...   | -0.23 | -0.07 | -0.22 | -0.18 |  0.31 | -0.06 | -0.06 | -0.10 | -0.11 |  0.10 | \n",
       "| compactness_se |  0.21 |  0.19 |  0.25 |  0.21 |  0.32 | 0.74  | 0.67  | 0.49  | 0.42  |  0.56 | ...   |  0.20 |  0.14 |  0.26 |  0.20 |  0.23 |  0.68 |  0.64 |  0.48 |  0.28 |  0.59 | \n",
       "| concavity_se |  0.19 |  0.14 |  0.23 |  0.21 |  0.25 | 0.57  | 0.69  | 0.44  | 0.34  |  0.45 | ...   |  0.19 |  0.10 |  0.23 |  0.19 |  0.17 |  0.48 |  0.66 |  0.44 |  0.20 |  0.44 | \n",
       "| concave_points_se |  0.38 |  0.16 |  0.41 |  0.37 |  0.38 | 0.64  | 0.68  | 0.62  | 0.39  |  0.34 | ...   |  0.36 |  0.09 |  0.39 |  0.34 |  0.22 |  0.45 |  0.55 |  0.60 |  0.14 |  0.31 | \n",
       "| symmetry_se | -0.10 |  0.01 | -0.08 | -0.07 |  0.20 | 0.23  | 0.18  | 0.10  | 0.45  |  0.35 | ...   | -0.13 | -0.08 | -0.10 | -0.11 | -0.01 |  0.06 |  0.04 | -0.03 |  0.39 |  0.08 | \n",
       "| fractal_dimension_se | -0.04 |  0.05 | -0.01 | -0.02 |  0.28 | 0.51  | 0.45  | 0.26  | 0.33  |  0.69 | ...   | -0.04 |  0.00 |  0.00 | -0.02 |  0.17 |  0.39 |  0.38 |  0.22 |  0.11 |  0.59 | \n",
       "| radius_worst |  0.97 |  0.35 |  0.97 |  0.96 |  0.21 | 0.54  | 0.69  | 0.83  | 0.19  | -0.25 | ...   |  1.00 |  0.36 |  0.99 |  0.98 |  0.22 |  0.48 |  0.57 |  0.79 |  0.24 |  0.09 | \n",
       "| texture_worst |  0.30 |  0.91 |  0.30 |  0.29 |  0.04 | 0.25  | 0.30  | 0.29  | 0.09  | -0.05 | ...   |  0.36 |  1.00 |  0.37 |  0.35 |  0.23 |  0.36 |  0.37 |  0.36 |  0.23 |  0.22 | \n",
       "| perimeter_worst |  0.97 |  0.36 |  0.97 |  0.96 |  0.24 | 0.59  | 0.73  | 0.86  | 0.22  | -0.21 | ...   |  0.99 |  0.37 |  1.00 |  0.98 |  0.24 |  0.53 |  0.62 |  0.82 |  0.27 |  0.14 | \n",
       "| area_worst |  0.94 |  0.34 |  0.94 |  0.96 |  0.21 | 0.51  | 0.68  | 0.81  | 0.18  | -0.23 | ...   |  0.98 |  0.35 |  0.98 |  1.00 |  0.21 |  0.44 |  0.54 |  0.75 |  0.21 |  0.08 | \n",
       "| smoothness_worst |  0.12 |  0.08 |  0.15 |  0.12 |  0.81 | 0.57  | 0.45  | 0.45  | 0.43  |  0.50 | ...   |  0.22 |  0.23 |  0.24 |  0.21 |  1.00 |  0.57 |  0.52 |  0.55 |  0.49 |  0.62 | \n",
       "| compactness_worst |  0.41 |  0.28 |  0.46 |  0.39 |  0.47 | 0.87  | 0.75  | 0.67  | 0.47  |  0.46 | ...   |  0.48 |  0.36 |  0.53 |  0.44 |  0.57 |  1.00 |  0.89 |  0.80 |  0.61 |  0.81 | \n",
       "| concavity_worst |  0.53 |  0.30 |  0.56 |  0.51 |  0.43 | 0.82  | 0.88  | 0.75  | 0.43  |  0.35 | ...   |  0.57 |  0.37 |  0.62 |  0.54 |  0.52 |  0.89 |  1.00 |  0.86 |  0.53 |  0.69 | \n",
       "| concave_points_worst |  0.74 |  0.30 |  0.77 |  0.72 |  0.50 | 0.82  | 0.86  | 0.91  | 0.43  |  0.18 | ...   |  0.79 |  0.36 |  0.82 |  0.75 |  0.55 |  0.80 |  0.86 |  1.00 |  0.50 |  0.51 | \n",
       "| symmetry_worst |  0.16 |  0.11 |  0.19 |  0.14 |  0.39 | 0.51  | 0.41  | 0.38  | 0.70  |  0.33 | ...   |  0.24 |  0.23 |  0.27 |  0.21 |  0.49 |  0.61 |  0.53 |  0.50 |  1.00 |  0.54 | \n",
       "| fractal_dimension_worst |  0.01 |  0.12 |  0.05 |  0.00 |  0.50 | 0.69  | 0.51  | 0.37  | 0.44  |  0.77 | ...   |  0.09 |  0.22 |  0.14 |  0.08 |  0.62 |  0.81 |  0.69 |  0.51 |  0.54 |  1.00 | \n",
       "\n",
       "\n"
      ],
      "text/plain": [
       "                        radius_mean texture_mean perimeter_mean area_mean\n",
       "radius_mean              1.00        0.32         1.00           0.99    \n",
       "texture_mean             0.32        1.00         0.33           0.32    \n",
       "perimeter_mean           1.00        0.33         1.00           0.99    \n",
       "area_mean                0.99        0.32         0.99           1.00    \n",
       "smoothness_mean          0.17       -0.02         0.21           0.18    \n",
       "compactness_mean         0.51        0.24         0.56           0.50    \n",
       "concavity_mean           0.68        0.30         0.72           0.69    \n",
       "concave_points_mean      0.82        0.29         0.85           0.82    \n",
       "symmetry_mean            0.15        0.07         0.18           0.15    \n",
       "fractal_dimension_mean  -0.31       -0.08        -0.26          -0.28    \n",
       "radius_se                0.68        0.28         0.69           0.73    \n",
       "texture_se              -0.10        0.39        -0.09          -0.07    \n",
       "perimeter_se             0.67        0.28         0.69           0.73    \n",
       "area_se                  0.74        0.26         0.74           0.80    \n",
       "smoothness_se           -0.22        0.01        -0.20          -0.17    \n",
       "compactness_se           0.21        0.19         0.25           0.21    \n",
       "concavity_se             0.19        0.14         0.23           0.21    \n",
       "concave_points_se        0.38        0.16         0.41           0.37    \n",
       "symmetry_se             -0.10        0.01        -0.08          -0.07    \n",
       "fractal_dimension_se    -0.04        0.05        -0.01          -0.02    \n",
       "radius_worst             0.97        0.35         0.97           0.96    \n",
       "texture_worst            0.30        0.91         0.30           0.29    \n",
       "perimeter_worst          0.97        0.36         0.97           0.96    \n",
       "area_worst               0.94        0.34         0.94           0.96    \n",
       "smoothness_worst         0.12        0.08         0.15           0.12    \n",
       "compactness_worst        0.41        0.28         0.46           0.39    \n",
       "concavity_worst          0.53        0.30         0.56           0.51    \n",
       "concave_points_worst     0.74        0.30         0.77           0.72    \n",
       "symmetry_worst           0.16        0.11         0.19           0.14    \n",
       "fractal_dimension_worst  0.01        0.12         0.05           0.00    \n",
       "                        smoothness_mean compactness_mean concavity_mean\n",
       "radius_mean              0.17           0.51             0.68          \n",
       "texture_mean            -0.02           0.24             0.30          \n",
       "perimeter_mean           0.21           0.56             0.72          \n",
       "area_mean                0.18           0.50             0.69          \n",
       "smoothness_mean          1.00           0.66             0.52          \n",
       "compactness_mean         0.66           1.00             0.88          \n",
       "concavity_mean           0.52           0.88             1.00          \n",
       "concave_points_mean      0.55           0.83             0.92          \n",
       "symmetry_mean            0.56           0.60             0.50          \n",
       "fractal_dimension_mean   0.58           0.57             0.34          \n",
       "radius_se                0.30           0.50             0.63          \n",
       "texture_se               0.07           0.05             0.08          \n",
       "perimeter_se             0.30           0.55             0.66          \n",
       "area_se                  0.25           0.46             0.62          \n",
       "smoothness_se            0.33           0.14             0.10          \n",
       "compactness_se           0.32           0.74             0.67          \n",
       "concavity_se             0.25           0.57             0.69          \n",
       "concave_points_se        0.38           0.64             0.68          \n",
       "symmetry_se              0.20           0.23             0.18          \n",
       "fractal_dimension_se     0.28           0.51             0.45          \n",
       "radius_worst             0.21           0.54             0.69          \n",
       "texture_worst            0.04           0.25             0.30          \n",
       "perimeter_worst          0.24           0.59             0.73          \n",
       "area_worst               0.21           0.51             0.68          \n",
       "smoothness_worst         0.81           0.57             0.45          \n",
       "compactness_worst        0.47           0.87             0.75          \n",
       "concavity_worst          0.43           0.82             0.88          \n",
       "concave_points_worst     0.50           0.82             0.86          \n",
       "symmetry_worst           0.39           0.51             0.41          \n",
       "fractal_dimension_worst  0.50           0.69             0.51          \n",
       "                        concave_points_mean symmetry_mean\n",
       "radius_mean             0.82                0.15         \n",
       "texture_mean            0.29                0.07         \n",
       "perimeter_mean          0.85                0.18         \n",
       "area_mean               0.82                0.15         \n",
       "smoothness_mean         0.55                0.56         \n",
       "compactness_mean        0.83                0.60         \n",
       "concavity_mean          0.92                0.50         \n",
       "concave_points_mean     1.00                0.46         \n",
       "symmetry_mean           0.46                1.00         \n",
       "fractal_dimension_mean  0.17                0.48         \n",
       "radius_se               0.70                0.30         \n",
       "texture_se              0.02                0.13         \n",
       "perimeter_se            0.71                0.31         \n",
       "area_se                 0.69                0.22         \n",
       "smoothness_se           0.03                0.19         \n",
       "compactness_se          0.49                0.42         \n",
       "concavity_se            0.44                0.34         \n",
       "concave_points_se       0.62                0.39         \n",
       "symmetry_se             0.10                0.45         \n",
       "fractal_dimension_se    0.26                0.33         \n",
       "radius_worst            0.83                0.19         \n",
       "texture_worst           0.29                0.09         \n",
       "perimeter_worst         0.86                0.22         \n",
       "area_worst              0.81                0.18         \n",
       "smoothness_worst        0.45                0.43         \n",
       "compactness_worst       0.67                0.47         \n",
       "concavity_worst         0.75                0.43         \n",
       "concave_points_worst    0.91                0.43         \n",
       "symmetry_worst          0.38                0.70         \n",
       "fractal_dimension_worst 0.37                0.44         \n",
       "                        fractal_dimension_mean ... radius_worst texture_worst\n",
       "radius_mean             -0.31                  ...  0.97         0.30        \n",
       "texture_mean            -0.08                  ...  0.35         0.91        \n",
       "perimeter_mean          -0.26                  ...  0.97         0.30        \n",
       "area_mean               -0.28                  ...  0.96         0.29        \n",
       "smoothness_mean          0.58                  ...  0.21         0.04        \n",
       "compactness_mean         0.57                  ...  0.54         0.25        \n",
       "concavity_mean           0.34                  ...  0.69         0.30        \n",
       "concave_points_mean      0.17                  ...  0.83         0.29        \n",
       "symmetry_mean            0.48                  ...  0.19         0.09        \n",
       "fractal_dimension_mean   1.00                  ... -0.25        -0.05        \n",
       "radius_se                0.00                  ...  0.72         0.19        \n",
       "texture_se               0.16                  ... -0.11         0.41        \n",
       "perimeter_se             0.04                  ...  0.70         0.20        \n",
       "area_se                 -0.09                  ...  0.76         0.20        \n",
       "smoothness_se            0.40                  ... -0.23        -0.07        \n",
       "compactness_se           0.56                  ...  0.20         0.14        \n",
       "concavity_se             0.45                  ...  0.19         0.10        \n",
       "concave_points_se        0.34                  ...  0.36         0.09        \n",
       "symmetry_se              0.35                  ... -0.13        -0.08        \n",
       "fractal_dimension_se     0.69                  ... -0.04         0.00        \n",
       "radius_worst            -0.25                  ...  1.00         0.36        \n",
       "texture_worst           -0.05                  ...  0.36         1.00        \n",
       "perimeter_worst         -0.21                  ...  0.99         0.37        \n",
       "area_worst              -0.23                  ...  0.98         0.35        \n",
       "smoothness_worst         0.50                  ...  0.22         0.23        \n",
       "compactness_worst        0.46                  ...  0.48         0.36        \n",
       "concavity_worst          0.35                  ...  0.57         0.37        \n",
       "concave_points_worst     0.18                  ...  0.79         0.36        \n",
       "symmetry_worst           0.33                  ...  0.24         0.23        \n",
       "fractal_dimension_worst  0.77                  ...  0.09         0.22        \n",
       "                        perimeter_worst area_worst smoothness_worst\n",
       "radius_mean              0.97            0.94       0.12           \n",
       "texture_mean             0.36            0.34       0.08           \n",
       "perimeter_mean           0.97            0.94       0.15           \n",
       "area_mean                0.96            0.96       0.12           \n",
       "smoothness_mean          0.24            0.21       0.81           \n",
       "compactness_mean         0.59            0.51       0.57           \n",
       "concavity_mean           0.73            0.68       0.45           \n",
       "concave_points_mean      0.86            0.81       0.45           \n",
       "symmetry_mean            0.22            0.18       0.43           \n",
       "fractal_dimension_mean  -0.21           -0.23       0.50           \n",
       "radius_se                0.72            0.75       0.14           \n",
       "texture_se              -0.10           -0.08      -0.07           \n",
       "perimeter_se             0.72            0.73       0.13           \n",
       "area_se                  0.76            0.81       0.13           \n",
       "smoothness_se           -0.22           -0.18       0.31           \n",
       "compactness_se           0.26            0.20       0.23           \n",
       "concavity_se             0.23            0.19       0.17           \n",
       "concave_points_se        0.39            0.34       0.22           \n",
       "symmetry_se             -0.10           -0.11      -0.01           \n",
       "fractal_dimension_se     0.00           -0.02       0.17           \n",
       "radius_worst             0.99            0.98       0.22           \n",
       "texture_worst            0.37            0.35       0.23           \n",
       "perimeter_worst          1.00            0.98       0.24           \n",
       "area_worst               0.98            1.00       0.21           \n",
       "smoothness_worst         0.24            0.21       1.00           \n",
       "compactness_worst        0.53            0.44       0.57           \n",
       "concavity_worst          0.62            0.54       0.52           \n",
       "concave_points_worst     0.82            0.75       0.55           \n",
       "symmetry_worst           0.27            0.21       0.49           \n",
       "fractal_dimension_worst  0.14            0.08       0.62           \n",
       "                        compactness_worst concavity_worst concave_points_worst\n",
       "radius_mean              0.41              0.53            0.74               \n",
       "texture_mean             0.28              0.30            0.30               \n",
       "perimeter_mean           0.46              0.56            0.77               \n",
       "area_mean                0.39              0.51            0.72               \n",
       "smoothness_mean          0.47              0.43            0.50               \n",
       "compactness_mean         0.87              0.82            0.82               \n",
       "concavity_mean           0.75              0.88            0.86               \n",
       "concave_points_mean      0.67              0.75            0.91               \n",
       "symmetry_mean            0.47              0.43            0.43               \n",
       "fractal_dimension_mean   0.46              0.35            0.18               \n",
       "radius_se                0.29              0.38            0.53               \n",
       "texture_se              -0.09             -0.07           -0.12               \n",
       "perimeter_se             0.34              0.42            0.55               \n",
       "area_se                  0.28              0.39            0.54               \n",
       "smoothness_se           -0.06             -0.06           -0.10               \n",
       "compactness_se           0.68              0.64            0.48               \n",
       "concavity_se             0.48              0.66            0.44               \n",
       "concave_points_se        0.45              0.55            0.60               \n",
       "symmetry_se              0.06              0.04           -0.03               \n",
       "fractal_dimension_se     0.39              0.38            0.22               \n",
       "radius_worst             0.48              0.57            0.79               \n",
       "texture_worst            0.36              0.37            0.36               \n",
       "perimeter_worst          0.53              0.62            0.82               \n",
       "area_worst               0.44              0.54            0.75               \n",
       "smoothness_worst         0.57              0.52            0.55               \n",
       "compactness_worst        1.00              0.89            0.80               \n",
       "concavity_worst          0.89              1.00            0.86               \n",
       "concave_points_worst     0.80              0.86            1.00               \n",
       "symmetry_worst           0.61              0.53            0.50               \n",
       "fractal_dimension_worst  0.81              0.69            0.51               \n",
       "                        symmetry_worst fractal_dimension_worst\n",
       "radius_mean              0.16           0.01                  \n",
       "texture_mean             0.11           0.12                  \n",
       "perimeter_mean           0.19           0.05                  \n",
       "area_mean                0.14           0.00                  \n",
       "smoothness_mean          0.39           0.50                  \n",
       "compactness_mean         0.51           0.69                  \n",
       "concavity_mean           0.41           0.51                  \n",
       "concave_points_mean      0.38           0.37                  \n",
       "symmetry_mean            0.70           0.44                  \n",
       "fractal_dimension_mean   0.33           0.77                  \n",
       "radius_se                0.09           0.05                  \n",
       "texture_se              -0.13          -0.05                  \n",
       "perimeter_se             0.11           0.09                  \n",
       "area_se                  0.07           0.02                  \n",
       "smoothness_se           -0.11           0.10                  \n",
       "compactness_se           0.28           0.59                  \n",
       "concavity_se             0.20           0.44                  \n",
       "concave_points_se        0.14           0.31                  \n",
       "symmetry_se              0.39           0.08                  \n",
       "fractal_dimension_se     0.11           0.59                  \n",
       "radius_worst             0.24           0.09                  \n",
       "texture_worst            0.23           0.22                  \n",
       "perimeter_worst          0.27           0.14                  \n",
       "area_worst               0.21           0.08                  \n",
       "smoothness_worst         0.49           0.62                  \n",
       "compactness_worst        0.61           0.81                  \n",
       "concavity_worst          0.53           0.69                  \n",
       "concave_points_worst     0.50           0.51                  \n",
       "symmetry_worst           1.00           0.54                  \n",
       "fractal_dimension_worst  0.54           1.00                  "
      ]
     },
     "metadata": {},
     "output_type": "display_data"
    },
    {
     "data": {
      "text/html": [
       "<table>\n",
       "<thead><tr><th></th><th scope=col>radius_mean</th><th scope=col>texture_mean</th><th scope=col>perimeter_mean</th><th scope=col>area_mean</th><th scope=col>smoothness_mean</th><th scope=col>compactness_mean</th><th scope=col>concavity_mean</th><th scope=col>concave_points_mean</th><th scope=col>symmetry_mean</th><th scope=col>fractal_dimension_mean</th><th scope=col>...</th><th scope=col>radius_worst</th><th scope=col>texture_worst</th><th scope=col>perimeter_worst</th><th scope=col>area_worst</th><th scope=col>smoothness_worst</th><th scope=col>compactness_worst</th><th scope=col>concavity_worst</th><th scope=col>concave_points_worst</th><th scope=col>symmetry_worst</th><th scope=col>fractal_dimension_worst</th></tr></thead>\n",
       "<tbody>\n",
       "\t<tr><th scope=row>radius_mean</th><td> 1.000000000 </td><td> 0.323781891 </td><td> 0.997855281 </td><td> 0.987357170 </td><td> 0.17058119  </td><td>0.50612358   </td><td>0.67676355   </td><td>0.82252852   </td><td>0.14774124   </td><td>-0.3116308263</td><td>...          </td><td> 0.96953897  </td><td> 0.297007644 </td><td> 0.965136514 </td><td> 0.94108246  </td><td> 0.11961614  </td><td> 0.41346282  </td><td> 0.52691146  </td><td> 0.7442142   </td><td> 0.16395333  </td><td> 0.007065886 </td></tr>\n",
       "\t<tr><th scope=row>texture_mean</th><td> 0.323781891 </td><td> 1.000000000 </td><td> 0.329533059 </td><td> 0.321085696 </td><td>-0.02338852  </td><td>0.23670222   </td><td>0.30241783   </td><td>0.29346405   </td><td>0.07140098   </td><td>-0.0764371834</td><td>...          </td><td> 0.35257295  </td><td> 0.912044589 </td><td> 0.358039575 </td><td> 0.34354595  </td><td> 0.07750336  </td><td> 0.27782959  </td><td> 0.30102522  </td><td> 0.2953158   </td><td> 0.10500791  </td><td> 0.119205351 </td></tr>\n",
       "\t<tr><th scope=row>perimeter_mean</th><td> 0.997855281 </td><td> 0.329533059 </td><td> 1.000000000 </td><td> 0.986506804 </td><td> 0.20727816  </td><td>0.55693621   </td><td>0.71613565   </td><td>0.85097704   </td><td>0.18302721   </td><td>-0.2614769081</td><td>...          </td><td> 0.96947636  </td><td> 0.303038372 </td><td> 0.970386887 </td><td> 0.94154981  </td><td> 0.15054940  </td><td> 0.45577423  </td><td> 0.56387926  </td><td> 0.7712408   </td><td> 0.18911504  </td><td> 0.051018530 </td></tr>\n",
       "\t<tr><th scope=row>area_mean</th><td> 0.987357170 </td><td> 0.321085696 </td><td> 0.986506804 </td><td> 1.000000000 </td><td> 0.17702838  </td><td>0.49850168   </td><td>0.68598283   </td><td>0.82326887   </td><td>0.15129308   </td><td>-0.2831098117</td><td>...          </td><td> 0.96274609  </td><td> 0.287488627 </td><td> 0.959119574 </td><td> 0.95921333  </td><td> 0.12352294  </td><td> 0.39041031  </td><td> 0.51260592  </td><td> 0.7220166   </td><td> 0.14356991  </td><td> 0.003737597 </td></tr>\n",
       "\t<tr><th scope=row>smoothness_mean</th><td> 0.170581187 </td><td>-0.023388516 </td><td> 0.207278164 </td><td> 0.177028377 </td><td> 1.00000000  </td><td>0.65912322   </td><td>0.52198377   </td><td>0.55369517   </td><td>0.55777479   </td><td> 0.5847920019</td><td>...          </td><td> 0.21312014  </td><td> 0.036071799 </td><td> 0.238852626 </td><td> 0.20671836  </td><td> 0.80532420  </td><td> 0.47246844  </td><td> 0.43492571  </td><td> 0.5030534   </td><td> 0.39430948  </td><td> 0.499316369 </td></tr>\n",
       "\t<tr><th scope=row>compactness_mean</th><td> 0.506123578 </td><td> 0.236702222 </td><td> 0.556936211 </td><td> 0.498501682 </td><td> 0.65912322  </td><td>1.00000000   </td><td>0.88312067   </td><td>0.83113504   </td><td>0.60264105   </td><td> 0.5653686634</td><td>...          </td><td> 0.53531540  </td><td> 0.248132833 </td><td> 0.590210428 </td><td> 0.50960381  </td><td> 0.56554117  </td><td> 0.86580904  </td><td> 0.81627525  </td><td> 0.8155732   </td><td> 0.51022343  </td><td> 0.687382323 </td></tr>\n",
       "\t<tr><th scope=row>concavity_mean</th><td> 0.676763550 </td><td> 0.302417828 </td><td> 0.716135650 </td><td> 0.685982829 </td><td> 0.52198377  </td><td>0.88312067   </td><td>1.00000000   </td><td>0.92139103   </td><td>0.50066662   </td><td> 0.3367833594</td><td>...          </td><td> 0.68823641  </td><td> 0.299878889 </td><td> 0.729564917 </td><td> 0.67598723  </td><td> 0.44882204  </td><td> 0.75496802  </td><td> 0.88410264  </td><td> 0.8613230   </td><td> 0.40946413  </td><td> 0.514929891 </td></tr>\n",
       "\t<tr><th scope=row>concave_points_mean</th><td> 0.822528522 </td><td> 0.293464051 </td><td> 0.850977041 </td><td> 0.823268869 </td><td> 0.55369517  </td><td>0.83113504   </td><td>0.92139103   </td><td>1.00000000   </td><td>0.46249739   </td><td> 0.1669173832</td><td>...          </td><td> 0.83031763  </td><td> 0.292751713 </td><td> 0.855923128 </td><td> 0.80962962  </td><td> 0.45275305  </td><td> 0.66745368  </td><td> 0.75239950  </td><td> 0.9101553   </td><td> 0.37574415  </td><td> 0.368661134 </td></tr>\n",
       "\t<tr><th scope=row>symmetry_mean</th><td> 0.147741242 </td><td> 0.071400980 </td><td> 0.183027212 </td><td> 0.151293079 </td><td> 0.55777479  </td><td>0.60264105   </td><td>0.50066662   </td><td>0.46249739   </td><td>1.00000000   </td><td> 0.4799213301</td><td>...          </td><td> 0.18572775  </td><td> 0.090650688 </td><td> 0.219168559 </td><td> 0.17719338  </td><td> 0.42667503  </td><td> 0.47320001  </td><td> 0.43372101  </td><td> 0.4302966   </td><td> 0.69982580  </td><td> 0.438413498 </td></tr>\n",
       "\t<tr><th scope=row>fractal_dimension_mean</th><td>-0.311630826 </td><td>-0.076437183 </td><td>-0.261476908 </td><td>-0.283109812 </td><td> 0.58479200  </td><td>0.56536866   </td><td>0.33678336   </td><td>0.16691738   </td><td>0.47992133   </td><td> 1.0000000000</td><td>...          </td><td>-0.25369149  </td><td>-0.051269202 </td><td>-0.205151211 </td><td>-0.23185445  </td><td> 0.50494208  </td><td> 0.45879816  </td><td> 0.34623388  </td><td> 0.1753254   </td><td> 0.33401868  </td><td> 0.767296779 </td></tr>\n",
       "\t<tr><th scope=row>radius_se</th><td> 0.679090388 </td><td> 0.275868676 </td><td> 0.691765014 </td><td> 0.732562227 </td><td> 0.30146710  </td><td>0.49747345   </td><td>0.63192482   </td><td>0.69804983   </td><td>0.30337926   </td><td> 0.0001109951</td><td>...          </td><td> 0.71506520  </td><td> 0.194798557 </td><td> 0.719683804 </td><td> 0.75154848  </td><td> 0.14191855  </td><td> 0.28710317  </td><td> 0.38058463  </td><td> 0.5310623   </td><td> 0.09454283  </td><td> 0.049559432 </td></tr>\n",
       "\t<tr><th scope=row>texture_se</th><td>-0.097317443 </td><td> 0.386357623 </td><td>-0.086761078 </td><td>-0.066280214 </td><td> 0.06840645  </td><td>0.04620483   </td><td>0.07621835   </td><td>0.02147958   </td><td>0.12805293   </td><td> 0.1641739659</td><td>...          </td><td>-0.11169031  </td><td> 0.409002766 </td><td>-0.102241922 </td><td>-0.08319499  </td><td>-0.07365766  </td><td>-0.09243935  </td><td>-0.06895622  </td><td>-0.1196375   </td><td>-0.12821476  </td><td>-0.045654569 </td></tr>\n",
       "\t<tr><th scope=row>perimeter_se</th><td> 0.674171616 </td><td> 0.281673115 </td><td> 0.693134890 </td><td> 0.726628328 </td><td> 0.29609193  </td><td>0.54890526   </td><td>0.66039079   </td><td>0.71064987   </td><td>0.31389276   </td><td> 0.0398299316</td><td>...          </td><td> 0.69720059  </td><td> 0.200370854 </td><td> 0.721031310 </td><td> 0.73071297  </td><td> 0.13005439  </td><td> 0.34191945  </td><td> 0.41889882  </td><td> 0.5548972   </td><td> 0.10993043  </td><td> 0.085432572 </td></tr>\n",
       "\t<tr><th scope=row>area_se</th><td> 0.735863663 </td><td> 0.259844987 </td><td> 0.744982694 </td><td> 0.800085921 </td><td> 0.24655243  </td><td>0.45565285   </td><td>0.61742681   </td><td>0.69029854   </td><td>0.22397022   </td><td>-0.0901702475</td><td>...          </td><td> 0.75737319  </td><td> 0.196496649 </td><td> 0.761212636 </td><td> 0.81140796  </td><td> 0.12538943  </td><td> 0.28325654  </td><td> 0.38510014  </td><td> 0.5381663   </td><td> 0.07412629  </td><td> 0.017539295 </td></tr>\n",
       "\t<tr><th scope=row>smoothness_se</th><td>-0.222600125 </td><td> 0.006613777 </td><td>-0.202694026 </td><td>-0.166776667 </td><td> 0.33237544  </td><td>0.13529927   </td><td>0.09856375   </td><td>0.02765331   </td><td>0.18732117   </td><td> 0.4019644254</td><td>...          </td><td>-0.23069071  </td><td>-0.074742965 </td><td>-0.217303755 </td><td>-0.18219548  </td><td> 0.31445746  </td><td>-0.05555814  </td><td>-0.05829839  </td><td>-0.1020068   </td><td>-0.10734210  </td><td> 0.101480315 </td></tr>\n",
       "\t<tr><th scope=row>compactness_se</th><td> 0.205999980 </td><td> 0.191974611 </td><td> 0.250743681 </td><td> 0.212582551 </td><td> 0.31894330  </td><td>0.73872179   </td><td>0.67027882   </td><td>0.49042425   </td><td>0.42165915   </td><td> 0.5598366906</td><td>...          </td><td> 0.20460717  </td><td> 0.143002583 </td><td> 0.260515840 </td><td> 0.19937133  </td><td> 0.22739423  </td><td> 0.67878035  </td><td> 0.63914670  </td><td> 0.4832083   </td><td> 0.27787843  </td><td> 0.590972763 </td></tr>\n",
       "\t<tr><th scope=row>concavity_se</th><td> 0.194203623 </td><td> 0.143293077 </td><td> 0.228082345 </td><td> 0.207660060 </td><td> 0.24839568  </td><td>0.57051687   </td><td>0.69127021   </td><td>0.43916707   </td><td>0.34262702   </td><td> 0.4466303217</td><td>...          </td><td> 0.18690352  </td><td> 0.100240984 </td><td> 0.226680426 </td><td> 0.18835265  </td><td> 0.16848132  </td><td> 0.48485780  </td><td> 0.66256413  </td><td> 0.4404723   </td><td> 0.19778782  </td><td> 0.439329269 </td></tr>\n",
       "\t<tr><th scope=row>concave_points_se</th><td> 0.376168956 </td><td> 0.163851025 </td><td> 0.407216916 </td><td> 0.372320282 </td><td> 0.38067569  </td><td>0.64226185   </td><td>0.68325992   </td><td>0.61563413   </td><td>0.39329787   </td><td> 0.3411980444</td><td>...          </td><td> 0.35812667  </td><td> 0.086741210 </td><td> 0.394999252 </td><td> 0.34227116  </td><td> 0.21535060  </td><td> 0.45288838  </td><td> 0.54959238  </td><td> 0.6024496   </td><td> 0.14311567  </td><td> 0.310654551 </td></tr>\n",
       "\t<tr><th scope=row>symmetry_se</th><td>-0.104320881 </td><td> 0.009127168 </td><td>-0.081629327 </td><td>-0.072496588 </td><td> 0.20077438  </td><td>0.22997659   </td><td>0.17800921   </td><td>0.09535079   </td><td>0.44913654   </td><td> 0.3450073971</td><td>...          </td><td>-0.12812077  </td><td>-0.077473420 </td><td>-0.103753044 </td><td>-0.11034274  </td><td>-0.01266180  </td><td> 0.06025488  </td><td> 0.03711905  </td><td>-0.0304134   </td><td> 0.38940248  </td><td> 0.078079476 </td></tr>\n",
       "\t<tr><th scope=row>fractal_dimension_se</th><td>-0.042641269 </td><td> 0.054457520 </td><td>-0.005523391 </td><td>-0.019886963 </td><td> 0.28360670  </td><td>0.50731813   </td><td>0.44930075   </td><td>0.25758375   </td><td>0.33178615   </td><td> 0.6881315775</td><td>...          </td><td>-0.03748762  </td><td>-0.003195029 </td><td>-0.001000398 </td><td>-0.02273615  </td><td> 0.17056832  </td><td> 0.39015884  </td><td> 0.37997466  </td><td> 0.2152040   </td><td> 0.11109396  </td><td> 0.591328066 </td></tr>\n",
       "\t<tr><th scope=row>radius_worst</th><td> 0.969538973 </td><td> 0.352572947 </td><td> 0.969476363 </td><td> 0.962746086 </td><td> 0.21312014  </td><td>0.53531540   </td><td>0.68823641   </td><td>0.83031763   </td><td>0.18572775   </td><td>-0.2536914949</td><td>...          </td><td> 1.00000000  </td><td> 0.359920754 </td><td> 0.993707916 </td><td> 0.98401456  </td><td> 0.21657443  </td><td> 0.47582004  </td><td> 0.57397471  </td><td> 0.7874239   </td><td> 0.24352920  </td><td> 0.093491979 </td></tr>\n",
       "\t<tr><th scope=row>texture_worst</th><td> 0.297007644 </td><td> 0.912044589 </td><td> 0.303038372 </td><td> 0.287488627 </td><td> 0.03607180  </td><td>0.24813283   </td><td>0.29987889   </td><td>0.29275171   </td><td>0.09065069   </td><td>-0.0512692020</td><td>...          </td><td> 0.35992075  </td><td> 1.000000000 </td><td> 0.365098245 </td><td> 0.34584228  </td><td> 0.22542941  </td><td> 0.36083234  </td><td> 0.36836561  </td><td> 0.3597546   </td><td> 0.23302746  </td><td> 0.219122425 </td></tr>\n",
       "\t<tr><th scope=row>perimeter_worst</th><td> 0.965136514 </td><td> 0.358039575 </td><td> 0.970386887 </td><td> 0.959119574 </td><td> 0.23885263  </td><td>0.59021043   </td><td>0.72956492   </td><td>0.85592313   </td><td>0.21916856   </td><td>-0.2051512113</td><td>...          </td><td> 0.99370792  </td><td> 0.365098245 </td><td> 1.000000000 </td><td> 0.97757809  </td><td> 0.23677460  </td><td> 0.52940769  </td><td> 0.61834408  </td><td> 0.8163221   </td><td> 0.26949277  </td><td> 0.138956862 </td></tr>\n",
       "\t<tr><th scope=row>area_worst</th><td> 0.941082460 </td><td> 0.343545947 </td><td> 0.941549808 </td><td> 0.959213326 </td><td> 0.20671836  </td><td>0.50960381   </td><td>0.67598723   </td><td>0.80962962   </td><td>0.17719338   </td><td>-0.2318544512</td><td>...          </td><td> 0.98401456  </td><td> 0.345842283 </td><td> 0.977578091 </td><td> 1.00000000  </td><td> 0.20914533  </td><td> 0.43829628  </td><td> 0.54333053  </td><td> 0.7474188   </td><td> 0.20914551  </td><td> 0.079647034 </td></tr>\n",
       "\t<tr><th scope=row>smoothness_worst</th><td> 0.119616140 </td><td> 0.077503359 </td><td> 0.150549404 </td><td> 0.123522939 </td><td> 0.80532420  </td><td>0.56554117   </td><td>0.44882204   </td><td>0.45275305   </td><td>0.42667503   </td><td> 0.5049420754</td><td>...          </td><td> 0.21657443  </td><td> 0.225429415 </td><td> 0.236774604 </td><td> 0.20914533  </td><td> 1.00000000  </td><td> 0.56818652  </td><td> 0.51852329  </td><td> 0.5476909   </td><td> 0.49383833  </td><td> 0.617624192 </td></tr>\n",
       "\t<tr><th scope=row>compactness_worst</th><td> 0.413462823 </td><td> 0.277829592 </td><td> 0.455774228 </td><td> 0.390410309 </td><td> 0.47246844  </td><td>0.86580904   </td><td>0.75496802   </td><td>0.66745368   </td><td>0.47320001   </td><td> 0.4587981567</td><td>...          </td><td> 0.47582004  </td><td> 0.360832339 </td><td> 0.529407690 </td><td> 0.43829628  </td><td> 0.56818652  </td><td> 1.00000000  </td><td> 0.89226090  </td><td> 0.8010804   </td><td> 0.61444050  </td><td> 0.810454856 </td></tr>\n",
       "\t<tr><th scope=row>concavity_worst</th><td> 0.526911462 </td><td> 0.301025224 </td><td> 0.563879263 </td><td> 0.512605920 </td><td> 0.43492571  </td><td>0.81627525   </td><td>0.88410264   </td><td>0.75239950   </td><td>0.43372101   </td><td> 0.3462338763</td><td>...          </td><td> 0.57397471  </td><td> 0.368365607 </td><td> 0.618344080 </td><td> 0.54333053  </td><td> 0.51852329  </td><td> 0.89226090  </td><td> 1.00000000  </td><td> 0.8554339   </td><td> 0.53251973  </td><td> 0.686510921 </td></tr>\n",
       "\t<tr><th scope=row>concave_points_worst</th><td> 0.744214198 </td><td> 0.295315843 </td><td> 0.771240789 </td><td> 0.722016626 </td><td> 0.50305335  </td><td>0.81557322   </td><td>0.86132303   </td><td>0.91015531   </td><td>0.43029661   </td><td> 0.1753254492</td><td>...          </td><td> 0.78742385  </td><td> 0.359754610 </td><td> 0.816322102 </td><td> 0.74741880  </td><td> 0.54769090  </td><td> 0.80108036  </td><td> 0.85543386  </td><td> 1.0000000   </td><td> 0.50252849  </td><td> 0.511114146 </td></tr>\n",
       "\t<tr><th scope=row>symmetry_worst</th><td> 0.163953335 </td><td> 0.105007910 </td><td> 0.189115040 </td><td> 0.143569914 </td><td> 0.39430948  </td><td>0.51022343   </td><td>0.40946413   </td><td>0.37574415   </td><td>0.69982580   </td><td> 0.3340186839</td><td>...          </td><td> 0.24352920  </td><td> 0.233027461 </td><td> 0.269492769 </td><td> 0.20914551  </td><td> 0.49383833  </td><td> 0.61444050  </td><td> 0.53251973  </td><td> 0.5025285   </td><td> 1.00000000  </td><td> 0.537848206 </td></tr>\n",
       "\t<tr><th scope=row>fractal_dimension_worst</th><td> 0.007065886 </td><td> 0.119205351 </td><td> 0.051018530 </td><td> 0.003737597 </td><td> 0.49931637  </td><td>0.68738232   </td><td>0.51492989   </td><td>0.36866113   </td><td>0.43841350   </td><td> 0.7672967792</td><td>...          </td><td> 0.09349198  </td><td> 0.219122425 </td><td> 0.138956862 </td><td> 0.07964703  </td><td> 0.61762419  </td><td> 0.81045486  </td><td> 0.68651092  </td><td> 0.5111141   </td><td> 0.53784821  </td><td> 1.000000000 </td></tr>\n",
       "</tbody>\n",
       "</table>\n"
      ],
      "text/latex": [
       "\\begin{tabular}{r|llllllllllllllllllllllllllllll}\n",
       "  & radius\\_mean & texture\\_mean & perimeter\\_mean & area\\_mean & smoothness\\_mean & compactness\\_mean & concavity\\_mean & concave\\_points\\_mean & symmetry\\_mean & fractal\\_dimension\\_mean & ... & radius\\_worst & texture\\_worst & perimeter\\_worst & area\\_worst & smoothness\\_worst & compactness\\_worst & concavity\\_worst & concave\\_points\\_worst & symmetry\\_worst & fractal\\_dimension\\_worst\\\\\n",
       "\\hline\n",
       "\tradius\\_mean &  1.000000000  &  0.323781891  &  0.997855281  &  0.987357170  &  0.17058119   & 0.50612358    & 0.67676355    & 0.82252852    & 0.14774124    & -0.3116308263 & ...           &  0.96953897   &  0.297007644  &  0.965136514  &  0.94108246   &  0.11961614   &  0.41346282   &  0.52691146   &  0.7442142    &  0.16395333   &  0.007065886 \\\\\n",
       "\ttexture\\_mean &  0.323781891  &  1.000000000  &  0.329533059  &  0.321085696  & -0.02338852   & 0.23670222    & 0.30241783    & 0.29346405    & 0.07140098    & -0.0764371834 & ...           &  0.35257295   &  0.912044589  &  0.358039575  &  0.34354595   &  0.07750336   &  0.27782959   &  0.30102522   &  0.2953158    &  0.10500791   &  0.119205351 \\\\\n",
       "\tperimeter\\_mean &  0.997855281  &  0.329533059  &  1.000000000  &  0.986506804  &  0.20727816   & 0.55693621    & 0.71613565    & 0.85097704    & 0.18302721    & -0.2614769081 & ...           &  0.96947636   &  0.303038372  &  0.970386887  &  0.94154981   &  0.15054940   &  0.45577423   &  0.56387926   &  0.7712408    &  0.18911504   &  0.051018530 \\\\\n",
       "\tarea\\_mean &  0.987357170  &  0.321085696  &  0.986506804  &  1.000000000  &  0.17702838   & 0.49850168    & 0.68598283    & 0.82326887    & 0.15129308    & -0.2831098117 & ...           &  0.96274609   &  0.287488627  &  0.959119574  &  0.95921333   &  0.12352294   &  0.39041031   &  0.51260592   &  0.7220166    &  0.14356991   &  0.003737597 \\\\\n",
       "\tsmoothness\\_mean &  0.170581187  & -0.023388516  &  0.207278164  &  0.177028377  &  1.00000000   & 0.65912322    & 0.52198377    & 0.55369517    & 0.55777479    &  0.5847920019 & ...           &  0.21312014   &  0.036071799  &  0.238852626  &  0.20671836   &  0.80532420   &  0.47246844   &  0.43492571   &  0.5030534    &  0.39430948   &  0.499316369 \\\\\n",
       "\tcompactness\\_mean &  0.506123578  &  0.236702222  &  0.556936211  &  0.498501682  &  0.65912322   & 1.00000000    & 0.88312067    & 0.83113504    & 0.60264105    &  0.5653686634 & ...           &  0.53531540   &  0.248132833  &  0.590210428  &  0.50960381   &  0.56554117   &  0.86580904   &  0.81627525   &  0.8155732    &  0.51022343   &  0.687382323 \\\\\n",
       "\tconcavity\\_mean &  0.676763550  &  0.302417828  &  0.716135650  &  0.685982829  &  0.52198377   & 0.88312067    & 1.00000000    & 0.92139103    & 0.50066662    &  0.3367833594 & ...           &  0.68823641   &  0.299878889  &  0.729564917  &  0.67598723   &  0.44882204   &  0.75496802   &  0.88410264   &  0.8613230    &  0.40946413   &  0.514929891 \\\\\n",
       "\tconcave\\_points\\_mean &  0.822528522  &  0.293464051  &  0.850977041  &  0.823268869  &  0.55369517   & 0.83113504    & 0.92139103    & 1.00000000    & 0.46249739    &  0.1669173832 & ...           &  0.83031763   &  0.292751713  &  0.855923128  &  0.80962962   &  0.45275305   &  0.66745368   &  0.75239950   &  0.9101553    &  0.37574415   &  0.368661134 \\\\\n",
       "\tsymmetry\\_mean &  0.147741242  &  0.071400980  &  0.183027212  &  0.151293079  &  0.55777479   & 0.60264105    & 0.50066662    & 0.46249739    & 1.00000000    &  0.4799213301 & ...           &  0.18572775   &  0.090650688  &  0.219168559  &  0.17719338   &  0.42667503   &  0.47320001   &  0.43372101   &  0.4302966    &  0.69982580   &  0.438413498 \\\\\n",
       "\tfractal\\_dimension\\_mean & -0.311630826  & -0.076437183  & -0.261476908  & -0.283109812  &  0.58479200   & 0.56536866    & 0.33678336    & 0.16691738    & 0.47992133    &  1.0000000000 & ...           & -0.25369149   & -0.051269202  & -0.205151211  & -0.23185445   &  0.50494208   &  0.45879816   &  0.34623388   &  0.1753254    &  0.33401868   &  0.767296779 \\\\\n",
       "\tradius\\_se &  0.679090388  &  0.275868676  &  0.691765014  &  0.732562227  &  0.30146710   & 0.49747345    & 0.63192482    & 0.69804983    & 0.30337926    &  0.0001109951 & ...           &  0.71506520   &  0.194798557  &  0.719683804  &  0.75154848   &  0.14191855   &  0.28710317   &  0.38058463   &  0.5310623    &  0.09454283   &  0.049559432 \\\\\n",
       "\ttexture\\_se & -0.097317443  &  0.386357623  & -0.086761078  & -0.066280214  &  0.06840645   & 0.04620483    & 0.07621835    & 0.02147958    & 0.12805293    &  0.1641739659 & ...           & -0.11169031   &  0.409002766  & -0.102241922  & -0.08319499   & -0.07365766   & -0.09243935   & -0.06895622   & -0.1196375    & -0.12821476   & -0.045654569 \\\\\n",
       "\tperimeter\\_se &  0.674171616  &  0.281673115  &  0.693134890  &  0.726628328  &  0.29609193   & 0.54890526    & 0.66039079    & 0.71064987    & 0.31389276    &  0.0398299316 & ...           &  0.69720059   &  0.200370854  &  0.721031310  &  0.73071297   &  0.13005439   &  0.34191945   &  0.41889882   &  0.5548972    &  0.10993043   &  0.085432572 \\\\\n",
       "\tarea\\_se &  0.735863663  &  0.259844987  &  0.744982694  &  0.800085921  &  0.24655243   & 0.45565285    & 0.61742681    & 0.69029854    & 0.22397022    & -0.0901702475 & ...           &  0.75737319   &  0.196496649  &  0.761212636  &  0.81140796   &  0.12538943   &  0.28325654   &  0.38510014   &  0.5381663    &  0.07412629   &  0.017539295 \\\\\n",
       "\tsmoothness\\_se & -0.222600125  &  0.006613777  & -0.202694026  & -0.166776667  &  0.33237544   & 0.13529927    & 0.09856375    & 0.02765331    & 0.18732117    &  0.4019644254 & ...           & -0.23069071   & -0.074742965  & -0.217303755  & -0.18219548   &  0.31445746   & -0.05555814   & -0.05829839   & -0.1020068    & -0.10734210   &  0.101480315 \\\\\n",
       "\tcompactness\\_se &  0.205999980  &  0.191974611  &  0.250743681  &  0.212582551  &  0.31894330   & 0.73872179    & 0.67027882    & 0.49042425    & 0.42165915    &  0.5598366906 & ...           &  0.20460717   &  0.143002583  &  0.260515840  &  0.19937133   &  0.22739423   &  0.67878035   &  0.63914670   &  0.4832083    &  0.27787843   &  0.590972763 \\\\\n",
       "\tconcavity\\_se &  0.194203623  &  0.143293077  &  0.228082345  &  0.207660060  &  0.24839568   & 0.57051687    & 0.69127021    & 0.43916707    & 0.34262702    &  0.4466303217 & ...           &  0.18690352   &  0.100240984  &  0.226680426  &  0.18835265   &  0.16848132   &  0.48485780   &  0.66256413   &  0.4404723    &  0.19778782   &  0.439329269 \\\\\n",
       "\tconcave\\_points\\_se &  0.376168956  &  0.163851025  &  0.407216916  &  0.372320282  &  0.38067569   & 0.64226185    & 0.68325992    & 0.61563413    & 0.39329787    &  0.3411980444 & ...           &  0.35812667   &  0.086741210  &  0.394999252  &  0.34227116   &  0.21535060   &  0.45288838   &  0.54959238   &  0.6024496    &  0.14311567   &  0.310654551 \\\\\n",
       "\tsymmetry\\_se & -0.104320881  &  0.009127168  & -0.081629327  & -0.072496588  &  0.20077438   & 0.22997659    & 0.17800921    & 0.09535079    & 0.44913654    &  0.3450073971 & ...           & -0.12812077   & -0.077473420  & -0.103753044  & -0.11034274   & -0.01266180   &  0.06025488   &  0.03711905   & -0.0304134    &  0.38940248   &  0.078079476 \\\\\n",
       "\tfractal\\_dimension\\_se & -0.042641269  &  0.054457520  & -0.005523391  & -0.019886963  &  0.28360670   & 0.50731813    & 0.44930075    & 0.25758375    & 0.33178615    &  0.6881315775 & ...           & -0.03748762   & -0.003195029  & -0.001000398  & -0.02273615   &  0.17056832   &  0.39015884   &  0.37997466   &  0.2152040    &  0.11109396   &  0.591328066 \\\\\n",
       "\tradius\\_worst &  0.969538973  &  0.352572947  &  0.969476363  &  0.962746086  &  0.21312014   & 0.53531540    & 0.68823641    & 0.83031763    & 0.18572775    & -0.2536914949 & ...           &  1.00000000   &  0.359920754  &  0.993707916  &  0.98401456   &  0.21657443   &  0.47582004   &  0.57397471   &  0.7874239    &  0.24352920   &  0.093491979 \\\\\n",
       "\ttexture\\_worst &  0.297007644  &  0.912044589  &  0.303038372  &  0.287488627  &  0.03607180   & 0.24813283    & 0.29987889    & 0.29275171    & 0.09065069    & -0.0512692020 & ...           &  0.35992075   &  1.000000000  &  0.365098245  &  0.34584228   &  0.22542941   &  0.36083234   &  0.36836561   &  0.3597546    &  0.23302746   &  0.219122425 \\\\\n",
       "\tperimeter\\_worst &  0.965136514  &  0.358039575  &  0.970386887  &  0.959119574  &  0.23885263   & 0.59021043    & 0.72956492    & 0.85592313    & 0.21916856    & -0.2051512113 & ...           &  0.99370792   &  0.365098245  &  1.000000000  &  0.97757809   &  0.23677460   &  0.52940769   &  0.61834408   &  0.8163221    &  0.26949277   &  0.138956862 \\\\\n",
       "\tarea\\_worst &  0.941082460  &  0.343545947  &  0.941549808  &  0.959213326  &  0.20671836   & 0.50960381    & 0.67598723    & 0.80962962    & 0.17719338    & -0.2318544512 & ...           &  0.98401456   &  0.345842283  &  0.977578091  &  1.00000000   &  0.20914533   &  0.43829628   &  0.54333053   &  0.7474188    &  0.20914551   &  0.079647034 \\\\\n",
       "\tsmoothness\\_worst &  0.119616140  &  0.077503359  &  0.150549404  &  0.123522939  &  0.80532420   & 0.56554117    & 0.44882204    & 0.45275305    & 0.42667503    &  0.5049420754 & ...           &  0.21657443   &  0.225429415  &  0.236774604  &  0.20914533   &  1.00000000   &  0.56818652   &  0.51852329   &  0.5476909    &  0.49383833   &  0.617624192 \\\\\n",
       "\tcompactness\\_worst &  0.413462823  &  0.277829592  &  0.455774228  &  0.390410309  &  0.47246844   & 0.86580904    & 0.75496802    & 0.66745368    & 0.47320001    &  0.4587981567 & ...           &  0.47582004   &  0.360832339  &  0.529407690  &  0.43829628   &  0.56818652   &  1.00000000   &  0.89226090   &  0.8010804    &  0.61444050   &  0.810454856 \\\\\n",
       "\tconcavity\\_worst &  0.526911462  &  0.301025224  &  0.563879263  &  0.512605920  &  0.43492571   & 0.81627525    & 0.88410264    & 0.75239950    & 0.43372101    &  0.3462338763 & ...           &  0.57397471   &  0.368365607  &  0.618344080  &  0.54333053   &  0.51852329   &  0.89226090   &  1.00000000   &  0.8554339    &  0.53251973   &  0.686510921 \\\\\n",
       "\tconcave\\_points\\_worst &  0.744214198  &  0.295315843  &  0.771240789  &  0.722016626  &  0.50305335   & 0.81557322    & 0.86132303    & 0.91015531    & 0.43029661    &  0.1753254492 & ...           &  0.78742385   &  0.359754610  &  0.816322102  &  0.74741880   &  0.54769090   &  0.80108036   &  0.85543386   &  1.0000000    &  0.50252849   &  0.511114146 \\\\\n",
       "\tsymmetry\\_worst &  0.163953335  &  0.105007910  &  0.189115040  &  0.143569914  &  0.39430948   & 0.51022343    & 0.40946413    & 0.37574415    & 0.69982580    &  0.3340186839 & ...           &  0.24352920   &  0.233027461  &  0.269492769  &  0.20914551   &  0.49383833   &  0.61444050   &  0.53251973   &  0.5025285    &  1.00000000   &  0.537848206 \\\\\n",
       "\tfractal\\_dimension\\_worst &  0.007065886  &  0.119205351  &  0.051018530  &  0.003737597  &  0.49931637   & 0.68738232    & 0.51492989    & 0.36866113    & 0.43841350    &  0.7672967792 & ...           &  0.09349198   &  0.219122425  &  0.138956862  &  0.07964703   &  0.61762419   &  0.81045486   &  0.68651092   &  0.5111141    &  0.53784821   &  1.000000000 \\\\\n",
       "\\end{tabular}\n"
      ],
      "text/markdown": [
       "\n",
       "| <!--/--> | radius_mean | texture_mean | perimeter_mean | area_mean | smoothness_mean | compactness_mean | concavity_mean | concave_points_mean | symmetry_mean | fractal_dimension_mean | ... | radius_worst | texture_worst | perimeter_worst | area_worst | smoothness_worst | compactness_worst | concavity_worst | concave_points_worst | symmetry_worst | fractal_dimension_worst | \n",
       "|---|---|---|---|---|---|---|---|---|---|---|---|---|---|---|---|---|---|---|---|---|---|---|---|---|---|---|---|---|---|\n",
       "| radius_mean |  1.000000000  |  0.323781891  |  0.997855281  |  0.987357170  |  0.17058119   | 0.50612358    | 0.67676355    | 0.82252852    | 0.14774124    | -0.3116308263 | ...           |  0.96953897   |  0.297007644  |  0.965136514  |  0.94108246   |  0.11961614   |  0.41346282   |  0.52691146   |  0.7442142    |  0.16395333   |  0.007065886  | \n",
       "| texture_mean |  0.323781891  |  1.000000000  |  0.329533059  |  0.321085696  | -0.02338852   | 0.23670222    | 0.30241783    | 0.29346405    | 0.07140098    | -0.0764371834 | ...           |  0.35257295   |  0.912044589  |  0.358039575  |  0.34354595   |  0.07750336   |  0.27782959   |  0.30102522   |  0.2953158    |  0.10500791   |  0.119205351  | \n",
       "| perimeter_mean |  0.997855281  |  0.329533059  |  1.000000000  |  0.986506804  |  0.20727816   | 0.55693621    | 0.71613565    | 0.85097704    | 0.18302721    | -0.2614769081 | ...           |  0.96947636   |  0.303038372  |  0.970386887  |  0.94154981   |  0.15054940   |  0.45577423   |  0.56387926   |  0.7712408    |  0.18911504   |  0.051018530  | \n",
       "| area_mean |  0.987357170  |  0.321085696  |  0.986506804  |  1.000000000  |  0.17702838   | 0.49850168    | 0.68598283    | 0.82326887    | 0.15129308    | -0.2831098117 | ...           |  0.96274609   |  0.287488627  |  0.959119574  |  0.95921333   |  0.12352294   |  0.39041031   |  0.51260592   |  0.7220166    |  0.14356991   |  0.003737597  | \n",
       "| smoothness_mean |  0.170581187  | -0.023388516  |  0.207278164  |  0.177028377  |  1.00000000   | 0.65912322    | 0.52198377    | 0.55369517    | 0.55777479    |  0.5847920019 | ...           |  0.21312014   |  0.036071799  |  0.238852626  |  0.20671836   |  0.80532420   |  0.47246844   |  0.43492571   |  0.5030534    |  0.39430948   |  0.499316369  | \n",
       "| compactness_mean |  0.506123578  |  0.236702222  |  0.556936211  |  0.498501682  |  0.65912322   | 1.00000000    | 0.88312067    | 0.83113504    | 0.60264105    |  0.5653686634 | ...           |  0.53531540   |  0.248132833  |  0.590210428  |  0.50960381   |  0.56554117   |  0.86580904   |  0.81627525   |  0.8155732    |  0.51022343   |  0.687382323  | \n",
       "| concavity_mean |  0.676763550  |  0.302417828  |  0.716135650  |  0.685982829  |  0.52198377   | 0.88312067    | 1.00000000    | 0.92139103    | 0.50066662    |  0.3367833594 | ...           |  0.68823641   |  0.299878889  |  0.729564917  |  0.67598723   |  0.44882204   |  0.75496802   |  0.88410264   |  0.8613230    |  0.40946413   |  0.514929891  | \n",
       "| concave_points_mean |  0.822528522  |  0.293464051  |  0.850977041  |  0.823268869  |  0.55369517   | 0.83113504    | 0.92139103    | 1.00000000    | 0.46249739    |  0.1669173832 | ...           |  0.83031763   |  0.292751713  |  0.855923128  |  0.80962962   |  0.45275305   |  0.66745368   |  0.75239950   |  0.9101553    |  0.37574415   |  0.368661134  | \n",
       "| symmetry_mean |  0.147741242  |  0.071400980  |  0.183027212  |  0.151293079  |  0.55777479   | 0.60264105    | 0.50066662    | 0.46249739    | 1.00000000    |  0.4799213301 | ...           |  0.18572775   |  0.090650688  |  0.219168559  |  0.17719338   |  0.42667503   |  0.47320001   |  0.43372101   |  0.4302966    |  0.69982580   |  0.438413498  | \n",
       "| fractal_dimension_mean | -0.311630826  | -0.076437183  | -0.261476908  | -0.283109812  |  0.58479200   | 0.56536866    | 0.33678336    | 0.16691738    | 0.47992133    |  1.0000000000 | ...           | -0.25369149   | -0.051269202  | -0.205151211  | -0.23185445   |  0.50494208   |  0.45879816   |  0.34623388   |  0.1753254    |  0.33401868   |  0.767296779  | \n",
       "| radius_se |  0.679090388  |  0.275868676  |  0.691765014  |  0.732562227  |  0.30146710   | 0.49747345    | 0.63192482    | 0.69804983    | 0.30337926    |  0.0001109951 | ...           |  0.71506520   |  0.194798557  |  0.719683804  |  0.75154848   |  0.14191855   |  0.28710317   |  0.38058463   |  0.5310623    |  0.09454283   |  0.049559432  | \n",
       "| texture_se | -0.097317443  |  0.386357623  | -0.086761078  | -0.066280214  |  0.06840645   | 0.04620483    | 0.07621835    | 0.02147958    | 0.12805293    |  0.1641739659 | ...           | -0.11169031   |  0.409002766  | -0.102241922  | -0.08319499   | -0.07365766   | -0.09243935   | -0.06895622   | -0.1196375    | -0.12821476   | -0.045654569  | \n",
       "| perimeter_se |  0.674171616  |  0.281673115  |  0.693134890  |  0.726628328  |  0.29609193   | 0.54890526    | 0.66039079    | 0.71064987    | 0.31389276    |  0.0398299316 | ...           |  0.69720059   |  0.200370854  |  0.721031310  |  0.73071297   |  0.13005439   |  0.34191945   |  0.41889882   |  0.5548972    |  0.10993043   |  0.085432572  | \n",
       "| area_se |  0.735863663  |  0.259844987  |  0.744982694  |  0.800085921  |  0.24655243   | 0.45565285    | 0.61742681    | 0.69029854    | 0.22397022    | -0.0901702475 | ...           |  0.75737319   |  0.196496649  |  0.761212636  |  0.81140796   |  0.12538943   |  0.28325654   |  0.38510014   |  0.5381663    |  0.07412629   |  0.017539295  | \n",
       "| smoothness_se | -0.222600125  |  0.006613777  | -0.202694026  | -0.166776667  |  0.33237544   | 0.13529927    | 0.09856375    | 0.02765331    | 0.18732117    |  0.4019644254 | ...           | -0.23069071   | -0.074742965  | -0.217303755  | -0.18219548   |  0.31445746   | -0.05555814   | -0.05829839   | -0.1020068    | -0.10734210   |  0.101480315  | \n",
       "| compactness_se |  0.205999980  |  0.191974611  |  0.250743681  |  0.212582551  |  0.31894330   | 0.73872179    | 0.67027882    | 0.49042425    | 0.42165915    |  0.5598366906 | ...           |  0.20460717   |  0.143002583  |  0.260515840  |  0.19937133   |  0.22739423   |  0.67878035   |  0.63914670   |  0.4832083    |  0.27787843   |  0.590972763  | \n",
       "| concavity_se |  0.194203623  |  0.143293077  |  0.228082345  |  0.207660060  |  0.24839568   | 0.57051687    | 0.69127021    | 0.43916707    | 0.34262702    |  0.4466303217 | ...           |  0.18690352   |  0.100240984  |  0.226680426  |  0.18835265   |  0.16848132   |  0.48485780   |  0.66256413   |  0.4404723    |  0.19778782   |  0.439329269  | \n",
       "| concave_points_se |  0.376168956  |  0.163851025  |  0.407216916  |  0.372320282  |  0.38067569   | 0.64226185    | 0.68325992    | 0.61563413    | 0.39329787    |  0.3411980444 | ...           |  0.35812667   |  0.086741210  |  0.394999252  |  0.34227116   |  0.21535060   |  0.45288838   |  0.54959238   |  0.6024496    |  0.14311567   |  0.310654551  | \n",
       "| symmetry_se | -0.104320881  |  0.009127168  | -0.081629327  | -0.072496588  |  0.20077438   | 0.22997659    | 0.17800921    | 0.09535079    | 0.44913654    |  0.3450073971 | ...           | -0.12812077   | -0.077473420  | -0.103753044  | -0.11034274   | -0.01266180   |  0.06025488   |  0.03711905   | -0.0304134    |  0.38940248   |  0.078079476  | \n",
       "| fractal_dimension_se | -0.042641269  |  0.054457520  | -0.005523391  | -0.019886963  |  0.28360670   | 0.50731813    | 0.44930075    | 0.25758375    | 0.33178615    |  0.6881315775 | ...           | -0.03748762   | -0.003195029  | -0.001000398  | -0.02273615   |  0.17056832   |  0.39015884   |  0.37997466   |  0.2152040    |  0.11109396   |  0.591328066  | \n",
       "| radius_worst |  0.969538973  |  0.352572947  |  0.969476363  |  0.962746086  |  0.21312014   | 0.53531540    | 0.68823641    | 0.83031763    | 0.18572775    | -0.2536914949 | ...           |  1.00000000   |  0.359920754  |  0.993707916  |  0.98401456   |  0.21657443   |  0.47582004   |  0.57397471   |  0.7874239    |  0.24352920   |  0.093491979  | \n",
       "| texture_worst |  0.297007644  |  0.912044589  |  0.303038372  |  0.287488627  |  0.03607180   | 0.24813283    | 0.29987889    | 0.29275171    | 0.09065069    | -0.0512692020 | ...           |  0.35992075   |  1.000000000  |  0.365098245  |  0.34584228   |  0.22542941   |  0.36083234   |  0.36836561   |  0.3597546    |  0.23302746   |  0.219122425  | \n",
       "| perimeter_worst |  0.965136514  |  0.358039575  |  0.970386887  |  0.959119574  |  0.23885263   | 0.59021043    | 0.72956492    | 0.85592313    | 0.21916856    | -0.2051512113 | ...           |  0.99370792   |  0.365098245  |  1.000000000  |  0.97757809   |  0.23677460   |  0.52940769   |  0.61834408   |  0.8163221    |  0.26949277   |  0.138956862  | \n",
       "| area_worst |  0.941082460  |  0.343545947  |  0.941549808  |  0.959213326  |  0.20671836   | 0.50960381    | 0.67598723    | 0.80962962    | 0.17719338    | -0.2318544512 | ...           |  0.98401456   |  0.345842283  |  0.977578091  |  1.00000000   |  0.20914533   |  0.43829628   |  0.54333053   |  0.7474188    |  0.20914551   |  0.079647034  | \n",
       "| smoothness_worst |  0.119616140  |  0.077503359  |  0.150549404  |  0.123522939  |  0.80532420   | 0.56554117    | 0.44882204    | 0.45275305    | 0.42667503    |  0.5049420754 | ...           |  0.21657443   |  0.225429415  |  0.236774604  |  0.20914533   |  1.00000000   |  0.56818652   |  0.51852329   |  0.5476909    |  0.49383833   |  0.617624192  | \n",
       "| compactness_worst |  0.413462823  |  0.277829592  |  0.455774228  |  0.390410309  |  0.47246844   | 0.86580904    | 0.75496802    | 0.66745368    | 0.47320001    |  0.4587981567 | ...           |  0.47582004   |  0.360832339  |  0.529407690  |  0.43829628   |  0.56818652   |  1.00000000   |  0.89226090   |  0.8010804    |  0.61444050   |  0.810454856  | \n",
       "| concavity_worst |  0.526911462  |  0.301025224  |  0.563879263  |  0.512605920  |  0.43492571   | 0.81627525    | 0.88410264    | 0.75239950    | 0.43372101    |  0.3462338763 | ...           |  0.57397471   |  0.368365607  |  0.618344080  |  0.54333053   |  0.51852329   |  0.89226090   |  1.00000000   |  0.8554339    |  0.53251973   |  0.686510921  | \n",
       "| concave_points_worst |  0.744214198  |  0.295315843  |  0.771240789  |  0.722016626  |  0.50305335   | 0.81557322    | 0.86132303    | 0.91015531    | 0.43029661    |  0.1753254492 | ...           |  0.78742385   |  0.359754610  |  0.816322102  |  0.74741880   |  0.54769090   |  0.80108036   |  0.85543386   |  1.0000000    |  0.50252849   |  0.511114146  | \n",
       "| symmetry_worst |  0.163953335  |  0.105007910  |  0.189115040  |  0.143569914  |  0.39430948   | 0.51022343    | 0.40946413    | 0.37574415    | 0.69982580    |  0.3340186839 | ...           |  0.24352920   |  0.233027461  |  0.269492769  |  0.20914551   |  0.49383833   |  0.61444050   |  0.53251973   |  0.5025285    |  1.00000000   |  0.537848206  | \n",
       "| fractal_dimension_worst |  0.007065886  |  0.119205351  |  0.051018530  |  0.003737597  |  0.49931637   | 0.68738232    | 0.51492989    | 0.36866113    | 0.43841350    |  0.7672967792 | ...           |  0.09349198   |  0.219122425  |  0.138956862  |  0.07964703   |  0.61762419   |  0.81045486   |  0.68651092   |  0.5111141    |  0.53784821   |  1.000000000  | \n",
       "\n",
       "\n"
      ],
      "text/plain": [
       "                        radius_mean  texture_mean perimeter_mean area_mean   \n",
       "radius_mean              1.000000000  0.323781891  0.997855281    0.987357170\n",
       "texture_mean             0.323781891  1.000000000  0.329533059    0.321085696\n",
       "perimeter_mean           0.997855281  0.329533059  1.000000000    0.986506804\n",
       "area_mean                0.987357170  0.321085696  0.986506804    1.000000000\n",
       "smoothness_mean          0.170581187 -0.023388516  0.207278164    0.177028377\n",
       "compactness_mean         0.506123578  0.236702222  0.556936211    0.498501682\n",
       "concavity_mean           0.676763550  0.302417828  0.716135650    0.685982829\n",
       "concave_points_mean      0.822528522  0.293464051  0.850977041    0.823268869\n",
       "symmetry_mean            0.147741242  0.071400980  0.183027212    0.151293079\n",
       "fractal_dimension_mean  -0.311630826 -0.076437183 -0.261476908   -0.283109812\n",
       "radius_se                0.679090388  0.275868676  0.691765014    0.732562227\n",
       "texture_se              -0.097317443  0.386357623 -0.086761078   -0.066280214\n",
       "perimeter_se             0.674171616  0.281673115  0.693134890    0.726628328\n",
       "area_se                  0.735863663  0.259844987  0.744982694    0.800085921\n",
       "smoothness_se           -0.222600125  0.006613777 -0.202694026   -0.166776667\n",
       "compactness_se           0.205999980  0.191974611  0.250743681    0.212582551\n",
       "concavity_se             0.194203623  0.143293077  0.228082345    0.207660060\n",
       "concave_points_se        0.376168956  0.163851025  0.407216916    0.372320282\n",
       "symmetry_se             -0.104320881  0.009127168 -0.081629327   -0.072496588\n",
       "fractal_dimension_se    -0.042641269  0.054457520 -0.005523391   -0.019886963\n",
       "radius_worst             0.969538973  0.352572947  0.969476363    0.962746086\n",
       "texture_worst            0.297007644  0.912044589  0.303038372    0.287488627\n",
       "perimeter_worst          0.965136514  0.358039575  0.970386887    0.959119574\n",
       "area_worst               0.941082460  0.343545947  0.941549808    0.959213326\n",
       "smoothness_worst         0.119616140  0.077503359  0.150549404    0.123522939\n",
       "compactness_worst        0.413462823  0.277829592  0.455774228    0.390410309\n",
       "concavity_worst          0.526911462  0.301025224  0.563879263    0.512605920\n",
       "concave_points_worst     0.744214198  0.295315843  0.771240789    0.722016626\n",
       "symmetry_worst           0.163953335  0.105007910  0.189115040    0.143569914\n",
       "fractal_dimension_worst  0.007065886  0.119205351  0.051018530    0.003737597\n",
       "                        smoothness_mean compactness_mean concavity_mean\n",
       "radius_mean              0.17058119     0.50612358       0.67676355    \n",
       "texture_mean            -0.02338852     0.23670222       0.30241783    \n",
       "perimeter_mean           0.20727816     0.55693621       0.71613565    \n",
       "area_mean                0.17702838     0.49850168       0.68598283    \n",
       "smoothness_mean          1.00000000     0.65912322       0.52198377    \n",
       "compactness_mean         0.65912322     1.00000000       0.88312067    \n",
       "concavity_mean           0.52198377     0.88312067       1.00000000    \n",
       "concave_points_mean      0.55369517     0.83113504       0.92139103    \n",
       "symmetry_mean            0.55777479     0.60264105       0.50066662    \n",
       "fractal_dimension_mean   0.58479200     0.56536866       0.33678336    \n",
       "radius_se                0.30146710     0.49747345       0.63192482    \n",
       "texture_se               0.06840645     0.04620483       0.07621835    \n",
       "perimeter_se             0.29609193     0.54890526       0.66039079    \n",
       "area_se                  0.24655243     0.45565285       0.61742681    \n",
       "smoothness_se            0.33237544     0.13529927       0.09856375    \n",
       "compactness_se           0.31894330     0.73872179       0.67027882    \n",
       "concavity_se             0.24839568     0.57051687       0.69127021    \n",
       "concave_points_se        0.38067569     0.64226185       0.68325992    \n",
       "symmetry_se              0.20077438     0.22997659       0.17800921    \n",
       "fractal_dimension_se     0.28360670     0.50731813       0.44930075    \n",
       "radius_worst             0.21312014     0.53531540       0.68823641    \n",
       "texture_worst            0.03607180     0.24813283       0.29987889    \n",
       "perimeter_worst          0.23885263     0.59021043       0.72956492    \n",
       "area_worst               0.20671836     0.50960381       0.67598723    \n",
       "smoothness_worst         0.80532420     0.56554117       0.44882204    \n",
       "compactness_worst        0.47246844     0.86580904       0.75496802    \n",
       "concavity_worst          0.43492571     0.81627525       0.88410264    \n",
       "concave_points_worst     0.50305335     0.81557322       0.86132303    \n",
       "symmetry_worst           0.39430948     0.51022343       0.40946413    \n",
       "fractal_dimension_worst  0.49931637     0.68738232       0.51492989    \n",
       "                        concave_points_mean symmetry_mean\n",
       "radius_mean             0.82252852          0.14774124   \n",
       "texture_mean            0.29346405          0.07140098   \n",
       "perimeter_mean          0.85097704          0.18302721   \n",
       "area_mean               0.82326887          0.15129308   \n",
       "smoothness_mean         0.55369517          0.55777479   \n",
       "compactness_mean        0.83113504          0.60264105   \n",
       "concavity_mean          0.92139103          0.50066662   \n",
       "concave_points_mean     1.00000000          0.46249739   \n",
       "symmetry_mean           0.46249739          1.00000000   \n",
       "fractal_dimension_mean  0.16691738          0.47992133   \n",
       "radius_se               0.69804983          0.30337926   \n",
       "texture_se              0.02147958          0.12805293   \n",
       "perimeter_se            0.71064987          0.31389276   \n",
       "area_se                 0.69029854          0.22397022   \n",
       "smoothness_se           0.02765331          0.18732117   \n",
       "compactness_se          0.49042425          0.42165915   \n",
       "concavity_se            0.43916707          0.34262702   \n",
       "concave_points_se       0.61563413          0.39329787   \n",
       "symmetry_se             0.09535079          0.44913654   \n",
       "fractal_dimension_se    0.25758375          0.33178615   \n",
       "radius_worst            0.83031763          0.18572775   \n",
       "texture_worst           0.29275171          0.09065069   \n",
       "perimeter_worst         0.85592313          0.21916856   \n",
       "area_worst              0.80962962          0.17719338   \n",
       "smoothness_worst        0.45275305          0.42667503   \n",
       "compactness_worst       0.66745368          0.47320001   \n",
       "concavity_worst         0.75239950          0.43372101   \n",
       "concave_points_worst    0.91015531          0.43029661   \n",
       "symmetry_worst          0.37574415          0.69982580   \n",
       "fractal_dimension_worst 0.36866113          0.43841350   \n",
       "                        fractal_dimension_mean ... radius_worst texture_worst\n",
       "radius_mean             -0.3116308263          ...  0.96953897   0.297007644 \n",
       "texture_mean            -0.0764371834          ...  0.35257295   0.912044589 \n",
       "perimeter_mean          -0.2614769081          ...  0.96947636   0.303038372 \n",
       "area_mean               -0.2831098117          ...  0.96274609   0.287488627 \n",
       "smoothness_mean          0.5847920019          ...  0.21312014   0.036071799 \n",
       "compactness_mean         0.5653686634          ...  0.53531540   0.248132833 \n",
       "concavity_mean           0.3367833594          ...  0.68823641   0.299878889 \n",
       "concave_points_mean      0.1669173832          ...  0.83031763   0.292751713 \n",
       "symmetry_mean            0.4799213301          ...  0.18572775   0.090650688 \n",
       "fractal_dimension_mean   1.0000000000          ... -0.25369149  -0.051269202 \n",
       "radius_se                0.0001109951          ...  0.71506520   0.194798557 \n",
       "texture_se               0.1641739659          ... -0.11169031   0.409002766 \n",
       "perimeter_se             0.0398299316          ...  0.69720059   0.200370854 \n",
       "area_se                 -0.0901702475          ...  0.75737319   0.196496649 \n",
       "smoothness_se            0.4019644254          ... -0.23069071  -0.074742965 \n",
       "compactness_se           0.5598366906          ...  0.20460717   0.143002583 \n",
       "concavity_se             0.4466303217          ...  0.18690352   0.100240984 \n",
       "concave_points_se        0.3411980444          ...  0.35812667   0.086741210 \n",
       "symmetry_se              0.3450073971          ... -0.12812077  -0.077473420 \n",
       "fractal_dimension_se     0.6881315775          ... -0.03748762  -0.003195029 \n",
       "radius_worst            -0.2536914949          ...  1.00000000   0.359920754 \n",
       "texture_worst           -0.0512692020          ...  0.35992075   1.000000000 \n",
       "perimeter_worst         -0.2051512113          ...  0.99370792   0.365098245 \n",
       "area_worst              -0.2318544512          ...  0.98401456   0.345842283 \n",
       "smoothness_worst         0.5049420754          ...  0.21657443   0.225429415 \n",
       "compactness_worst        0.4587981567          ...  0.47582004   0.360832339 \n",
       "concavity_worst          0.3462338763          ...  0.57397471   0.368365607 \n",
       "concave_points_worst     0.1753254492          ...  0.78742385   0.359754610 \n",
       "symmetry_worst           0.3340186839          ...  0.24352920   0.233027461 \n",
       "fractal_dimension_worst  0.7672967792          ...  0.09349198   0.219122425 \n",
       "                        perimeter_worst area_worst  smoothness_worst\n",
       "radius_mean              0.965136514     0.94108246  0.11961614     \n",
       "texture_mean             0.358039575     0.34354595  0.07750336     \n",
       "perimeter_mean           0.970386887     0.94154981  0.15054940     \n",
       "area_mean                0.959119574     0.95921333  0.12352294     \n",
       "smoothness_mean          0.238852626     0.20671836  0.80532420     \n",
       "compactness_mean         0.590210428     0.50960381  0.56554117     \n",
       "concavity_mean           0.729564917     0.67598723  0.44882204     \n",
       "concave_points_mean      0.855923128     0.80962962  0.45275305     \n",
       "symmetry_mean            0.219168559     0.17719338  0.42667503     \n",
       "fractal_dimension_mean  -0.205151211    -0.23185445  0.50494208     \n",
       "radius_se                0.719683804     0.75154848  0.14191855     \n",
       "texture_se              -0.102241922    -0.08319499 -0.07365766     \n",
       "perimeter_se             0.721031310     0.73071297  0.13005439     \n",
       "area_se                  0.761212636     0.81140796  0.12538943     \n",
       "smoothness_se           -0.217303755    -0.18219548  0.31445746     \n",
       "compactness_se           0.260515840     0.19937133  0.22739423     \n",
       "concavity_se             0.226680426     0.18835265  0.16848132     \n",
       "concave_points_se        0.394999252     0.34227116  0.21535060     \n",
       "symmetry_se             -0.103753044    -0.11034274 -0.01266180     \n",
       "fractal_dimension_se    -0.001000398    -0.02273615  0.17056832     \n",
       "radius_worst             0.993707916     0.98401456  0.21657443     \n",
       "texture_worst            0.365098245     0.34584228  0.22542941     \n",
       "perimeter_worst          1.000000000     0.97757809  0.23677460     \n",
       "area_worst               0.977578091     1.00000000  0.20914533     \n",
       "smoothness_worst         0.236774604     0.20914533  1.00000000     \n",
       "compactness_worst        0.529407690     0.43829628  0.56818652     \n",
       "concavity_worst          0.618344080     0.54333053  0.51852329     \n",
       "concave_points_worst     0.816322102     0.74741880  0.54769090     \n",
       "symmetry_worst           0.269492769     0.20914551  0.49383833     \n",
       "fractal_dimension_worst  0.138956862     0.07964703  0.61762419     \n",
       "                        compactness_worst concavity_worst concave_points_worst\n",
       "radius_mean              0.41346282        0.52691146      0.7442142          \n",
       "texture_mean             0.27782959        0.30102522      0.2953158          \n",
       "perimeter_mean           0.45577423        0.56387926      0.7712408          \n",
       "area_mean                0.39041031        0.51260592      0.7220166          \n",
       "smoothness_mean          0.47246844        0.43492571      0.5030534          \n",
       "compactness_mean         0.86580904        0.81627525      0.8155732          \n",
       "concavity_mean           0.75496802        0.88410264      0.8613230          \n",
       "concave_points_mean      0.66745368        0.75239950      0.9101553          \n",
       "symmetry_mean            0.47320001        0.43372101      0.4302966          \n",
       "fractal_dimension_mean   0.45879816        0.34623388      0.1753254          \n",
       "radius_se                0.28710317        0.38058463      0.5310623          \n",
       "texture_se              -0.09243935       -0.06895622     -0.1196375          \n",
       "perimeter_se             0.34191945        0.41889882      0.5548972          \n",
       "area_se                  0.28325654        0.38510014      0.5381663          \n",
       "smoothness_se           -0.05555814       -0.05829839     -0.1020068          \n",
       "compactness_se           0.67878035        0.63914670      0.4832083          \n",
       "concavity_se             0.48485780        0.66256413      0.4404723          \n",
       "concave_points_se        0.45288838        0.54959238      0.6024496          \n",
       "symmetry_se              0.06025488        0.03711905     -0.0304134          \n",
       "fractal_dimension_se     0.39015884        0.37997466      0.2152040          \n",
       "radius_worst             0.47582004        0.57397471      0.7874239          \n",
       "texture_worst            0.36083234        0.36836561      0.3597546          \n",
       "perimeter_worst          0.52940769        0.61834408      0.8163221          \n",
       "area_worst               0.43829628        0.54333053      0.7474188          \n",
       "smoothness_worst         0.56818652        0.51852329      0.5476909          \n",
       "compactness_worst        1.00000000        0.89226090      0.8010804          \n",
       "concavity_worst          0.89226090        1.00000000      0.8554339          \n",
       "concave_points_worst     0.80108036        0.85543386      1.0000000          \n",
       "symmetry_worst           0.61444050        0.53251973      0.5025285          \n",
       "fractal_dimension_worst  0.81045486        0.68651092      0.5111141          \n",
       "                        symmetry_worst fractal_dimension_worst\n",
       "radius_mean              0.16395333     0.007065886           \n",
       "texture_mean             0.10500791     0.119205351           \n",
       "perimeter_mean           0.18911504     0.051018530           \n",
       "area_mean                0.14356991     0.003737597           \n",
       "smoothness_mean          0.39430948     0.499316369           \n",
       "compactness_mean         0.51022343     0.687382323           \n",
       "concavity_mean           0.40946413     0.514929891           \n",
       "concave_points_mean      0.37574415     0.368661134           \n",
       "symmetry_mean            0.69982580     0.438413498           \n",
       "fractal_dimension_mean   0.33401868     0.767296779           \n",
       "radius_se                0.09454283     0.049559432           \n",
       "texture_se              -0.12821476    -0.045654569           \n",
       "perimeter_se             0.10993043     0.085432572           \n",
       "area_se                  0.07412629     0.017539295           \n",
       "smoothness_se           -0.10734210     0.101480315           \n",
       "compactness_se           0.27787843     0.590972763           \n",
       "concavity_se             0.19778782     0.439329269           \n",
       "concave_points_se        0.14311567     0.310654551           \n",
       "symmetry_se              0.38940248     0.078079476           \n",
       "fractal_dimension_se     0.11109396     0.591328066           \n",
       "radius_worst             0.24352920     0.093491979           \n",
       "texture_worst            0.23302746     0.219122425           \n",
       "perimeter_worst          0.26949277     0.138956862           \n",
       "area_worst               0.20914551     0.079647034           \n",
       "smoothness_worst         0.49383833     0.617624192           \n",
       "compactness_worst        0.61444050     0.810454856           \n",
       "concavity_worst          0.53251973     0.686510921           \n",
       "concave_points_worst     0.50252849     0.511114146           \n",
       "symmetry_worst           1.00000000     0.537848206           \n",
       "fractal_dimension_worst  0.53784821     1.000000000           "
      ]
     },
     "metadata": {},
     "output_type": "display_data"
    },
    {
     "data": {
      "image/png": "[encoded data removed]",
      "text/plain": [
       "plot without title"
      ]
     },
     "metadata": {},
     "output_type": "display_data"
    }
   ],
   "source": [
    "p<-wdbc\n",
    "p[,1:2] = NULL\n",
    "res <- cor(p)\n",
    "round(res, 2)\n",
    "res\n",
    "col<- colorRampPalette(c(\"blue\", \"white\", \"red\"))(20)\n",
    "heatmap(x = res, col = col, symm = TRUE)"
   ]
  },
  {
   "cell_type": "markdown",
   "metadata": {},
   "source": [
    "## Question 1.Descriptive & summary statistics like mean,median and standard deviation for perimeter"
   ]
  },
  {
   "cell_type": "code",
   "execution_count": 12,
   "metadata": {},
   "outputs": [
    {
     "data": {
      "text/html": [
       "<table>\n",
       "<thead><tr><th></th><th scope=col>perimeter_mean</th><th scope=col>perimeter_worst</th></tr></thead>\n",
       "<tbody>\n",
       "\t<tr><th scope=row>nbr.val</th><td>5.690000e+02</td><td>5.690000e+02</td></tr>\n",
       "\t<tr><th scope=row>nbr.null</th><td>0.000000e+00</td><td>0.000000e+00</td></tr>\n",
       "\t<tr><th scope=row>nbr.na</th><td>0.000000e+00</td><td>0.000000e+00</td></tr>\n",
       "\t<tr><th scope=row>min</th><td>4.379000e+01</td><td>5.041000e+01</td></tr>\n",
       "\t<tr><th scope=row>max</th><td>1.885000e+02</td><td>2.512000e+02</td></tr>\n",
       "\t<tr><th scope=row>range</th><td>1.447100e+02</td><td>2.007900e+02</td></tr>\n",
       "\t<tr><th scope=row>sum</th><td>5.233038e+04</td><td>6.103163e+04</td></tr>\n",
       "\t<tr><th scope=row>median</th><td>8.624000e+01</td><td>9.766000e+01</td></tr>\n",
       "\t<tr><th scope=row>mean</th><td>9.196903e+01</td><td>1.072612e+02</td></tr>\n",
       "\t<tr><th scope=row>SE.mean</th><td>1.018666e+00</td><td>1.408692e+00</td></tr>\n",
       "\t<tr><th scope=row>CI.mean.0.95</th><td>2.000813e+00</td><td>2.766881e+00</td></tr>\n",
       "\t<tr><th scope=row>var</th><td>5.904405e+02</td><td>1.129131e+03</td></tr>\n",
       "\t<tr><th scope=row>std.dev</th><td>2.429898e+01</td><td>3.360254e+01</td></tr>\n",
       "\t<tr><th scope=row>coef.var</th><td>2.642083e-01</td><td>3.132777e-01</td></tr>\n",
       "</tbody>\n",
       "</table>\n"
      ],
      "text/latex": [
       "\\begin{tabular}{r|ll}\n",
       "  & perimeter\\_mean & perimeter\\_worst\\\\\n",
       "\\hline\n",
       "\tnbr.val & 5.690000e+02 & 5.690000e+02\\\\\n",
       "\tnbr.null & 0.000000e+00 & 0.000000e+00\\\\\n",
       "\tnbr.na & 0.000000e+00 & 0.000000e+00\\\\\n",
       "\tmin & 4.379000e+01 & 5.041000e+01\\\\\n",
       "\tmax & 1.885000e+02 & 2.512000e+02\\\\\n",
       "\trange & 1.447100e+02 & 2.007900e+02\\\\\n",
       "\tsum & 5.233038e+04 & 6.103163e+04\\\\\n",
       "\tmedian & 8.624000e+01 & 9.766000e+01\\\\\n",
       "\tmean & 9.196903e+01 & 1.072612e+02\\\\\n",
       "\tSE.mean & 1.018666e+00 & 1.408692e+00\\\\\n",
       "\tCI.mean.0.95 & 2.000813e+00 & 2.766881e+00\\\\\n",
       "\tvar & 5.904405e+02 & 1.129131e+03\\\\\n",
       "\tstd.dev & 2.429898e+01 & 3.360254e+01\\\\\n",
       "\tcoef.var & 2.642083e-01 & 3.132777e-01\\\\\n",
       "\\end{tabular}\n"
      ],
      "text/markdown": [
       "\n",
       "| <!--/--> | perimeter_mean | perimeter_worst | \n",
       "|---|---|---|---|---|---|---|---|---|---|---|---|---|---|\n",
       "| nbr.val | 5.690000e+02 | 5.690000e+02 | \n",
       "| nbr.null | 0.000000e+00 | 0.000000e+00 | \n",
       "| nbr.na | 0.000000e+00 | 0.000000e+00 | \n",
       "| min | 4.379000e+01 | 5.041000e+01 | \n",
       "| max | 1.885000e+02 | 2.512000e+02 | \n",
       "| range | 1.447100e+02 | 2.007900e+02 | \n",
       "| sum | 5.233038e+04 | 6.103163e+04 | \n",
       "| median | 8.624000e+01 | 9.766000e+01 | \n",
       "| mean | 9.196903e+01 | 1.072612e+02 | \n",
       "| SE.mean | 1.018666e+00 | 1.408692e+00 | \n",
       "| CI.mean.0.95 | 2.000813e+00 | 2.766881e+00 | \n",
       "| var | 5.904405e+02 | 1.129131e+03 | \n",
       "| std.dev | 2.429898e+01 | 3.360254e+01 | \n",
       "| coef.var | 2.642083e-01 | 3.132777e-01 | \n",
       "\n",
       "\n"
      ],
      "text/plain": [
       "             perimeter_mean perimeter_worst\n",
       "nbr.val      5.690000e+02   5.690000e+02   \n",
       "nbr.null     0.000000e+00   0.000000e+00   \n",
       "nbr.na       0.000000e+00   0.000000e+00   \n",
       "min          4.379000e+01   5.041000e+01   \n",
       "max          1.885000e+02   2.512000e+02   \n",
       "range        1.447100e+02   2.007900e+02   \n",
       "sum          5.233038e+04   6.103163e+04   \n",
       "median       8.624000e+01   9.766000e+01   \n",
       "mean         9.196903e+01   1.072612e+02   \n",
       "SE.mean      1.018666e+00   1.408692e+00   \n",
       "CI.mean.0.95 2.000813e+00   2.766881e+00   \n",
       "var          5.904405e+02   1.129131e+03   \n",
       "std.dev      2.429898e+01   3.360254e+01   \n",
       "coef.var     2.642083e-01   3.132777e-01   "
      ]
     },
     "metadata": {},
     "output_type": "display_data"
    },
    {
     "data": {
      "text/html": [
       "<dl class=dl-horizontal>\n",
       "\t<dt>perimeter_mean</dt>\n",
       "\t\t<dd>91.9690333919156</dd>\n",
       "\t<dt>perimeter_worst</dt>\n",
       "\t\t<dd>107.261212653779</dd>\n",
       "</dl>\n"
      ],
      "text/latex": [
       "\\begin{description*}\n",
       "\\item[perimeter\\textbackslash{}\\_mean] 91.9690333919156\n",
       "\\item[perimeter\\textbackslash{}\\_worst] 107.261212653779\n",
       "\\end{description*}\n"
      ],
      "text/markdown": [
       "perimeter_mean\n",
       ":   91.9690333919156perimeter_worst\n",
       ":   107.261212653779\n",
       "\n"
      ],
      "text/plain": [
       " perimeter_mean perimeter_worst \n",
       "       91.96903       107.26121 "
      ]
     },
     "metadata": {},
     "output_type": "display_data"
    },
    {
     "data": {
      "text/html": [
       "<dl class=dl-horizontal>\n",
       "\t<dt>perimeter_mean</dt>\n",
       "\t\t<dd>86.24</dd>\n",
       "\t<dt>perimeter_worst</dt>\n",
       "\t\t<dd>97.66</dd>\n",
       "</dl>\n"
      ],
      "text/latex": [
       "\\begin{description*}\n",
       "\\item[perimeter\\textbackslash{}\\_mean] 86.24\n",
       "\\item[perimeter\\textbackslash{}\\_worst] 97.66\n",
       "\\end{description*}\n"
      ],
      "text/markdown": [
       "perimeter_mean\n",
       ":   86.24perimeter_worst\n",
       ":   97.66\n",
       "\n"
      ],
      "text/plain": [
       " perimeter_mean perimeter_worst \n",
       "          86.24           97.66 "
      ]
     },
     "metadata": {},
     "output_type": "display_data"
    },
    {
     "data": {
      "text/html": [
       "<dl class=dl-horizontal>\n",
       "\t<dt>perimeter_mean</dt>\n",
       "\t\t<dd>24.2989810387549</dd>\n",
       "\t<dt>perimeter_worst</dt>\n",
       "\t\t<dd>33.6025422690364</dd>\n",
       "</dl>\n"
      ],
      "text/latex": [
       "\\begin{description*}\n",
       "\\item[perimeter\\textbackslash{}\\_mean] 24.2989810387549\n",
       "\\item[perimeter\\textbackslash{}\\_worst] 33.6025422690364\n",
       "\\end{description*}\n"
      ],
      "text/markdown": [
       "perimeter_mean\n",
       ":   24.2989810387549perimeter_worst\n",
       ":   33.6025422690364\n",
       "\n"
      ],
      "text/plain": [
       " perimeter_mean perimeter_worst \n",
       "       24.29898        33.60254 "
      ]
     },
     "metadata": {},
     "output_type": "display_data"
    }
   ],
   "source": [
    "perimeter<-c('perimeter_mean','perimeter_worst')\n",
    "wdbc_per<-wdbc[perimeter]\n",
    "stat.desc(wdbc_per)\n",
    "\n",
    "mean<-apply(wdbc_per[,1:2], 2, mean)\n",
    "mean\n",
    "median<-apply(wdbc_per[,1:2], 2, median)\n",
    "median\n",
    "standard_deviation<-apply(wdbc_per[,1:2], 2, sd)\n",
    "standard_deviation"
   ]
  },
  {
   "cell_type": "markdown",
   "metadata": {},
   "source": [
    "#Visualization of summary statistics"
   ]
  },
  {
   "cell_type": "code",
   "execution_count": 13,
   "metadata": {},
   "outputs": [
    {
     "data": {
      "text/plain": [
       " perimeter_mean   perimeter_worst \n",
       " Min.   : 43.79   Min.   : 50.41  \n",
       " 1st Qu.: 75.17   1st Qu.: 84.11  \n",
       " Median : 86.24   Median : 97.66  \n",
       " Mean   : 91.97   Mean   :107.26  \n",
       " 3rd Qu.:104.10   3rd Qu.:125.40  \n",
       " Max.   :188.50   Max.   :251.20  "
      ]
     },
     "metadata": {},
     "output_type": "display_data"
    },
    {
     "data": {
      "image/png": "[encoded data removed]",
      "text/plain": [
       "Plot with title \"Descriptive statistics\""
      ]
     },
     "metadata": {},
     "output_type": "display_data"
    }
   ],
   "source": [
    "summary<-summary(wdbc_per)\n",
    "summary\n",
    "boxplot(wdbc_per,\n",
    "        main = \"Descriptive statistics\",\n",
    "        xlab = \"perimeter\",\n",
    "        ylab = \"count\",\n",
    "        col = \"orange\",\n",
    "        border = \"brown\",\n",
    "        notch = FALSE\n",
    ")"
   ]
  },
  {
   "cell_type": "markdown",
   "metadata": {},
   "source": [
    "## Question 2.Distribution of variable or feature \"radius_mean\" in the data"
   ]
  },
  {
   "cell_type": "markdown",
   "metadata": {},
   "source": [
    "#Checking the Densities "
   ]
  },
  {
   "cell_type": "code",
   "execution_count": 14,
   "metadata": {},
   "outputs": [
    {
     "data": {
      "image/png": "[encoded data removed]",
      "text/plain": [
       "Plot with title \"density.default(x = wdbc$radius_mean)\""
      ]
     },
     "metadata": {},
     "output_type": "display_data"
    }
   ],
   "source": [
    "plot(density(wdbc$radius_mean))"
   ]
  },
  {
   "cell_type": "markdown",
   "metadata": {},
   "source": [
    "#Test for normal distribution"
   ]
  },
  {
   "cell_type": "code",
   "execution_count": 15,
   "metadata": {},
   "outputs": [
    {
     "data": {
      "text/plain": [
       "\n",
       "\tShapiro-Wilk normality test\n",
       "\n",
       "data:  wdbc$radius_mean\n",
       "W = 0.94107, p-value = 3.106e-14\n"
      ]
     },
     "metadata": {},
     "output_type": "display_data"
    }
   ],
   "source": [
    "shapiro.test(wdbc$radius_mean)"
   ]
  },
  {
   "cell_type": "markdown",
   "metadata": {},
   "source": [
    "#Plot with qqplot"
   ]
  },
  {
   "cell_type": "code",
   "execution_count": 16,
   "metadata": {},
   "outputs": [
    {
     "data": {
      "image/png": "[encoded data removed]",
      "text/plain": [
       "Plot with title \"Normal Q-Q Plot\""
      ]
     },
     "metadata": {},
     "output_type": "display_data"
    }
   ],
   "source": [
    "qqnorm(wdbc$radius_mean);qqline(wdbc$radius_mean, col = 2)"
   ]
  },
  {
   "cell_type": "markdown",
   "metadata": {},
   "source": [
    "#Frequency distribution for Radius Visualization "
   ]
  },
  {
   "cell_type": "code",
   "execution_count": 17,
   "metadata": {},
   "outputs": [
    {
     "data": {
      "image/png": "[encoded data removed]",
      "text/plain": [
       "Plot with title \"Radius\""
      ]
     },
     "metadata": {},
     "output_type": "display_data"
    }
   ],
   "source": [
    "m<-mean(wdbc$radius_mean);std<-sqrt(var(wdbc$radius_mean))\n",
    "hist(wdbc$radius_mean,prob=T,main=\"Radius\")\n",
    "curve(dnorm(x, mean=m, sd=std), col=\"darkblue\", lwd=2, add=TRUE)"
   ]
  },
  {
   "cell_type": "code",
   "execution_count": 18,
   "metadata": {},
   "outputs": [
    {
     "data": {},
     "metadata": {},
     "output_type": "display_data"
    },
    {
     "data": {
      "image/png": "[encoded data removed]",
      "text/plain": [
       "plot without title"
      ]
     },
     "metadata": {},
     "output_type": "display_data"
    }
   ],
   "source": [
    "gg_b <- ggplot_build(\n",
    "  ggplot() + geom_histogram(aes(x = wdbc$radius_mean), binwidth=.5)) \n",
    "nu_bins <- dim(gg_b$data[[1]])[1]\n",
    "ggplot() + geom_vline(aes(xintercept = mean(wdbc$radius_mean)), \n",
    "                       linetype = \"dashed\", size = 1) + geom_histogram(aes(x = wdbc$radius_mean), binwidth=.5, fill = rainbow(nu_bins))\n"
   ]
  },
  {
   "cell_type": "markdown",
   "metadata": {},
   "source": [
    "#Since histogram/qqplot returns a long right tail and Shapiro-Wilk normality test results in w value near to 1 while p value is less than 0.05, we can neither reject the null hypothesis nor conisder that it is normally distributed.\n",
    "#A better approach would be testing for t- distribution by calculating student t test."
   ]
  },
  {
   "cell_type": "markdown",
   "metadata": {},
   "source": [
    "## Q3.Train a classifier to predict the diagnosis of malignant or benign\n"
   ]
  },
  {
   "cell_type": "markdown",
   "metadata": {},
   "source": [
    "#Feature selection"
   ]
  },
  {
   "cell_type": "code",
   "execution_count": 19,
   "metadata": {},
   "outputs": [
    {
     "data": {
      "text/html": [
       "<table>\n",
       "<thead><tr><th scope=col>ID</th><th scope=col>Diagnosis</th><th scope=col>radius_mean</th><th scope=col>texture_mean</th><th scope=col>perimeter_mean</th><th scope=col>area_mean</th><th scope=col>smoothness_mean</th><th scope=col>compactness_mean</th><th scope=col>concavity_mean</th><th scope=col>concave_points_mean</th><th scope=col>...</th><th scope=col>radius_worst</th><th scope=col>texture_worst</th><th scope=col>perimeter_worst</th><th scope=col>area_worst</th><th scope=col>smoothness_worst</th><th scope=col>compactness_worst</th><th scope=col>concavity_worst</th><th scope=col>concave_points_worst</th><th scope=col>symmetry_worst</th><th scope=col>fractal_dimension_worst</th></tr></thead>\n",
       "<tbody>\n",
       "\t<tr><td>  842302</td><td>M       </td><td>17.990  </td><td>10.38   </td><td>122.80  </td><td>1001.0  </td><td>0.11840 </td><td>0.27760 </td><td>0.30010 </td><td>0.14710 </td><td>...     </td><td>25.38   </td><td>17.33   </td><td>184.60  </td><td>2019.0  </td><td>0.1622  </td><td>0.6656  </td><td>0.71190 </td><td>0.26540 </td><td>0.4601  </td><td>0.11890 </td></tr>\n",
       "\t<tr><td>  842517</td><td>M       </td><td>20.570  </td><td>17.77   </td><td>132.90  </td><td>1326.0  </td><td>0.08474 </td><td>0.07864 </td><td>0.08690 </td><td>0.07017 </td><td>...     </td><td>24.99   </td><td>23.41   </td><td>158.80  </td><td>1956.0  </td><td>0.1238  </td><td>0.1866  </td><td>0.24160 </td><td>0.18600 </td><td>0.2750  </td><td>0.08902 </td></tr>\n",
       "\t<tr><td>84300903</td><td>M       </td><td>19.690  </td><td>21.25   </td><td>130.00  </td><td>1203.0  </td><td>0.10960 </td><td>0.15990 </td><td>0.19740 </td><td>0.12790 </td><td>...     </td><td>23.57   </td><td>25.53   </td><td>152.50  </td><td>1709.0  </td><td>0.1444  </td><td>0.4245  </td><td>0.45040 </td><td>0.24300 </td><td>0.3613  </td><td>0.08758 </td></tr>\n",
       "\t<tr><td>84348301</td><td>M       </td><td>11.420  </td><td>20.38   </td><td> 77.58  </td><td> 386.1  </td><td>0.14250 </td><td>0.28390 </td><td>0.24140 </td><td>0.10520 </td><td>...     </td><td>14.91   </td><td>26.50   </td><td> 98.87  </td><td> 567.7  </td><td>0.2098  </td><td>0.8663  </td><td>0.68690 </td><td>0.25750 </td><td>0.6638  </td><td>0.17300 </td></tr>\n",
       "\t<tr><td>84358402</td><td>M       </td><td>20.290  </td><td>14.34   </td><td>135.10  </td><td>1297.0  </td><td>0.10030 </td><td>0.13280 </td><td>0.19800 </td><td>0.10430 </td><td>...     </td><td>22.54   </td><td>16.67   </td><td>152.20  </td><td>1575.0  </td><td>0.1374  </td><td>0.2050  </td><td>0.40000 </td><td>0.16250 </td><td>0.2364  </td><td>0.07678 </td></tr>\n",
       "\t<tr><td>  843786</td><td>M       </td><td>12.450  </td><td>15.70   </td><td> 82.57  </td><td> 477.1  </td><td>0.12780 </td><td>0.17000 </td><td>0.15780 </td><td>0.08089 </td><td>...     </td><td>15.47   </td><td>23.75   </td><td>103.40  </td><td> 741.6  </td><td>0.1791  </td><td>0.5249  </td><td>0.53550 </td><td>0.17410 </td><td>0.3985  </td><td>0.12440 </td></tr>\n",
       "\t<tr><td>  844359</td><td>M       </td><td>18.250  </td><td>19.98   </td><td>119.60  </td><td>1040.0  </td><td>0.09463 </td><td>0.10900 </td><td>0.11270 </td><td>0.07400 </td><td>...     </td><td>22.88   </td><td>27.66   </td><td>153.20  </td><td>1606.0  </td><td>0.1442  </td><td>0.2576  </td><td>0.37840 </td><td>0.19320 </td><td>0.3063  </td><td>0.08368 </td></tr>\n",
       "\t<tr><td>84458202</td><td>M       </td><td>13.710  </td><td>20.83   </td><td> 90.20  </td><td> 577.9  </td><td>0.11890 </td><td>0.16450 </td><td>0.09366 </td><td>0.05985 </td><td>...     </td><td>17.06   </td><td>28.14   </td><td>110.60  </td><td> 897.0  </td><td>0.1654  </td><td>0.3682  </td><td>0.26780 </td><td>0.15560 </td><td>0.3196  </td><td>0.11510 </td></tr>\n",
       "\t<tr><td>  844981</td><td>M       </td><td>13.000  </td><td>21.82   </td><td> 87.50  </td><td> 519.8  </td><td>0.12730 </td><td>0.19320 </td><td>0.18590 </td><td>0.09353 </td><td>...     </td><td>15.49   </td><td>30.73   </td><td>106.20  </td><td> 739.3  </td><td>0.1703  </td><td>0.5401  </td><td>0.53900 </td><td>0.20600 </td><td>0.4378  </td><td>0.10720 </td></tr>\n",
       "\t<tr><td>84501001</td><td>M       </td><td>12.460  </td><td>24.04   </td><td> 83.97  </td><td> 475.9  </td><td>0.11860 </td><td>0.23960 </td><td>0.22730 </td><td>0.08543 </td><td>...     </td><td>15.09   </td><td>40.68   </td><td> 97.65  </td><td> 711.4  </td><td>0.1853  </td><td>1.0580  </td><td>1.10500 </td><td>0.22100 </td><td>0.4366  </td><td>0.20750 </td></tr>\n",
       "\t<tr><td>  845636</td><td>M       </td><td>16.020  </td><td>23.24   </td><td>102.70  </td><td> 797.8  </td><td>0.08206 </td><td>0.06669 </td><td>0.03299 </td><td>0.03323 </td><td>...     </td><td>19.19   </td><td>33.88   </td><td>123.80  </td><td>1150.0  </td><td>0.1181  </td><td>0.1551  </td><td>0.14590 </td><td>0.09975 </td><td>0.2948  </td><td>0.08452 </td></tr>\n",
       "\t<tr><td>84610002</td><td>M       </td><td>15.780  </td><td>17.89   </td><td>103.60  </td><td> 781.0  </td><td>0.09710 </td><td>0.12920 </td><td>0.09954 </td><td>0.06606 </td><td>...     </td><td>20.42   </td><td>27.28   </td><td>136.50  </td><td>1299.0  </td><td>0.1396  </td><td>0.5609  </td><td>0.39650 </td><td>0.18100 </td><td>0.3792  </td><td>0.10480 </td></tr>\n",
       "\t<tr><td>  846226</td><td>M       </td><td>19.170  </td><td>24.80   </td><td>132.40  </td><td>1123.0  </td><td>0.09740 </td><td>0.24580 </td><td>0.20650 </td><td>0.11180 </td><td>...     </td><td>20.96   </td><td>29.94   </td><td>151.70  </td><td>1332.0  </td><td>0.1037  </td><td>0.3903  </td><td>0.36390 </td><td>0.17670 </td><td>0.3176  </td><td>0.10230 </td></tr>\n",
       "\t<tr><td>  846381</td><td>M       </td><td>15.850  </td><td>23.95   </td><td>103.70  </td><td> 782.7  </td><td>0.08401 </td><td>0.10020 </td><td>0.09938 </td><td>0.05364 </td><td>...     </td><td>16.84   </td><td>27.66   </td><td>112.00  </td><td> 876.5  </td><td>0.1131  </td><td>0.1924  </td><td>0.23220 </td><td>0.11190 </td><td>0.2809  </td><td>0.06287 </td></tr>\n",
       "\t<tr><td>84667401</td><td>M       </td><td>13.730  </td><td>22.61   </td><td> 93.60  </td><td> 578.3  </td><td>0.11310 </td><td>0.22930 </td><td>0.21280 </td><td>0.08025 </td><td>...     </td><td>15.03   </td><td>32.01   </td><td>108.80  </td><td> 697.7  </td><td>0.1651  </td><td>0.7725  </td><td>0.69430 </td><td>0.22080 </td><td>0.3596  </td><td>0.14310 </td></tr>\n",
       "\t<tr><td>84799002</td><td>M       </td><td>14.540  </td><td>27.54   </td><td> 96.73  </td><td> 658.8  </td><td>0.11390 </td><td>0.15950 </td><td>0.16390 </td><td>0.07364 </td><td>...     </td><td>17.46   </td><td>37.13   </td><td>124.10  </td><td> 943.2  </td><td>0.1678  </td><td>0.6577  </td><td>0.70260 </td><td>0.17120 </td><td>0.4218  </td><td>0.13410 </td></tr>\n",
       "\t<tr><td>  848406</td><td>M       </td><td>14.680  </td><td>20.13   </td><td> 94.74  </td><td> 684.5  </td><td>0.09867 </td><td>0.07200 </td><td>0.07395 </td><td>0.05259 </td><td>...     </td><td>19.07   </td><td>30.88   </td><td>123.40  </td><td>1138.0  </td><td>0.1464  </td><td>0.1871  </td><td>0.29140 </td><td>0.16090 </td><td>0.3029  </td><td>0.08216 </td></tr>\n",
       "\t<tr><td>84862001</td><td>M       </td><td>16.130  </td><td>20.68   </td><td>108.10  </td><td> 798.8  </td><td>0.11700 </td><td>0.20220 </td><td>0.17220 </td><td>0.10280 </td><td>...     </td><td>20.96   </td><td>31.48   </td><td>136.80  </td><td>1315.0  </td><td>0.1789  </td><td>0.4233  </td><td>0.47840 </td><td>0.20730 </td><td>0.3706  </td><td>0.11420 </td></tr>\n",
       "\t<tr><td>  849014</td><td>M       </td><td>19.810  </td><td>22.15   </td><td>130.00  </td><td>1260.0  </td><td>0.09831 </td><td>0.10270 </td><td>0.14790 </td><td>0.09498 </td><td>...     </td><td>27.32   </td><td>30.88   </td><td>186.80  </td><td>2398.0  </td><td>0.1512  </td><td>0.3150  </td><td>0.53720 </td><td>0.23880 </td><td>0.2768  </td><td>0.07615 </td></tr>\n",
       "\t<tr><td> 8510426</td><td>B       </td><td>13.540  </td><td>14.36   </td><td> 87.46  </td><td> 566.3  </td><td>0.09779 </td><td>0.08129 </td><td>0.06664 </td><td>0.04781 </td><td>...     </td><td>15.11   </td><td>19.26   </td><td> 99.70  </td><td> 711.2  </td><td>0.1440  </td><td>0.1773  </td><td>0.23900 </td><td>0.12880 </td><td>0.2977  </td><td>0.07259 </td></tr>\n",
       "\t<tr><td> 8510653</td><td>B       </td><td>13.080  </td><td>15.71   </td><td> 85.63  </td><td> 520.0  </td><td>0.10750 </td><td>0.12700 </td><td>0.04568 </td><td>0.03110 </td><td>...     </td><td>14.50   </td><td>20.49   </td><td> 96.09  </td><td> 630.5  </td><td>0.1312  </td><td>0.2776  </td><td>0.18900 </td><td>0.07283 </td><td>0.3184  </td><td>0.08183 </td></tr>\n",
       "\t<tr><td> 8510824</td><td>B       </td><td> 9.504  </td><td>12.44   </td><td> 60.34  </td><td> 273.9  </td><td>0.10240 </td><td>0.06492 </td><td>0.02956 </td><td>0.02076 </td><td>...     </td><td>10.23   </td><td>15.66   </td><td> 65.13  </td><td> 314.9  </td><td>0.1324  </td><td>0.1148  </td><td>0.08867 </td><td>0.06227 </td><td>0.2450  </td><td>0.07773 </td></tr>\n",
       "\t<tr><td> 8511133</td><td>M       </td><td>15.340  </td><td>14.26   </td><td>102.50  </td><td> 704.4  </td><td>0.10730 </td><td>0.21350 </td><td>0.20770 </td><td>0.09756 </td><td>...     </td><td>18.07   </td><td>19.08   </td><td>125.10  </td><td> 980.9  </td><td>0.1390  </td><td>0.5954  </td><td>0.63050 </td><td>0.23930 </td><td>0.4667  </td><td>0.09946 </td></tr>\n",
       "\t<tr><td>  851509</td><td>M       </td><td>21.160  </td><td>23.04   </td><td>137.20  </td><td>1404.0  </td><td>0.09428 </td><td>0.10220 </td><td>0.10970 </td><td>0.08632 </td><td>...     </td><td>29.17   </td><td>35.59   </td><td>188.00  </td><td>2615.0  </td><td>0.1401  </td><td>0.2600  </td><td>0.31550 </td><td>0.20090 </td><td>0.2822  </td><td>0.07526 </td></tr>\n",
       "\t<tr><td>  852552</td><td>M       </td><td>16.650  </td><td>21.38   </td><td>110.00  </td><td> 904.6  </td><td>0.11210 </td><td>0.14570 </td><td>0.15250 </td><td>0.09170 </td><td>...     </td><td>26.46   </td><td>31.56   </td><td>177.00  </td><td>2215.0  </td><td>0.1805  </td><td>0.3578  </td><td>0.46950 </td><td>0.20950 </td><td>0.3613  </td><td>0.09564 </td></tr>\n",
       "\t<tr><td>  852631</td><td>M       </td><td>17.140  </td><td>16.40   </td><td>116.00  </td><td> 912.7  </td><td>0.11860 </td><td>0.22760 </td><td>0.22290 </td><td>0.14010 </td><td>...     </td><td>22.25   </td><td>21.40   </td><td>152.40  </td><td>1461.0  </td><td>0.1545  </td><td>0.3949  </td><td>0.38530 </td><td>0.25500 </td><td>0.4066  </td><td>0.10590 </td></tr>\n",
       "\t<tr><td>  852763</td><td>M       </td><td>14.580  </td><td>21.53   </td><td> 97.41  </td><td> 644.8  </td><td>0.10540 </td><td>0.18680 </td><td>0.14250 </td><td>0.08783 </td><td>...     </td><td>17.62   </td><td>33.21   </td><td>122.40  </td><td> 896.9  </td><td>0.1525  </td><td>0.6643  </td><td>0.55390 </td><td>0.27010 </td><td>0.4264  </td><td>0.12750 </td></tr>\n",
       "\t<tr><td>  852781</td><td>M       </td><td>18.610  </td><td>20.25   </td><td>122.10  </td><td>1094.0  </td><td>0.09440 </td><td>0.10660 </td><td>0.14900 </td><td>0.07731 </td><td>...     </td><td>21.31   </td><td>27.26   </td><td>139.90  </td><td>1403.0  </td><td>0.1338  </td><td>0.2117  </td><td>0.34460 </td><td>0.14900 </td><td>0.2341  </td><td>0.07421 </td></tr>\n",
       "\t<tr><td>  852973</td><td>M       </td><td>15.300  </td><td>25.27   </td><td>102.40  </td><td> 732.4  </td><td>0.10820 </td><td>0.16970 </td><td>0.16830 </td><td>0.08751 </td><td>...     </td><td>20.27   </td><td>36.71   </td><td>149.30  </td><td>1269.0  </td><td>0.1641  </td><td>0.6110  </td><td>0.63350 </td><td>0.20240 </td><td>0.4027  </td><td>0.09876 </td></tr>\n",
       "\t<tr><td>  853201</td><td>M       </td><td>17.570  </td><td>15.05   </td><td>115.00  </td><td> 955.1  </td><td>0.09847 </td><td>0.11570 </td><td>0.09875 </td><td>0.07953 </td><td>...     </td><td>20.01   </td><td>19.52   </td><td>134.90  </td><td>1227.0  </td><td>0.1255  </td><td>0.2812  </td><td>0.24890 </td><td>0.14560 </td><td>0.2756  </td><td>0.07919 </td></tr>\n",
       "\t<tr><td>...</td><td>...</td><td>...</td><td>...</td><td>...</td><td>...</td><td>...</td><td>...</td><td>...</td><td>...</td><td>   </td><td>...</td><td>...</td><td>...</td><td>...</td><td>...</td><td>...</td><td>...</td><td>...</td><td>...</td><td>...</td></tr>\n",
       "\t<tr><td>921362  </td><td>B       </td><td> 7.691  </td><td>25.44   </td><td> 48.34  </td><td> 170.4  </td><td>0.08668 </td><td>0.11990 </td><td>0.092520</td><td>0.013640</td><td>...     </td><td> 8.678  </td><td>31.89   </td><td> 54.49  </td><td> 223.6  </td><td>0.15960 </td><td>0.30640 </td><td>0.33930 </td><td>0.05000 </td><td>0.2790  </td><td>0.10660 </td></tr>\n",
       "\t<tr><td>921385  </td><td>B       </td><td>11.540  </td><td>14.44   </td><td> 74.65  </td><td> 402.9  </td><td>0.09984 </td><td>0.11200 </td><td>0.067370</td><td>0.025940</td><td>...     </td><td>12.260  </td><td>19.68   </td><td> 78.78  </td><td> 457.8  </td><td>0.13450 </td><td>0.21180 </td><td>0.17970 </td><td>0.06918 </td><td>0.2329  </td><td>0.08134 </td></tr>\n",
       "\t<tr><td>921386  </td><td>B       </td><td>14.470  </td><td>24.99   </td><td> 95.81  </td><td> 656.4  </td><td>0.08837 </td><td>0.12300 </td><td>0.100900</td><td>0.038900</td><td>...     </td><td>16.220  </td><td>31.73   </td><td>113.50  </td><td> 808.9  </td><td>0.13400 </td><td>0.42020 </td><td>0.40400 </td><td>0.12050 </td><td>0.3187  </td><td>0.10230 </td></tr>\n",
       "\t<tr><td>921644  </td><td>B       </td><td>14.740  </td><td>25.42   </td><td> 94.70  </td><td> 668.6  </td><td>0.08275 </td><td>0.07214 </td><td>0.041050</td><td>0.030270</td><td>...     </td><td>16.510  </td><td>32.29   </td><td>107.40  </td><td> 826.4  </td><td>0.10600 </td><td>0.13760 </td><td>0.16110 </td><td>0.10950 </td><td>0.2722  </td><td>0.06956 </td></tr>\n",
       "\t<tr><td>922296  </td><td>B       </td><td>13.210  </td><td>28.06   </td><td> 84.88  </td><td> 538.4  </td><td>0.08671 </td><td>0.06877 </td><td>0.029870</td><td>0.032750</td><td>...     </td><td>14.370  </td><td>37.17   </td><td> 92.48  </td><td> 629.6  </td><td>0.10720 </td><td>0.13810 </td><td>0.10620 </td><td>0.07958 </td><td>0.2473  </td><td>0.06443 </td></tr>\n",
       "\t<tr><td>922297  </td><td>B       </td><td>13.870  </td><td>20.70   </td><td> 89.77  </td><td> 584.8  </td><td>0.09578 </td><td>0.10180 </td><td>0.036880</td><td>0.023690</td><td>...     </td><td>15.050  </td><td>24.75   </td><td> 99.17  </td><td> 688.6  </td><td>0.12640 </td><td>0.20370 </td><td>0.13770 </td><td>0.06845 </td><td>0.2249  </td><td>0.08492 </td></tr>\n",
       "\t<tr><td>922576  </td><td>B       </td><td>13.620  </td><td>23.23   </td><td> 87.19  </td><td> 573.2  </td><td>0.09246 </td><td>0.06747 </td><td>0.029740</td><td>0.024430</td><td>...     </td><td>15.350  </td><td>29.09   </td><td> 97.58  </td><td> 729.8  </td><td>0.12160 </td><td>0.15170 </td><td>0.10490 </td><td>0.07174 </td><td>0.2642  </td><td>0.06953 </td></tr>\n",
       "\t<tr><td>922577  </td><td>B       </td><td>10.320  </td><td>16.35   </td><td> 65.31  </td><td> 324.9  </td><td>0.09434 </td><td>0.04994 </td><td>0.010120</td><td>0.005495</td><td>...     </td><td>11.250  </td><td>21.77   </td><td> 71.12  </td><td> 384.9  </td><td>0.12850 </td><td>0.08842 </td><td>0.04384 </td><td>0.02381 </td><td>0.2681  </td><td>0.07399 </td></tr>\n",
       "\t<tr><td>922840  </td><td>B       </td><td>10.260  </td><td>16.58   </td><td> 65.85  </td><td> 320.8  </td><td>0.08877 </td><td>0.08066 </td><td>0.043580</td><td>0.024380</td><td>...     </td><td>10.830  </td><td>22.04   </td><td> 71.08  </td><td> 357.4  </td><td>0.14610 </td><td>0.22460 </td><td>0.17830 </td><td>0.08333 </td><td>0.2691  </td><td>0.09479 </td></tr>\n",
       "\t<tr><td>923169  </td><td>B       </td><td> 9.683  </td><td>19.34   </td><td> 61.05  </td><td> 285.7  </td><td>0.08491 </td><td>0.05030 </td><td>0.023370</td><td>0.009615</td><td>...     </td><td>10.930  </td><td>25.59   </td><td> 69.10  </td><td> 364.2  </td><td>0.11990 </td><td>0.09546 </td><td>0.09350 </td><td>0.03846 </td><td>0.2552  </td><td>0.07920 </td></tr>\n",
       "\t<tr><td>923465  </td><td>B       </td><td>10.820  </td><td>24.21   </td><td> 68.89  </td><td> 361.6  </td><td>0.08192 </td><td>0.06602 </td><td>0.015480</td><td>0.008160</td><td>...     </td><td>13.030  </td><td>31.45   </td><td> 83.90  </td><td> 505.6  </td><td>0.12040 </td><td>0.16330 </td><td>0.06194 </td><td>0.03264 </td><td>0.3059  </td><td>0.07626 </td></tr>\n",
       "\t<tr><td>923748  </td><td>B       </td><td>10.860  </td><td>21.48   </td><td> 68.51  </td><td> 360.5  </td><td>0.07431 </td><td>0.04227 </td><td>0.000000</td><td>0.000000</td><td>...     </td><td>11.660  </td><td>24.77   </td><td> 74.08  </td><td> 412.3  </td><td>0.10010 </td><td>0.07348 </td><td>0.00000 </td><td>0.00000 </td><td>0.2458  </td><td>0.06592 </td></tr>\n",
       "\t<tr><td>923780  </td><td>B       </td><td>11.130  </td><td>22.44   </td><td> 71.49  </td><td> 378.4  </td><td>0.09566 </td><td>0.08194 </td><td>0.048240</td><td>0.022570</td><td>...     </td><td>12.020  </td><td>28.26   </td><td> 77.80  </td><td> 436.6  </td><td>0.10870 </td><td>0.17820 </td><td>0.15640 </td><td>0.06413 </td><td>0.3169  </td><td>0.08032 </td></tr>\n",
       "\t<tr><td>924084  </td><td>B       </td><td>12.770  </td><td>29.43   </td><td> 81.35  </td><td> 507.9  </td><td>0.08276 </td><td>0.04234 </td><td>0.019970</td><td>0.014990</td><td>...     </td><td>13.870  </td><td>36.00   </td><td> 88.10  </td><td> 594.7  </td><td>0.12340 </td><td>0.10640 </td><td>0.08653 </td><td>0.06498 </td><td>0.2407  </td><td>0.06484 </td></tr>\n",
       "\t<tr><td>924342  </td><td>B       </td><td> 9.333  </td><td>21.94   </td><td> 59.01  </td><td> 264.0  </td><td>0.09240 </td><td>0.05605 </td><td>0.039960</td><td>0.012820</td><td>...     </td><td> 9.845  </td><td>25.05   </td><td> 62.86  </td><td> 295.8  </td><td>0.11030 </td><td>0.08298 </td><td>0.07993 </td><td>0.02564 </td><td>0.2435  </td><td>0.07393 </td></tr>\n",
       "\t<tr><td>924632  </td><td>B       </td><td>12.880  </td><td>28.92   </td><td> 82.50  </td><td> 514.3  </td><td>0.08123 </td><td>0.05824 </td><td>0.061950</td><td>0.023430</td><td>...     </td><td>13.890  </td><td>35.74   </td><td> 88.84  </td><td> 595.7  </td><td>0.12270 </td><td>0.16200 </td><td>0.24390 </td><td>0.06493 </td><td>0.2372  </td><td>0.07242 </td></tr>\n",
       "\t<tr><td>924934  </td><td>B       </td><td>10.290  </td><td>27.61   </td><td> 65.67  </td><td> 321.4  </td><td>0.09030 </td><td>0.07658 </td><td>0.059990</td><td>0.027380</td><td>...     </td><td>10.840  </td><td>34.91   </td><td> 69.57  </td><td> 357.6  </td><td>0.13840 </td><td>0.17100 </td><td>0.20000 </td><td>0.09127 </td><td>0.2226  </td><td>0.08283 </td></tr>\n",
       "\t<tr><td>924964  </td><td>B       </td><td>10.160  </td><td>19.59   </td><td> 64.73  </td><td> 311.7  </td><td>0.10030 </td><td>0.07504 </td><td>0.005025</td><td>0.011160</td><td>...     </td><td>10.650  </td><td>22.88   </td><td> 67.88  </td><td> 347.3  </td><td>0.12650 </td><td>0.12000 </td><td>0.01005 </td><td>0.02232 </td><td>0.2262  </td><td>0.06742 </td></tr>\n",
       "\t<tr><td>925236  </td><td>B       </td><td> 9.423  </td><td>27.88   </td><td> 59.26  </td><td> 271.3  </td><td>0.08123 </td><td>0.04971 </td><td>0.000000</td><td>0.000000</td><td>...     </td><td>10.490  </td><td>34.24   </td><td> 66.50  </td><td> 330.6  </td><td>0.10730 </td><td>0.07158 </td><td>0.00000 </td><td>0.00000 </td><td>0.2475  </td><td>0.06969 </td></tr>\n",
       "\t<tr><td>925277  </td><td>B       </td><td>14.590  </td><td>22.68   </td><td> 96.39  </td><td> 657.1  </td><td>0.08473 </td><td>0.13300 </td><td>0.102900</td><td>0.037360</td><td>...     </td><td>15.480  </td><td>27.27   </td><td>105.90  </td><td> 733.5  </td><td>0.10260 </td><td>0.31710 </td><td>0.36620 </td><td>0.11050 </td><td>0.2258  </td><td>0.08004 </td></tr>\n",
       "\t<tr><td>925291  </td><td>B       </td><td>11.510  </td><td>23.93   </td><td> 74.52  </td><td> 403.5  </td><td>0.09261 </td><td>0.10210 </td><td>0.111200</td><td>0.041050</td><td>...     </td><td>12.480  </td><td>37.16   </td><td> 82.28  </td><td> 474.2  </td><td>0.12980 </td><td>0.25170 </td><td>0.36300 </td><td>0.09653 </td><td>0.2112  </td><td>0.08732 </td></tr>\n",
       "\t<tr><td>925292  </td><td>B       </td><td>14.050  </td><td>27.15   </td><td> 91.38  </td><td> 600.4  </td><td>0.09929 </td><td>0.11260 </td><td>0.044620</td><td>0.043040</td><td>...     </td><td>15.300  </td><td>33.17   </td><td>100.20  </td><td> 706.7  </td><td>0.12410 </td><td>0.22640 </td><td>0.13260 </td><td>0.10480 </td><td>0.2250  </td><td>0.08321 </td></tr>\n",
       "\t<tr><td>925311  </td><td>B       </td><td>11.200  </td><td>29.37   </td><td> 70.67  </td><td> 386.0  </td><td>0.07449 </td><td>0.03558 </td><td>0.000000</td><td>0.000000</td><td>...     </td><td>11.920  </td><td>38.30   </td><td> 75.19  </td><td> 439.6  </td><td>0.09267 </td><td>0.05494 </td><td>0.00000 </td><td>0.00000 </td><td>0.1566  </td><td>0.05905 </td></tr>\n",
       "\t<tr><td>925622  </td><td>M       </td><td>15.220  </td><td>30.62   </td><td>103.40  </td><td> 716.9  </td><td>0.10480 </td><td>0.20870 </td><td>0.255000</td><td>0.094290</td><td>...     </td><td>17.520  </td><td>42.79   </td><td>128.70  </td><td> 915.0  </td><td>0.14170 </td><td>0.79170 </td><td>1.17000 </td><td>0.23560 </td><td>0.4089  </td><td>0.14090 </td></tr>\n",
       "\t<tr><td>926125  </td><td>M       </td><td>20.920  </td><td>25.09   </td><td>143.00  </td><td>1347.0  </td><td>0.10990 </td><td>0.22360 </td><td>0.317400</td><td>0.147400</td><td>...     </td><td>24.290  </td><td>29.41   </td><td>179.10  </td><td>1819.0  </td><td>0.14070 </td><td>0.41860 </td><td>0.65990 </td><td>0.25420 </td><td>0.2929  </td><td>0.09873 </td></tr>\n",
       "\t<tr><td>926424  </td><td>M       </td><td>21.560  </td><td>22.39   </td><td>142.00  </td><td>1479.0  </td><td>0.11100 </td><td>0.11590 </td><td>0.243900</td><td>0.138900</td><td>...     </td><td>25.450  </td><td>26.40   </td><td>166.10  </td><td>2027.0  </td><td>0.14100 </td><td>0.21130 </td><td>0.41070 </td><td>0.22160 </td><td>0.2060  </td><td>0.07115 </td></tr>\n",
       "\t<tr><td>926682  </td><td>M       </td><td>20.130  </td><td>28.25   </td><td>131.20  </td><td>1261.0  </td><td>0.09780 </td><td>0.10340 </td><td>0.144000</td><td>0.097910</td><td>...     </td><td>23.690  </td><td>38.25   </td><td>155.00  </td><td>1731.0  </td><td>0.11660 </td><td>0.19220 </td><td>0.32150 </td><td>0.16280 </td><td>0.2572  </td><td>0.06637 </td></tr>\n",
       "\t<tr><td>926954  </td><td>M       </td><td>16.600  </td><td>28.08   </td><td>108.30  </td><td> 858.1  </td><td>0.08455 </td><td>0.10230 </td><td>0.092510</td><td>0.053020</td><td>...     </td><td>18.980  </td><td>34.12   </td><td>126.70  </td><td>1124.0  </td><td>0.11390 </td><td>0.30940 </td><td>0.34030 </td><td>0.14180 </td><td>0.2218  </td><td>0.07820 </td></tr>\n",
       "\t<tr><td>927241  </td><td>M       </td><td>20.600  </td><td>29.33   </td><td>140.10  </td><td>1265.0  </td><td>0.11780 </td><td>0.27700 </td><td>0.351400</td><td>0.152000</td><td>...     </td><td>25.740  </td><td>39.42   </td><td>184.60  </td><td>1821.0  </td><td>0.16500 </td><td>0.86810 </td><td>0.93870 </td><td>0.26500 </td><td>0.4087  </td><td>0.12400 </td></tr>\n",
       "\t<tr><td> 92751  </td><td>B       </td><td> 7.760  </td><td>24.54   </td><td> 47.92  </td><td> 181.0  </td><td>0.05263 </td><td>0.04362 </td><td>0.000000</td><td>0.000000</td><td>...     </td><td> 9.456  </td><td>30.37   </td><td> 59.16  </td><td> 268.6  </td><td>0.08996 </td><td>0.06444 </td><td>0.00000 </td><td>0.00000 </td><td>0.2871  </td><td>0.07039 </td></tr>\n",
       "</tbody>\n",
       "</table>\n"
      ],
      "text/latex": [
       "\\begin{tabular}{r|llllllllllllllllllllllllllllllll}\n",
       " ID & Diagnosis & radius\\_mean & texture\\_mean & perimeter\\_mean & area\\_mean & smoothness\\_mean & compactness\\_mean & concavity\\_mean & concave\\_points\\_mean & ... & radius\\_worst & texture\\_worst & perimeter\\_worst & area\\_worst & smoothness\\_worst & compactness\\_worst & concavity\\_worst & concave\\_points\\_worst & symmetry\\_worst & fractal\\_dimension\\_worst\\\\\n",
       "\\hline\n",
       "\t   842302 & M        & 17.990   & 10.38    & 122.80   & 1001.0   & 0.11840  & 0.27760  & 0.30010  & 0.14710  & ...      & 25.38    & 17.33    & 184.60   & 2019.0   & 0.1622   & 0.6656   & 0.71190  & 0.26540  & 0.4601   & 0.11890 \\\\\n",
       "\t   842517 & M        & 20.570   & 17.77    & 132.90   & 1326.0   & 0.08474  & 0.07864  & 0.08690  & 0.07017  & ...      & 24.99    & 23.41    & 158.80   & 1956.0   & 0.1238   & 0.1866   & 0.24160  & 0.18600  & 0.2750   & 0.08902 \\\\\n",
       "\t 84300903 & M        & 19.690   & 21.25    & 130.00   & 1203.0   & 0.10960  & 0.15990  & 0.19740  & 0.12790  & ...      & 23.57    & 25.53    & 152.50   & 1709.0   & 0.1444   & 0.4245   & 0.45040  & 0.24300  & 0.3613   & 0.08758 \\\\\n",
       "\t 84348301 & M        & 11.420   & 20.38    &  77.58   &  386.1   & 0.14250  & 0.28390  & 0.24140  & 0.10520  & ...      & 14.91    & 26.50    &  98.87   &  567.7   & 0.2098   & 0.8663   & 0.68690  & 0.25750  & 0.6638   & 0.17300 \\\\\n",
       "\t 84358402 & M        & 20.290   & 14.34    & 135.10   & 1297.0   & 0.10030  & 0.13280  & 0.19800  & 0.10430  & ...      & 22.54    & 16.67    & 152.20   & 1575.0   & 0.1374   & 0.2050   & 0.40000  & 0.16250  & 0.2364   & 0.07678 \\\\\n",
       "\t   843786 & M        & 12.450   & 15.70    &  82.57   &  477.1   & 0.12780  & 0.17000  & 0.15780  & 0.08089  & ...      & 15.47    & 23.75    & 103.40   &  741.6   & 0.1791   & 0.5249   & 0.53550  & 0.17410  & 0.3985   & 0.12440 \\\\\n",
       "\t   844359 & M        & 18.250   & 19.98    & 119.60   & 1040.0   & 0.09463  & 0.10900  & 0.11270  & 0.07400  & ...      & 22.88    & 27.66    & 153.20   & 1606.0   & 0.1442   & 0.2576   & 0.37840  & 0.19320  & 0.3063   & 0.08368 \\\\\n",
       "\t 84458202 & M        & 13.710   & 20.83    &  90.20   &  577.9   & 0.11890  & 0.16450  & 0.09366  & 0.05985  & ...      & 17.06    & 28.14    & 110.60   &  897.0   & 0.1654   & 0.3682   & 0.26780  & 0.15560  & 0.3196   & 0.11510 \\\\\n",
       "\t   844981 & M        & 13.000   & 21.82    &  87.50   &  519.8   & 0.12730  & 0.19320  & 0.18590  & 0.09353  & ...      & 15.49    & 30.73    & 106.20   &  739.3   & 0.1703   & 0.5401   & 0.53900  & 0.20600  & 0.4378   & 0.10720 \\\\\n",
       "\t 84501001 & M        & 12.460   & 24.04    &  83.97   &  475.9   & 0.11860  & 0.23960  & 0.22730  & 0.08543  & ...      & 15.09    & 40.68    &  97.65   &  711.4   & 0.1853   & 1.0580   & 1.10500  & 0.22100  & 0.4366   & 0.20750 \\\\\n",
       "\t   845636 & M        & 16.020   & 23.24    & 102.70   &  797.8   & 0.08206  & 0.06669  & 0.03299  & 0.03323  & ...      & 19.19    & 33.88    & 123.80   & 1150.0   & 0.1181   & 0.1551   & 0.14590  & 0.09975  & 0.2948   & 0.08452 \\\\\n",
       "\t 84610002 & M        & 15.780   & 17.89    & 103.60   &  781.0   & 0.09710  & 0.12920  & 0.09954  & 0.06606  & ...      & 20.42    & 27.28    & 136.50   & 1299.0   & 0.1396   & 0.5609   & 0.39650  & 0.18100  & 0.3792   & 0.10480 \\\\\n",
       "\t   846226 & M        & 19.170   & 24.80    & 132.40   & 1123.0   & 0.09740  & 0.24580  & 0.20650  & 0.11180  & ...      & 20.96    & 29.94    & 151.70   & 1332.0   & 0.1037   & 0.3903   & 0.36390  & 0.17670  & 0.3176   & 0.10230 \\\\\n",
       "\t   846381 & M        & 15.850   & 23.95    & 103.70   &  782.7   & 0.08401  & 0.10020  & 0.09938  & 0.05364  & ...      & 16.84    & 27.66    & 112.00   &  876.5   & 0.1131   & 0.1924   & 0.23220  & 0.11190  & 0.2809   & 0.06287 \\\\\n",
       "\t 84667401 & M        & 13.730   & 22.61    &  93.60   &  578.3   & 0.11310  & 0.22930  & 0.21280  & 0.08025  & ...      & 15.03    & 32.01    & 108.80   &  697.7   & 0.1651   & 0.7725   & 0.69430  & 0.22080  & 0.3596   & 0.14310 \\\\\n",
       "\t 84799002 & M        & 14.540   & 27.54    &  96.73   &  658.8   & 0.11390  & 0.15950  & 0.16390  & 0.07364  & ...      & 17.46    & 37.13    & 124.10   &  943.2   & 0.1678   & 0.6577   & 0.70260  & 0.17120  & 0.4218   & 0.13410 \\\\\n",
       "\t   848406 & M        & 14.680   & 20.13    &  94.74   &  684.5   & 0.09867  & 0.07200  & 0.07395  & 0.05259  & ...      & 19.07    & 30.88    & 123.40   & 1138.0   & 0.1464   & 0.1871   & 0.29140  & 0.16090  & 0.3029   & 0.08216 \\\\\n",
       "\t 84862001 & M        & 16.130   & 20.68    & 108.10   &  798.8   & 0.11700  & 0.20220  & 0.17220  & 0.10280  & ...      & 20.96    & 31.48    & 136.80   & 1315.0   & 0.1789   & 0.4233   & 0.47840  & 0.20730  & 0.3706   & 0.11420 \\\\\n",
       "\t   849014 & M        & 19.810   & 22.15    & 130.00   & 1260.0   & 0.09831  & 0.10270  & 0.14790  & 0.09498  & ...      & 27.32    & 30.88    & 186.80   & 2398.0   & 0.1512   & 0.3150   & 0.53720  & 0.23880  & 0.2768   & 0.07615 \\\\\n",
       "\t  8510426 & B        & 13.540   & 14.36    &  87.46   &  566.3   & 0.09779  & 0.08129  & 0.06664  & 0.04781  & ...      & 15.11    & 19.26    &  99.70   &  711.2   & 0.1440   & 0.1773   & 0.23900  & 0.12880  & 0.2977   & 0.07259 \\\\\n",
       "\t  8510653 & B        & 13.080   & 15.71    &  85.63   &  520.0   & 0.10750  & 0.12700  & 0.04568  & 0.03110  & ...      & 14.50    & 20.49    &  96.09   &  630.5   & 0.1312   & 0.2776   & 0.18900  & 0.07283  & 0.3184   & 0.08183 \\\\\n",
       "\t  8510824 & B        &  9.504   & 12.44    &  60.34   &  273.9   & 0.10240  & 0.06492  & 0.02956  & 0.02076  & ...      & 10.23    & 15.66    &  65.13   &  314.9   & 0.1324   & 0.1148   & 0.08867  & 0.06227  & 0.2450   & 0.07773 \\\\\n",
       "\t  8511133 & M        & 15.340   & 14.26    & 102.50   &  704.4   & 0.10730  & 0.21350  & 0.20770  & 0.09756  & ...      & 18.07    & 19.08    & 125.10   &  980.9   & 0.1390   & 0.5954   & 0.63050  & 0.23930  & 0.4667   & 0.09946 \\\\\n",
       "\t   851509 & M        & 21.160   & 23.04    & 137.20   & 1404.0   & 0.09428  & 0.10220  & 0.10970  & 0.08632  & ...      & 29.17    & 35.59    & 188.00   & 2615.0   & 0.1401   & 0.2600   & 0.31550  & 0.20090  & 0.2822   & 0.07526 \\\\\n",
       "\t   852552 & M        & 16.650   & 21.38    & 110.00   &  904.6   & 0.11210  & 0.14570  & 0.15250  & 0.09170  & ...      & 26.46    & 31.56    & 177.00   & 2215.0   & 0.1805   & 0.3578   & 0.46950  & 0.20950  & 0.3613   & 0.09564 \\\\\n",
       "\t   852631 & M        & 17.140   & 16.40    & 116.00   &  912.7   & 0.11860  & 0.22760  & 0.22290  & 0.14010  & ...      & 22.25    & 21.40    & 152.40   & 1461.0   & 0.1545   & 0.3949   & 0.38530  & 0.25500  & 0.4066   & 0.10590 \\\\\n",
       "\t   852763 & M        & 14.580   & 21.53    &  97.41   &  644.8   & 0.10540  & 0.18680  & 0.14250  & 0.08783  & ...      & 17.62    & 33.21    & 122.40   &  896.9   & 0.1525   & 0.6643   & 0.55390  & 0.27010  & 0.4264   & 0.12750 \\\\\n",
       "\t   852781 & M        & 18.610   & 20.25    & 122.10   & 1094.0   & 0.09440  & 0.10660  & 0.14900  & 0.07731  & ...      & 21.31    & 27.26    & 139.90   & 1403.0   & 0.1338   & 0.2117   & 0.34460  & 0.14900  & 0.2341   & 0.07421 \\\\\n",
       "\t   852973 & M        & 15.300   & 25.27    & 102.40   &  732.4   & 0.10820  & 0.16970  & 0.16830  & 0.08751  & ...      & 20.27    & 36.71    & 149.30   & 1269.0   & 0.1641   & 0.6110   & 0.63350  & 0.20240  & 0.4027   & 0.09876 \\\\\n",
       "\t   853201 & M        & 17.570   & 15.05    & 115.00   &  955.1   & 0.09847  & 0.11570  & 0.09875  & 0.07953  & ...      & 20.01    & 19.52    & 134.90   & 1227.0   & 0.1255   & 0.2812   & 0.24890  & 0.14560  & 0.2756   & 0.07919 \\\\\n",
       "\t ... & ... & ... & ... & ... & ... & ... & ... & ... & ... &     & ... & ... & ... & ... & ... & ... & ... & ... & ... & ...\\\\\n",
       "\t 921362   & B        &  7.691   & 25.44    &  48.34   &  170.4   & 0.08668  & 0.11990  & 0.092520 & 0.013640 & ...      &  8.678   & 31.89    &  54.49   &  223.6   & 0.15960  & 0.30640  & 0.33930  & 0.05000  & 0.2790   & 0.10660 \\\\\n",
       "\t 921385   & B        & 11.540   & 14.44    &  74.65   &  402.9   & 0.09984  & 0.11200  & 0.067370 & 0.025940 & ...      & 12.260   & 19.68    &  78.78   &  457.8   & 0.13450  & 0.21180  & 0.17970  & 0.06918  & 0.2329   & 0.08134 \\\\\n",
       "\t 921386   & B        & 14.470   & 24.99    &  95.81   &  656.4   & 0.08837  & 0.12300  & 0.100900 & 0.038900 & ...      & 16.220   & 31.73    & 113.50   &  808.9   & 0.13400  & 0.42020  & 0.40400  & 0.12050  & 0.3187   & 0.10230 \\\\\n",
       "\t 921644   & B        & 14.740   & 25.42    &  94.70   &  668.6   & 0.08275  & 0.07214  & 0.041050 & 0.030270 & ...      & 16.510   & 32.29    & 107.40   &  826.4   & 0.10600  & 0.13760  & 0.16110  & 0.10950  & 0.2722   & 0.06956 \\\\\n",
       "\t 922296   & B        & 13.210   & 28.06    &  84.88   &  538.4   & 0.08671  & 0.06877  & 0.029870 & 0.032750 & ...      & 14.370   & 37.17    &  92.48   &  629.6   & 0.10720  & 0.13810  & 0.10620  & 0.07958  & 0.2473   & 0.06443 \\\\\n",
       "\t 922297   & B        & 13.870   & 20.70    &  89.77   &  584.8   & 0.09578  & 0.10180  & 0.036880 & 0.023690 & ...      & 15.050   & 24.75    &  99.17   &  688.6   & 0.12640  & 0.20370  & 0.13770  & 0.06845  & 0.2249   & 0.08492 \\\\\n",
       "\t 922576   & B        & 13.620   & 23.23    &  87.19   &  573.2   & 0.09246  & 0.06747  & 0.029740 & 0.024430 & ...      & 15.350   & 29.09    &  97.58   &  729.8   & 0.12160  & 0.15170  & 0.10490  & 0.07174  & 0.2642   & 0.06953 \\\\\n",
       "\t 922577   & B        & 10.320   & 16.35    &  65.31   &  324.9   & 0.09434  & 0.04994  & 0.010120 & 0.005495 & ...      & 11.250   & 21.77    &  71.12   &  384.9   & 0.12850  & 0.08842  & 0.04384  & 0.02381  & 0.2681   & 0.07399 \\\\\n",
       "\t 922840   & B        & 10.260   & 16.58    &  65.85   &  320.8   & 0.08877  & 0.08066  & 0.043580 & 0.024380 & ...      & 10.830   & 22.04    &  71.08   &  357.4   & 0.14610  & 0.22460  & 0.17830  & 0.08333  & 0.2691   & 0.09479 \\\\\n",
       "\t 923169   & B        &  9.683   & 19.34    &  61.05   &  285.7   & 0.08491  & 0.05030  & 0.023370 & 0.009615 & ...      & 10.930   & 25.59    &  69.10   &  364.2   & 0.11990  & 0.09546  & 0.09350  & 0.03846  & 0.2552   & 0.07920 \\\\\n",
       "\t 923465   & B        & 10.820   & 24.21    &  68.89   &  361.6   & 0.08192  & 0.06602  & 0.015480 & 0.008160 & ...      & 13.030   & 31.45    &  83.90   &  505.6   & 0.12040  & 0.16330  & 0.06194  & 0.03264  & 0.3059   & 0.07626 \\\\\n",
       "\t 923748   & B        & 10.860   & 21.48    &  68.51   &  360.5   & 0.07431  & 0.04227  & 0.000000 & 0.000000 & ...      & 11.660   & 24.77    &  74.08   &  412.3   & 0.10010  & 0.07348  & 0.00000  & 0.00000  & 0.2458   & 0.06592 \\\\\n",
       "\t 923780   & B        & 11.130   & 22.44    &  71.49   &  378.4   & 0.09566  & 0.08194  & 0.048240 & 0.022570 & ...      & 12.020   & 28.26    &  77.80   &  436.6   & 0.10870  & 0.17820  & 0.15640  & 0.06413  & 0.3169   & 0.08032 \\\\\n",
       "\t 924084   & B        & 12.770   & 29.43    &  81.35   &  507.9   & 0.08276  & 0.04234  & 0.019970 & 0.014990 & ...      & 13.870   & 36.00    &  88.10   &  594.7   & 0.12340  & 0.10640  & 0.08653  & 0.06498  & 0.2407   & 0.06484 \\\\\n",
       "\t 924342   & B        &  9.333   & 21.94    &  59.01   &  264.0   & 0.09240  & 0.05605  & 0.039960 & 0.012820 & ...      &  9.845   & 25.05    &  62.86   &  295.8   & 0.11030  & 0.08298  & 0.07993  & 0.02564  & 0.2435   & 0.07393 \\\\\n",
       "\t 924632   & B        & 12.880   & 28.92    &  82.50   &  514.3   & 0.08123  & 0.05824  & 0.061950 & 0.023430 & ...      & 13.890   & 35.74    &  88.84   &  595.7   & 0.12270  & 0.16200  & 0.24390  & 0.06493  & 0.2372   & 0.07242 \\\\\n",
       "\t 924934   & B        & 10.290   & 27.61    &  65.67   &  321.4   & 0.09030  & 0.07658  & 0.059990 & 0.027380 & ...      & 10.840   & 34.91    &  69.57   &  357.6   & 0.13840  & 0.17100  & 0.20000  & 0.09127  & 0.2226   & 0.08283 \\\\\n",
       "\t 924964   & B        & 10.160   & 19.59    &  64.73   &  311.7   & 0.10030  & 0.07504  & 0.005025 & 0.011160 & ...      & 10.650   & 22.88    &  67.88   &  347.3   & 0.12650  & 0.12000  & 0.01005  & 0.02232  & 0.2262   & 0.06742 \\\\\n",
       "\t 925236   & B        &  9.423   & 27.88    &  59.26   &  271.3   & 0.08123  & 0.04971  & 0.000000 & 0.000000 & ...      & 10.490   & 34.24    &  66.50   &  330.6   & 0.10730  & 0.07158  & 0.00000  & 0.00000  & 0.2475   & 0.06969 \\\\\n",
       "\t 925277   & B        & 14.590   & 22.68    &  96.39   &  657.1   & 0.08473  & 0.13300  & 0.102900 & 0.037360 & ...      & 15.480   & 27.27    & 105.90   &  733.5   & 0.10260  & 0.31710  & 0.36620  & 0.11050  & 0.2258   & 0.08004 \\\\\n",
       "\t 925291   & B        & 11.510   & 23.93    &  74.52   &  403.5   & 0.09261  & 0.10210  & 0.111200 & 0.041050 & ...      & 12.480   & 37.16    &  82.28   &  474.2   & 0.12980  & 0.25170  & 0.36300  & 0.09653  & 0.2112   & 0.08732 \\\\\n",
       "\t 925292   & B        & 14.050   & 27.15    &  91.38   &  600.4   & 0.09929  & 0.11260  & 0.044620 & 0.043040 & ...      & 15.300   & 33.17    & 100.20   &  706.7   & 0.12410  & 0.22640  & 0.13260  & 0.10480  & 0.2250   & 0.08321 \\\\\n",
       "\t 925311   & B        & 11.200   & 29.37    &  70.67   &  386.0   & 0.07449  & 0.03558  & 0.000000 & 0.000000 & ...      & 11.920   & 38.30    &  75.19   &  439.6   & 0.09267  & 0.05494  & 0.00000  & 0.00000  & 0.1566   & 0.05905 \\\\\n",
       "\t 925622   & M        & 15.220   & 30.62    & 103.40   &  716.9   & 0.10480  & 0.20870  & 0.255000 & 0.094290 & ...      & 17.520   & 42.79    & 128.70   &  915.0   & 0.14170  & 0.79170  & 1.17000  & 0.23560  & 0.4089   & 0.14090 \\\\\n",
       "\t 926125   & M        & 20.920   & 25.09    & 143.00   & 1347.0   & 0.10990  & 0.22360  & 0.317400 & 0.147400 & ...      & 24.290   & 29.41    & 179.10   & 1819.0   & 0.14070  & 0.41860  & 0.65990  & 0.25420  & 0.2929   & 0.09873 \\\\\n",
       "\t 926424   & M        & 21.560   & 22.39    & 142.00   & 1479.0   & 0.11100  & 0.11590  & 0.243900 & 0.138900 & ...      & 25.450   & 26.40    & 166.10   & 2027.0   & 0.14100  & 0.21130  & 0.41070  & 0.22160  & 0.2060   & 0.07115 \\\\\n",
       "\t 926682   & M        & 20.130   & 28.25    & 131.20   & 1261.0   & 0.09780  & 0.10340  & 0.144000 & 0.097910 & ...      & 23.690   & 38.25    & 155.00   & 1731.0   & 0.11660  & 0.19220  & 0.32150  & 0.16280  & 0.2572   & 0.06637 \\\\\n",
       "\t 926954   & M        & 16.600   & 28.08    & 108.30   &  858.1   & 0.08455  & 0.10230  & 0.092510 & 0.053020 & ...      & 18.980   & 34.12    & 126.70   & 1124.0   & 0.11390  & 0.30940  & 0.34030  & 0.14180  & 0.2218   & 0.07820 \\\\\n",
       "\t 927241   & M        & 20.600   & 29.33    & 140.10   & 1265.0   & 0.11780  & 0.27700  & 0.351400 & 0.152000 & ...      & 25.740   & 39.42    & 184.60   & 1821.0   & 0.16500  & 0.86810  & 0.93870  & 0.26500  & 0.4087   & 0.12400 \\\\\n",
       "\t  92751   & B        &  7.760   & 24.54    &  47.92   &  181.0   & 0.05263  & 0.04362  & 0.000000 & 0.000000 & ...      &  9.456   & 30.37    &  59.16   &  268.6   & 0.08996  & 0.06444  & 0.00000  & 0.00000  & 0.2871   & 0.07039 \\\\\n",
       "\\end{tabular}\n"
      ],
      "text/markdown": [
       "\n",
       "ID | Diagnosis | radius_mean | texture_mean | perimeter_mean | area_mean | smoothness_mean | compactness_mean | concavity_mean | concave_points_mean | ... | radius_worst | texture_worst | perimeter_worst | area_worst | smoothness_worst | compactness_worst | concavity_worst | concave_points_worst | symmetry_worst | fractal_dimension_worst | \n",
       "|---|---|---|---|---|---|---|---|---|---|---|---|---|---|---|---|---|---|---|---|---|---|---|---|---|---|---|---|---|---|---|---|---|---|---|---|---|---|---|---|---|---|---|---|---|---|---|---|---|---|---|---|---|---|---|---|---|---|---|---|---|\n",
       "|   842302 | M        | 17.990   | 10.38    | 122.80   | 1001.0   | 0.11840  | 0.27760  | 0.30010  | 0.14710  | ...      | 25.38    | 17.33    | 184.60   | 2019.0   | 0.1622   | 0.6656   | 0.71190  | 0.26540  | 0.4601   | 0.11890  | \n",
       "|   842517 | M        | 20.570   | 17.77    | 132.90   | 1326.0   | 0.08474  | 0.07864  | 0.08690  | 0.07017  | ...      | 24.99    | 23.41    | 158.80   | 1956.0   | 0.1238   | 0.1866   | 0.24160  | 0.18600  | 0.2750   | 0.08902  | \n",
       "| 84300903 | M        | 19.690   | 21.25    | 130.00   | 1203.0   | 0.10960  | 0.15990  | 0.19740  | 0.12790  | ...      | 23.57    | 25.53    | 152.50   | 1709.0   | 0.1444   | 0.4245   | 0.45040  | 0.24300  | 0.3613   | 0.08758  | \n",
       "| 84348301 | M        | 11.420   | 20.38    |  77.58   |  386.1   | 0.14250  | 0.28390  | 0.24140  | 0.10520  | ...      | 14.91    | 26.50    |  98.87   |  567.7   | 0.2098   | 0.8663   | 0.68690  | 0.25750  | 0.6638   | 0.17300  | \n",
       "| 84358402 | M        | 20.290   | 14.34    | 135.10   | 1297.0   | 0.10030  | 0.13280  | 0.19800  | 0.10430  | ...      | 22.54    | 16.67    | 152.20   | 1575.0   | 0.1374   | 0.2050   | 0.40000  | 0.16250  | 0.2364   | 0.07678  | \n",
       "|   843786 | M        | 12.450   | 15.70    |  82.57   |  477.1   | 0.12780  | 0.17000  | 0.15780  | 0.08089  | ...      | 15.47    | 23.75    | 103.40   |  741.6   | 0.1791   | 0.5249   | 0.53550  | 0.17410  | 0.3985   | 0.12440  | \n",
       "|   844359 | M        | 18.250   | 19.98    | 119.60   | 1040.0   | 0.09463  | 0.10900  | 0.11270  | 0.07400  | ...      | 22.88    | 27.66    | 153.20   | 1606.0   | 0.1442   | 0.2576   | 0.37840  | 0.19320  | 0.3063   | 0.08368  | \n",
       "| 84458202 | M        | 13.710   | 20.83    |  90.20   |  577.9   | 0.11890  | 0.16450  | 0.09366  | 0.05985  | ...      | 17.06    | 28.14    | 110.60   |  897.0   | 0.1654   | 0.3682   | 0.26780  | 0.15560  | 0.3196   | 0.11510  | \n",
       "|   844981 | M        | 13.000   | 21.82    |  87.50   |  519.8   | 0.12730  | 0.19320  | 0.18590  | 0.09353  | ...      | 15.49    | 30.73    | 106.20   |  739.3   | 0.1703   | 0.5401   | 0.53900  | 0.20600  | 0.4378   | 0.10720  | \n",
       "| 84501001 | M        | 12.460   | 24.04    |  83.97   |  475.9   | 0.11860  | 0.23960  | 0.22730  | 0.08543  | ...      | 15.09    | 40.68    |  97.65   |  711.4   | 0.1853   | 1.0580   | 1.10500  | 0.22100  | 0.4366   | 0.20750  | \n",
       "|   845636 | M        | 16.020   | 23.24    | 102.70   |  797.8   | 0.08206  | 0.06669  | 0.03299  | 0.03323  | ...      | 19.19    | 33.88    | 123.80   | 1150.0   | 0.1181   | 0.1551   | 0.14590  | 0.09975  | 0.2948   | 0.08452  | \n",
       "| 84610002 | M        | 15.780   | 17.89    | 103.60   |  781.0   | 0.09710  | 0.12920  | 0.09954  | 0.06606  | ...      | 20.42    | 27.28    | 136.50   | 1299.0   | 0.1396   | 0.5609   | 0.39650  | 0.18100  | 0.3792   | 0.10480  | \n",
       "|   846226 | M        | 19.170   | 24.80    | 132.40   | 1123.0   | 0.09740  | 0.24580  | 0.20650  | 0.11180  | ...      | 20.96    | 29.94    | 151.70   | 1332.0   | 0.1037   | 0.3903   | 0.36390  | 0.17670  | 0.3176   | 0.10230  | \n",
       "|   846381 | M        | 15.850   | 23.95    | 103.70   |  782.7   | 0.08401  | 0.10020  | 0.09938  | 0.05364  | ...      | 16.84    | 27.66    | 112.00   |  876.5   | 0.1131   | 0.1924   | 0.23220  | 0.11190  | 0.2809   | 0.06287  | \n",
       "| 84667401 | M        | 13.730   | 22.61    |  93.60   |  578.3   | 0.11310  | 0.22930  | 0.21280  | 0.08025  | ...      | 15.03    | 32.01    | 108.80   |  697.7   | 0.1651   | 0.7725   | 0.69430  | 0.22080  | 0.3596   | 0.14310  | \n",
       "| 84799002 | M        | 14.540   | 27.54    |  96.73   |  658.8   | 0.11390  | 0.15950  | 0.16390  | 0.07364  | ...      | 17.46    | 37.13    | 124.10   |  943.2   | 0.1678   | 0.6577   | 0.70260  | 0.17120  | 0.4218   | 0.13410  | \n",
       "|   848406 | M        | 14.680   | 20.13    |  94.74   |  684.5   | 0.09867  | 0.07200  | 0.07395  | 0.05259  | ...      | 19.07    | 30.88    | 123.40   | 1138.0   | 0.1464   | 0.1871   | 0.29140  | 0.16090  | 0.3029   | 0.08216  | \n",
       "| 84862001 | M        | 16.130   | 20.68    | 108.10   |  798.8   | 0.11700  | 0.20220  | 0.17220  | 0.10280  | ...      | 20.96    | 31.48    | 136.80   | 1315.0   | 0.1789   | 0.4233   | 0.47840  | 0.20730  | 0.3706   | 0.11420  | \n",
       "|   849014 | M        | 19.810   | 22.15    | 130.00   | 1260.0   | 0.09831  | 0.10270  | 0.14790  | 0.09498  | ...      | 27.32    | 30.88    | 186.80   | 2398.0   | 0.1512   | 0.3150   | 0.53720  | 0.23880  | 0.2768   | 0.07615  | \n",
       "|  8510426 | B        | 13.540   | 14.36    |  87.46   |  566.3   | 0.09779  | 0.08129  | 0.06664  | 0.04781  | ...      | 15.11    | 19.26    |  99.70   |  711.2   | 0.1440   | 0.1773   | 0.23900  | 0.12880  | 0.2977   | 0.07259  | \n",
       "|  8510653 | B        | 13.080   | 15.71    |  85.63   |  520.0   | 0.10750  | 0.12700  | 0.04568  | 0.03110  | ...      | 14.50    | 20.49    |  96.09   |  630.5   | 0.1312   | 0.2776   | 0.18900  | 0.07283  | 0.3184   | 0.08183  | \n",
       "|  8510824 | B        |  9.504   | 12.44    |  60.34   |  273.9   | 0.10240  | 0.06492  | 0.02956  | 0.02076  | ...      | 10.23    | 15.66    |  65.13   |  314.9   | 0.1324   | 0.1148   | 0.08867  | 0.06227  | 0.2450   | 0.07773  | \n",
       "|  8511133 | M        | 15.340   | 14.26    | 102.50   |  704.4   | 0.10730  | 0.21350  | 0.20770  | 0.09756  | ...      | 18.07    | 19.08    | 125.10   |  980.9   | 0.1390   | 0.5954   | 0.63050  | 0.23930  | 0.4667   | 0.09946  | \n",
       "|   851509 | M        | 21.160   | 23.04    | 137.20   | 1404.0   | 0.09428  | 0.10220  | 0.10970  | 0.08632  | ...      | 29.17    | 35.59    | 188.00   | 2615.0   | 0.1401   | 0.2600   | 0.31550  | 0.20090  | 0.2822   | 0.07526  | \n",
       "|   852552 | M        | 16.650   | 21.38    | 110.00   |  904.6   | 0.11210  | 0.14570  | 0.15250  | 0.09170  | ...      | 26.46    | 31.56    | 177.00   | 2215.0   | 0.1805   | 0.3578   | 0.46950  | 0.20950  | 0.3613   | 0.09564  | \n",
       "|   852631 | M        | 17.140   | 16.40    | 116.00   |  912.7   | 0.11860  | 0.22760  | 0.22290  | 0.14010  | ...      | 22.25    | 21.40    | 152.40   | 1461.0   | 0.1545   | 0.3949   | 0.38530  | 0.25500  | 0.4066   | 0.10590  | \n",
       "|   852763 | M        | 14.580   | 21.53    |  97.41   |  644.8   | 0.10540  | 0.18680  | 0.14250  | 0.08783  | ...      | 17.62    | 33.21    | 122.40   |  896.9   | 0.1525   | 0.6643   | 0.55390  | 0.27010  | 0.4264   | 0.12750  | \n",
       "|   852781 | M        | 18.610   | 20.25    | 122.10   | 1094.0   | 0.09440  | 0.10660  | 0.14900  | 0.07731  | ...      | 21.31    | 27.26    | 139.90   | 1403.0   | 0.1338   | 0.2117   | 0.34460  | 0.14900  | 0.2341   | 0.07421  | \n",
       "|   852973 | M        | 15.300   | 25.27    | 102.40   |  732.4   | 0.10820  | 0.16970  | 0.16830  | 0.08751  | ...      | 20.27    | 36.71    | 149.30   | 1269.0   | 0.1641   | 0.6110   | 0.63350  | 0.20240  | 0.4027   | 0.09876  | \n",
       "|   853201 | M        | 17.570   | 15.05    | 115.00   |  955.1   | 0.09847  | 0.11570  | 0.09875  | 0.07953  | ...      | 20.01    | 19.52    | 134.90   | 1227.0   | 0.1255   | 0.2812   | 0.24890  | 0.14560  | 0.2756   | 0.07919  | \n",
       "| ... | ... | ... | ... | ... | ... | ... | ... | ... | ... |     | ... | ... | ... | ... | ... | ... | ... | ... | ... | ... | \n",
       "| 921362   | B        |  7.691   | 25.44    |  48.34   |  170.4   | 0.08668  | 0.11990  | 0.092520 | 0.013640 | ...      |  8.678   | 31.89    |  54.49   |  223.6   | 0.15960  | 0.30640  | 0.33930  | 0.05000  | 0.2790   | 0.10660  | \n",
       "| 921385   | B        | 11.540   | 14.44    |  74.65   |  402.9   | 0.09984  | 0.11200  | 0.067370 | 0.025940 | ...      | 12.260   | 19.68    |  78.78   |  457.8   | 0.13450  | 0.21180  | 0.17970  | 0.06918  | 0.2329   | 0.08134  | \n",
       "| 921386   | B        | 14.470   | 24.99    |  95.81   |  656.4   | 0.08837  | 0.12300  | 0.100900 | 0.038900 | ...      | 16.220   | 31.73    | 113.50   |  808.9   | 0.13400  | 0.42020  | 0.40400  | 0.12050  | 0.3187   | 0.10230  | \n",
       "| 921644   | B        | 14.740   | 25.42    |  94.70   |  668.6   | 0.08275  | 0.07214  | 0.041050 | 0.030270 | ...      | 16.510   | 32.29    | 107.40   |  826.4   | 0.10600  | 0.13760  | 0.16110  | 0.10950  | 0.2722   | 0.06956  | \n",
       "| 922296   | B        | 13.210   | 28.06    |  84.88   |  538.4   | 0.08671  | 0.06877  | 0.029870 | 0.032750 | ...      | 14.370   | 37.17    |  92.48   |  629.6   | 0.10720  | 0.13810  | 0.10620  | 0.07958  | 0.2473   | 0.06443  | \n",
       "| 922297   | B        | 13.870   | 20.70    |  89.77   |  584.8   | 0.09578  | 0.10180  | 0.036880 | 0.023690 | ...      | 15.050   | 24.75    |  99.17   |  688.6   | 0.12640  | 0.20370  | 0.13770  | 0.06845  | 0.2249   | 0.08492  | \n",
       "| 922576   | B        | 13.620   | 23.23    |  87.19   |  573.2   | 0.09246  | 0.06747  | 0.029740 | 0.024430 | ...      | 15.350   | 29.09    |  97.58   |  729.8   | 0.12160  | 0.15170  | 0.10490  | 0.07174  | 0.2642   | 0.06953  | \n",
       "| 922577   | B        | 10.320   | 16.35    |  65.31   |  324.9   | 0.09434  | 0.04994  | 0.010120 | 0.005495 | ...      | 11.250   | 21.77    |  71.12   |  384.9   | 0.12850  | 0.08842  | 0.04384  | 0.02381  | 0.2681   | 0.07399  | \n",
       "| 922840   | B        | 10.260   | 16.58    |  65.85   |  320.8   | 0.08877  | 0.08066  | 0.043580 | 0.024380 | ...      | 10.830   | 22.04    |  71.08   |  357.4   | 0.14610  | 0.22460  | 0.17830  | 0.08333  | 0.2691   | 0.09479  | \n",
       "| 923169   | B        |  9.683   | 19.34    |  61.05   |  285.7   | 0.08491  | 0.05030  | 0.023370 | 0.009615 | ...      | 10.930   | 25.59    |  69.10   |  364.2   | 0.11990  | 0.09546  | 0.09350  | 0.03846  | 0.2552   | 0.07920  | \n",
       "| 923465   | B        | 10.820   | 24.21    |  68.89   |  361.6   | 0.08192  | 0.06602  | 0.015480 | 0.008160 | ...      | 13.030   | 31.45    |  83.90   |  505.6   | 0.12040  | 0.16330  | 0.06194  | 0.03264  | 0.3059   | 0.07626  | \n",
       "| 923748   | B        | 10.860   | 21.48    |  68.51   |  360.5   | 0.07431  | 0.04227  | 0.000000 | 0.000000 | ...      | 11.660   | 24.77    |  74.08   |  412.3   | 0.10010  | 0.07348  | 0.00000  | 0.00000  | 0.2458   | 0.06592  | \n",
       "| 923780   | B        | 11.130   | 22.44    |  71.49   |  378.4   | 0.09566  | 0.08194  | 0.048240 | 0.022570 | ...      | 12.020   | 28.26    |  77.80   |  436.6   | 0.10870  | 0.17820  | 0.15640  | 0.06413  | 0.3169   | 0.08032  | \n",
       "| 924084   | B        | 12.770   | 29.43    |  81.35   |  507.9   | 0.08276  | 0.04234  | 0.019970 | 0.014990 | ...      | 13.870   | 36.00    |  88.10   |  594.7   | 0.12340  | 0.10640  | 0.08653  | 0.06498  | 0.2407   | 0.06484  | \n",
       "| 924342   | B        |  9.333   | 21.94    |  59.01   |  264.0   | 0.09240  | 0.05605  | 0.039960 | 0.012820 | ...      |  9.845   | 25.05    |  62.86   |  295.8   | 0.11030  | 0.08298  | 0.07993  | 0.02564  | 0.2435   | 0.07393  | \n",
       "| 924632   | B        | 12.880   | 28.92    |  82.50   |  514.3   | 0.08123  | 0.05824  | 0.061950 | 0.023430 | ...      | 13.890   | 35.74    |  88.84   |  595.7   | 0.12270  | 0.16200  | 0.24390  | 0.06493  | 0.2372   | 0.07242  | \n",
       "| 924934   | B        | 10.290   | 27.61    |  65.67   |  321.4   | 0.09030  | 0.07658  | 0.059990 | 0.027380 | ...      | 10.840   | 34.91    |  69.57   |  357.6   | 0.13840  | 0.17100  | 0.20000  | 0.09127  | 0.2226   | 0.08283  | \n",
       "| 924964   | B        | 10.160   | 19.59    |  64.73   |  311.7   | 0.10030  | 0.07504  | 0.005025 | 0.011160 | ...      | 10.650   | 22.88    |  67.88   |  347.3   | 0.12650  | 0.12000  | 0.01005  | 0.02232  | 0.2262   | 0.06742  | \n",
       "| 925236   | B        |  9.423   | 27.88    |  59.26   |  271.3   | 0.08123  | 0.04971  | 0.000000 | 0.000000 | ...      | 10.490   | 34.24    |  66.50   |  330.6   | 0.10730  | 0.07158  | 0.00000  | 0.00000  | 0.2475   | 0.06969  | \n",
       "| 925277   | B        | 14.590   | 22.68    |  96.39   |  657.1   | 0.08473  | 0.13300  | 0.102900 | 0.037360 | ...      | 15.480   | 27.27    | 105.90   |  733.5   | 0.10260  | 0.31710  | 0.36620  | 0.11050  | 0.2258   | 0.08004  | \n",
       "| 925291   | B        | 11.510   | 23.93    |  74.52   |  403.5   | 0.09261  | 0.10210  | 0.111200 | 0.041050 | ...      | 12.480   | 37.16    |  82.28   |  474.2   | 0.12980  | 0.25170  | 0.36300  | 0.09653  | 0.2112   | 0.08732  | \n",
       "| 925292   | B        | 14.050   | 27.15    |  91.38   |  600.4   | 0.09929  | 0.11260  | 0.044620 | 0.043040 | ...      | 15.300   | 33.17    | 100.20   |  706.7   | 0.12410  | 0.22640  | 0.13260  | 0.10480  | 0.2250   | 0.08321  | \n",
       "| 925311   | B        | 11.200   | 29.37    |  70.67   |  386.0   | 0.07449  | 0.03558  | 0.000000 | 0.000000 | ...      | 11.920   | 38.30    |  75.19   |  439.6   | 0.09267  | 0.05494  | 0.00000  | 0.00000  | 0.1566   | 0.05905  | \n",
       "| 925622   | M        | 15.220   | 30.62    | 103.40   |  716.9   | 0.10480  | 0.20870  | 0.255000 | 0.094290 | ...      | 17.520   | 42.79    | 128.70   |  915.0   | 0.14170  | 0.79170  | 1.17000  | 0.23560  | 0.4089   | 0.14090  | \n",
       "| 926125   | M        | 20.920   | 25.09    | 143.00   | 1347.0   | 0.10990  | 0.22360  | 0.317400 | 0.147400 | ...      | 24.290   | 29.41    | 179.10   | 1819.0   | 0.14070  | 0.41860  | 0.65990  | 0.25420  | 0.2929   | 0.09873  | \n",
       "| 926424   | M        | 21.560   | 22.39    | 142.00   | 1479.0   | 0.11100  | 0.11590  | 0.243900 | 0.138900 | ...      | 25.450   | 26.40    | 166.10   | 2027.0   | 0.14100  | 0.21130  | 0.41070  | 0.22160  | 0.2060   | 0.07115  | \n",
       "| 926682   | M        | 20.130   | 28.25    | 131.20   | 1261.0   | 0.09780  | 0.10340  | 0.144000 | 0.097910 | ...      | 23.690   | 38.25    | 155.00   | 1731.0   | 0.11660  | 0.19220  | 0.32150  | 0.16280  | 0.2572   | 0.06637  | \n",
       "| 926954   | M        | 16.600   | 28.08    | 108.30   |  858.1   | 0.08455  | 0.10230  | 0.092510 | 0.053020 | ...      | 18.980   | 34.12    | 126.70   | 1124.0   | 0.11390  | 0.30940  | 0.34030  | 0.14180  | 0.2218   | 0.07820  | \n",
       "| 927241   | M        | 20.600   | 29.33    | 140.10   | 1265.0   | 0.11780  | 0.27700  | 0.351400 | 0.152000 | ...      | 25.740   | 39.42    | 184.60   | 1821.0   | 0.16500  | 0.86810  | 0.93870  | 0.26500  | 0.4087   | 0.12400  | \n",
       "|  92751   | B        |  7.760   | 24.54    |  47.92   |  181.0   | 0.05263  | 0.04362  | 0.000000 | 0.000000 | ...      |  9.456   | 30.37    |  59.16   |  268.6   | 0.08996  | 0.06444  | 0.00000  | 0.00000  | 0.2871   | 0.07039  | \n",
       "\n",
       "\n"
      ],
      "text/plain": [
       "    ID       Diagnosis radius_mean texture_mean perimeter_mean area_mean\n",
       "1     842302 M         17.990      10.38        122.80         1001.0   \n",
       "2     842517 M         20.570      17.77        132.90         1326.0   \n",
       "3   84300903 M         19.690      21.25        130.00         1203.0   \n",
       "4   84348301 M         11.420      20.38         77.58          386.1   \n",
       "5   84358402 M         20.290      14.34        135.10         1297.0   \n",
       "6     843786 M         12.450      15.70         82.57          477.1   \n",
       "7     844359 M         18.250      19.98        119.60         1040.0   \n",
       "8   84458202 M         13.710      20.83         90.20          577.9   \n",
       "9     844981 M         13.000      21.82         87.50          519.8   \n",
       "10  84501001 M         12.460      24.04         83.97          475.9   \n",
       "11    845636 M         16.020      23.24        102.70          797.8   \n",
       "12  84610002 M         15.780      17.89        103.60          781.0   \n",
       "13    846226 M         19.170      24.80        132.40         1123.0   \n",
       "14    846381 M         15.850      23.95        103.70          782.7   \n",
       "15  84667401 M         13.730      22.61         93.60          578.3   \n",
       "16  84799002 M         14.540      27.54         96.73          658.8   \n",
       "17    848406 M         14.680      20.13         94.74          684.5   \n",
       "18  84862001 M         16.130      20.68        108.10          798.8   \n",
       "19    849014 M         19.810      22.15        130.00         1260.0   \n",
       "20   8510426 B         13.540      14.36         87.46          566.3   \n",
       "21   8510653 B         13.080      15.71         85.63          520.0   \n",
       "22   8510824 B          9.504      12.44         60.34          273.9   \n",
       "23   8511133 M         15.340      14.26        102.50          704.4   \n",
       "24    851509 M         21.160      23.04        137.20         1404.0   \n",
       "25    852552 M         16.650      21.38        110.00          904.6   \n",
       "26    852631 M         17.140      16.40        116.00          912.7   \n",
       "27    852763 M         14.580      21.53         97.41          644.8   \n",
       "28    852781 M         18.610      20.25        122.10         1094.0   \n",
       "29    852973 M         15.300      25.27        102.40          732.4   \n",
       "30    853201 M         17.570      15.05        115.00          955.1   \n",
       "... ...      ...       ...         ...          ...            ...      \n",
       "540 921362   B          7.691      25.44         48.34          170.4   \n",
       "541 921385   B         11.540      14.44         74.65          402.9   \n",
       "542 921386   B         14.470      24.99         95.81          656.4   \n",
       "543 921644   B         14.740      25.42         94.70          668.6   \n",
       "544 922296   B         13.210      28.06         84.88          538.4   \n",
       "545 922297   B         13.870      20.70         89.77          584.8   \n",
       "546 922576   B         13.620      23.23         87.19          573.2   \n",
       "547 922577   B         10.320      16.35         65.31          324.9   \n",
       "548 922840   B         10.260      16.58         65.85          320.8   \n",
       "549 923169   B          9.683      19.34         61.05          285.7   \n",
       "550 923465   B         10.820      24.21         68.89          361.6   \n",
       "551 923748   B         10.860      21.48         68.51          360.5   \n",
       "552 923780   B         11.130      22.44         71.49          378.4   \n",
       "553 924084   B         12.770      29.43         81.35          507.9   \n",
       "554 924342   B          9.333      21.94         59.01          264.0   \n",
       "555 924632   B         12.880      28.92         82.50          514.3   \n",
       "556 924934   B         10.290      27.61         65.67          321.4   \n",
       "557 924964   B         10.160      19.59         64.73          311.7   \n",
       "558 925236   B          9.423      27.88         59.26          271.3   \n",
       "559 925277   B         14.590      22.68         96.39          657.1   \n",
       "560 925291   B         11.510      23.93         74.52          403.5   \n",
       "561 925292   B         14.050      27.15         91.38          600.4   \n",
       "562 925311   B         11.200      29.37         70.67          386.0   \n",
       "563 925622   M         15.220      30.62        103.40          716.9   \n",
       "564 926125   M         20.920      25.09        143.00         1347.0   \n",
       "565 926424   M         21.560      22.39        142.00         1479.0   \n",
       "566 926682   M         20.130      28.25        131.20         1261.0   \n",
       "567 926954   M         16.600      28.08        108.30          858.1   \n",
       "568 927241   M         20.600      29.33        140.10         1265.0   \n",
       "569  92751   B          7.760      24.54         47.92          181.0   \n",
       "    smoothness_mean compactness_mean concavity_mean concave_points_mean ...\n",
       "1   0.11840         0.27760          0.30010        0.14710             ...\n",
       "2   0.08474         0.07864          0.08690        0.07017             ...\n",
       "3   0.10960         0.15990          0.19740        0.12790             ...\n",
       "4   0.14250         0.28390          0.24140        0.10520             ...\n",
       "5   0.10030         0.13280          0.19800        0.10430             ...\n",
       "6   0.12780         0.17000          0.15780        0.08089             ...\n",
       "7   0.09463         0.10900          0.11270        0.07400             ...\n",
       "8   0.11890         0.16450          0.09366        0.05985             ...\n",
       "9   0.12730         0.19320          0.18590        0.09353             ...\n",
       "10  0.11860         0.23960          0.22730        0.08543             ...\n",
       "11  0.08206         0.06669          0.03299        0.03323             ...\n",
       "12  0.09710         0.12920          0.09954        0.06606             ...\n",
       "13  0.09740         0.24580          0.20650        0.11180             ...\n",
       "14  0.08401         0.10020          0.09938        0.05364             ...\n",
       "15  0.11310         0.22930          0.21280        0.08025             ...\n",
       "16  0.11390         0.15950          0.16390        0.07364             ...\n",
       "17  0.09867         0.07200          0.07395        0.05259             ...\n",
       "18  0.11700         0.20220          0.17220        0.10280             ...\n",
       "19  0.09831         0.10270          0.14790        0.09498             ...\n",
       "20  0.09779         0.08129          0.06664        0.04781             ...\n",
       "21  0.10750         0.12700          0.04568        0.03110             ...\n",
       "22  0.10240         0.06492          0.02956        0.02076             ...\n",
       "23  0.10730         0.21350          0.20770        0.09756             ...\n",
       "24  0.09428         0.10220          0.10970        0.08632             ...\n",
       "25  0.11210         0.14570          0.15250        0.09170             ...\n",
       "26  0.11860         0.22760          0.22290        0.14010             ...\n",
       "27  0.10540         0.18680          0.14250        0.08783             ...\n",
       "28  0.09440         0.10660          0.14900        0.07731             ...\n",
       "29  0.10820         0.16970          0.16830        0.08751             ...\n",
       "30  0.09847         0.11570          0.09875        0.07953             ...\n",
       "... ...             ...              ...            ...                    \n",
       "540 0.08668         0.11990          0.092520       0.013640            ...\n",
       "541 0.09984         0.11200          0.067370       0.025940            ...\n",
       "542 0.08837         0.12300          0.100900       0.038900            ...\n",
       "543 0.08275         0.07214          0.041050       0.030270            ...\n",
       "544 0.08671         0.06877          0.029870       0.032750            ...\n",
       "545 0.09578         0.10180          0.036880       0.023690            ...\n",
       "546 0.09246         0.06747          0.029740       0.024430            ...\n",
       "547 0.09434         0.04994          0.010120       0.005495            ...\n",
       "548 0.08877         0.08066          0.043580       0.024380            ...\n",
       "549 0.08491         0.05030          0.023370       0.009615            ...\n",
       "550 0.08192         0.06602          0.015480       0.008160            ...\n",
       "551 0.07431         0.04227          0.000000       0.000000            ...\n",
       "552 0.09566         0.08194          0.048240       0.022570            ...\n",
       "553 0.08276         0.04234          0.019970       0.014990            ...\n",
       "554 0.09240         0.05605          0.039960       0.012820            ...\n",
       "555 0.08123         0.05824          0.061950       0.023430            ...\n",
       "556 0.09030         0.07658          0.059990       0.027380            ...\n",
       "557 0.10030         0.07504          0.005025       0.011160            ...\n",
       "558 0.08123         0.04971          0.000000       0.000000            ...\n",
       "559 0.08473         0.13300          0.102900       0.037360            ...\n",
       "560 0.09261         0.10210          0.111200       0.041050            ...\n",
       "561 0.09929         0.11260          0.044620       0.043040            ...\n",
       "562 0.07449         0.03558          0.000000       0.000000            ...\n",
       "563 0.10480         0.20870          0.255000       0.094290            ...\n",
       "564 0.10990         0.22360          0.317400       0.147400            ...\n",
       "565 0.11100         0.11590          0.243900       0.138900            ...\n",
       "566 0.09780         0.10340          0.144000       0.097910            ...\n",
       "567 0.08455         0.10230          0.092510       0.053020            ...\n",
       "568 0.11780         0.27700          0.351400       0.152000            ...\n",
       "569 0.05263         0.04362          0.000000       0.000000            ...\n",
       "    radius_worst texture_worst perimeter_worst area_worst smoothness_worst\n",
       "1   25.38        17.33         184.60          2019.0     0.1622          \n",
       "2   24.99        23.41         158.80          1956.0     0.1238          \n",
       "3   23.57        25.53         152.50          1709.0     0.1444          \n",
       "4   14.91        26.50          98.87           567.7     0.2098          \n",
       "5   22.54        16.67         152.20          1575.0     0.1374          \n",
       "6   15.47        23.75         103.40           741.6     0.1791          \n",
       "7   22.88        27.66         153.20          1606.0     0.1442          \n",
       "8   17.06        28.14         110.60           897.0     0.1654          \n",
       "9   15.49        30.73         106.20           739.3     0.1703          \n",
       "10  15.09        40.68          97.65           711.4     0.1853          \n",
       "11  19.19        33.88         123.80          1150.0     0.1181          \n",
       "12  20.42        27.28         136.50          1299.0     0.1396          \n",
       "13  20.96        29.94         151.70          1332.0     0.1037          \n",
       "14  16.84        27.66         112.00           876.5     0.1131          \n",
       "15  15.03        32.01         108.80           697.7     0.1651          \n",
       "16  17.46        37.13         124.10           943.2     0.1678          \n",
       "17  19.07        30.88         123.40          1138.0     0.1464          \n",
       "18  20.96        31.48         136.80          1315.0     0.1789          \n",
       "19  27.32        30.88         186.80          2398.0     0.1512          \n",
       "20  15.11        19.26          99.70           711.2     0.1440          \n",
       "21  14.50        20.49          96.09           630.5     0.1312          \n",
       "22  10.23        15.66          65.13           314.9     0.1324          \n",
       "23  18.07        19.08         125.10           980.9     0.1390          \n",
       "24  29.17        35.59         188.00          2615.0     0.1401          \n",
       "25  26.46        31.56         177.00          2215.0     0.1805          \n",
       "26  22.25        21.40         152.40          1461.0     0.1545          \n",
       "27  17.62        33.21         122.40           896.9     0.1525          \n",
       "28  21.31        27.26         139.90          1403.0     0.1338          \n",
       "29  20.27        36.71         149.30          1269.0     0.1641          \n",
       "30  20.01        19.52         134.90          1227.0     0.1255          \n",
       "... ...          ...           ...             ...        ...             \n",
       "540  8.678       31.89          54.49           223.6     0.15960         \n",
       "541 12.260       19.68          78.78           457.8     0.13450         \n",
       "542 16.220       31.73         113.50           808.9     0.13400         \n",
       "543 16.510       32.29         107.40           826.4     0.10600         \n",
       "544 14.370       37.17          92.48           629.6     0.10720         \n",
       "545 15.050       24.75          99.17           688.6     0.12640         \n",
       "546 15.350       29.09          97.58           729.8     0.12160         \n",
       "547 11.250       21.77          71.12           384.9     0.12850         \n",
       "548 10.830       22.04          71.08           357.4     0.14610         \n",
       "549 10.930       25.59          69.10           364.2     0.11990         \n",
       "550 13.030       31.45          83.90           505.6     0.12040         \n",
       "551 11.660       24.77          74.08           412.3     0.10010         \n",
       "552 12.020       28.26          77.80           436.6     0.10870         \n",
       "553 13.870       36.00          88.10           594.7     0.12340         \n",
       "554  9.845       25.05          62.86           295.8     0.11030         \n",
       "555 13.890       35.74          88.84           595.7     0.12270         \n",
       "556 10.840       34.91          69.57           357.6     0.13840         \n",
       "557 10.650       22.88          67.88           347.3     0.12650         \n",
       "558 10.490       34.24          66.50           330.6     0.10730         \n",
       "559 15.480       27.27         105.90           733.5     0.10260         \n",
       "560 12.480       37.16          82.28           474.2     0.12980         \n",
       "561 15.300       33.17         100.20           706.7     0.12410         \n",
       "562 11.920       38.30          75.19           439.6     0.09267         \n",
       "563 17.520       42.79         128.70           915.0     0.14170         \n",
       "564 24.290       29.41         179.10          1819.0     0.14070         \n",
       "565 25.450       26.40         166.10          2027.0     0.14100         \n",
       "566 23.690       38.25         155.00          1731.0     0.11660         \n",
       "567 18.980       34.12         126.70          1124.0     0.11390         \n",
       "568 25.740       39.42         184.60          1821.0     0.16500         \n",
       "569  9.456       30.37          59.16           268.6     0.08996         \n",
       "    compactness_worst concavity_worst concave_points_worst symmetry_worst\n",
       "1   0.6656            0.71190         0.26540              0.4601        \n",
       "2   0.1866            0.24160         0.18600              0.2750        \n",
       "3   0.4245            0.45040         0.24300              0.3613        \n",
       "4   0.8663            0.68690         0.25750              0.6638        \n",
       "5   0.2050            0.40000         0.16250              0.2364        \n",
       "6   0.5249            0.53550         0.17410              0.3985        \n",
       "7   0.2576            0.37840         0.19320              0.3063        \n",
       "8   0.3682            0.26780         0.15560              0.3196        \n",
       "9   0.5401            0.53900         0.20600              0.4378        \n",
       "10  1.0580            1.10500         0.22100              0.4366        \n",
       "11  0.1551            0.14590         0.09975              0.2948        \n",
       "12  0.5609            0.39650         0.18100              0.3792        \n",
       "13  0.3903            0.36390         0.17670              0.3176        \n",
       "14  0.1924            0.23220         0.11190              0.2809        \n",
       "15  0.7725            0.69430         0.22080              0.3596        \n",
       "16  0.6577            0.70260         0.17120              0.4218        \n",
       "17  0.1871            0.29140         0.16090              0.3029        \n",
       "18  0.4233            0.47840         0.20730              0.3706        \n",
       "19  0.3150            0.53720         0.23880              0.2768        \n",
       "20  0.1773            0.23900         0.12880              0.2977        \n",
       "21  0.2776            0.18900         0.07283              0.3184        \n",
       "22  0.1148            0.08867         0.06227              0.2450        \n",
       "23  0.5954            0.63050         0.23930              0.4667        \n",
       "24  0.2600            0.31550         0.20090              0.2822        \n",
       "25  0.3578            0.46950         0.20950              0.3613        \n",
       "26  0.3949            0.38530         0.25500              0.4066        \n",
       "27  0.6643            0.55390         0.27010              0.4264        \n",
       "28  0.2117            0.34460         0.14900              0.2341        \n",
       "29  0.6110            0.63350         0.20240              0.4027        \n",
       "30  0.2812            0.24890         0.14560              0.2756        \n",
       "... ...               ...             ...                  ...           \n",
       "540 0.30640           0.33930         0.05000              0.2790        \n",
       "541 0.21180           0.17970         0.06918              0.2329        \n",
       "542 0.42020           0.40400         0.12050              0.3187        \n",
       "543 0.13760           0.16110         0.10950              0.2722        \n",
       "544 0.13810           0.10620         0.07958              0.2473        \n",
       "545 0.20370           0.13770         0.06845              0.2249        \n",
       "546 0.15170           0.10490         0.07174              0.2642        \n",
       "547 0.08842           0.04384         0.02381              0.2681        \n",
       "548 0.22460           0.17830         0.08333              0.2691        \n",
       "549 0.09546           0.09350         0.03846              0.2552        \n",
       "550 0.16330           0.06194         0.03264              0.3059        \n",
       "551 0.07348           0.00000         0.00000              0.2458        \n",
       "552 0.17820           0.15640         0.06413              0.3169        \n",
       "553 0.10640           0.08653         0.06498              0.2407        \n",
       "554 0.08298           0.07993         0.02564              0.2435        \n",
       "555 0.16200           0.24390         0.06493              0.2372        \n",
       "556 0.17100           0.20000         0.09127              0.2226        \n",
       "557 0.12000           0.01005         0.02232              0.2262        \n",
       "558 0.07158           0.00000         0.00000              0.2475        \n",
       "559 0.31710           0.36620         0.11050              0.2258        \n",
       "560 0.25170           0.36300         0.09653              0.2112        \n",
       "561 0.22640           0.13260         0.10480              0.2250        \n",
       "562 0.05494           0.00000         0.00000              0.1566        \n",
       "563 0.79170           1.17000         0.23560              0.4089        \n",
       "564 0.41860           0.65990         0.25420              0.2929        \n",
       "565 0.21130           0.41070         0.22160              0.2060        \n",
       "566 0.19220           0.32150         0.16280              0.2572        \n",
       "567 0.30940           0.34030         0.14180              0.2218        \n",
       "568 0.86810           0.93870         0.26500              0.4087        \n",
       "569 0.06444           0.00000         0.00000              0.2871        \n",
       "    fractal_dimension_worst\n",
       "1   0.11890                \n",
       "2   0.08902                \n",
       "3   0.08758                \n",
       "4   0.17300                \n",
       "5   0.07678                \n",
       "6   0.12440                \n",
       "7   0.08368                \n",
       "8   0.11510                \n",
       "9   0.10720                \n",
       "10  0.20750                \n",
       "11  0.08452                \n",
       "12  0.10480                \n",
       "13  0.10230                \n",
       "14  0.06287                \n",
       "15  0.14310                \n",
       "16  0.13410                \n",
       "17  0.08216                \n",
       "18  0.11420                \n",
       "19  0.07615                \n",
       "20  0.07259                \n",
       "21  0.08183                \n",
       "22  0.07773                \n",
       "23  0.09946                \n",
       "24  0.07526                \n",
       "25  0.09564                \n",
       "26  0.10590                \n",
       "27  0.12750                \n",
       "28  0.07421                \n",
       "29  0.09876                \n",
       "30  0.07919                \n",
       "... ...                    \n",
       "540 0.10660                \n",
       "541 0.08134                \n",
       "542 0.10230                \n",
       "543 0.06956                \n",
       "544 0.06443                \n",
       "545 0.08492                \n",
       "546 0.06953                \n",
       "547 0.07399                \n",
       "548 0.09479                \n",
       "549 0.07920                \n",
       "550 0.07626                \n",
       "551 0.06592                \n",
       "552 0.08032                \n",
       "553 0.06484                \n",
       "554 0.07393                \n",
       "555 0.07242                \n",
       "556 0.08283                \n",
       "557 0.06742                \n",
       "558 0.06969                \n",
       "559 0.08004                \n",
       "560 0.08732                \n",
       "561 0.08321                \n",
       "562 0.05905                \n",
       "563 0.14090                \n",
       "564 0.09873                \n",
       "565 0.07115                \n",
       "566 0.06637                \n",
       "567 0.07820                \n",
       "568 0.12400                \n",
       "569 0.07039                "
      ]
     },
     "metadata": {},
     "output_type": "display_data"
    },
    {
     "name": "stderr",
     "output_type": "stream",
     "text": [
      " 1. run of importance source...\n",
      " 2. run of importance source...\n",
      " 3. run of importance source...\n",
      " 4. run of importance source...\n",
      " 5. run of importance source...\n",
      " 6. run of importance source...\n",
      " 7. run of importance source...\n",
      " 8. run of importance source...\n",
      " 9. run of importance source...\n",
      " 10. run of importance source...\n",
      " 11. run of importance source...\n",
      " 12. run of importance source...\n",
      "After 12 iterations, +8.5 secs: \n",
      " confirmed 24 attributes: area_mean, area_se, area_worst, compactness_mean, compactness_se and 19 more;\n",
      " still have 6 attributes left.\n",
      "\n",
      " 13. run of importance source...\n",
      " 14. run of importance source...\n",
      " 15. run of importance source...\n",
      " 16. run of importance source...\n",
      " 17. run of importance source...\n",
      " 18. run of importance source...\n",
      " 19. run of importance source...\n",
      " 20. run of importance source...\n",
      "After 20 iterations, +13 secs: \n",
      " confirmed 2 attributes: fractal_dimension_mean, fractal_dimension_se;\n",
      " still have 4 attributes left.\n",
      "\n",
      " 21. run of importance source...\n",
      " 22. run of importance source...\n",
      " 23. run of importance source...\n",
      "After 23 iterations, +14 secs: \n",
      " confirmed 1 attribute: symmetry_mean;\n",
      " still have 3 attributes left.\n",
      "\n",
      " 24. run of importance source...\n",
      " 25. run of importance source...\n",
      " 26. run of importance source...\n",
      " 27. run of importance source...\n",
      " 28. run of importance source...\n",
      " 29. run of importance source...\n",
      " 30. run of importance source...\n",
      " 31. run of importance source...\n",
      " 32. run of importance source...\n",
      " 33. run of importance source...\n",
      " 34. run of importance source...\n",
      " 35. run of importance source...\n",
      " 36. run of importance source...\n",
      " 37. run of importance source...\n",
      " 38. run of importance source...\n",
      " 39. run of importance source...\n",
      " 40. run of importance source...\n",
      " 41. run of importance source...\n",
      " 42. run of importance source...\n",
      " 43. run of importance source...\n",
      "After 43 iterations, +26 secs: \n",
      " confirmed 1 attribute: texture_se;\n",
      " still have 2 attributes left.\n",
      "\n",
      " 44. run of importance source...\n",
      " 45. run of importance source...\n",
      " 46. run of importance source...\n",
      " 47. run of importance source...\n",
      " 48. run of importance source...\n",
      " 49. run of importance source...\n",
      " 50. run of importance source...\n",
      " 51. run of importance source...\n",
      " 52. run of importance source...\n",
      " 53. run of importance source...\n",
      " 54. run of importance source...\n",
      " 55. run of importance source...\n",
      " 56. run of importance source...\n",
      " 57. run of importance source...\n",
      " 58. run of importance source...\n",
      " 59. run of importance source...\n",
      " 60. run of importance source...\n",
      " 61. run of importance source...\n",
      " 62. run of importance source...\n",
      " 63. run of importance source...\n",
      " 64. run of importance source...\n",
      " 65. run of importance source...\n",
      " 66. run of importance source...\n",
      " 67. run of importance source...\n",
      " 68. run of importance source...\n",
      " 69. run of importance source...\n",
      " 70. run of importance source...\n",
      " 71. run of importance source...\n",
      " 72. run of importance source...\n",
      " 73. run of importance source...\n",
      " 74. run of importance source...\n",
      " 75. run of importance source...\n",
      " 76. run of importance source...\n",
      " 77. run of importance source...\n",
      " 78. run of importance source...\n",
      " 79. run of importance source...\n",
      " 80. run of importance source...\n",
      " 81. run of importance source...\n",
      " 82. run of importance source...\n",
      " 83. run of importance source...\n",
      " 84. run of importance source...\n",
      " 85. run of importance source...\n",
      " 86. run of importance source...\n",
      " 87. run of importance source...\n",
      " 88. run of importance source...\n",
      " 89. run of importance source...\n",
      " 90. run of importance source...\n",
      " 91. run of importance source...\n",
      " 92. run of importance source...\n",
      " 93. run of importance source...\n",
      " 94. run of importance source...\n",
      " 95. run of importance source...\n",
      " 96. run of importance source...\n",
      " 97. run of importance source...\n",
      " 98. run of importance source...\n",
      " 99. run of importance source...\n"
     ]
    },
    {
     "name": "stdout",
     "output_type": "stream",
     "text": [
      "Boruta performed 99 iterations in 1.003011 mins.\n",
      " 28 attributes confirmed important: area_mean, area_se, area_worst,\n",
      "compactness_mean, compactness_se and 23 more;\n",
      " No attributes deemed unimportant.\n",
      " 2 tentative attributes left: smoothness_se, symmetry_se;\n"
     ]
    },
    {
     "data": {
      "image/png": "[encoded data removed]",
      "text/plain": [
       "Plot with title \"Variable Importance\""
      ]
     },
     "metadata": {},
     "output_type": "display_data"
    }
   ],
   "source": [
    "wdbc\n",
    "wdbc[,1] = NULL\n",
    "set.seed(456)\n",
    "boruta_output <- Boruta(Diagnosis ~ ., data=na.omit(wdbc), doTrace=2)\n",
    "boruta_signif <- names(boruta_output$finalDecision[boruta_output$finalDecision %in% c(\"Confirmed\", \"Tentative\")])\n",
    "print(boruta_output)\n",
    "par(mar = c(7, 4, 2, 2) + 0.2)\n",
    "plot(boruta_output, cex.axis=.7, las=3, xlab=\"\", main=\"Variable Importance\")\n",
    "text(par(\"usr\")[3]-0.25, \n",
    "     srt = 45, adj= 1, xpd = TRUE,\n",
    "     labels = paste(rownames(wdbc)), cex=0.65)"
   ]
  },
  {
   "cell_type": "markdown",
   "metadata": {},
   "source": [
    "#List of variables selected by feature selection based on variable importance"
   ]
  },
  {
   "cell_type": "code",
   "execution_count": 24,
   "metadata": {},
   "outputs": [
    {
     "data": {
      "text/html": [
       "<ol class=list-inline>\n",
       "\t<li>'radius_mean'</li>\n",
       "\t<li>'texture_mean'</li>\n",
       "\t<li>'perimeter_mean'</li>\n",
       "\t<li>'area_mean'</li>\n",
       "\t<li>'smoothness_mean'</li>\n",
       "\t<li>'compactness_mean'</li>\n",
       "\t<li>'concavity_mean'</li>\n",
       "\t<li>'concave_points_mean'</li>\n",
       "\t<li>'symmetry_mean'</li>\n",
       "\t<li>'fractal_dimension_mean'</li>\n",
       "\t<li>'radius_se'</li>\n",
       "\t<li>'texture_se'</li>\n",
       "\t<li>'perimeter_se'</li>\n",
       "\t<li>'area_se'</li>\n",
       "\t<li>'compactness_se'</li>\n",
       "\t<li>'concavity_se'</li>\n",
       "\t<li>'concave_points_se'</li>\n",
       "\t<li>'fractal_dimension_se'</li>\n",
       "\t<li>'radius_worst'</li>\n",
       "\t<li>'texture_worst'</li>\n",
       "\t<li>'perimeter_worst'</li>\n",
       "\t<li>'area_worst'</li>\n",
       "\t<li>'smoothness_worst'</li>\n",
       "\t<li>'compactness_worst'</li>\n",
       "\t<li>'concavity_worst'</li>\n",
       "\t<li>'concave_points_worst'</li>\n",
       "\t<li>'symmetry_worst'</li>\n",
       "\t<li>'fractal_dimension_worst'</li>\n",
       "</ol>\n"
      ],
      "text/latex": [
       "\\begin{enumerate*}\n",
       "\\item 'radius\\_mean'\n",
       "\\item 'texture\\_mean'\n",
       "\\item 'perimeter\\_mean'\n",
       "\\item 'area\\_mean'\n",
       "\\item 'smoothness\\_mean'\n",
       "\\item 'compactness\\_mean'\n",
       "\\item 'concavity\\_mean'\n",
       "\\item 'concave\\_points\\_mean'\n",
       "\\item 'symmetry\\_mean'\n",
       "\\item 'fractal\\_dimension\\_mean'\n",
       "\\item 'radius\\_se'\n",
       "\\item 'texture\\_se'\n",
       "\\item 'perimeter\\_se'\n",
       "\\item 'area\\_se'\n",
       "\\item 'compactness\\_se'\n",
       "\\item 'concavity\\_se'\n",
       "\\item 'concave\\_points\\_se'\n",
       "\\item 'fractal\\_dimension\\_se'\n",
       "\\item 'radius\\_worst'\n",
       "\\item 'texture\\_worst'\n",
       "\\item 'perimeter\\_worst'\n",
       "\\item 'area\\_worst'\n",
       "\\item 'smoothness\\_worst'\n",
       "\\item 'compactness\\_worst'\n",
       "\\item 'concavity\\_worst'\n",
       "\\item 'concave\\_points\\_worst'\n",
       "\\item 'symmetry\\_worst'\n",
       "\\item 'fractal\\_dimension\\_worst'\n",
       "\\end{enumerate*}\n"
      ],
      "text/markdown": [
       "1. 'radius_mean'\n",
       "2. 'texture_mean'\n",
       "3. 'perimeter_mean'\n",
       "4. 'area_mean'\n",
       "5. 'smoothness_mean'\n",
       "6. 'compactness_mean'\n",
       "7. 'concavity_mean'\n",
       "8. 'concave_points_mean'\n",
       "9. 'symmetry_mean'\n",
       "10. 'fractal_dimension_mean'\n",
       "11. 'radius_se'\n",
       "12. 'texture_se'\n",
       "13. 'perimeter_se'\n",
       "14. 'area_se'\n",
       "15. 'compactness_se'\n",
       "16. 'concavity_se'\n",
       "17. 'concave_points_se'\n",
       "18. 'fractal_dimension_se'\n",
       "19. 'radius_worst'\n",
       "20. 'texture_worst'\n",
       "21. 'perimeter_worst'\n",
       "22. 'area_worst'\n",
       "23. 'smoothness_worst'\n",
       "24. 'compactness_worst'\n",
       "25. 'concavity_worst'\n",
       "26. 'concave_points_worst'\n",
       "27. 'symmetry_worst'\n",
       "28. 'fractal_dimension_worst'\n",
       "\n",
       "\n"
      ],
      "text/plain": [
       " [1] \"radius_mean\"             \"texture_mean\"           \n",
       " [3] \"perimeter_mean\"          \"area_mean\"              \n",
       " [5] \"smoothness_mean\"         \"compactness_mean\"       \n",
       " [7] \"concavity_mean\"          \"concave_points_mean\"    \n",
       " [9] \"symmetry_mean\"           \"fractal_dimension_mean\" \n",
       "[11] \"radius_se\"               \"texture_se\"             \n",
       "[13] \"perimeter_se\"            \"area_se\"                \n",
       "[15] \"compactness_se\"          \"concavity_se\"           \n",
       "[17] \"concave_points_se\"       \"fractal_dimension_se\"   \n",
       "[19] \"radius_worst\"            \"texture_worst\"          \n",
       "[21] \"perimeter_worst\"         \"area_worst\"             \n",
       "[23] \"smoothness_worst\"        \"compactness_worst\"      \n",
       "[25] \"concavity_worst\"         \"concave_points_worst\"   \n",
       "[27] \"symmetry_worst\"          \"fractal_dimension_worst\""
      ]
     },
     "metadata": {},
     "output_type": "display_data"
    },
    {
     "data": {
      "text/html": [
       "<table>\n",
       "<thead><tr><th></th><th scope=col>meanImp</th><th scope=col>medianImp</th><th scope=col>minImp</th><th scope=col>maxImp</th><th scope=col>normHits</th><th scope=col>decision</th></tr></thead>\n",
       "<tbody>\n",
       "\t<tr><th scope=row>radius_mean</th><td>10.082107  </td><td>10.128005  </td><td> 8.88712537</td><td>11.802738  </td><td>1.0000000  </td><td>Confirmed  </td></tr>\n",
       "\t<tr><th scope=row>texture_mean</th><td>10.397338  </td><td>10.377895  </td><td> 8.46080322</td><td>11.749065  </td><td>1.0000000  </td><td>Confirmed  </td></tr>\n",
       "\t<tr><th scope=row>perimeter_mean</th><td>10.112587  </td><td>10.138476  </td><td> 8.66533777</td><td>11.183261  </td><td>1.0000000  </td><td>Confirmed  </td></tr>\n",
       "\t<tr><th scope=row>area_mean</th><td>10.823259  </td><td>10.762864  </td><td> 9.27699591</td><td>12.243762  </td><td>1.0000000  </td><td>Confirmed  </td></tr>\n",
       "\t<tr><th scope=row>smoothness_mean</th><td> 6.730766  </td><td> 6.722181  </td><td> 5.25796703</td><td> 8.444674  </td><td>0.9898990  </td><td>Confirmed  </td></tr>\n",
       "\t<tr><th scope=row>compactness_mean</th><td> 6.308945  </td><td> 6.323571  </td><td> 4.91216954</td><td> 7.413756  </td><td>1.0000000  </td><td>Confirmed  </td></tr>\n",
       "\t<tr><th scope=row>concavity_mean</th><td>11.364417  </td><td>11.308232  </td><td>10.22350864</td><td>12.583804  </td><td>1.0000000  </td><td>Confirmed  </td></tr>\n",
       "\t<tr><th scope=row>concave_points_mean</th><td>14.350975  </td><td>14.376361  </td><td>12.67716710</td><td>15.622237  </td><td>1.0000000  </td><td>Confirmed  </td></tr>\n",
       "\t<tr><th scope=row>symmetry_mean</th><td> 3.693023  </td><td> 3.670259  </td><td> 1.34143601</td><td> 5.183926  </td><td>0.8484848  </td><td>Confirmed  </td></tr>\n",
       "\t<tr><th scope=row>fractal_dimension_mean</th><td> 3.613138  </td><td> 3.627146  </td><td> 1.79500147</td><td> 5.299470  </td><td>0.8484848  </td><td>Confirmed  </td></tr>\n",
       "\t<tr><th scope=row>radius_se</th><td> 9.524104  </td><td> 9.503163  </td><td> 7.60111315</td><td>11.066830  </td><td>1.0000000  </td><td>Confirmed  </td></tr>\n",
       "\t<tr><th scope=row>texture_se</th><td> 3.152342  </td><td> 3.230629  </td><td> 1.48361872</td><td> 4.699177  </td><td>0.7575758  </td><td>Confirmed  </td></tr>\n",
       "\t<tr><th scope=row>perimeter_se</th><td> 9.021877  </td><td> 9.032463  </td><td> 7.53407666</td><td>10.235557  </td><td>1.0000000  </td><td>Confirmed  </td></tr>\n",
       "\t<tr><th scope=row>area_se</th><td>13.037178  </td><td>13.024554  </td><td>11.74918813</td><td>14.447131  </td><td>1.0000000  </td><td>Confirmed  </td></tr>\n",
       "\t<tr><th scope=row>smoothness_se</th><td> 2.487894  </td><td> 2.605371  </td><td>-0.30324418</td><td> 4.274887  </td><td>0.5151515  </td><td>Tentative  </td></tr>\n",
       "\t<tr><th scope=row>compactness_se</th><td> 4.436454  </td><td> 4.315040  </td><td> 2.76787760</td><td> 5.929130  </td><td>0.9797980  </td><td>Confirmed  </td></tr>\n",
       "\t<tr><th scope=row>concavity_se</th><td> 5.607754  </td><td> 5.650830  </td><td> 4.61132305</td><td> 6.982831  </td><td>0.9898990  </td><td>Confirmed  </td></tr>\n",
       "\t<tr><th scope=row>concave_points_se</th><td> 4.622069  </td><td> 4.610730  </td><td> 2.89647528</td><td> 5.969901  </td><td>0.9696970  </td><td>Confirmed  </td></tr>\n",
       "\t<tr><th scope=row>symmetry_se</th><td> 2.246891  </td><td> 2.330814  </td><td> 0.02194936</td><td> 4.483740  </td><td>0.3939394  </td><td>Tentative  </td></tr>\n",
       "\t<tr><th scope=row>fractal_dimension_se</th><td> 3.316545  </td><td> 3.426002  </td><td> 0.91085163</td><td> 5.438611  </td><td>0.7676768  </td><td>Confirmed  </td></tr>\n",
       "\t<tr><th scope=row>radius_worst</th><td>16.244829  </td><td>16.252752  </td><td>14.29377988</td><td>18.047477  </td><td>1.0000000  </td><td>Confirmed  </td></tr>\n",
       "\t<tr><th scope=row>texture_worst</th><td>11.855060  </td><td>11.789989  </td><td>10.01784444</td><td>13.115998  </td><td>1.0000000  </td><td>Confirmed  </td></tr>\n",
       "\t<tr><th scope=row>perimeter_worst</th><td>16.663727  </td><td>16.650990  </td><td>14.86655822</td><td>18.419815  </td><td>1.0000000  </td><td>Confirmed  </td></tr>\n",
       "\t<tr><th scope=row>area_worst</th><td>16.858146  </td><td>16.868120  </td><td>15.49346786</td><td>18.476151  </td><td>1.0000000  </td><td>Confirmed  </td></tr>\n",
       "\t<tr><th scope=row>smoothness_worst</th><td> 9.821188  </td><td> 9.721528  </td><td> 8.19551112</td><td>11.498522  </td><td>1.0000000  </td><td>Confirmed  </td></tr>\n",
       "\t<tr><th scope=row>compactness_worst</th><td> 8.301506  </td><td> 8.310239  </td><td> 6.85415297</td><td> 9.636063  </td><td>1.0000000  </td><td>Confirmed  </td></tr>\n",
       "\t<tr><th scope=row>concavity_worst</th><td>12.539666  </td><td>12.617798  </td><td>11.16757838</td><td>13.726907  </td><td>1.0000000  </td><td>Confirmed  </td></tr>\n",
       "\t<tr><th scope=row>concave_points_worst</th><td>17.377606  </td><td>17.411532  </td><td>15.36686102</td><td>18.698109  </td><td>1.0000000  </td><td>Confirmed  </td></tr>\n",
       "\t<tr><th scope=row>symmetry_worst</th><td> 7.337235  </td><td> 7.414851  </td><td> 5.75706022</td><td> 8.829443  </td><td>1.0000000  </td><td>Confirmed  </td></tr>\n",
       "\t<tr><th scope=row>fractal_dimension_worst</th><td> 5.283075  </td><td> 5.292911  </td><td> 3.59782755</td><td> 6.341092  </td><td>0.9898990  </td><td>Confirmed  </td></tr>\n",
       "</tbody>\n",
       "</table>\n"
      ],
      "text/latex": [
       "\\begin{tabular}{r|llllll}\n",
       "  & meanImp & medianImp & minImp & maxImp & normHits & decision\\\\\n",
       "\\hline\n",
       "\tradius\\_mean & 10.082107   & 10.128005   &  8.88712537 & 11.802738   & 1.0000000   & Confirmed  \\\\\n",
       "\ttexture\\_mean & 10.397338   & 10.377895   &  8.46080322 & 11.749065   & 1.0000000   & Confirmed  \\\\\n",
       "\tperimeter\\_mean & 10.112587   & 10.138476   &  8.66533777 & 11.183261   & 1.0000000   & Confirmed  \\\\\n",
       "\tarea\\_mean & 10.823259   & 10.762864   &  9.27699591 & 12.243762   & 1.0000000   & Confirmed  \\\\\n",
       "\tsmoothness\\_mean &  6.730766   &  6.722181   &  5.25796703 &  8.444674   & 0.9898990   & Confirmed  \\\\\n",
       "\tcompactness\\_mean &  6.308945   &  6.323571   &  4.91216954 &  7.413756   & 1.0000000   & Confirmed  \\\\\n",
       "\tconcavity\\_mean & 11.364417   & 11.308232   & 10.22350864 & 12.583804   & 1.0000000   & Confirmed  \\\\\n",
       "\tconcave\\_points\\_mean & 14.350975   & 14.376361   & 12.67716710 & 15.622237   & 1.0000000   & Confirmed  \\\\\n",
       "\tsymmetry\\_mean &  3.693023   &  3.670259   &  1.34143601 &  5.183926   & 0.8484848   & Confirmed  \\\\\n",
       "\tfractal\\_dimension\\_mean &  3.613138   &  3.627146   &  1.79500147 &  5.299470   & 0.8484848   & Confirmed  \\\\\n",
       "\tradius\\_se &  9.524104   &  9.503163   &  7.60111315 & 11.066830   & 1.0000000   & Confirmed  \\\\\n",
       "\ttexture\\_se &  3.152342   &  3.230629   &  1.48361872 &  4.699177   & 0.7575758   & Confirmed  \\\\\n",
       "\tperimeter\\_se &  9.021877   &  9.032463   &  7.53407666 & 10.235557   & 1.0000000   & Confirmed  \\\\\n",
       "\tarea\\_se & 13.037178   & 13.024554   & 11.74918813 & 14.447131   & 1.0000000   & Confirmed  \\\\\n",
       "\tsmoothness\\_se &  2.487894   &  2.605371   & -0.30324418 &  4.274887   & 0.5151515   & Tentative  \\\\\n",
       "\tcompactness\\_se &  4.436454   &  4.315040   &  2.76787760 &  5.929130   & 0.9797980   & Confirmed  \\\\\n",
       "\tconcavity\\_se &  5.607754   &  5.650830   &  4.61132305 &  6.982831   & 0.9898990   & Confirmed  \\\\\n",
       "\tconcave\\_points\\_se &  4.622069   &  4.610730   &  2.89647528 &  5.969901   & 0.9696970   & Confirmed  \\\\\n",
       "\tsymmetry\\_se &  2.246891   &  2.330814   &  0.02194936 &  4.483740   & 0.3939394   & Tentative  \\\\\n",
       "\tfractal\\_dimension\\_se &  3.316545   &  3.426002   &  0.91085163 &  5.438611   & 0.7676768   & Confirmed  \\\\\n",
       "\tradius\\_worst & 16.244829   & 16.252752   & 14.29377988 & 18.047477   & 1.0000000   & Confirmed  \\\\\n",
       "\ttexture\\_worst & 11.855060   & 11.789989   & 10.01784444 & 13.115998   & 1.0000000   & Confirmed  \\\\\n",
       "\tperimeter\\_worst & 16.663727   & 16.650990   & 14.86655822 & 18.419815   & 1.0000000   & Confirmed  \\\\\n",
       "\tarea\\_worst & 16.858146   & 16.868120   & 15.49346786 & 18.476151   & 1.0000000   & Confirmed  \\\\\n",
       "\tsmoothness\\_worst &  9.821188   &  9.721528   &  8.19551112 & 11.498522   & 1.0000000   & Confirmed  \\\\\n",
       "\tcompactness\\_worst &  8.301506   &  8.310239   &  6.85415297 &  9.636063   & 1.0000000   & Confirmed  \\\\\n",
       "\tconcavity\\_worst & 12.539666   & 12.617798   & 11.16757838 & 13.726907   & 1.0000000   & Confirmed  \\\\\n",
       "\tconcave\\_points\\_worst & 17.377606   & 17.411532   & 15.36686102 & 18.698109   & 1.0000000   & Confirmed  \\\\\n",
       "\tsymmetry\\_worst &  7.337235   &  7.414851   &  5.75706022 &  8.829443   & 1.0000000   & Confirmed  \\\\\n",
       "\tfractal\\_dimension\\_worst &  5.283075   &  5.292911   &  3.59782755 &  6.341092   & 0.9898990   & Confirmed  \\\\\n",
       "\\end{tabular}\n"
      ],
      "text/markdown": [
       "\n",
       "| <!--/--> | meanImp | medianImp | minImp | maxImp | normHits | decision | \n",
       "|---|---|---|---|---|---|---|---|---|---|---|---|---|---|---|---|---|---|---|---|---|---|---|---|---|---|---|---|---|---|\n",
       "| radius_mean | 10.082107   | 10.128005   |  8.88712537 | 11.802738   | 1.0000000   | Confirmed   | \n",
       "| texture_mean | 10.397338   | 10.377895   |  8.46080322 | 11.749065   | 1.0000000   | Confirmed   | \n",
       "| perimeter_mean | 10.112587   | 10.138476   |  8.66533777 | 11.183261   | 1.0000000   | Confirmed   | \n",
       "| area_mean | 10.823259   | 10.762864   |  9.27699591 | 12.243762   | 1.0000000   | Confirmed   | \n",
       "| smoothness_mean |  6.730766   |  6.722181   |  5.25796703 |  8.444674   | 0.9898990   | Confirmed   | \n",
       "| compactness_mean |  6.308945   |  6.323571   |  4.91216954 |  7.413756   | 1.0000000   | Confirmed   | \n",
       "| concavity_mean | 11.364417   | 11.308232   | 10.22350864 | 12.583804   | 1.0000000   | Confirmed   | \n",
       "| concave_points_mean | 14.350975   | 14.376361   | 12.67716710 | 15.622237   | 1.0000000   | Confirmed   | \n",
       "| symmetry_mean |  3.693023   |  3.670259   |  1.34143601 |  5.183926   | 0.8484848   | Confirmed   | \n",
       "| fractal_dimension_mean |  3.613138   |  3.627146   |  1.79500147 |  5.299470   | 0.8484848   | Confirmed   | \n",
       "| radius_se |  9.524104   |  9.503163   |  7.60111315 | 11.066830   | 1.0000000   | Confirmed   | \n",
       "| texture_se |  3.152342   |  3.230629   |  1.48361872 |  4.699177   | 0.7575758   | Confirmed   | \n",
       "| perimeter_se |  9.021877   |  9.032463   |  7.53407666 | 10.235557   | 1.0000000   | Confirmed   | \n",
       "| area_se | 13.037178   | 13.024554   | 11.74918813 | 14.447131   | 1.0000000   | Confirmed   | \n",
       "| smoothness_se |  2.487894   |  2.605371   | -0.30324418 |  4.274887   | 0.5151515   | Tentative   | \n",
       "| compactness_se |  4.436454   |  4.315040   |  2.76787760 |  5.929130   | 0.9797980   | Confirmed   | \n",
       "| concavity_se |  5.607754   |  5.650830   |  4.61132305 |  6.982831   | 0.9898990   | Confirmed   | \n",
       "| concave_points_se |  4.622069   |  4.610730   |  2.89647528 |  5.969901   | 0.9696970   | Confirmed   | \n",
       "| symmetry_se |  2.246891   |  2.330814   |  0.02194936 |  4.483740   | 0.3939394   | Tentative   | \n",
       "| fractal_dimension_se |  3.316545   |  3.426002   |  0.91085163 |  5.438611   | 0.7676768   | Confirmed   | \n",
       "| radius_worst | 16.244829   | 16.252752   | 14.29377988 | 18.047477   | 1.0000000   | Confirmed   | \n",
       "| texture_worst | 11.855060   | 11.789989   | 10.01784444 | 13.115998   | 1.0000000   | Confirmed   | \n",
       "| perimeter_worst | 16.663727   | 16.650990   | 14.86655822 | 18.419815   | 1.0000000   | Confirmed   | \n",
       "| area_worst | 16.858146   | 16.868120   | 15.49346786 | 18.476151   | 1.0000000   | Confirmed   | \n",
       "| smoothness_worst |  9.821188   |  9.721528   |  8.19551112 | 11.498522   | 1.0000000   | Confirmed   | \n",
       "| compactness_worst |  8.301506   |  8.310239   |  6.85415297 |  9.636063   | 1.0000000   | Confirmed   | \n",
       "| concavity_worst | 12.539666   | 12.617798   | 11.16757838 | 13.726907   | 1.0000000   | Confirmed   | \n",
       "| concave_points_worst | 17.377606   | 17.411532   | 15.36686102 | 18.698109   | 1.0000000   | Confirmed   | \n",
       "| symmetry_worst |  7.337235   |  7.414851   |  5.75706022 |  8.829443   | 1.0000000   | Confirmed   | \n",
       "| fractal_dimension_worst |  5.283075   |  5.292911   |  3.59782755 |  6.341092   | 0.9898990   | Confirmed   | \n",
       "\n",
       "\n"
      ],
      "text/plain": [
       "                        meanImp   medianImp minImp      maxImp    normHits \n",
       "radius_mean             10.082107 10.128005  8.88712537 11.802738 1.0000000\n",
       "texture_mean            10.397338 10.377895  8.46080322 11.749065 1.0000000\n",
       "perimeter_mean          10.112587 10.138476  8.66533777 11.183261 1.0000000\n",
       "area_mean               10.823259 10.762864  9.27699591 12.243762 1.0000000\n",
       "smoothness_mean          6.730766  6.722181  5.25796703  8.444674 0.9898990\n",
       "compactness_mean         6.308945  6.323571  4.91216954  7.413756 1.0000000\n",
       "concavity_mean          11.364417 11.308232 10.22350864 12.583804 1.0000000\n",
       "concave_points_mean     14.350975 14.376361 12.67716710 15.622237 1.0000000\n",
       "symmetry_mean            3.693023  3.670259  1.34143601  5.183926 0.8484848\n",
       "fractal_dimension_mean   3.613138  3.627146  1.79500147  5.299470 0.8484848\n",
       "radius_se                9.524104  9.503163  7.60111315 11.066830 1.0000000\n",
       "texture_se               3.152342  3.230629  1.48361872  4.699177 0.7575758\n",
       "perimeter_se             9.021877  9.032463  7.53407666 10.235557 1.0000000\n",
       "area_se                 13.037178 13.024554 11.74918813 14.447131 1.0000000\n",
       "smoothness_se            2.487894  2.605371 -0.30324418  4.274887 0.5151515\n",
       "compactness_se           4.436454  4.315040  2.76787760  5.929130 0.9797980\n",
       "concavity_se             5.607754  5.650830  4.61132305  6.982831 0.9898990\n",
       "concave_points_se        4.622069  4.610730  2.89647528  5.969901 0.9696970\n",
       "symmetry_se              2.246891  2.330814  0.02194936  4.483740 0.3939394\n",
       "fractal_dimension_se     3.316545  3.426002  0.91085163  5.438611 0.7676768\n",
       "radius_worst            16.244829 16.252752 14.29377988 18.047477 1.0000000\n",
       "texture_worst           11.855060 11.789989 10.01784444 13.115998 1.0000000\n",
       "perimeter_worst         16.663727 16.650990 14.86655822 18.419815 1.0000000\n",
       "area_worst              16.858146 16.868120 15.49346786 18.476151 1.0000000\n",
       "smoothness_worst         9.821188  9.721528  8.19551112 11.498522 1.0000000\n",
       "compactness_worst        8.301506  8.310239  6.85415297  9.636063 1.0000000\n",
       "concavity_worst         12.539666 12.617798 11.16757838 13.726907 1.0000000\n",
       "concave_points_worst    17.377606 17.411532 15.36686102 18.698109 1.0000000\n",
       "symmetry_worst           7.337235  7.414851  5.75706022  8.829443 1.0000000\n",
       "fractal_dimension_worst  5.283075  5.292911  3.59782755  6.341092 0.9898990\n",
       "                        decision \n",
       "radius_mean             Confirmed\n",
       "texture_mean            Confirmed\n",
       "perimeter_mean          Confirmed\n",
       "area_mean               Confirmed\n",
       "smoothness_mean         Confirmed\n",
       "compactness_mean        Confirmed\n",
       "concavity_mean          Confirmed\n",
       "concave_points_mean     Confirmed\n",
       "symmetry_mean           Confirmed\n",
       "fractal_dimension_mean  Confirmed\n",
       "radius_se               Confirmed\n",
       "texture_se              Confirmed\n",
       "perimeter_se            Confirmed\n",
       "area_se                 Confirmed\n",
       "smoothness_se           Tentative\n",
       "compactness_se          Confirmed\n",
       "concavity_se            Confirmed\n",
       "concave_points_se       Confirmed\n",
       "symmetry_se             Tentative\n",
       "fractal_dimension_se    Confirmed\n",
       "radius_worst            Confirmed\n",
       "texture_worst           Confirmed\n",
       "perimeter_worst         Confirmed\n",
       "area_worst              Confirmed\n",
       "smoothness_worst        Confirmed\n",
       "compactness_worst       Confirmed\n",
       "concavity_worst         Confirmed\n",
       "concave_points_worst    Confirmed\n",
       "symmetry_worst          Confirmed\n",
       "fractal_dimension_worst Confirmed"
      ]
     },
     "metadata": {},
     "output_type": "display_data"
    }
   ],
   "source": [
    "variables<-getSelectedAttributes(boruta_output, withTentative = F)\n",
    "variables\n",
    "boruta_df <- attStats(boruta_output)\n",
    "boruta_df\n"
   ]
  },
  {
   "cell_type": "markdown",
   "metadata": {},
   "source": [
    "#Dataset creation eliminating tentative attributes"
   ]
  },
  {
   "cell_type": "code",
   "execution_count": 21,
   "metadata": {},
   "outputs": [
    {
     "data": {
      "text/html": [
       "<ol class=list-inline>\n",
       "\t<li>'Diagnosis'</li>\n",
       "\t<li>'radius_mean'</li>\n",
       "\t<li>'texture_mean'</li>\n",
       "\t<li>'perimeter_mean'</li>\n",
       "\t<li>'area_mean'</li>\n",
       "\t<li>'smoothness_mean'</li>\n",
       "\t<li>'compactness_mean'</li>\n",
       "\t<li>'concavity_mean'</li>\n",
       "\t<li>'concave_points_mean'</li>\n",
       "\t<li>'symmetry_mean'</li>\n",
       "\t<li>'fractal_dimension_mean'</li>\n",
       "\t<li>'radius_se'</li>\n",
       "\t<li>'texture_se'</li>\n",
       "\t<li>'perimeter_se'</li>\n",
       "\t<li>'area_se'</li>\n",
       "\t<li>'compactness_se'</li>\n",
       "\t<li>'concavity_se'</li>\n",
       "\t<li>'concave_points_se'</li>\n",
       "\t<li>'fractal_dimension_se'</li>\n",
       "\t<li>'radius_worst'</li>\n",
       "\t<li>'texture_worst'</li>\n",
       "\t<li>'perimeter_worst'</li>\n",
       "\t<li>'area_worst'</li>\n",
       "\t<li>'smoothness_worst'</li>\n",
       "\t<li>'compactness_worst'</li>\n",
       "\t<li>'concavity_worst'</li>\n",
       "\t<li>'concave_points_worst'</li>\n",
       "\t<li>'symmetry_worst'</li>\n",
       "\t<li>'fractal_dimension_worst'</li>\n",
       "</ol>\n"
      ],
      "text/latex": [
       "\\begin{enumerate*}\n",
       "\\item 'Diagnosis'\n",
       "\\item 'radius\\_mean'\n",
       "\\item 'texture\\_mean'\n",
       "\\item 'perimeter\\_mean'\n",
       "\\item 'area\\_mean'\n",
       "\\item 'smoothness\\_mean'\n",
       "\\item 'compactness\\_mean'\n",
       "\\item 'concavity\\_mean'\n",
       "\\item 'concave\\_points\\_mean'\n",
       "\\item 'symmetry\\_mean'\n",
       "\\item 'fractal\\_dimension\\_mean'\n",
       "\\item 'radius\\_se'\n",
       "\\item 'texture\\_se'\n",
       "\\item 'perimeter\\_se'\n",
       "\\item 'area\\_se'\n",
       "\\item 'compactness\\_se'\n",
       "\\item 'concavity\\_se'\n",
       "\\item 'concave\\_points\\_se'\n",
       "\\item 'fractal\\_dimension\\_se'\n",
       "\\item 'radius\\_worst'\n",
       "\\item 'texture\\_worst'\n",
       "\\item 'perimeter\\_worst'\n",
       "\\item 'area\\_worst'\n",
       "\\item 'smoothness\\_worst'\n",
       "\\item 'compactness\\_worst'\n",
       "\\item 'concavity\\_worst'\n",
       "\\item 'concave\\_points\\_worst'\n",
       "\\item 'symmetry\\_worst'\n",
       "\\item 'fractal\\_dimension\\_worst'\n",
       "\\end{enumerate*}\n"
      ],
      "text/markdown": [
       "1. 'Diagnosis'\n",
       "2. 'radius_mean'\n",
       "3. 'texture_mean'\n",
       "4. 'perimeter_mean'\n",
       "5. 'area_mean'\n",
       "6. 'smoothness_mean'\n",
       "7. 'compactness_mean'\n",
       "8. 'concavity_mean'\n",
       "9. 'concave_points_mean'\n",
       "10. 'symmetry_mean'\n",
       "11. 'fractal_dimension_mean'\n",
       "12. 'radius_se'\n",
       "13. 'texture_se'\n",
       "14. 'perimeter_se'\n",
       "15. 'area_se'\n",
       "16. 'compactness_se'\n",
       "17. 'concavity_se'\n",
       "18. 'concave_points_se'\n",
       "19. 'fractal_dimension_se'\n",
       "20. 'radius_worst'\n",
       "21. 'texture_worst'\n",
       "22. 'perimeter_worst'\n",
       "23. 'area_worst'\n",
       "24. 'smoothness_worst'\n",
       "25. 'compactness_worst'\n",
       "26. 'concavity_worst'\n",
       "27. 'concave_points_worst'\n",
       "28. 'symmetry_worst'\n",
       "29. 'fractal_dimension_worst'\n",
       "\n",
       "\n"
      ],
      "text/plain": [
       " [1] \"Diagnosis\"               \"radius_mean\"            \n",
       " [3] \"texture_mean\"            \"perimeter_mean\"         \n",
       " [5] \"area_mean\"               \"smoothness_mean\"        \n",
       " [7] \"compactness_mean\"        \"concavity_mean\"         \n",
       " [9] \"concave_points_mean\"     \"symmetry_mean\"          \n",
       "[11] \"fractal_dimension_mean\"  \"radius_se\"              \n",
       "[13] \"texture_se\"              \"perimeter_se\"           \n",
       "[15] \"area_se\"                 \"compactness_se\"         \n",
       "[17] \"concavity_se\"            \"concave_points_se\"      \n",
       "[19] \"fractal_dimension_se\"    \"radius_worst\"           \n",
       "[21] \"texture_worst\"           \"perimeter_worst\"        \n",
       "[23] \"area_worst\"              \"smoothness_worst\"       \n",
       "[25] \"compactness_worst\"       \"concavity_worst\"        \n",
       "[27] \"concave_points_worst\"    \"symmetry_worst\"         \n",
       "[29] \"fractal_dimension_worst\""
      ]
     },
     "metadata": {},
     "output_type": "display_data"
    }
   ],
   "source": [
    "Cancerdata = subset(wdbc, select = -c(smoothness_se, symmetry_se))\n",
    "names(Cancerdata)\n"
   ]
  },
  {
   "cell_type": "markdown",
   "metadata": {},
   "source": [
    "#Data indexing for randomization"
   ]
  },
  {
   "cell_type": "code",
   "execution_count": 22,
   "metadata": {},
   "outputs": [
    {
     "data": {
      "text/html": [
       "<ol class=list-inline>\n",
       "\t<li>63</li>\n",
       "\t<li>291</li>\n",
       "\t<li>273</li>\n",
       "\t<li>457</li>\n",
       "\t<li>138</li>\n",
       "\t<li>205</li>\n",
       "</ol>\n"
      ],
      "text/latex": [
       "\\begin{enumerate*}\n",
       "\\item 63\n",
       "\\item 291\n",
       "\\item 273\n",
       "\\item 457\n",
       "\\item 138\n",
       "\\item 205\n",
       "\\end{enumerate*}\n"
      ],
      "text/markdown": [
       "1. 63\n",
       "2. 291\n",
       "3. 273\n",
       "4. 457\n",
       "5. 138\n",
       "6. 205\n",
       "\n",
       "\n"
      ],
      "text/plain": [
       "[1]  63 291 273 457 138 205"
      ]
     },
     "metadata": {},
     "output_type": "display_data"
    },
    {
     "data": {
      "text/html": [
       "<table>\n",
       "<thead><tr><th></th><th scope=col>Diagnosis</th><th scope=col>radius_mean</th><th scope=col>texture_mean</th><th scope=col>perimeter_mean</th><th scope=col>area_mean</th><th scope=col>smoothness_mean</th><th scope=col>compactness_mean</th><th scope=col>concavity_mean</th><th scope=col>concave_points_mean</th><th scope=col>symmetry_mean</th><th scope=col>...</th><th scope=col>radius_worst</th><th scope=col>texture_worst</th><th scope=col>perimeter_worst</th><th scope=col>area_worst</th><th scope=col>smoothness_worst</th><th scope=col>compactness_worst</th><th scope=col>concavity_worst</th><th scope=col>concave_points_worst</th><th scope=col>symmetry_worst</th><th scope=col>fractal_dimension_worst</th></tr></thead>\n",
       "<tbody>\n",
       "\t<tr><th scope=row>63</th><td>M      </td><td>14.25  </td><td>22.15  </td><td> 96.42 </td><td> 645.7 </td><td>0.10490</td><td>0.20080</td><td>0.21350</td><td>0.08653</td><td>0.1949 </td><td>...    </td><td>17.67  </td><td>29.51  </td><td>119.10 </td><td> 959.5 </td><td>0.16400</td><td>0.6247 </td><td>0.6922 </td><td>0.17850</td><td>0.2844 </td><td>0.11320</td></tr>\n",
       "\t<tr><th scope=row>291</th><td>B      </td><td>14.41  </td><td>19.73  </td><td> 96.03 </td><td> 651.0 </td><td>0.08757</td><td>0.16760</td><td>0.13620</td><td>0.06602</td><td>0.1714 </td><td>...    </td><td>15.77  </td><td>22.13  </td><td>101.70 </td><td> 767.3 </td><td>0.09983</td><td>0.2472 </td><td>0.2220 </td><td>0.10210</td><td>0.2272 </td><td>0.08799</td></tr>\n",
       "\t<tr><th scope=row>273</th><td>M      </td><td>21.75  </td><td>20.99  </td><td>147.30 </td><td>1491.0 </td><td>0.09401</td><td>0.19610</td><td>0.21950</td><td>0.10880</td><td>0.1721 </td><td>...    </td><td>28.19  </td><td>28.18  </td><td>195.90 </td><td>2384.0 </td><td>0.12720</td><td>0.4725 </td><td>0.5807 </td><td>0.18410</td><td>0.2833 </td><td>0.08858</td></tr>\n",
       "\t<tr><th scope=row>457</th><td>B      </td><td>11.63  </td><td>29.29  </td><td> 74.87 </td><td> 415.1 </td><td>0.09357</td><td>0.08574</td><td>0.07160</td><td>0.02017</td><td>0.1799 </td><td>...    </td><td>13.12  </td><td>38.81  </td><td> 86.04 </td><td> 527.8 </td><td>0.14060</td><td>0.2031 </td><td>0.2923 </td><td>0.06835</td><td>0.2884 </td><td>0.07220</td></tr>\n",
       "\t<tr><th scope=row>138</th><td>B      </td><td>11.43  </td><td>15.39  </td><td> 73.06 </td><td> 399.8 </td><td>0.09639</td><td>0.06889</td><td>0.03503</td><td>0.02875</td><td>0.1734 </td><td>...    </td><td>12.32  </td><td>22.02  </td><td> 79.93 </td><td> 462.0 </td><td>0.11900</td><td>0.1648 </td><td>0.1399 </td><td>0.08476</td><td>0.2676 </td><td>0.06765</td></tr>\n",
       "\t<tr><th scope=row>205</th><td>B      </td><td>12.47  </td><td>18.60  </td><td> 81.09 </td><td> 481.9 </td><td>0.09965</td><td>0.10580</td><td>0.08005</td><td>0.03821</td><td>0.1925 </td><td>...    </td><td>14.97  </td><td>24.64  </td><td> 96.05 </td><td> 677.9 </td><td>0.14260</td><td>0.2378 </td><td>0.2671 </td><td>0.10150</td><td>0.3014 </td><td>0.08750</td></tr>\n",
       "</tbody>\n",
       "</table>\n"
      ],
      "text/latex": [
       "\\begin{tabular}{r|lllllllllllllllllllllllllllll}\n",
       "  & Diagnosis & radius\\_mean & texture\\_mean & perimeter\\_mean & area\\_mean & smoothness\\_mean & compactness\\_mean & concavity\\_mean & concave\\_points\\_mean & symmetry\\_mean & ... & radius\\_worst & texture\\_worst & perimeter\\_worst & area\\_worst & smoothness\\_worst & compactness\\_worst & concavity\\_worst & concave\\_points\\_worst & symmetry\\_worst & fractal\\_dimension\\_worst\\\\\n",
       "\\hline\n",
       "\t63 & M       & 14.25   & 22.15   &  96.42  &  645.7  & 0.10490 & 0.20080 & 0.21350 & 0.08653 & 0.1949  & ...     & 17.67   & 29.51   & 119.10  &  959.5  & 0.16400 & 0.6247  & 0.6922  & 0.17850 & 0.2844  & 0.11320\\\\\n",
       "\t291 & B       & 14.41   & 19.73   &  96.03  &  651.0  & 0.08757 & 0.16760 & 0.13620 & 0.06602 & 0.1714  & ...     & 15.77   & 22.13   & 101.70  &  767.3  & 0.09983 & 0.2472  & 0.2220  & 0.10210 & 0.2272  & 0.08799\\\\\n",
       "\t273 & M       & 21.75   & 20.99   & 147.30  & 1491.0  & 0.09401 & 0.19610 & 0.21950 & 0.10880 & 0.1721  & ...     & 28.19   & 28.18   & 195.90  & 2384.0  & 0.12720 & 0.4725  & 0.5807  & 0.18410 & 0.2833  & 0.08858\\\\\n",
       "\t457 & B       & 11.63   & 29.29   &  74.87  &  415.1  & 0.09357 & 0.08574 & 0.07160 & 0.02017 & 0.1799  & ...     & 13.12   & 38.81   &  86.04  &  527.8  & 0.14060 & 0.2031  & 0.2923  & 0.06835 & 0.2884  & 0.07220\\\\\n",
       "\t138 & B       & 11.43   & 15.39   &  73.06  &  399.8  & 0.09639 & 0.06889 & 0.03503 & 0.02875 & 0.1734  & ...     & 12.32   & 22.02   &  79.93  &  462.0  & 0.11900 & 0.1648  & 0.1399  & 0.08476 & 0.2676  & 0.06765\\\\\n",
       "\t205 & B       & 12.47   & 18.60   &  81.09  &  481.9  & 0.09965 & 0.10580 & 0.08005 & 0.03821 & 0.1925  & ...     & 14.97   & 24.64   &  96.05  &  677.9  & 0.14260 & 0.2378  & 0.2671  & 0.10150 & 0.3014  & 0.08750\\\\\n",
       "\\end{tabular}\n"
      ],
      "text/markdown": [
       "\n",
       "| <!--/--> | Diagnosis | radius_mean | texture_mean | perimeter_mean | area_mean | smoothness_mean | compactness_mean | concavity_mean | concave_points_mean | symmetry_mean | ... | radius_worst | texture_worst | perimeter_worst | area_worst | smoothness_worst | compactness_worst | concavity_worst | concave_points_worst | symmetry_worst | fractal_dimension_worst | \n",
       "|---|---|---|---|---|---|\n",
       "| 63 | M       | 14.25   | 22.15   |  96.42  |  645.7  | 0.10490 | 0.20080 | 0.21350 | 0.08653 | 0.1949  | ...     | 17.67   | 29.51   | 119.10  |  959.5  | 0.16400 | 0.6247  | 0.6922  | 0.17850 | 0.2844  | 0.11320 | \n",
       "| 291 | B       | 14.41   | 19.73   |  96.03  |  651.0  | 0.08757 | 0.16760 | 0.13620 | 0.06602 | 0.1714  | ...     | 15.77   | 22.13   | 101.70  |  767.3  | 0.09983 | 0.2472  | 0.2220  | 0.10210 | 0.2272  | 0.08799 | \n",
       "| 273 | M       | 21.75   | 20.99   | 147.30  | 1491.0  | 0.09401 | 0.19610 | 0.21950 | 0.10880 | 0.1721  | ...     | 28.19   | 28.18   | 195.90  | 2384.0  | 0.12720 | 0.4725  | 0.5807  | 0.18410 | 0.2833  | 0.08858 | \n",
       "| 457 | B       | 11.63   | 29.29   |  74.87  |  415.1  | 0.09357 | 0.08574 | 0.07160 | 0.02017 | 0.1799  | ...     | 13.12   | 38.81   |  86.04  |  527.8  | 0.14060 | 0.2031  | 0.2923  | 0.06835 | 0.2884  | 0.07220 | \n",
       "| 138 | B       | 11.43   | 15.39   |  73.06  |  399.8  | 0.09639 | 0.06889 | 0.03503 | 0.02875 | 0.1734  | ...     | 12.32   | 22.02   |  79.93  |  462.0  | 0.11900 | 0.1648  | 0.1399  | 0.08476 | 0.2676  | 0.06765 | \n",
       "| 205 | B       | 12.47   | 18.60   |  81.09  |  481.9  | 0.09965 | 0.10580 | 0.08005 | 0.03821 | 0.1925  | ...     | 14.97   | 24.64   |  96.05  |  677.9  | 0.14260 | 0.2378  | 0.2671  | 0.10150 | 0.3014  | 0.08750 | \n",
       "\n",
       "\n"
      ],
      "text/plain": [
       "    Diagnosis radius_mean texture_mean perimeter_mean area_mean smoothness_mean\n",
       "63  M         14.25       22.15         96.42          645.7    0.10490        \n",
       "291 B         14.41       19.73         96.03          651.0    0.08757        \n",
       "273 M         21.75       20.99        147.30         1491.0    0.09401        \n",
       "457 B         11.63       29.29         74.87          415.1    0.09357        \n",
       "138 B         11.43       15.39         73.06          399.8    0.09639        \n",
       "205 B         12.47       18.60         81.09          481.9    0.09965        \n",
       "    compactness_mean concavity_mean concave_points_mean symmetry_mean ...\n",
       "63  0.20080          0.21350        0.08653             0.1949        ...\n",
       "291 0.16760          0.13620        0.06602             0.1714        ...\n",
       "273 0.19610          0.21950        0.10880             0.1721        ...\n",
       "457 0.08574          0.07160        0.02017             0.1799        ...\n",
       "138 0.06889          0.03503        0.02875             0.1734        ...\n",
       "205 0.10580          0.08005        0.03821             0.1925        ...\n",
       "    radius_worst texture_worst perimeter_worst area_worst smoothness_worst\n",
       "63  17.67        29.51         119.10           959.5     0.16400         \n",
       "291 15.77        22.13         101.70           767.3     0.09983         \n",
       "273 28.19        28.18         195.90          2384.0     0.12720         \n",
       "457 13.12        38.81          86.04           527.8     0.14060         \n",
       "138 12.32        22.02          79.93           462.0     0.11900         \n",
       "205 14.97        24.64          96.05           677.9     0.14260         \n",
       "    compactness_worst concavity_worst concave_points_worst symmetry_worst\n",
       "63  0.6247            0.6922          0.17850              0.2844        \n",
       "291 0.2472            0.2220          0.10210              0.2272        \n",
       "273 0.4725            0.5807          0.18410              0.2833        \n",
       "457 0.2031            0.2923          0.06835              0.2884        \n",
       "138 0.1648            0.1399          0.08476              0.2676        \n",
       "205 0.2378            0.2671          0.10150              0.3014        \n",
       "    fractal_dimension_worst\n",
       "63  0.11320                \n",
       "291 0.08799                \n",
       "273 0.08858                \n",
       "457 0.07220                \n",
       "138 0.06765                \n",
       "205 0.08750                "
      ]
     },
     "metadata": {},
     "output_type": "display_data"
    }
   ],
   "source": [
    "shuffle_index <- sample(1:nrow(wdbc))\n",
    "head(shuffle_index)\n",
    "Cancerdata <- Cancerdata[shuffle_index, ]\n",
    "head(Cancerdata)"
   ]
  },
  {
   "cell_type": "markdown",
   "metadata": {},
   "source": [
    "#Data partitioning to train and validate the model"
   ]
  },
  {
   "cell_type": "code",
   "execution_count": 23,
   "metadata": {},
   "outputs": [],
   "source": [
    "n = nrow(Cancerdata)\n",
    "trainIndex = sample(1:n, size = round(0.7*n), replace=FALSE)\n",
    "train = Cancerdata[trainIndex ,]\n",
    "test = Cancerdata[-trainIndex ,]"
   ]
  },
  {
   "cell_type": "markdown",
   "metadata": {},
   "source": [
    "#Dimensions"
   ]
  },
  {
   "cell_type": "code",
   "execution_count": 24,
   "metadata": {},
   "outputs": [
    {
     "data": {
      "text/html": [
       "<ol class=list-inline>\n",
       "\t<li>398</li>\n",
       "\t<li>29</li>\n",
       "</ol>\n"
      ],
      "text/latex": [
       "\\begin{enumerate*}\n",
       "\\item 398\n",
       "\\item 29\n",
       "\\end{enumerate*}\n"
      ],
      "text/markdown": [
       "1. 398\n",
       "2. 29\n",
       "\n",
       "\n"
      ],
      "text/plain": [
       "[1] 398  29"
      ]
     },
     "metadata": {},
     "output_type": "display_data"
    },
    {
     "data": {
      "text/html": [
       "<ol class=list-inline>\n",
       "\t<li>171</li>\n",
       "\t<li>29</li>\n",
       "</ol>\n"
      ],
      "text/latex": [
       "\\begin{enumerate*}\n",
       "\\item 171\n",
       "\\item 29\n",
       "\\end{enumerate*}\n"
      ],
      "text/markdown": [
       "1. 171\n",
       "2. 29\n",
       "\n",
       "\n"
      ],
      "text/plain": [
       "[1] 171  29"
      ]
     },
     "metadata": {},
     "output_type": "display_data"
    }
   ],
   "source": [
    "dim(train)\n",
    "dim(test)"
   ]
  },
  {
   "cell_type": "markdown",
   "metadata": {},
   "source": [
    "#To check randomization process"
   ]
  },
  {
   "cell_type": "code",
   "execution_count": 25,
   "metadata": {},
   "outputs": [
    {
     "data": {
      "text/plain": [
       "\n",
       "        B         M \n",
       "0.6306533 0.3693467 "
      ]
     },
     "metadata": {},
     "output_type": "display_data"
    },
    {
     "data": {
      "text/plain": [
       "\n",
       "       B        M \n",
       "0.619883 0.380117 "
      ]
     },
     "metadata": {},
     "output_type": "display_data"
    }
   ],
   "source": [
    "prop.table(table(train$Diagnosis))\n",
    "prop.table(table(test$Diagnosis))"
   ]
  },
  {
   "cell_type": "markdown",
   "metadata": {},
   "source": [
    "# Building the  Decision tree model for predicting class by training with train data using rpart for ID3 algorithm"
   ]
  },
  {
   "cell_type": "code",
   "execution_count": 26,
   "metadata": {},
   "outputs": [
    {
     "data": {
      "image/png": "[encoded data removed]",
      "text/plain": [
       "plot without title"
      ]
     },
     "metadata": {},
     "output_type": "display_data"
    }
   ],
   "source": [
    "fit <- rpart(Diagnosis~., data = train, method = 'class',\n",
    "             control = rpart.control(cp = 0))\n",
    "rpart.plot(fit, extra =104)\n"
   ]
  },
  {
   "cell_type": "markdown",
   "metadata": {},
   "source": [
    "#Checking the complexity plot"
   ]
  },
  {
   "cell_type": "code",
   "execution_count": 27,
   "metadata": {},
   "outputs": [
    {
     "name": "stdout",
     "output_type": "stream",
     "text": [
      "\n",
      "Classification tree:\n",
      "rpart(formula = Diagnosis ~ ., data = train, method = \"class\", \n",
      "    control = rpart.control(cp = 0))\n",
      "\n",
      "Variables actually used in tree construction:\n",
      "[1] concave_points_worst perimeter_worst      texture_mean        \n",
      "\n",
      "Root node error: 147/398 = 0.36935\n",
      "\n",
      "n= 398 \n",
      "\n",
      "        CP nsplit rel error  xerror     xstd\n",
      "1 0.823129      0   1.00000 1.00000 0.065499\n",
      "2 0.034014      1   0.17687 0.23129 0.037934\n",
      "3 0.000000      3   0.10884 0.23810 0.038435\n"
     ]
    },
    {
     "data": {
      "image/png": "[encoded data removed]",
      "text/plain": [
       "plot without title"
      ]
     },
     "metadata": {},
     "output_type": "display_data"
    }
   ],
   "source": [
    "printcp(fit)\n",
    "plotcp(fit)"
   ]
  },
  {
   "cell_type": "markdown",
   "metadata": {},
   "source": [
    "#Fancy plot of model"
   ]
  },
  {
   "cell_type": "code",
   "execution_count": 28,
   "metadata": {},
   "outputs": [
    {
     "data": {
      "image/png": "[encoded data removed]",
      "text/plain": [
       "Plot with title \"\""
      ]
     },
     "metadata": {},
     "output_type": "display_data"
    }
   ],
   "source": [
    "fancyRpartPlot(fit)"
   ]
  },
  {
   "cell_type": "markdown",
   "metadata": {},
   "source": [
    "#Prediction for test data"
   ]
  },
  {
   "cell_type": "code",
   "execution_count": 29,
   "metadata": {},
   "outputs": [
    {
     "data": {
      "text/plain": [
       "Confusion Matrix and Statistics\n",
       "\n",
       "          Reference\n",
       "Prediction  B  M\n",
       "         B 95  5\n",
       "         M 11 60\n",
       "                                          \n",
       "               Accuracy : 0.9064          \n",
       "                 95% CI : (0.8525, 0.9456)\n",
       "    No Information Rate : 0.6199          \n",
       "    P-Value [Acc > NIR] : <2e-16          \n",
       "                                          \n",
       "                  Kappa : 0.8049          \n",
       " Mcnemar's Test P-Value : 0.2113          \n",
       "                                          \n",
       "            Sensitivity : 0.8962          \n",
       "            Specificity : 0.9231          \n",
       "         Pos Pred Value : 0.9500          \n",
       "         Neg Pred Value : 0.8451          \n",
       "             Prevalence : 0.6199          \n",
       "         Detection Rate : 0.5556          \n",
       "   Detection Prevalence : 0.5848          \n",
       "      Balanced Accuracy : 0.9097          \n",
       "                                          \n",
       "       'Positive' Class : B               \n",
       "                                          "
      ]
     },
     "metadata": {},
     "output_type": "display_data"
    }
   ],
   "source": [
    "predict_test <-predict(fit, test, type = 'class')\n",
    "confusionMatrix(predict_test,test$Diagnosis )\n",
    "table_mat <- table(test$Diagnosis, predict_test)"
   ]
  },
  {
   "cell_type": "markdown",
   "metadata": {},
   "source": [
    "#Computing the accuracy test for test data"
   ]
  },
  {
   "cell_type": "code",
   "execution_count": 30,
   "metadata": {},
   "outputs": [
    {
     "name": "stdout",
     "output_type": "stream",
     "text": [
      "[1] \"Accuracy for test 0.906432748538012\"\n"
     ]
    }
   ],
   "source": [
    "accuracy_Test <- sum(diag(table_mat)) / sum(table_mat)\n",
    "print(paste('Accuracy for test', accuracy_Test))\n",
    "DT_accuracy <- mean(predict_test == test$Diagnosis)"
   ]
  },
  {
   "cell_type": "markdown",
   "metadata": {},
   "source": [
    "#Area under curve"
   ]
  },
  {
   "cell_type": "code",
   "execution_count": 31,
   "metadata": {},
   "outputs": [
    {
     "data": {
      "text/html": [
       "0.931349782293179"
      ],
      "text/latex": [
       "0.931349782293179"
      ],
      "text/markdown": [
       "0.931349782293179"
      ],
      "text/plain": [
       "Area under the curve: 0.9313"
      ]
     },
     "metadata": {},
     "output_type": "display_data"
    },
    {
     "data": {
      "image/png": "[encoded data removed]",
      "text/plain": [
       "plot without title"
      ]
     },
     "metadata": {},
     "output_type": "display_data"
    }
   ],
   "source": [
    "predict_test <-predict(fit, test, type = 'prob')\n",
    "auc(test$Diagnosis,predict_test[,2])\n",
    "plot(roc(test$Diagnosis,predict_test[,2]))"
   ]
  },
  {
   "cell_type": "markdown",
   "metadata": {},
   "source": [
    "#Pruning to improve Decision tree"
   ]
  },
  {
   "cell_type": "code",
   "execution_count": 32,
   "metadata": {},
   "outputs": [],
   "source": [
    "prune_decison_tree <- rpart(Diagnosis~., data = train, method = 'class', \n",
    "                          control = rpart.control(cp = 0, maxdepth = 8,minsplit = 100))"
   ]
  },
  {
   "cell_type": "code",
   "execution_count": 33,
   "metadata": {},
   "outputs": [
    {
     "data": {
      "image/png": "[encoded data removed]",
      "text/plain": [
       "plot without title"
      ]
     },
     "metadata": {},
     "output_type": "display_data"
    }
   ],
   "source": [
    "rpart.plot(prune_decison_tree, extra =104)"
   ]
  },
  {
   "cell_type": "markdown",
   "metadata": {},
   "source": [
    "#Compute the accuracy of the pruned tree"
   ]
  },
  {
   "cell_type": "code",
   "execution_count": 34,
   "metadata": {},
   "outputs": [
    {
     "name": "stdout",
     "output_type": "stream",
     "text": [
      "[1] \"Accuracy for test 0.883040935672515\"\n"
     ]
    }
   ],
   "source": [
    "predprune_decison <- predict(prune_decison_tree, test, type = \"class\")\n",
    "accuracy_preprun <- mean(predprune_decison== test$Diagnosis)\n",
    "print(paste('Accuracy for test', accuracy_preprun))"
   ]
  },
  {
   "cell_type": "markdown",
   "metadata": {},
   "source": [
    "#Prune the fit model based on the optimal cp value"
   ]
  },
  {
   "cell_type": "code",
   "execution_count": 35,
   "metadata": {},
   "outputs": [],
   "source": [
    "model_pruned <- prune(fit, cp = 0.79)"
   ]
  },
  {
   "cell_type": "code",
   "execution_count": 36,
   "metadata": {},
   "outputs": [
    {
     "data": {
      "image/png": "[encoded data removed]",
      "text/plain": [
       "plot without title"
      ]
     },
     "metadata": {},
     "output_type": "display_data"
    }
   ],
   "source": [
    "rpart.plot(model_pruned, extra =104)"
   ]
  },
  {
   "cell_type": "markdown",
   "metadata": {},
   "source": [
    "#Compute the accuracy of the pruned tree"
   ]
  },
  {
   "cell_type": "code",
   "execution_count": 37,
   "metadata": {},
   "outputs": [
    {
     "name": "stdout",
     "output_type": "stream",
     "text": [
      "[1] \"Accuracy for test 0.883040935672515\"\n"
     ]
    },
    {
     "data": {
      "text/html": [
       "<table>\n",
       "<thead><tr><th scope=col>DT_accuracy</th><th scope=col>accuracy_preprun</th><th scope=col>accuracy_postprun</th></tr></thead>\n",
       "<tbody>\n",
       "\t<tr><td>0.9064327</td><td>0.8830409</td><td>0.8830409</td></tr>\n",
       "</tbody>\n",
       "</table>\n"
      ],
      "text/latex": [
       "\\begin{tabular}{r|lll}\n",
       " DT\\_accuracy & accuracy\\_preprun & accuracy\\_postprun\\\\\n",
       "\\hline\n",
       "\t 0.9064327 & 0.8830409 & 0.8830409\\\\\n",
       "\\end{tabular}\n"
      ],
      "text/markdown": [
       "\n",
       "DT_accuracy | accuracy_preprun | accuracy_postprun | \n",
       "|---|\n",
       "| 0.9064327 | 0.8830409 | 0.8830409 | \n",
       "\n",
       "\n"
      ],
      "text/plain": [
       "  DT_accuracy accuracy_preprun accuracy_postprun\n",
       "1 0.9064327   0.8830409        0.8830409        "
      ]
     },
     "metadata": {},
     "output_type": "display_data"
    }
   ],
   "source": [
    "pred_pruned <- predict(model_pruned, test, type = \"class\")\n",
    "accuracy_postprun <- mean(pred_pruned == test$Diagnosis)\n",
    "print(paste('Accuracy for test', accuracy_postprun))\n",
    "data.frame(DT_accuracy, accuracy_preprun, accuracy_postprun)"
   ]
  },
  {
   "cell_type": "markdown",
   "metadata": {},
   "source": [
    "#Pruning has not improved Decision tree model"
   ]
  },
  {
   "cell_type": "markdown",
   "metadata": {},
   "source": [
    "# Building the SVM model for classification"
   ]
  },
  {
   "cell_type": "markdown",
   "metadata": {},
   "source": [
    "#Training with SVM Linear model"
   ]
  },
  {
   "cell_type": "code",
   "execution_count": 38,
   "metadata": {},
   "outputs": [
    {
     "name": "stdout",
     "output_type": "stream",
     "text": [
      "Support Vector Machines with Linear Kernel \n",
      "\n",
      "398 samples\n",
      " 28 predictor\n",
      "  2 classes: 'B', 'M' \n",
      "\n",
      "Pre-processing: centered (28), scaled (28) \n",
      "Resampling: Cross-Validated (10 fold, repeated 3 times) \n",
      "Summary of sample sizes: 359, 358, 359, 359, 358, 358, ... \n",
      "Resampling results:\n",
      "\n",
      "  ROC        Sens       Spec     \n",
      "  0.9918989  0.9813333  0.9457143\n",
      "\n",
      "Tuning parameter 'C' was held constant at a value of 1\n"
     ]
    }
   ],
   "source": [
    "trctrl <- trainControl(method = \"repeatedcv\", number = 10, repeats = 3,summaryFunction=twoClassSummary,\n",
    "                       classProbs=TRUE)\n",
    "levels(train$Diagnosis) <- list(B=\"0\", M=\"1\") \n",
    "set.seed(123)\n",
    "svm_Linear <- train(Diagnosis ~., data = train, method = \"svmLinear\",\n",
    "                    trControl=trctrl,\n",
    "                    preProcess = c(\"center\", \"scale\"),\n",
    "                    metric=\"ROC\",\n",
    "                    tuneLength = 10)\n",
    "print(svm_Linear)"
   ]
  },
  {
   "cell_type": "markdown",
   "metadata": {},
   "source": [
    "#Prediction for test"
   ]
  },
  {
   "cell_type": "code",
   "execution_count": 39,
   "metadata": {},
   "outputs": [
    {
     "data": {
      "text/plain": [
       "Confusion Matrix and Statistics\n",
       "\n",
       "          Reference\n",
       "Prediction   B   M\n",
       "         B 105   1\n",
       "         M   1  64\n",
       "                                          \n",
       "               Accuracy : 0.9883          \n",
       "                 95% CI : (0.9584, 0.9986)\n",
       "    No Information Rate : 0.6199          \n",
       "    P-Value [Acc > NIR] : <2e-16          \n",
       "                                          \n",
       "                  Kappa : 0.9752          \n",
       " Mcnemar's Test P-Value : 1               \n",
       "                                          \n",
       "            Sensitivity : 0.9906          \n",
       "            Specificity : 0.9846          \n",
       "         Pos Pred Value : 0.9906          \n",
       "         Neg Pred Value : 0.9846          \n",
       "             Prevalence : 0.6199          \n",
       "         Detection Rate : 0.6140          \n",
       "   Detection Prevalence : 0.6199          \n",
       "      Balanced Accuracy : 0.9876          \n",
       "                                          \n",
       "       'Positive' Class : B               \n",
       "                                          "
      ]
     },
     "metadata": {},
     "output_type": "display_data"
    }
   ],
   "source": [
    "test_pred <- predict(svm_Linear, newdata = test)\n",
    "cm<-confusionMatrix(test_pred, test$Diagnosis )\n",
    "cm"
   ]
  },
  {
   "cell_type": "code",
   "execution_count": 40,
   "metadata": {},
   "outputs": [
    {
     "data": {
      "text/html": [
       "0.988304093567251"
      ],
      "text/latex": [
       "0.988304093567251"
      ],
      "text/markdown": [
       "0.988304093567251"
      ],
      "text/plain": [
       "[1] 0.9883041"
      ]
     },
     "metadata": {},
     "output_type": "display_data"
    }
   ],
   "source": [
    "Accuracy_SVMLinear <- mean(test_pred == test$Diagnosis)\n",
    "Accuracy_SVMLinear"
   ]
  },
  {
   "cell_type": "code",
   "execution_count": 41,
   "metadata": {},
   "outputs": [
    {
     "data": {
      "text/plain": [
       "An object of class \"prediction\"\n",
       "Slot \"predictions\":\n",
       "[[1]]\n",
       "  [1] 6.851984e-05 7.417496e-01 7.521805e-02 9.207551e-01 2.155251e-04\n",
       "  [6] 4.759963e-03 4.460578e-02 9.668629e-01 7.301416e-04 3.612497e-02\n",
       " [11] 1.000000e+00 7.424901e-04 2.521306e-01 9.987499e-01 4.076404e-05\n",
       " [16] 9.999851e-01 9.879827e-01 9.984898e-01 1.287024e-02 4.967916e-03\n",
       " [21] 4.587380e-03 5.765555e-01 6.031938e-04 9.996379e-01 1.000000e+00\n",
       " [26] 5.235692e-02 1.760268e-02 6.104830e-03 9.999743e-01 9.582511e-01\n",
       " [31] 7.113807e-03 2.392314e-01 5.244510e-02 1.900992e-05 7.582214e-05\n",
       " [36] 9.999998e-01 1.197480e-03 3.362508e-01 3.142581e-01 6.218991e-03\n",
       " [41] 3.064304e-04 5.550119e-03 1.547734e-03 1.000000e+00 8.515393e-02\n",
       " [46] 1.184233e-04 4.980883e-02 1.576017e-02 1.358591e-02 9.999818e-01\n",
       " [51] 9.958685e-01 2.573439e-03 9.999931e-01 9.999965e-01 1.466500e-03\n",
       " [56] 9.999894e-01 1.490161e-02 1.385587e-02 1.738434e-04 1.612419e-02\n",
       " [61] 2.247663e-02 9.999178e-01 9.997855e-01 1.757207e-02 1.000000e+00\n",
       " [66] 1.780602e-03 4.561995e-05 1.656372e-02 9.564567e-01 9.998471e-01\n",
       " [71] 5.610252e-03 9.802829e-01 9.999977e-01 2.435380e-03 9.893769e-01\n",
       " [76] 7.492909e-01 9.999440e-01 4.551698e-04 5.838114e-03 6.176578e-01\n",
       " [81] 9.999787e-01 4.472988e-03 1.205514e-03 8.810516e-04 1.174589e-03\n",
       " [86] 9.710127e-01 9.849247e-01 9.999776e-01 9.914196e-01 7.946964e-02\n",
       " [91] 3.519010e-03 3.598904e-02 6.172857e-02 9.994865e-01 4.563186e-04\n",
       " [96] 7.540664e-04 4.329639e-01 8.488374e-01 5.349099e-03 9.962866e-01\n",
       "[101] 5.412796e-03 2.466268e-04 3.919450e-01 1.727653e-02 2.359520e-04\n",
       "[106] 3.312299e-03 1.723822e-05 9.999666e-01 9.999361e-01 7.729840e-03\n",
       "[111] 7.071427e-03 3.029057e-02 9.957422e-01 1.000000e+00 1.920412e-03\n",
       "[116] 1.457504e-01 9.997443e-01 2.832220e-04 1.572305e-04 9.990379e-01\n",
       "[121] 3.458991e-06 9.999991e-01 9.999999e-01 1.985332e-03 9.650546e-01\n",
       "[126] 7.747496e-02 9.999969e-01 2.451624e-02 9.999999e-01 1.975978e-01\n",
       "[131] 8.563266e-05 1.903498e-01 2.042603e-01 5.353482e-04 6.895040e-04\n",
       "[136] 1.729363e-01 9.207730e-01 7.212382e-01 1.527728e-01 8.018267e-01\n",
       "[141] 9.918186e-01 3.472656e-02 1.000000e+00 1.000000e+00 9.999766e-01\n",
       "[146] 5.405009e-04 1.139740e-03 2.041659e-01 3.872625e-01 4.081683e-02\n",
       "[151] 9.989799e-01 4.167806e-03 9.856636e-01 9.894969e-01 1.941047e-04\n",
       "[156] 8.467832e-05 2.629069e-04 9.926525e-01 9.999968e-01 6.313913e-04\n",
       "[161] 2.835393e-02 9.501513e-01 9.997568e-01 2.352551e-03 7.739189e-03\n",
       "[166] 1.744273e-01 1.443552e-03 1.000000e+00 2.457023e-04 2.482789e-03\n",
       "[171] 1.014259e-02\n",
       "\n",
       "\n",
       "Slot \"labels\":\n",
       "[[1]]\n",
       "  [1] B M B M B B B M B B M B B M B M M M B B B M B M M B B B M M B B B B B M B\n",
       " [38] B B B B B B M B B B B B M M B M M B M B B B B B M M B M B B B M M B M M B\n",
       " [75] M M M B B M M B B B B M M M M B B B B M B B B M B M B B B B B B B M M B B\n",
       "[112] B M M B B M B B M B M M B M B M B M B B B B B B B M M B M B B M M M B B M\n",
       "[149] B B M B M M B B B M M B B M M B B B B M B B B\n",
       "Levels: B < M\n",
       "\n",
       "\n",
       "Slot \"cutoffs\":\n",
       "[[1]]\n",
       "  [1]          Inf 1.000000e+00 1.000000e+00 1.000000e+00 1.000000e+00\n",
       "  [6] 1.000000e+00 1.000000e+00 1.000000e+00 1.000000e+00 9.999999e-01\n",
       " [11] 9.999999e-01 9.999998e-01 9.999991e-01 9.999977e-01 9.999969e-01\n",
       " [16] 9.999968e-01 9.999965e-01 9.999931e-01 9.999894e-01 9.999851e-01\n",
       " [21] 9.999818e-01 9.999787e-01 9.999776e-01 9.999766e-01 9.999743e-01\n",
       " [26] 9.999666e-01 9.999440e-01 9.999361e-01 9.999178e-01 9.998471e-01\n",
       " [31] 9.997855e-01 9.997568e-01 9.997443e-01 9.996379e-01 9.994865e-01\n",
       " [36] 9.990379e-01 9.989799e-01 9.987499e-01 9.984898e-01 9.962866e-01\n",
       " [41] 9.958685e-01 9.957422e-01 9.926525e-01 9.918186e-01 9.914196e-01\n",
       " [46] 9.894969e-01 9.893769e-01 9.879827e-01 9.856636e-01 9.849247e-01\n",
       " [51] 9.802829e-01 9.710127e-01 9.668629e-01 9.650546e-01 9.582511e-01\n",
       " [56] 9.564567e-01 9.501513e-01 9.207730e-01 9.207551e-01 8.488374e-01\n",
       " [61] 8.018267e-01 7.492909e-01 7.417496e-01 7.212382e-01 6.176578e-01\n",
       " [66] 5.765555e-01 4.329639e-01 3.919450e-01 3.872625e-01 3.362508e-01\n",
       " [71] 3.142581e-01 2.521306e-01 2.392314e-01 2.042603e-01 2.041659e-01\n",
       " [76] 1.975978e-01 1.903498e-01 1.744273e-01 1.729363e-01 1.527728e-01\n",
       " [81] 1.457504e-01 8.515393e-02 7.946964e-02 7.747496e-02 7.521805e-02\n",
       " [86] 6.172857e-02 5.244510e-02 5.235692e-02 4.980883e-02 4.460578e-02\n",
       " [91] 4.081683e-02 3.612497e-02 3.598904e-02 3.472656e-02 3.029057e-02\n",
       " [96] 2.835393e-02 2.451624e-02 2.247663e-02 1.760268e-02 1.757207e-02\n",
       "[101] 1.727653e-02 1.656372e-02 1.612419e-02 1.576017e-02 1.490161e-02\n",
       "[106] 1.385587e-02 1.358591e-02 1.287024e-02 1.014259e-02 7.739189e-03\n",
       "[111] 7.729840e-03 7.113807e-03 7.071427e-03 6.218991e-03 6.104830e-03\n",
       "[116] 5.838114e-03 5.610252e-03 5.550119e-03 5.412796e-03 5.349099e-03\n",
       "[121] 4.967916e-03 4.759963e-03 4.587380e-03 4.472988e-03 4.167806e-03\n",
       "[126] 3.519010e-03 3.312299e-03 2.573439e-03 2.482789e-03 2.435380e-03\n",
       "[131] 2.352551e-03 1.985332e-03 1.920412e-03 1.780602e-03 1.547734e-03\n",
       "[136] 1.466500e-03 1.443552e-03 1.205514e-03 1.197480e-03 1.174589e-03\n",
       "[141] 1.139740e-03 8.810516e-04 7.540664e-04 7.424901e-04 7.301416e-04\n",
       "[146] 6.895040e-04 6.313913e-04 6.031938e-04 5.405009e-04 5.353482e-04\n",
       "[151] 4.563186e-04 4.551698e-04 3.064304e-04 2.832220e-04 2.629069e-04\n",
       "[156] 2.466268e-04 2.457023e-04 2.359520e-04 2.155251e-04 1.941047e-04\n",
       "[161] 1.738434e-04 1.572305e-04 1.184233e-04 8.563266e-05 8.467832e-05\n",
       "[166] 7.582214e-05 6.851984e-05 4.561995e-05 4.076404e-05 1.900992e-05\n",
       "[171] 1.723822e-05 3.458991e-06\n",
       "\n",
       "\n",
       "Slot \"fp\":\n",
       "[[1]]\n",
       "  [1]   0   0   0   0   0   0   0   0   0   0   0   0   0   0   0   0   0   0\n",
       " [19]   0   0   0   0   0   0   0   0   0   0   0   0   0   0   0   0   0   0\n",
       " [37]   0   0   0   0   0   0   0   1   1   1   1   1   1   1   1   1   1   1\n",
       " [55]   1   1   1   1   1   1   1   1   1   1   1   1   2   3   4   5   6   7\n",
       " [73]   8   9   9  10  11  12  13  14  15  16  17  18  19  20  21  22  23  24\n",
       " [91]  25  26  27  28  29  30  31  32  33  34  35  36  37  38  39  40  41  42\n",
       "[109]  43  44  45  46  47  48  49  50  51  52  53  54  55  56  57  58  59  60\n",
       "[127]  61  62  63  64  65  66  67  68  69  70  71  72  73  74  75  76  77  78\n",
       "[145]  79  80  81  82  83  84  85  86  87  88  89  90  91  92  93  94  95  96\n",
       "[163]  97  98  99 100 101 102 103 104 105 106\n",
       "\n",
       "\n",
       "Slot \"tp\":\n",
       "[[1]]\n",
       "  [1]  0  1  2  3  4  5  6  7  8  9 10 11 12 13 14 15 16 17 18 19 20 21 22 23 24\n",
       " [26] 25 26 27 28 29 30 31 32 33 34 35 36 37 38 39 40 41 42 42 43 44 45 46 47 48\n",
       " [51] 49 50 51 52 53 54 55 56 57 58 59 60 61 62 63 64 64 64 64 64 64 64 64 64 65\n",
       " [76] 65 65 65 65 65 65 65 65 65 65 65 65 65 65 65 65 65 65 65 65 65 65 65 65 65\n",
       "[101] 65 65 65 65 65 65 65 65 65 65 65 65 65 65 65 65 65 65 65 65 65 65 65 65 65\n",
       "[126] 65 65 65 65 65 65 65 65 65 65 65 65 65 65 65 65 65 65 65 65 65 65 65 65 65\n",
       "[151] 65 65 65 65 65 65 65 65 65 65 65 65 65 65 65 65 65 65 65 65 65 65\n",
       "\n",
       "\n",
       "Slot \"tn\":\n",
       "[[1]]\n",
       "  [1] 106 106 106 106 106 106 106 106 106 106 106 106 106 106 106 106 106 106\n",
       " [19] 106 106 106 106 106 106 106 106 106 106 106 106 106 106 106 106 106 106\n",
       " [37] 106 106 106 106 106 106 106 105 105 105 105 105 105 105 105 105 105 105\n",
       " [55] 105 105 105 105 105 105 105 105 105 105 105 105 104 103 102 101 100  99\n",
       " [73]  98  97  97  96  95  94  93  92  91  90  89  88  87  86  85  84  83  82\n",
       " [91]  81  80  79  78  77  76  75  74  73  72  71  70  69  68  67  66  65  64\n",
       "[109]  63  62  61  60  59  58  57  56  55  54  53  52  51  50  49  48  47  46\n",
       "[127]  45  44  43  42  41  40  39  38  37  36  35  34  33  32  31  30  29  28\n",
       "[145]  27  26  25  24  23  22  21  20  19  18  17  16  15  14  13  12  11  10\n",
       "[163]   9   8   7   6   5   4   3   2   1   0\n",
       "\n",
       "\n",
       "Slot \"fn\":\n",
       "[[1]]\n",
       "  [1] 65 64 63 62 61 60 59 58 57 56 55 54 53 52 51 50 49 48 47 46 45 44 43 42 41\n",
       " [26] 40 39 38 37 36 35 34 33 32 31 30 29 28 27 26 25 24 23 23 22 21 20 19 18 17\n",
       " [51] 16 15 14 13 12 11 10  9  8  7  6  5  4  3  2  1  1  1  1  1  1  1  1  1  0\n",
       " [76]  0  0  0  0  0  0  0  0  0  0  0  0  0  0  0  0  0  0  0  0  0  0  0  0  0\n",
       "[101]  0  0  0  0  0  0  0  0  0  0  0  0  0  0  0  0  0  0  0  0  0  0  0  0  0\n",
       "[126]  0  0  0  0  0  0  0  0  0  0  0  0  0  0  0  0  0  0  0  0  0  0  0  0  0\n",
       "[151]  0  0  0  0  0  0  0  0  0  0  0  0  0  0  0  0  0  0  0  0  0  0\n",
       "\n",
       "\n",
       "Slot \"n.pos\":\n",
       "[[1]]\n",
       "[1] 65\n",
       "\n",
       "\n",
       "Slot \"n.neg\":\n",
       "[[1]]\n",
       "[1] 106\n",
       "\n",
       "\n",
       "Slot \"n.pos.pred\":\n",
       "[[1]]\n",
       "  [1]   0   1   2   3   4   5   6   7   8   9  10  11  12  13  14  15  16  17\n",
       " [19]  18  19  20  21  22  23  24  25  26  27  28  29  30  31  32  33  34  35\n",
       " [37]  36  37  38  39  40  41  42  43  44  45  46  47  48  49  50  51  52  53\n",
       " [55]  54  55  56  57  58  59  60  61  62  63  64  65  66  67  68  69  70  71\n",
       " [73]  72  73  74  75  76  77  78  79  80  81  82  83  84  85  86  87  88  89\n",
       " [91]  90  91  92  93  94  95  96  97  98  99 100 101 102 103 104 105 106 107\n",
       "[109] 108 109 110 111 112 113 114 115 116 117 118 119 120 121 122 123 124 125\n",
       "[127] 126 127 128 129 130 131 132 133 134 135 136 137 138 139 140 141 142 143\n",
       "[145] 144 145 146 147 148 149 150 151 152 153 154 155 156 157 158 159 160 161\n",
       "[163] 162 163 164 165 166 167 168 169 170 171\n",
       "\n",
       "\n",
       "Slot \"n.neg.pred\":\n",
       "[[1]]\n",
       "  [1] 171 170 169 168 167 166 165 164 163 162 161 160 159 158 157 156 155 154\n",
       " [19] 153 152 151 150 149 148 147 146 145 144 143 142 141 140 139 138 137 136\n",
       " [37] 135 134 133 132 131 130 129 128 127 126 125 124 123 122 121 120 119 118\n",
       " [55] 117 116 115 114 113 112 111 110 109 108 107 106 105 104 103 102 101 100\n",
       " [73]  99  98  97  96  95  94  93  92  91  90  89  88  87  86  85  84  83  82\n",
       " [91]  81  80  79  78  77  76  75  74  73  72  71  70  69  68  67  66  65  64\n",
       "[109]  63  62  61  60  59  58  57  56  55  54  53  52  51  50  49  48  47  46\n",
       "[127]  45  44  43  42  41  40  39  38  37  36  35  34  33  32  31  30  29  28\n",
       "[145]  27  26  25  24  23  22  21  20  19  18  17  16  15  14  13  12  11  10\n",
       "[163]   9   8   7   6   5   4   3   2   1   0\n",
       "\n"
      ]
     },
     "metadata": {},
     "output_type": "display_data"
    }
   ],
   "source": [
    "pred <- predict(svm_Linear, newdata = test,type = 'prob')\n",
    "pred_val <-prediction(pred[,2], test$Diagnosis)\n",
    "pred_val\n"
   ]
  },
  {
   "cell_type": "markdown",
   "metadata": {},
   "source": [
    "#Calculating Area under Curve"
   ]
  },
  {
   "cell_type": "code",
   "execution_count": 42,
   "metadata": {},
   "outputs": [
    {
     "data": {
      "text/html": [
       "0.995500725689405"
      ],
      "text/latex": [
       "0.995500725689405"
      ],
      "text/markdown": [
       "0.995500725689405"
      ],
      "text/plain": [
       "Area under the curve: 0.9955"
      ]
     },
     "metadata": {},
     "output_type": "display_data"
    },
    {
     "data": {
      "image/png": "[encoded data removed]",
      "text/plain": [
       "plot without title"
      ]
     },
     "metadata": {},
     "output_type": "display_data"
    }
   ],
   "source": [
    "perf_val<-performance(pred_val, \"tpr\", \"fpr\")\n",
    "plot(perf_val, col = \"green\", lwd = 1.5)\n",
    "auc(test$Diagnosis,pred[,2])"
   ]
  },
  {
   "cell_type": "markdown",
   "metadata": {},
   "source": [
    "#Tuning SVM_Linear model by setting grid c value"
   ]
  },
  {
   "cell_type": "code",
   "execution_count": 43,
   "metadata": {},
   "outputs": [
    {
     "data": {
      "text/plain": [
       "Support Vector Machines with Linear Kernel \n",
       "\n",
       "398 samples\n",
       " 28 predictor\n",
       "  2 classes: 'B', 'M' \n",
       "\n",
       "Pre-processing: centered (28), scaled (28) \n",
       "Resampling: Cross-Validated (10 fold, repeated 3 times) \n",
       "Summary of sample sizes: 359, 358, 359, 359, 358, 358, ... \n",
       "Resampling results across tuning parameters:\n",
       "\n",
       "  C     ROC        Sens       Spec     \n",
       "  0.00  0.5000000        NaN        NaN\n",
       "  0.01  0.9925758  0.9880000  0.9525397\n",
       "  0.05  0.9925407  0.9920000  0.9525397\n",
       "  0.10  0.9920107  0.9840000  0.9525397\n",
       "  0.25  0.9918164  0.9840000  0.9503175\n",
       "  0.50  0.9919946  0.9840000  0.9436508\n",
       "  0.75  0.9917280  0.9826667  0.9434921\n",
       "  1.00  0.9918989  0.9813333  0.9436508\n",
       "  1.25  0.9919780  0.9880000  0.9387302\n",
       "  1.50  0.9922315  0.9893333  0.9388889\n",
       "  1.75  0.9922217  0.9893333  0.9274603\n",
       "  2.00  0.9917773  0.9920000  0.9341270\n",
       "  5.00  0.9915072  0.9933333  0.9276190\n",
       "\n",
       "ROC was used to select the optimal model using the largest value.\n",
       "The final value used for the model was C = 0.01."
      ]
     },
     "metadata": {},
     "output_type": "display_data"
    },
    {
     "data": {},
     "metadata": {},
     "output_type": "display_data"
    },
    {
     "data": {
      "text/plain": [
       "Confusion Matrix and Statistics\n",
       "\n",
       "          Reference\n",
       "Prediction   B   M\n",
       "         B 105   1\n",
       "         M   1  64\n",
       "                                          \n",
       "               Accuracy : 0.9883          \n",
       "                 95% CI : (0.9584, 0.9986)\n",
       "    No Information Rate : 0.6199          \n",
       "    P-Value [Acc > NIR] : <2e-16          \n",
       "                                          \n",
       "                  Kappa : 0.9752          \n",
       " Mcnemar's Test P-Value : 1               \n",
       "                                          \n",
       "            Sensitivity : 0.9906          \n",
       "            Specificity : 0.9846          \n",
       "         Pos Pred Value : 0.9906          \n",
       "         Neg Pred Value : 0.9846          \n",
       "             Prevalence : 0.6199          \n",
       "         Detection Rate : 0.6140          \n",
       "   Detection Prevalence : 0.6199          \n",
       "      Balanced Accuracy : 0.9876          \n",
       "                                          \n",
       "       'Positive' Class : B               \n",
       "                                          "
      ]
     },
     "metadata": {},
     "output_type": "display_data"
    },
    {
     "data": {
      "text/html": [
       "0.988304093567251"
      ],
      "text/latex": [
       "0.988304093567251"
      ],
      "text/markdown": [
       "0.988304093567251"
      ],
      "text/plain": [
       "[1] 0.9883041"
      ]
     },
     "metadata": {},
     "output_type": "display_data"
    },
    {
     "data": {
      "image/png": "[encoded data removed]",
      "text/plain": [
       "plot without title"
      ]
     },
     "metadata": {},
     "output_type": "display_data"
    }
   ],
   "source": [
    "grid <- expand.grid(C = c(0,0.01, 0.05, 0.1, 0.25, 0.5, 0.75, 1, 1.25, 1.5, 1.75, 2,5))\n",
    "set.seed(123)\n",
    "svm_Linear_Grid <- train(Diagnosis ~., data = train, method = \"svmLinear\",\n",
    "                           trControl=trctrl,\n",
    "                           preProcess = c(\"center\", \"scale\"),\n",
    "                           tuneGrid = grid,\n",
    "                           tuneLength = 10)\n",
    "svm_Linear_Grid\n",
    "plot(svm_Linear_Grid)\n",
    "test_pred_grid <- predict(svm_Linear_Grid, newdata = test)\n",
    "confusionMatrix(test_pred_grid, test$Diagnosis)\n",
    "Accuracy_SVMLinearGrid <- mean(test_pred_grid == test$Diagnosis)\n",
    "Accuracy_SVMLinearGrid"
   ]
  },
  {
   "cell_type": "markdown",
   "metadata": {},
   "source": [
    "#SVM Classifier using Non-Linear Kernel"
   ]
  },
  {
   "cell_type": "code",
   "execution_count": 45,
   "metadata": {},
   "outputs": [
    {
     "data": {
      "text/plain": [
       "Support Vector Machines with Radial Basis Function Kernel \n",
       "\n",
       "398 samples\n",
       " 28 predictor\n",
       "  2 classes: 'B', 'M' \n",
       "\n",
       "Pre-processing: centered (28), scaled (28) \n",
       "Resampling: Cross-Validated (10 fold, repeated 3 times) \n",
       "Summary of sample sizes: 359, 358, 359, 359, 358, 358, ... \n",
       "Resampling results across tuning parameters:\n",
       "\n",
       "  C       ROC        Sens       Spec     \n",
       "    0.25  0.9903214  0.9600513  0.9457143\n",
       "    0.50  0.9926569  0.9787179  0.9549206\n",
       "    1.00  0.9937138  0.9734359  0.9615873\n",
       "    2.00  0.9941612  0.9760513  0.9634921\n",
       "    4.00  0.9938657  0.9747179  0.9658730\n",
       "    8.00  0.9920176  0.9747692  0.9634921\n",
       "   16.00  0.9886882  0.9653333  0.9590476\n",
       "   32.00  0.9864581  0.9587179  0.9544444\n",
       "   64.00  0.9857153  0.9653333  0.9477778\n",
       "  128.00  0.9857153  0.9626667  0.9523810\n",
       "\n",
       "Tuning parameter 'sigma' was held constant at a value of 0.04592402\n",
       "ROC was used to select the optimal model using the largest value.\n",
       "The final values used for the model were sigma = 0.04592402 and C = 2."
      ]
     },
     "metadata": {},
     "output_type": "display_data"
    },
    {
     "data": {
      "text/plain": [
       "Confusion Matrix and Statistics\n",
       "\n",
       "          Reference\n",
       "Prediction   B   M\n",
       "         B 103   1\n",
       "         M   3  64\n",
       "                                          \n",
       "               Accuracy : 0.9766          \n",
       "                 95% CI : (0.9412, 0.9936)\n",
       "    No Information Rate : 0.6199          \n",
       "    P-Value [Acc > NIR] : <2e-16          \n",
       "                                          \n",
       "                  Kappa : 0.9507          \n",
       " Mcnemar's Test P-Value : 0.6171          \n",
       "                                          \n",
       "            Sensitivity : 0.9717          \n",
       "            Specificity : 0.9846          \n",
       "         Pos Pred Value : 0.9904          \n",
       "         Neg Pred Value : 0.9552          \n",
       "             Prevalence : 0.6199          \n",
       "         Detection Rate : 0.6023          \n",
       "   Detection Prevalence : 0.6082          \n",
       "      Balanced Accuracy : 0.9782          \n",
       "                                          \n",
       "       'Positive' Class : B               \n",
       "                                          "
      ]
     },
     "metadata": {},
     "output_type": "display_data"
    },
    {
     "data": {},
     "metadata": {},
     "output_type": "display_data"
    },
    {
     "data": {
      "text/html": [
       "0.976608187134503"
      ],
      "text/latex": [
       "0.976608187134503"
      ],
      "text/markdown": [
       "0.976608187134503"
      ],
      "text/plain": [
       "[1] 0.9766082"
      ]
     },
     "metadata": {},
     "output_type": "display_data"
    },
    {
     "data": {
      "image/png": "[encoded data removed]",
      "text/plain": [
       "plot without title"
      ]
     },
     "metadata": {},
     "output_type": "display_data"
    }
   ],
   "source": [
    "set.seed(123)\n",
    "svm_Radial <- train(Diagnosis ~., data = train, method = \"svmRadial\",\n",
    "                      trControl=trctrl,\n",
    "                      preProcess = c(\"center\", \"scale\"),\n",
    "                      tuneLength = 10)\n",
    "svm_Radial\n",
    "test_pred_Radial <- predict(svm_Radial, newdata = test)\n",
    "confusionMatrix(test_pred_Radial, test$Diagnosis )\n",
    "plot(svm_Radial)\n",
    "Accuracy_SVMRadial <- mean(test_pred_Radial == test$Diagnosis)\n",
    "Accuracy_SVMRadial"
   ]
  },
  {
   "cell_type": "markdown",
   "metadata": {},
   "source": [
    "#Tuning SVM_Radial model by setting grid c value"
   ]
  },
  {
   "cell_type": "code",
   "execution_count": 46,
   "metadata": {},
   "outputs": [
    {
     "name": "stdout",
     "output_type": "stream",
     "text": [
      "maximum number of iterations reached 0.0009830622 0.0009628823maximum number of iterations reached 0.004714417 0.004527429maximum number of iterations reached 0.007203771 0.006845299maximum number of iterations reached 7.950092e-05 7.657845e-05maximum number of iterations reached 0.0005904378 0.0005803072maximum number of iterations reached 0.00497958 0.004751632maximum number of iterations reached 0.00719659 0.006794277maximum number of iterations reached 0.001551854 0.001517892maximum number of iterations reached 0.004128418 0.003957172maximum number of iterations reached 0.007931455 0.007506131maximum number of iterations reached 1.363705e-05 1.311637e-05maximum number of iterations reached 0.0005637368 0.0005396608maximum number of iterations reached 0.002278745 0.002213884maximum number of iterations reached 0.006668448 0.006386572maximum number of iterations reached 0.008796784 0.008290774maximum number of iterations reached 6.34154e-05 6.094018e-05maximum number of iterations reached 0.0005970479 0.0005714573maximum number of iterations reached 0.0005448135 0.0005350984maximum number of iterations reached 0.006027998 0.005755767maximum number of iterations reached 0.007442705 0.00702753maximum number of iterations reached 0.001502802 0.001432099maximum number of iterations reached 0.000254277 0.0002503341maximum number of iterations reached 0.004571503 0.004370939maximum number of iterations reached 0.008029955 0.007597649maximum number of iterations reached 0.0003030802 0.0002905322maximum number of iterations reached 0.0002213454 0.000217988maximum number of iterations reached 0.004523058 0.004309987maximum number of iterations reached 0.008323721 0.007858305maximum number of iterations reached 0.001724385 0.001679385maximum number of iterations reached 0.006545167 0.00622298maximum number of iterations reached 0.007573973 0.007172031maximum number of iterations reached 0.0004492607 0.0004302665maximum number of iterations reached 0.0009181373 0.000899566maximum number of iterations reached 0.0052399 0.005004075maximum number of iterations reached 0.006431447 0.006082342maximum number of iterations reached 1.375988e-05 1.327025e-05maximum number of iterations reached 0.000448995 0.000441841maximum number of iterations reached 0.006882016 0.006601142maximum number of iterations reached 0.006798631 0.00644677maximum number of iterations reached 0.0009519827 0.0009061274maximum number of iterations reached 0.001830492 0.001786669maximum number of iterations reached 0.006660171 0.006368895maximum number of iterations reached 0.008608049 0.008128724maximum number of iterations reached 5.289275e-05 5.082746e-05maximum number of iterations reached 0.001938452 0.001836127maximum number of iterations reached 0.000957537 0.0009360078maximum number of iterations reached 0.004526783 0.004334523maximum number of iterations reached 0.006290113 0.005978313maximum number of iterations reached 0.0004798508 0.0004590532maximum number of iterations reached 0.000302328 0.0002976777maximum number of iterations reached 0.00708564 0.006750744maximum number of iterations reached 0.007265442 0.006874507maximum number of iterations reached 0.000729273 0.0007148457maximum number of iterations reached 0.004951956 0.004756102maximum number of iterations reached 0.007749759 0.007306035maximum number of iterations reached 2.789385e-05 2.688405e-05maximum number of iterations reached 0.001127454 0.001099153maximum number of iterations reached 0.00652714 0.006272993maximum number of iterations reached 0.007553126 0.007140794maximum number of iterations reached 0.001709933 0.001632156maximum number of iterations reached 0.0005848862 0.0005744639maximum number of iterations reached 0.003998677 0.003861164maximum number of iterations reached 0.007828183 0.007374811maximum number of iterations reached 0.0001295943 0.0001242346maximum number of iterations reached 1.501551e-05 1.448542e-05maximum number of iterations reached 3.175098e-05 2.949864e-05maximum number of iterations reached 0.001759029 0.001718737maximum number of iterations reached 0.006864725 0.006616428maximum number of iterations reached 0.007257686 0.00686188maximum number of iterations reached 0.0009381366 0.0008945168maximum number of iterations reached 0.001418052 0.001381953maximum number of iterations reached 0.006744641 0.006430457maximum number of iterations reached 0.007982974 0.00748671maximum number of iterations reached 4.043907e-05 3.886378e-05maximum number of iterations reached 0.0007648472 0.0007311777maximum number of iterations reached 0.001364229 0.001332638maximum number of iterations reached 0.005808159 0.005515011maximum number of iterations reached 0.007475251 0.007063781maximum number of iterations reached 0.0003229932 0.0003090264maximum number of iterations reached 0.0002491814 0.0002389606maximum number of iterations reached 0.0007419282 0.0007280572maximum number of iterations reached 0.005978276 0.005694875maximum number of iterations reached 0.005299196 0.005015962maximum number of iterations reached 0.0009027426 0.0008834892maximum number of iterations reached 0.00710911 0.006776582maximum number of iterations reached 0.008446295 0.00793423maximum number of iterations reached 0.0002045746 0.0001966937maximum number of iterations reached 0.0006944114 0.0006801137maximum number of iterations reached 0.005704791 0.005443338maximum number of iterations reached 0.007325929 0.006846974maximum number of iterations reached 0.001306898 0.001243857maximum number of iterations reached 0.001970555 0.00190967maximum number of iterations reached 0.005869075 0.005550835maximum number of iterations reached 0.008829669 0.008285027maximum number of iterations reached 0.0001145629 0.0001098617maximum number of iterations reached 0.002017244 0.00190626maximum number of iterations reached 0.0004478882 0.0004402486maximum number of iterations reached 0.005672422 0.005455365maximum number of iterations reached 0.00708361 0.006690697maximum number of iterations reached 0.0003243009 0.0003105301maximum number of iterations reached 0.001838895 0.001792735maximum number of iterations reached 0.004058676 0.00389905maximum number of iterations reached 0.007471678 0.007044622maximum number of iterations reached 2.704035e-05 2.598589e-05maximum number of iterations reached 0.0003402435 0.0003263365maximum number of iterations reached 0.001012816 0.0009879379maximum number of iterations reached 0.005992367 0.005714362maximum number of iterations reached 0.007271034 0.00690388maximum number of iterations reached 0.0001347052 0.0001295951maximum number of iterations reached 0.0008270056 0.0008092622maximum number of iterations reached 0.00513642 0.004917923maximum number of iterations reached 0.008058011 0.007624599maximum number of iterations reached 0.0006300564 0.0005998917maximum number of iterations reached 0.0002961851 0.0002919553maximum number of iterations reached 0.005402216 0.005175591maximum number of iterations reached 0.007254659 0.006902528maximum number of iterations reached 0.001104276 0.001050258maximum number of iterations reached 0.0004912699 0.0004826822maximum number of iterations reached 0.006408011 0.006106172maximum number of iterations reached 0.006502802 0.00613193maximum number of iterations reached 0.000397277 0.0003805593maximum number of iterations reached 0.0007426627 0.0007269509maximum number of iterations reached 0.005174955 0.00495306maximum number of iterations reached 0.007388624 0.006970164maximum number of iterations reached 9.538362e-05 9.179217e-05"
     ]
    },
    {
     "data": {
      "text/plain": [
       "Confusion Matrix and Statistics\n",
       "\n",
       "          Reference\n",
       "Prediction   B   M\n",
       "         B 104   1\n",
       "         M   2  64\n",
       "                                          \n",
       "               Accuracy : 0.9825          \n",
       "                 95% CI : (0.9496, 0.9964)\n",
       "    No Information Rate : 0.6199          \n",
       "    P-Value [Acc > NIR] : <2e-16          \n",
       "                                          \n",
       "                  Kappa : 0.9629          \n",
       " Mcnemar's Test P-Value : 1               \n",
       "                                          \n",
       "            Sensitivity : 0.9811          \n",
       "            Specificity : 0.9846          \n",
       "         Pos Pred Value : 0.9905          \n",
       "         Neg Pred Value : 0.9697          \n",
       "             Prevalence : 0.6199          \n",
       "         Detection Rate : 0.6082          \n",
       "   Detection Prevalence : 0.6140          \n",
       "      Balanced Accuracy : 0.9829          \n",
       "                                          \n",
       "       'Positive' Class : B               \n",
       "                                          "
      ]
     },
     "metadata": {},
     "output_type": "display_data"
    },
    {
     "data": {},
     "metadata": {},
     "output_type": "display_data"
    },
    {
     "data": {
      "image/png": "[encoded data removed]",
      "text/plain": [
       "plot without title"
      ]
     },
     "metadata": {},
     "output_type": "display_data"
    }
   ],
   "source": [
    "grid_radial <- expand.grid(sigma = c(0,0.01, 0.02, 0.025, 0.03, 0.04,\n",
    "                                     0.05, 0.06, 0.07,0.08, 0.09, 0.1, 0.25, 0.5, 0.75,0.9),\n",
    "                           C = c(0,0.01, 0.05, 0.1, 0.25, 0.5, 0.75,\n",
    "                                 1, 1.5, 2,5))\n",
    "set.seed(123)\n",
    "svm_Radial_Grid <- train(Diagnosis~., data = train, method = \"svmRadial\",\n",
    "                           trControl=trctrl,\n",
    "                           preProcess = c(\"center\", \"scale\"),\n",
    "                           tuneGrid = grid_radial,\n",
    "                           tuneLength = 10)\n",
    "test_pred_Radial_Grid <- predict(svm_Radial_Grid, newdata = test)\n",
    "confusionMatrix(test_pred_Radial_Grid, test$Diagnosis )\n",
    "plot(svm_Radial_Grid)\n",
    "Accuracy_SVMRadialGrid <- mean(test_pred_Radial_Grid == test$Diagnosis)"
   ]
  },
  {
   "cell_type": "code",
   "execution_count": 47,
   "metadata": {},
   "outputs": [
    {
     "data": {
      "text/html": [
       "<table>\n",
       "<thead><tr><th scope=col>Accuracy_SVMLinear</th><th scope=col>Accuracy_SVMLinearGrid</th><th scope=col>Accuracy_SVMRadial</th><th scope=col>Accuracy_SVMRadialGrid</th></tr></thead>\n",
       "<tbody>\n",
       "\t<tr><td>0.9883041</td><td>0.9883041</td><td>0.9766082</td><td>0.9824561</td></tr>\n",
       "</tbody>\n",
       "</table>\n"
      ],
      "text/latex": [
       "\\begin{tabular}{r|llll}\n",
       " Accuracy\\_SVMLinear & Accuracy\\_SVMLinearGrid & Accuracy\\_SVMRadial & Accuracy\\_SVMRadialGrid\\\\\n",
       "\\hline\n",
       "\t 0.9883041 & 0.9883041 & 0.9766082 & 0.9824561\\\\\n",
       "\\end{tabular}\n"
      ],
      "text/markdown": [
       "\n",
       "Accuracy_SVMLinear | Accuracy_SVMLinearGrid | Accuracy_SVMRadial | Accuracy_SVMRadialGrid | \n",
       "|---|\n",
       "| 0.9883041 | 0.9883041 | 0.9766082 | 0.9824561 | \n",
       "\n",
       "\n"
      ],
      "text/plain": [
       "  Accuracy_SVMLinear Accuracy_SVMLinearGrid Accuracy_SVMRadial\n",
       "1 0.9883041          0.9883041              0.9766082         \n",
       "  Accuracy_SVMRadialGrid\n",
       "1 0.9824561             "
      ]
     },
     "metadata": {},
     "output_type": "display_data"
    }
   ],
   "source": [
    "data.frame(Accuracy_SVMLinear, Accuracy_SVMLinearGrid, Accuracy_SVMRadial,Accuracy_SVMRadialGrid)"
   ]
  },
  {
   "cell_type": "markdown",
   "metadata": {},
   "source": [
    "#SVM model performed better than other models with good Accuracy and highest Area under curve.\n"
   ]
  },
  {
   "cell_type": "code",
   "execution_count": null,
   "metadata": {},
   "outputs": [],
   "source": []
  }
 ],
 "metadata": {
  "kernelspec": {
   "display_name": "R",
   "language": "R",
   "name": "ir"
  },
  "language_info": {
   "codemirror_mode": "r",
   "file_extension": ".r",
   "mimetype": "text/x-r-source",
   "name": "R",
   "pygments_lexer": "r",
   "version": "3.5.1"
  }
 },
 "nbformat": 4,
 "nbformat_minor": 2
}
